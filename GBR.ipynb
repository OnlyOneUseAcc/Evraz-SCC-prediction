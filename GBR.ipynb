{
 "cells": [
  {
   "cell_type": "code",
   "execution_count": 1,
   "outputs": [],
   "source": [
    "import numpy as np\n",
    "import pandas as pd\n",
    "from sklearn.ensemble import GradientBoostingRegressor\n",
    "from sklearn.metrics import r2_score\n",
    "from sklearn.multioutput import MultiOutputRegressor\n",
    "from subfunc import plot_feature_importance, show_result\n",
    "from subfunc import multi_model_load, multi_model_save\n",
    "from tqdm import tqdm"
   ],
   "metadata": {
    "collapsed": false,
    "pycharm": {
     "name": "#%%\n"
    }
   }
  },
  {
   "cell_type": "code",
   "execution_count": 2,
   "outputs": [],
   "source": [
    "DATA_PATH = 'data/'\n",
    "\n",
    "data_train = pd.read_csv(f'{DATA_PATH}train.csv',sep='\\t', index_col='index')\n",
    "data_test = pd.read_csv(f'{DATA_PATH}test.csv', sep='\\t', index_col='index')"
   ],
   "metadata": {
    "collapsed": false,
    "pycharm": {
     "name": "#%%\n"
    }
   }
  },
  {
   "cell_type": "markdown",
   "source": [
    "Наша обучающая выборка"
   ],
   "metadata": {
    "collapsed": false,
    "pycharm": {
     "name": "#%% md\n"
    }
   }
  },
  {
   "cell_type": "code",
   "execution_count": 3,
   "outputs": [
    {
     "data": {
      "text/plain": "             DT  t вып-обр  t продувка   ПСН гр.  чист расход C  \\\nindex                                                             \n2      0.032218   0.252525    0.158119  0.193280       0.361659   \n87     0.037175   0.080808    0.238665  0.221017       0.397613   \n90     0.037175   0.646465    0.169674  0.169393       0.462289   \n93     0.033457   0.303030    0.155551  0.176599       0.474196   \n94     0.043371   0.212121    0.152848  0.184110       0.502470   \n...         ...        ...         ...       ...            ...   \n7035   0.027261   0.393939    0.151970  0.264404       0.585208   \n7036   0.023544   0.424242    0.153321  0.258924       0.588662   \n7037   0.034696   0.373737    0.170417  0.168151       0.609432   \n7038   0.027261   0.434343    0.173323  0.137368       0.601155   \n7039   0.029740   0.464646    0.167579  0.217525       0.659686   \n\n       чист расход Cr  чист расход Mn  чист расход Si  чист расход V  \\\nindex                                                                  \n2            0.119961        0.353047        0.277280       0.484534   \n87           0.184115        0.563643        0.296157       0.483887   \n90           0.164952        0.474718        0.341238       0.477666   \n93           0.167451        0.506961        0.263029       0.479864   \n94           0.183282        0.584001        0.388706       0.475341   \n...               ...             ...             ...            ...   \n7035         0.158236        0.332855        0.247566       0.863393   \n7036         0.155763        0.343133        0.195616       0.865511   \n7037         0.181316        0.417853        0.309796       0.864227   \n7038         0.164830        0.330806        0.236037       0.875371   \n7039         0.218408        0.509374        0.308191       0.887473   \n\n       температура первая  ...  ПРОФИЛЬ_ОР65  ПРОФИЛЬ_Р50  ПРОФИЛЬ_Р65  \\\nindex                      ...                                           \n2                0.806763  ...           0.0          0.0          1.0   \n87               0.722222  ...           0.0          0.0          1.0   \n90               0.789855  ...           0.0          0.0          1.0   \n93               0.811594  ...           0.0          0.0          1.0   \n94               0.828502  ...           0.0          0.0          1.0   \n...                   ...  ...           ...          ...          ...   \n7035             0.717391  ...           0.0          0.0          1.0   \n7036             0.707729  ...           0.0          0.0          1.0   \n7037             0.765700  ...           0.0          0.0          1.0   \n7038             0.823671  ...           0.0          0.0          1.0   \n7039             0.852657  ...           0.0          0.0          1.0   \n\n       ПРОФИЛЬ_Рельсы трамвайные  ПРОФИЛЬ_Шар заг d шара 100 мм 2 гр.  \\\nindex                                                                   \n2                            0.0                                  0.0   \n87                           0.0                                  0.0   \n90                           0.0                                  0.0   \n93                           0.0                                  0.0   \n94                           0.0                                  0.0   \n...                          ...                                  ...   \n7035                         0.0                                  0.0   \n7036                         0.0                                  0.0   \n7037                         0.0                                  0.0   \n7038                         0.0                                  0.0   \n7039                         0.0                                  0.0   \n\n       ПРОФИЛЬ_Шар заг d шара 80-100 мм 2,3 гр.  \\\nindex                                             \n2                                           0.0   \n87                                          0.0   \n90                                          0.0   \n93                                          0.0   \n94                                          0.0   \n...                                         ...   \n7035                                        0.0   \n7036                                        0.0   \n7037                                        0.0   \n7038                                        0.0   \n7039                                        0.0   \n\n       ПРОФИЛЬ_Шар заг d шара 80-100 мм 4 гр.  \\\nindex                                           \n2                                         0.0   \n87                                        0.0   \n90                                        0.0   \n93                                        0.0   \n94                                        0.0   \n...                                       ...   \n7035                                      0.0   \n7036                                      0.0   \n7037                                      0.0   \n7038                                      0.0   \n7039                                      0.0   \n\n       ПРОФИЛЬ_Шары мелющие d 80-100 мм  ПРОФИЛЬ_Швеллер 40У  \\\nindex                                                          \n2                                   0.0                  0.0   \n87                                  0.0                  0.0   \n90                                  0.0                  0.0   \n93                                  0.0                  0.0   \n94                                  0.0                  0.0   \n...                                 ...                  ...   \n7035                                0.0                  0.0   \n7036                                0.0                  0.0   \n7037                                0.0                  0.0   \n7038                                0.0                  0.0   \n7039                                0.0                  0.0   \n\n       ПРОФИЛЬ_Швеллер 40У (12 категория)  \nindex                                      \n2                                     0.0  \n87                                    0.0  \n90                                    0.0  \n93                                    0.0  \n94                                    0.0  \n...                                   ...  \n7035                                  0.0  \n7036                                  0.0  \n7037                                  0.0  \n7038                                  0.0  \n7039                                  0.0  \n\n[3375 rows x 94 columns]",
      "text/html": "<div>\n<style scoped>\n    .dataframe tbody tr th:only-of-type {\n        vertical-align: middle;\n    }\n\n    .dataframe tbody tr th {\n        vertical-align: top;\n    }\n\n    .dataframe thead th {\n        text-align: right;\n    }\n</style>\n<table border=\"1\" class=\"dataframe\">\n  <thead>\n    <tr style=\"text-align: right;\">\n      <th></th>\n      <th>DT</th>\n      <th>t вып-обр</th>\n      <th>t продувка</th>\n      <th>ПСН гр.</th>\n      <th>чист расход C</th>\n      <th>чист расход Cr</th>\n      <th>чист расход Mn</th>\n      <th>чист расход Si</th>\n      <th>чист расход V</th>\n      <th>температура первая</th>\n      <th>...</th>\n      <th>ПРОФИЛЬ_ОР65</th>\n      <th>ПРОФИЛЬ_Р50</th>\n      <th>ПРОФИЛЬ_Р65</th>\n      <th>ПРОФИЛЬ_Рельсы трамвайные</th>\n      <th>ПРОФИЛЬ_Шар заг d шара 100 мм 2 гр.</th>\n      <th>ПРОФИЛЬ_Шар заг d шара 80-100 мм 2,3 гр.</th>\n      <th>ПРОФИЛЬ_Шар заг d шара 80-100 мм 4 гр.</th>\n      <th>ПРОФИЛЬ_Шары мелющие d 80-100 мм</th>\n      <th>ПРОФИЛЬ_Швеллер 40У</th>\n      <th>ПРОФИЛЬ_Швеллер 40У (12 категория)</th>\n    </tr>\n    <tr>\n      <th>index</th>\n      <th></th>\n      <th></th>\n      <th></th>\n      <th></th>\n      <th></th>\n      <th></th>\n      <th></th>\n      <th></th>\n      <th></th>\n      <th></th>\n      <th></th>\n      <th></th>\n      <th></th>\n      <th></th>\n      <th></th>\n      <th></th>\n      <th></th>\n      <th></th>\n      <th></th>\n      <th></th>\n      <th></th>\n    </tr>\n  </thead>\n  <tbody>\n    <tr>\n      <th>2</th>\n      <td>0.032218</td>\n      <td>0.252525</td>\n      <td>0.158119</td>\n      <td>0.193280</td>\n      <td>0.361659</td>\n      <td>0.119961</td>\n      <td>0.353047</td>\n      <td>0.277280</td>\n      <td>0.484534</td>\n      <td>0.806763</td>\n      <td>...</td>\n      <td>0.0</td>\n      <td>0.0</td>\n      <td>1.0</td>\n      <td>0.0</td>\n      <td>0.0</td>\n      <td>0.0</td>\n      <td>0.0</td>\n      <td>0.0</td>\n      <td>0.0</td>\n      <td>0.0</td>\n    </tr>\n    <tr>\n      <th>87</th>\n      <td>0.037175</td>\n      <td>0.080808</td>\n      <td>0.238665</td>\n      <td>0.221017</td>\n      <td>0.397613</td>\n      <td>0.184115</td>\n      <td>0.563643</td>\n      <td>0.296157</td>\n      <td>0.483887</td>\n      <td>0.722222</td>\n      <td>...</td>\n      <td>0.0</td>\n      <td>0.0</td>\n      <td>1.0</td>\n      <td>0.0</td>\n      <td>0.0</td>\n      <td>0.0</td>\n      <td>0.0</td>\n      <td>0.0</td>\n      <td>0.0</td>\n      <td>0.0</td>\n    </tr>\n    <tr>\n      <th>90</th>\n      <td>0.037175</td>\n      <td>0.646465</td>\n      <td>0.169674</td>\n      <td>0.169393</td>\n      <td>0.462289</td>\n      <td>0.164952</td>\n      <td>0.474718</td>\n      <td>0.341238</td>\n      <td>0.477666</td>\n      <td>0.789855</td>\n      <td>...</td>\n      <td>0.0</td>\n      <td>0.0</td>\n      <td>1.0</td>\n      <td>0.0</td>\n      <td>0.0</td>\n      <td>0.0</td>\n      <td>0.0</td>\n      <td>0.0</td>\n      <td>0.0</td>\n      <td>0.0</td>\n    </tr>\n    <tr>\n      <th>93</th>\n      <td>0.033457</td>\n      <td>0.303030</td>\n      <td>0.155551</td>\n      <td>0.176599</td>\n      <td>0.474196</td>\n      <td>0.167451</td>\n      <td>0.506961</td>\n      <td>0.263029</td>\n      <td>0.479864</td>\n      <td>0.811594</td>\n      <td>...</td>\n      <td>0.0</td>\n      <td>0.0</td>\n      <td>1.0</td>\n      <td>0.0</td>\n      <td>0.0</td>\n      <td>0.0</td>\n      <td>0.0</td>\n      <td>0.0</td>\n      <td>0.0</td>\n      <td>0.0</td>\n    </tr>\n    <tr>\n      <th>94</th>\n      <td>0.043371</td>\n      <td>0.212121</td>\n      <td>0.152848</td>\n      <td>0.184110</td>\n      <td>0.502470</td>\n      <td>0.183282</td>\n      <td>0.584001</td>\n      <td>0.388706</td>\n      <td>0.475341</td>\n      <td>0.828502</td>\n      <td>...</td>\n      <td>0.0</td>\n      <td>0.0</td>\n      <td>1.0</td>\n      <td>0.0</td>\n      <td>0.0</td>\n      <td>0.0</td>\n      <td>0.0</td>\n      <td>0.0</td>\n      <td>0.0</td>\n      <td>0.0</td>\n    </tr>\n    <tr>\n      <th>...</th>\n      <td>...</td>\n      <td>...</td>\n      <td>...</td>\n      <td>...</td>\n      <td>...</td>\n      <td>...</td>\n      <td>...</td>\n      <td>...</td>\n      <td>...</td>\n      <td>...</td>\n      <td>...</td>\n      <td>...</td>\n      <td>...</td>\n      <td>...</td>\n      <td>...</td>\n      <td>...</td>\n      <td>...</td>\n      <td>...</td>\n      <td>...</td>\n      <td>...</td>\n      <td>...</td>\n    </tr>\n    <tr>\n      <th>7035</th>\n      <td>0.027261</td>\n      <td>0.393939</td>\n      <td>0.151970</td>\n      <td>0.264404</td>\n      <td>0.585208</td>\n      <td>0.158236</td>\n      <td>0.332855</td>\n      <td>0.247566</td>\n      <td>0.863393</td>\n      <td>0.717391</td>\n      <td>...</td>\n      <td>0.0</td>\n      <td>0.0</td>\n      <td>1.0</td>\n      <td>0.0</td>\n      <td>0.0</td>\n      <td>0.0</td>\n      <td>0.0</td>\n      <td>0.0</td>\n      <td>0.0</td>\n      <td>0.0</td>\n    </tr>\n    <tr>\n      <th>7036</th>\n      <td>0.023544</td>\n      <td>0.424242</td>\n      <td>0.153321</td>\n      <td>0.258924</td>\n      <td>0.588662</td>\n      <td>0.155763</td>\n      <td>0.343133</td>\n      <td>0.195616</td>\n      <td>0.865511</td>\n      <td>0.707729</td>\n      <td>...</td>\n      <td>0.0</td>\n      <td>0.0</td>\n      <td>1.0</td>\n      <td>0.0</td>\n      <td>0.0</td>\n      <td>0.0</td>\n      <td>0.0</td>\n      <td>0.0</td>\n      <td>0.0</td>\n      <td>0.0</td>\n    </tr>\n    <tr>\n      <th>7037</th>\n      <td>0.034696</td>\n      <td>0.373737</td>\n      <td>0.170417</td>\n      <td>0.168151</td>\n      <td>0.609432</td>\n      <td>0.181316</td>\n      <td>0.417853</td>\n      <td>0.309796</td>\n      <td>0.864227</td>\n      <td>0.765700</td>\n      <td>...</td>\n      <td>0.0</td>\n      <td>0.0</td>\n      <td>1.0</td>\n      <td>0.0</td>\n      <td>0.0</td>\n      <td>0.0</td>\n      <td>0.0</td>\n      <td>0.0</td>\n      <td>0.0</td>\n      <td>0.0</td>\n    </tr>\n    <tr>\n      <th>7038</th>\n      <td>0.027261</td>\n      <td>0.434343</td>\n      <td>0.173323</td>\n      <td>0.137368</td>\n      <td>0.601155</td>\n      <td>0.164830</td>\n      <td>0.330806</td>\n      <td>0.236037</td>\n      <td>0.875371</td>\n      <td>0.823671</td>\n      <td>...</td>\n      <td>0.0</td>\n      <td>0.0</td>\n      <td>1.0</td>\n      <td>0.0</td>\n      <td>0.0</td>\n      <td>0.0</td>\n      <td>0.0</td>\n      <td>0.0</td>\n      <td>0.0</td>\n      <td>0.0</td>\n    </tr>\n    <tr>\n      <th>7039</th>\n      <td>0.029740</td>\n      <td>0.464646</td>\n      <td>0.167579</td>\n      <td>0.217525</td>\n      <td>0.659686</td>\n      <td>0.218408</td>\n      <td>0.509374</td>\n      <td>0.308191</td>\n      <td>0.887473</td>\n      <td>0.852657</td>\n      <td>...</td>\n      <td>0.0</td>\n      <td>0.0</td>\n      <td>1.0</td>\n      <td>0.0</td>\n      <td>0.0</td>\n      <td>0.0</td>\n      <td>0.0</td>\n      <td>0.0</td>\n      <td>0.0</td>\n      <td>0.0</td>\n    </tr>\n  </tbody>\n</table>\n<p>3375 rows × 94 columns</p>\n</div>"
     },
     "execution_count": 3,
     "metadata": {},
     "output_type": "execute_result"
    }
   ],
   "source": [
    "data_train"
   ],
   "metadata": {
    "collapsed": false,
    "pycharm": {
     "name": "#%%\n"
    }
   }
  },
  {
   "cell_type": "markdown",
   "source": [
    "Наша целевая выборка"
   ],
   "metadata": {
    "collapsed": false,
    "pycharm": {
     "name": "#%% md\n"
    }
   }
  },
  {
   "cell_type": "code",
   "execution_count": 4,
   "outputs": [
    {
     "data": {
      "text/plain": "             DT  t вып-обр  t продувка   ПСН гр.  чист расход C  \\\nindex                                                             \n0      0.030979   0.303030    0.148726  0.202793       0.499569   \n3      0.038414   0.181818    0.169606  0.190230       0.412803   \n4      0.030979   0.212121    0.178999  0.183919       0.425986   \n83     0.059480   0.212121    0.172985  0.229221       0.593939   \n235    0.033457   0.171717    0.177107  0.167327       0.639153   \n...         ...        ...         ...       ...            ...   \n3456   0.030979   0.262626    0.236638  0.108763       0.326522   \n3457   0.035936   0.424242    0.165619  0.108763       0.404896   \n3458   0.029740   0.454545    0.147375  0.108763       0.407636   \n3461   0.029740   0.141414    0.161633  0.108763       0.326412   \n3462   0.029740   0.161616    0.155416  0.270374       0.279307   \n\n       чист расход Cr  чист расход Mn  чист расход Si  чист расход V  \\\nindex                                                                  \n0            0.087468        0.313225        0.202459       0.479379   \n3            0.196612        0.591860        0.331270       0.487752   \n4            0.154954        0.452365        0.284025       0.479593   \n83           0.211609        0.627351        0.424401       0.490329   \n235          0.109521        0.394050        0.347529       0.898603   \n...               ...             ...             ...            ...   \n3456         0.225307        0.319496        0.134863       0.461643   \n3457         0.248761        0.499775        0.246615       0.472626   \n3458         0.226983        0.416762        0.229853       0.463797   \n3461         0.196829        0.213268        0.126653       0.452600   \n3462         0.207718        0.282954        0.173546       0.469179   \n\n       температура первая  ...  ПРОФИЛЬ_ОР65  ПРОФИЛЬ_Р50  ПРОФИЛЬ_Р65  \\\nindex                      ...                                           \n0                0.719807  ...           0.0          0.0          1.0   \n3                0.797101  ...           0.0          0.0          1.0   \n4                0.816425  ...           0.0          0.0          1.0   \n83               0.828502  ...           0.0          0.0          1.0   \n235              0.777778  ...           0.0          0.0          1.0   \n...                   ...  ...           ...          ...          ...   \n3456             0.727053  ...           0.0          0.0          1.0   \n3457             0.765700  ...           0.0          0.0          1.0   \n3458             0.724638  ...           0.0          0.0          1.0   \n3461             0.714976  ...           0.0          0.0          1.0   \n3462             0.710145  ...           0.0          0.0          1.0   \n\n       ПРОФИЛЬ_Рельсы трамвайные  ПРОФИЛЬ_Шар заг d шара 100 мм 2 гр.  \\\nindex                                                                   \n0                            0.0                                  0.0   \n3                            0.0                                  0.0   \n4                            0.0                                  0.0   \n83                           0.0                                  0.0   \n235                          0.0                                  0.0   \n...                          ...                                  ...   \n3456                         0.0                                  0.0   \n3457                         0.0                                  0.0   \n3458                         0.0                                  0.0   \n3461                         0.0                                  0.0   \n3462                         0.0                                  0.0   \n\n       ПРОФИЛЬ_Шар заг d шара 80-100 мм 2,3 гр.  \\\nindex                                             \n0                                           0.0   \n3                                           0.0   \n4                                           0.0   \n83                                          0.0   \n235                                         0.0   \n...                                         ...   \n3456                                        0.0   \n3457                                        0.0   \n3458                                        0.0   \n3461                                        0.0   \n3462                                        0.0   \n\n       ПРОФИЛЬ_Шар заг d шара 80-100 мм 4 гр.  \\\nindex                                           \n0                                         0.0   \n3                                         0.0   \n4                                         0.0   \n83                                        0.0   \n235                                       0.0   \n...                                       ...   \n3456                                      0.0   \n3457                                      0.0   \n3458                                      0.0   \n3461                                      0.0   \n3462                                      0.0   \n\n       ПРОФИЛЬ_Шары мелющие d 80-100 мм  ПРОФИЛЬ_Швеллер 40У  \\\nindex                                                          \n0                                   0.0                  0.0   \n3                                   0.0                  0.0   \n4                                   0.0                  0.0   \n83                                  0.0                  0.0   \n235                                 0.0                  0.0   \n...                                 ...                  ...   \n3456                                0.0                  0.0   \n3457                                0.0                  0.0   \n3458                                0.0                  0.0   \n3461                                0.0                  0.0   \n3462                                0.0                  0.0   \n\n       ПРОФИЛЬ_Швеллер 40У (12 категория)  \nindex                                      \n0                                     0.0  \n3                                     0.0  \n4                                     0.0  \n83                                    0.0  \n235                                   0.0  \n...                                   ...  \n3456                                  0.0  \n3457                                  0.0  \n3458                                  0.0  \n3461                                  0.0  \n3462                                  0.0  \n\n[1015 rows x 94 columns]",
      "text/html": "<div>\n<style scoped>\n    .dataframe tbody tr th:only-of-type {\n        vertical-align: middle;\n    }\n\n    .dataframe tbody tr th {\n        vertical-align: top;\n    }\n\n    .dataframe thead th {\n        text-align: right;\n    }\n</style>\n<table border=\"1\" class=\"dataframe\">\n  <thead>\n    <tr style=\"text-align: right;\">\n      <th></th>\n      <th>DT</th>\n      <th>t вып-обр</th>\n      <th>t продувка</th>\n      <th>ПСН гр.</th>\n      <th>чист расход C</th>\n      <th>чист расход Cr</th>\n      <th>чист расход Mn</th>\n      <th>чист расход Si</th>\n      <th>чист расход V</th>\n      <th>температура первая</th>\n      <th>...</th>\n      <th>ПРОФИЛЬ_ОР65</th>\n      <th>ПРОФИЛЬ_Р50</th>\n      <th>ПРОФИЛЬ_Р65</th>\n      <th>ПРОФИЛЬ_Рельсы трамвайные</th>\n      <th>ПРОФИЛЬ_Шар заг d шара 100 мм 2 гр.</th>\n      <th>ПРОФИЛЬ_Шар заг d шара 80-100 мм 2,3 гр.</th>\n      <th>ПРОФИЛЬ_Шар заг d шара 80-100 мм 4 гр.</th>\n      <th>ПРОФИЛЬ_Шары мелющие d 80-100 мм</th>\n      <th>ПРОФИЛЬ_Швеллер 40У</th>\n      <th>ПРОФИЛЬ_Швеллер 40У (12 категория)</th>\n    </tr>\n    <tr>\n      <th>index</th>\n      <th></th>\n      <th></th>\n      <th></th>\n      <th></th>\n      <th></th>\n      <th></th>\n      <th></th>\n      <th></th>\n      <th></th>\n      <th></th>\n      <th></th>\n      <th></th>\n      <th></th>\n      <th></th>\n      <th></th>\n      <th></th>\n      <th></th>\n      <th></th>\n      <th></th>\n      <th></th>\n      <th></th>\n    </tr>\n  </thead>\n  <tbody>\n    <tr>\n      <th>0</th>\n      <td>0.030979</td>\n      <td>0.303030</td>\n      <td>0.148726</td>\n      <td>0.202793</td>\n      <td>0.499569</td>\n      <td>0.087468</td>\n      <td>0.313225</td>\n      <td>0.202459</td>\n      <td>0.479379</td>\n      <td>0.719807</td>\n      <td>...</td>\n      <td>0.0</td>\n      <td>0.0</td>\n      <td>1.0</td>\n      <td>0.0</td>\n      <td>0.0</td>\n      <td>0.0</td>\n      <td>0.0</td>\n      <td>0.0</td>\n      <td>0.0</td>\n      <td>0.0</td>\n    </tr>\n    <tr>\n      <th>3</th>\n      <td>0.038414</td>\n      <td>0.181818</td>\n      <td>0.169606</td>\n      <td>0.190230</td>\n      <td>0.412803</td>\n      <td>0.196612</td>\n      <td>0.591860</td>\n      <td>0.331270</td>\n      <td>0.487752</td>\n      <td>0.797101</td>\n      <td>...</td>\n      <td>0.0</td>\n      <td>0.0</td>\n      <td>1.0</td>\n      <td>0.0</td>\n      <td>0.0</td>\n      <td>0.0</td>\n      <td>0.0</td>\n      <td>0.0</td>\n      <td>0.0</td>\n      <td>0.0</td>\n    </tr>\n    <tr>\n      <th>4</th>\n      <td>0.030979</td>\n      <td>0.212121</td>\n      <td>0.178999</td>\n      <td>0.183919</td>\n      <td>0.425986</td>\n      <td>0.154954</td>\n      <td>0.452365</td>\n      <td>0.284025</td>\n      <td>0.479593</td>\n      <td>0.816425</td>\n      <td>...</td>\n      <td>0.0</td>\n      <td>0.0</td>\n      <td>1.0</td>\n      <td>0.0</td>\n      <td>0.0</td>\n      <td>0.0</td>\n      <td>0.0</td>\n      <td>0.0</td>\n      <td>0.0</td>\n      <td>0.0</td>\n    </tr>\n    <tr>\n      <th>83</th>\n      <td>0.059480</td>\n      <td>0.212121</td>\n      <td>0.172985</td>\n      <td>0.229221</td>\n      <td>0.593939</td>\n      <td>0.211609</td>\n      <td>0.627351</td>\n      <td>0.424401</td>\n      <td>0.490329</td>\n      <td>0.828502</td>\n      <td>...</td>\n      <td>0.0</td>\n      <td>0.0</td>\n      <td>1.0</td>\n      <td>0.0</td>\n      <td>0.0</td>\n      <td>0.0</td>\n      <td>0.0</td>\n      <td>0.0</td>\n      <td>0.0</td>\n      <td>0.0</td>\n    </tr>\n    <tr>\n      <th>235</th>\n      <td>0.033457</td>\n      <td>0.171717</td>\n      <td>0.177107</td>\n      <td>0.167327</td>\n      <td>0.639153</td>\n      <td>0.109521</td>\n      <td>0.394050</td>\n      <td>0.347529</td>\n      <td>0.898603</td>\n      <td>0.777778</td>\n      <td>...</td>\n      <td>0.0</td>\n      <td>0.0</td>\n      <td>1.0</td>\n      <td>0.0</td>\n      <td>0.0</td>\n      <td>0.0</td>\n      <td>0.0</td>\n      <td>0.0</td>\n      <td>0.0</td>\n      <td>0.0</td>\n    </tr>\n    <tr>\n      <th>...</th>\n      <td>...</td>\n      <td>...</td>\n      <td>...</td>\n      <td>...</td>\n      <td>...</td>\n      <td>...</td>\n      <td>...</td>\n      <td>...</td>\n      <td>...</td>\n      <td>...</td>\n      <td>...</td>\n      <td>...</td>\n      <td>...</td>\n      <td>...</td>\n      <td>...</td>\n      <td>...</td>\n      <td>...</td>\n      <td>...</td>\n      <td>...</td>\n      <td>...</td>\n      <td>...</td>\n    </tr>\n    <tr>\n      <th>3456</th>\n      <td>0.030979</td>\n      <td>0.262626</td>\n      <td>0.236638</td>\n      <td>0.108763</td>\n      <td>0.326522</td>\n      <td>0.225307</td>\n      <td>0.319496</td>\n      <td>0.134863</td>\n      <td>0.461643</td>\n      <td>0.727053</td>\n      <td>...</td>\n      <td>0.0</td>\n      <td>0.0</td>\n      <td>1.0</td>\n      <td>0.0</td>\n      <td>0.0</td>\n      <td>0.0</td>\n      <td>0.0</td>\n      <td>0.0</td>\n      <td>0.0</td>\n      <td>0.0</td>\n    </tr>\n    <tr>\n      <th>3457</th>\n      <td>0.035936</td>\n      <td>0.424242</td>\n      <td>0.165619</td>\n      <td>0.108763</td>\n      <td>0.404896</td>\n      <td>0.248761</td>\n      <td>0.499775</td>\n      <td>0.246615</td>\n      <td>0.472626</td>\n      <td>0.765700</td>\n      <td>...</td>\n      <td>0.0</td>\n      <td>0.0</td>\n      <td>1.0</td>\n      <td>0.0</td>\n      <td>0.0</td>\n      <td>0.0</td>\n      <td>0.0</td>\n      <td>0.0</td>\n      <td>0.0</td>\n      <td>0.0</td>\n    </tr>\n    <tr>\n      <th>3458</th>\n      <td>0.029740</td>\n      <td>0.454545</td>\n      <td>0.147375</td>\n      <td>0.108763</td>\n      <td>0.407636</td>\n      <td>0.226983</td>\n      <td>0.416762</td>\n      <td>0.229853</td>\n      <td>0.463797</td>\n      <td>0.724638</td>\n      <td>...</td>\n      <td>0.0</td>\n      <td>0.0</td>\n      <td>1.0</td>\n      <td>0.0</td>\n      <td>0.0</td>\n      <td>0.0</td>\n      <td>0.0</td>\n      <td>0.0</td>\n      <td>0.0</td>\n      <td>0.0</td>\n    </tr>\n    <tr>\n      <th>3461</th>\n      <td>0.029740</td>\n      <td>0.141414</td>\n      <td>0.161633</td>\n      <td>0.108763</td>\n      <td>0.326412</td>\n      <td>0.196829</td>\n      <td>0.213268</td>\n      <td>0.126653</td>\n      <td>0.452600</td>\n      <td>0.714976</td>\n      <td>...</td>\n      <td>0.0</td>\n      <td>0.0</td>\n      <td>1.0</td>\n      <td>0.0</td>\n      <td>0.0</td>\n      <td>0.0</td>\n      <td>0.0</td>\n      <td>0.0</td>\n      <td>0.0</td>\n      <td>0.0</td>\n    </tr>\n    <tr>\n      <th>3462</th>\n      <td>0.029740</td>\n      <td>0.161616</td>\n      <td>0.155416</td>\n      <td>0.270374</td>\n      <td>0.279307</td>\n      <td>0.207718</td>\n      <td>0.282954</td>\n      <td>0.173546</td>\n      <td>0.469179</td>\n      <td>0.710145</td>\n      <td>...</td>\n      <td>0.0</td>\n      <td>0.0</td>\n      <td>1.0</td>\n      <td>0.0</td>\n      <td>0.0</td>\n      <td>0.0</td>\n      <td>0.0</td>\n      <td>0.0</td>\n      <td>0.0</td>\n      <td>0.0</td>\n    </tr>\n  </tbody>\n</table>\n<p>1015 rows × 94 columns</p>\n</div>"
     },
     "execution_count": 4,
     "metadata": {},
     "output_type": "execute_result"
    }
   ],
   "source": [
    "data_test"
   ],
   "metadata": {
    "collapsed": false,
    "pycharm": {
     "name": "#%%\n"
    }
   }
  },
  {
   "cell_type": "code",
   "execution_count": 5,
   "outputs": [],
   "source": [
    "target_list = ['химшлак последний Al2O3', 'химшлак последний CaO', 'химшлак последний R', 'химшлак последний SiO2']"
   ],
   "metadata": {
    "collapsed": false,
    "pycharm": {
     "name": "#%%\n"
    }
   }
  },
  {
   "cell_type": "markdown",
   "source": [
    "Деление выборок на обучающие признаки и целевые"
   ],
   "metadata": {
    "collapsed": false,
    "pycharm": {
     "name": "#%% md\n"
    }
   }
  },
  {
   "cell_type": "code",
   "execution_count": 6,
   "outputs": [],
   "source": [
    "data_train_marked = data_train.drop(columns=target_list)\n",
    "target_train = data_train[target_list]\n",
    "\n",
    "data_test_non_marked = data_test.drop(columns=target_list)\n",
    "target_test = data_test[target_list]"
   ],
   "metadata": {
    "collapsed": false,
    "pycharm": {
     "name": "#%%\n"
    }
   }
  },
  {
   "cell_type": "code",
   "execution_count": 7,
   "outputs": [],
   "source": [
    "is_fitted = False"
   ],
   "metadata": {
    "collapsed": false,
    "pycharm": {
     "name": "#%%\n"
    }
   }
  },
  {
   "cell_type": "code",
   "execution_count": 8,
   "outputs": [
    {
     "name": "stderr",
     "output_type": "stream",
     "text": [
      "  0%|          | 0/6 [00:00<?, ?it/s]\n",
      "  0%|          | 0/20 [00:04<?, ?it/s]\u001B[A\n",
      "  0%|          | 0/6 [00:04<?, ?it/s]\n"
     ]
    },
    {
     "ename": "KeyboardInterrupt",
     "evalue": "",
     "output_type": "error",
     "traceback": [
      "\u001B[1;31m---------------------------------------------------------------------------\u001B[0m",
      "\u001B[1;31mKeyboardInterrupt\u001B[0m                         Traceback (most recent call last)",
      "\u001B[1;32m<ipython-input-8-f51c574f379f>\u001B[0m in \u001B[0;36m<module>\u001B[1;34m\u001B[0m\n\u001B[0;32m     10\u001B[0m                 learning_rate=lr/1000))\n\u001B[0;32m     11\u001B[0m \u001B[1;33m\u001B[0m\u001B[0m\n\u001B[1;32m---> 12\u001B[1;33m             \u001B[0mmult_model\u001B[0m\u001B[1;33m.\u001B[0m\u001B[0mfit\u001B[0m\u001B[1;33m(\u001B[0m\u001B[0mdata_train_marked\u001B[0m\u001B[1;33m,\u001B[0m \u001B[0mtarget_train\u001B[0m\u001B[1;33m)\u001B[0m\u001B[1;33m\u001B[0m\u001B[1;33m\u001B[0m\u001B[0m\n\u001B[0m\u001B[0;32m     13\u001B[0m             \u001B[0mcur_score\u001B[0m \u001B[1;33m=\u001B[0m \u001B[0mr2_score\u001B[0m\u001B[1;33m(\u001B[0m\u001B[0mtarget_test\u001B[0m\u001B[1;33m,\u001B[0m \u001B[0mmult_model\u001B[0m\u001B[1;33m.\u001B[0m\u001B[0mpredict\u001B[0m\u001B[1;33m(\u001B[0m\u001B[0mdata_test_non_marked\u001B[0m\u001B[1;33m)\u001B[0m\u001B[1;33m)\u001B[0m\u001B[1;33m\u001B[0m\u001B[1;33m\u001B[0m\u001B[0m\n\u001B[0;32m     14\u001B[0m \u001B[1;33m\u001B[0m\u001B[0m\n",
      "\u001B[1;32mc:\\program files\\python37\\lib\\site-packages\\sklearn\\multioutput.py\u001B[0m in \u001B[0;36mfit\u001B[1;34m(self, X, y, sample_weight, **fit_params)\u001B[0m\n\u001B[0;32m    180\u001B[0m                 \u001B[0mself\u001B[0m\u001B[1;33m.\u001B[0m\u001B[0mestimator\u001B[0m\u001B[1;33m,\u001B[0m \u001B[0mX\u001B[0m\u001B[1;33m,\u001B[0m \u001B[0my\u001B[0m\u001B[1;33m[\u001B[0m\u001B[1;33m:\u001B[0m\u001B[1;33m,\u001B[0m \u001B[0mi\u001B[0m\u001B[1;33m]\u001B[0m\u001B[1;33m,\u001B[0m \u001B[0msample_weight\u001B[0m\u001B[1;33m,\u001B[0m\u001B[1;33m\u001B[0m\u001B[1;33m\u001B[0m\u001B[0m\n\u001B[0;32m    181\u001B[0m                 **fit_params_validated)\n\u001B[1;32m--> 182\u001B[1;33m             for i in range(y.shape[1]))\n\u001B[0m\u001B[0;32m    183\u001B[0m         \u001B[1;32mreturn\u001B[0m \u001B[0mself\u001B[0m\u001B[1;33m\u001B[0m\u001B[1;33m\u001B[0m\u001B[0m\n\u001B[0;32m    184\u001B[0m \u001B[1;33m\u001B[0m\u001B[0m\n",
      "\u001B[1;32mc:\\program files\\python37\\lib\\site-packages\\joblib\\parallel.py\u001B[0m in \u001B[0;36m__call__\u001B[1;34m(self, iterable)\u001B[0m\n\u001B[0;32m   1039\u001B[0m             \u001B[1;31m# remaining jobs.\u001B[0m\u001B[1;33m\u001B[0m\u001B[1;33m\u001B[0m\u001B[1;33m\u001B[0m\u001B[0m\n\u001B[0;32m   1040\u001B[0m             \u001B[0mself\u001B[0m\u001B[1;33m.\u001B[0m\u001B[0m_iterating\u001B[0m \u001B[1;33m=\u001B[0m \u001B[1;32mFalse\u001B[0m\u001B[1;33m\u001B[0m\u001B[1;33m\u001B[0m\u001B[0m\n\u001B[1;32m-> 1041\u001B[1;33m             \u001B[1;32mif\u001B[0m \u001B[0mself\u001B[0m\u001B[1;33m.\u001B[0m\u001B[0mdispatch_one_batch\u001B[0m\u001B[1;33m(\u001B[0m\u001B[0miterator\u001B[0m\u001B[1;33m)\u001B[0m\u001B[1;33m:\u001B[0m\u001B[1;33m\u001B[0m\u001B[1;33m\u001B[0m\u001B[0m\n\u001B[0m\u001B[0;32m   1042\u001B[0m                 \u001B[0mself\u001B[0m\u001B[1;33m.\u001B[0m\u001B[0m_iterating\u001B[0m \u001B[1;33m=\u001B[0m \u001B[0mself\u001B[0m\u001B[1;33m.\u001B[0m\u001B[0m_original_iterator\u001B[0m \u001B[1;32mis\u001B[0m \u001B[1;32mnot\u001B[0m \u001B[1;32mNone\u001B[0m\u001B[1;33m\u001B[0m\u001B[1;33m\u001B[0m\u001B[0m\n\u001B[0;32m   1043\u001B[0m \u001B[1;33m\u001B[0m\u001B[0m\n",
      "\u001B[1;32mc:\\program files\\python37\\lib\\site-packages\\joblib\\parallel.py\u001B[0m in \u001B[0;36mdispatch_one_batch\u001B[1;34m(self, iterator)\u001B[0m\n\u001B[0;32m    857\u001B[0m                 \u001B[1;32mreturn\u001B[0m \u001B[1;32mFalse\u001B[0m\u001B[1;33m\u001B[0m\u001B[1;33m\u001B[0m\u001B[0m\n\u001B[0;32m    858\u001B[0m             \u001B[1;32melse\u001B[0m\u001B[1;33m:\u001B[0m\u001B[1;33m\u001B[0m\u001B[1;33m\u001B[0m\u001B[0m\n\u001B[1;32m--> 859\u001B[1;33m                 \u001B[0mself\u001B[0m\u001B[1;33m.\u001B[0m\u001B[0m_dispatch\u001B[0m\u001B[1;33m(\u001B[0m\u001B[0mtasks\u001B[0m\u001B[1;33m)\u001B[0m\u001B[1;33m\u001B[0m\u001B[1;33m\u001B[0m\u001B[0m\n\u001B[0m\u001B[0;32m    860\u001B[0m                 \u001B[1;32mreturn\u001B[0m \u001B[1;32mTrue\u001B[0m\u001B[1;33m\u001B[0m\u001B[1;33m\u001B[0m\u001B[0m\n\u001B[0;32m    861\u001B[0m \u001B[1;33m\u001B[0m\u001B[0m\n",
      "\u001B[1;32mc:\\program files\\python37\\lib\\site-packages\\joblib\\parallel.py\u001B[0m in \u001B[0;36m_dispatch\u001B[1;34m(self, batch)\u001B[0m\n\u001B[0;32m    775\u001B[0m         \u001B[1;32mwith\u001B[0m \u001B[0mself\u001B[0m\u001B[1;33m.\u001B[0m\u001B[0m_lock\u001B[0m\u001B[1;33m:\u001B[0m\u001B[1;33m\u001B[0m\u001B[1;33m\u001B[0m\u001B[0m\n\u001B[0;32m    776\u001B[0m             \u001B[0mjob_idx\u001B[0m \u001B[1;33m=\u001B[0m \u001B[0mlen\u001B[0m\u001B[1;33m(\u001B[0m\u001B[0mself\u001B[0m\u001B[1;33m.\u001B[0m\u001B[0m_jobs\u001B[0m\u001B[1;33m)\u001B[0m\u001B[1;33m\u001B[0m\u001B[1;33m\u001B[0m\u001B[0m\n\u001B[1;32m--> 777\u001B[1;33m             \u001B[0mjob\u001B[0m \u001B[1;33m=\u001B[0m \u001B[0mself\u001B[0m\u001B[1;33m.\u001B[0m\u001B[0m_backend\u001B[0m\u001B[1;33m.\u001B[0m\u001B[0mapply_async\u001B[0m\u001B[1;33m(\u001B[0m\u001B[0mbatch\u001B[0m\u001B[1;33m,\u001B[0m \u001B[0mcallback\u001B[0m\u001B[1;33m=\u001B[0m\u001B[0mcb\u001B[0m\u001B[1;33m)\u001B[0m\u001B[1;33m\u001B[0m\u001B[1;33m\u001B[0m\u001B[0m\n\u001B[0m\u001B[0;32m    778\u001B[0m             \u001B[1;31m# A job can complete so quickly than its callback is\u001B[0m\u001B[1;33m\u001B[0m\u001B[1;33m\u001B[0m\u001B[1;33m\u001B[0m\u001B[0m\n\u001B[0;32m    779\u001B[0m             \u001B[1;31m# called before we get here, causing self._jobs to\u001B[0m\u001B[1;33m\u001B[0m\u001B[1;33m\u001B[0m\u001B[1;33m\u001B[0m\u001B[0m\n",
      "\u001B[1;32mc:\\program files\\python37\\lib\\site-packages\\joblib\\_parallel_backends.py\u001B[0m in \u001B[0;36mapply_async\u001B[1;34m(self, func, callback)\u001B[0m\n\u001B[0;32m    206\u001B[0m     \u001B[1;32mdef\u001B[0m \u001B[0mapply_async\u001B[0m\u001B[1;33m(\u001B[0m\u001B[0mself\u001B[0m\u001B[1;33m,\u001B[0m \u001B[0mfunc\u001B[0m\u001B[1;33m,\u001B[0m \u001B[0mcallback\u001B[0m\u001B[1;33m=\u001B[0m\u001B[1;32mNone\u001B[0m\u001B[1;33m)\u001B[0m\u001B[1;33m:\u001B[0m\u001B[1;33m\u001B[0m\u001B[1;33m\u001B[0m\u001B[0m\n\u001B[0;32m    207\u001B[0m         \u001B[1;34m\"\"\"Schedule a func to be run\"\"\"\u001B[0m\u001B[1;33m\u001B[0m\u001B[1;33m\u001B[0m\u001B[0m\n\u001B[1;32m--> 208\u001B[1;33m         \u001B[0mresult\u001B[0m \u001B[1;33m=\u001B[0m \u001B[0mImmediateResult\u001B[0m\u001B[1;33m(\u001B[0m\u001B[0mfunc\u001B[0m\u001B[1;33m)\u001B[0m\u001B[1;33m\u001B[0m\u001B[1;33m\u001B[0m\u001B[0m\n\u001B[0m\u001B[0;32m    209\u001B[0m         \u001B[1;32mif\u001B[0m \u001B[0mcallback\u001B[0m\u001B[1;33m:\u001B[0m\u001B[1;33m\u001B[0m\u001B[1;33m\u001B[0m\u001B[0m\n\u001B[0;32m    210\u001B[0m             \u001B[0mcallback\u001B[0m\u001B[1;33m(\u001B[0m\u001B[0mresult\u001B[0m\u001B[1;33m)\u001B[0m\u001B[1;33m\u001B[0m\u001B[1;33m\u001B[0m\u001B[0m\n",
      "\u001B[1;32mc:\\program files\\python37\\lib\\site-packages\\joblib\\_parallel_backends.py\u001B[0m in \u001B[0;36m__init__\u001B[1;34m(self, batch)\u001B[0m\n\u001B[0;32m    570\u001B[0m         \u001B[1;31m# Don't delay the application, to avoid keeping the input\u001B[0m\u001B[1;33m\u001B[0m\u001B[1;33m\u001B[0m\u001B[1;33m\u001B[0m\u001B[0m\n\u001B[0;32m    571\u001B[0m         \u001B[1;31m# arguments in memory\u001B[0m\u001B[1;33m\u001B[0m\u001B[1;33m\u001B[0m\u001B[1;33m\u001B[0m\u001B[0m\n\u001B[1;32m--> 572\u001B[1;33m         \u001B[0mself\u001B[0m\u001B[1;33m.\u001B[0m\u001B[0mresults\u001B[0m \u001B[1;33m=\u001B[0m \u001B[0mbatch\u001B[0m\u001B[1;33m(\u001B[0m\u001B[1;33m)\u001B[0m\u001B[1;33m\u001B[0m\u001B[1;33m\u001B[0m\u001B[0m\n\u001B[0m\u001B[0;32m    573\u001B[0m \u001B[1;33m\u001B[0m\u001B[0m\n\u001B[0;32m    574\u001B[0m     \u001B[1;32mdef\u001B[0m \u001B[0mget\u001B[0m\u001B[1;33m(\u001B[0m\u001B[0mself\u001B[0m\u001B[1;33m)\u001B[0m\u001B[1;33m:\u001B[0m\u001B[1;33m\u001B[0m\u001B[1;33m\u001B[0m\u001B[0m\n",
      "\u001B[1;32mc:\\program files\\python37\\lib\\site-packages\\joblib\\parallel.py\u001B[0m in \u001B[0;36m__call__\u001B[1;34m(self)\u001B[0m\n\u001B[0;32m    261\u001B[0m         \u001B[1;32mwith\u001B[0m \u001B[0mparallel_backend\u001B[0m\u001B[1;33m(\u001B[0m\u001B[0mself\u001B[0m\u001B[1;33m.\u001B[0m\u001B[0m_backend\u001B[0m\u001B[1;33m,\u001B[0m \u001B[0mn_jobs\u001B[0m\u001B[1;33m=\u001B[0m\u001B[0mself\u001B[0m\u001B[1;33m.\u001B[0m\u001B[0m_n_jobs\u001B[0m\u001B[1;33m)\u001B[0m\u001B[1;33m:\u001B[0m\u001B[1;33m\u001B[0m\u001B[1;33m\u001B[0m\u001B[0m\n\u001B[0;32m    262\u001B[0m             return [func(*args, **kwargs)\n\u001B[1;32m--> 263\u001B[1;33m                     for func, args, kwargs in self.items]\n\u001B[0m\u001B[0;32m    264\u001B[0m \u001B[1;33m\u001B[0m\u001B[0m\n\u001B[0;32m    265\u001B[0m     \u001B[1;32mdef\u001B[0m \u001B[0m__reduce__\u001B[0m\u001B[1;33m(\u001B[0m\u001B[0mself\u001B[0m\u001B[1;33m)\u001B[0m\u001B[1;33m:\u001B[0m\u001B[1;33m\u001B[0m\u001B[1;33m\u001B[0m\u001B[0m\n",
      "\u001B[1;32mc:\\program files\\python37\\lib\\site-packages\\joblib\\parallel.py\u001B[0m in \u001B[0;36m<listcomp>\u001B[1;34m(.0)\u001B[0m\n\u001B[0;32m    261\u001B[0m         \u001B[1;32mwith\u001B[0m \u001B[0mparallel_backend\u001B[0m\u001B[1;33m(\u001B[0m\u001B[0mself\u001B[0m\u001B[1;33m.\u001B[0m\u001B[0m_backend\u001B[0m\u001B[1;33m,\u001B[0m \u001B[0mn_jobs\u001B[0m\u001B[1;33m=\u001B[0m\u001B[0mself\u001B[0m\u001B[1;33m.\u001B[0m\u001B[0m_n_jobs\u001B[0m\u001B[1;33m)\u001B[0m\u001B[1;33m:\u001B[0m\u001B[1;33m\u001B[0m\u001B[1;33m\u001B[0m\u001B[0m\n\u001B[0;32m    262\u001B[0m             return [func(*args, **kwargs)\n\u001B[1;32m--> 263\u001B[1;33m                     for func, args, kwargs in self.items]\n\u001B[0m\u001B[0;32m    264\u001B[0m \u001B[1;33m\u001B[0m\u001B[0m\n\u001B[0;32m    265\u001B[0m     \u001B[1;32mdef\u001B[0m \u001B[0m__reduce__\u001B[0m\u001B[1;33m(\u001B[0m\u001B[0mself\u001B[0m\u001B[1;33m)\u001B[0m\u001B[1;33m:\u001B[0m\u001B[1;33m\u001B[0m\u001B[1;33m\u001B[0m\u001B[0m\n",
      "\u001B[1;32mc:\\program files\\python37\\lib\\site-packages\\sklearn\\utils\\fixes.py\u001B[0m in \u001B[0;36m__call__\u001B[1;34m(self, *args, **kwargs)\u001B[0m\n\u001B[0;32m    220\u001B[0m     \u001B[1;32mdef\u001B[0m \u001B[0m__call__\u001B[0m\u001B[1;33m(\u001B[0m\u001B[0mself\u001B[0m\u001B[1;33m,\u001B[0m \u001B[1;33m*\u001B[0m\u001B[0margs\u001B[0m\u001B[1;33m,\u001B[0m \u001B[1;33m**\u001B[0m\u001B[0mkwargs\u001B[0m\u001B[1;33m)\u001B[0m\u001B[1;33m:\u001B[0m\u001B[1;33m\u001B[0m\u001B[1;33m\u001B[0m\u001B[0m\n\u001B[0;32m    221\u001B[0m         \u001B[1;32mwith\u001B[0m \u001B[0mconfig_context\u001B[0m\u001B[1;33m(\u001B[0m\u001B[1;33m**\u001B[0m\u001B[0mself\u001B[0m\u001B[1;33m.\u001B[0m\u001B[0mconfig\u001B[0m\u001B[1;33m)\u001B[0m\u001B[1;33m:\u001B[0m\u001B[1;33m\u001B[0m\u001B[1;33m\u001B[0m\u001B[0m\n\u001B[1;32m--> 222\u001B[1;33m             \u001B[1;32mreturn\u001B[0m \u001B[0mself\u001B[0m\u001B[1;33m.\u001B[0m\u001B[0mfunction\u001B[0m\u001B[1;33m(\u001B[0m\u001B[1;33m*\u001B[0m\u001B[0margs\u001B[0m\u001B[1;33m,\u001B[0m \u001B[1;33m**\u001B[0m\u001B[0mkwargs\u001B[0m\u001B[1;33m)\u001B[0m\u001B[1;33m\u001B[0m\u001B[1;33m\u001B[0m\u001B[0m\n\u001B[0m",
      "\u001B[1;32mc:\\program files\\python37\\lib\\site-packages\\sklearn\\multioutput.py\u001B[0m in \u001B[0;36m_fit_estimator\u001B[1;34m(estimator, X, y, sample_weight, **fit_params)\u001B[0m\n\u001B[0;32m     39\u001B[0m         \u001B[0mestimator\u001B[0m\u001B[1;33m.\u001B[0m\u001B[0mfit\u001B[0m\u001B[1;33m(\u001B[0m\u001B[0mX\u001B[0m\u001B[1;33m,\u001B[0m \u001B[0my\u001B[0m\u001B[1;33m,\u001B[0m \u001B[0msample_weight\u001B[0m\u001B[1;33m=\u001B[0m\u001B[0msample_weight\u001B[0m\u001B[1;33m,\u001B[0m \u001B[1;33m**\u001B[0m\u001B[0mfit_params\u001B[0m\u001B[1;33m)\u001B[0m\u001B[1;33m\u001B[0m\u001B[1;33m\u001B[0m\u001B[0m\n\u001B[0;32m     40\u001B[0m     \u001B[1;32melse\u001B[0m\u001B[1;33m:\u001B[0m\u001B[1;33m\u001B[0m\u001B[1;33m\u001B[0m\u001B[0m\n\u001B[1;32m---> 41\u001B[1;33m         \u001B[0mestimator\u001B[0m\u001B[1;33m.\u001B[0m\u001B[0mfit\u001B[0m\u001B[1;33m(\u001B[0m\u001B[0mX\u001B[0m\u001B[1;33m,\u001B[0m \u001B[0my\u001B[0m\u001B[1;33m,\u001B[0m \u001B[1;33m**\u001B[0m\u001B[0mfit_params\u001B[0m\u001B[1;33m)\u001B[0m\u001B[1;33m\u001B[0m\u001B[1;33m\u001B[0m\u001B[0m\n\u001B[0m\u001B[0;32m     42\u001B[0m     \u001B[1;32mreturn\u001B[0m \u001B[0mestimator\u001B[0m\u001B[1;33m\u001B[0m\u001B[1;33m\u001B[0m\u001B[0m\n\u001B[0;32m     43\u001B[0m \u001B[1;33m\u001B[0m\u001B[0m\n",
      "\u001B[1;32mc:\\program files\\python37\\lib\\site-packages\\sklearn\\ensemble\\_gb.py\u001B[0m in \u001B[0;36mfit\u001B[1;34m(self, X, y, sample_weight, monitor)\u001B[0m\n\u001B[0;32m    504\u001B[0m         n_stages = self._fit_stages(\n\u001B[0;32m    505\u001B[0m             \u001B[0mX\u001B[0m\u001B[1;33m,\u001B[0m \u001B[0my\u001B[0m\u001B[1;33m,\u001B[0m \u001B[0mraw_predictions\u001B[0m\u001B[1;33m,\u001B[0m \u001B[0msample_weight\u001B[0m\u001B[1;33m,\u001B[0m \u001B[0mself\u001B[0m\u001B[1;33m.\u001B[0m\u001B[0m_rng\u001B[0m\u001B[1;33m,\u001B[0m \u001B[0mX_val\u001B[0m\u001B[1;33m,\u001B[0m \u001B[0my_val\u001B[0m\u001B[1;33m,\u001B[0m\u001B[1;33m\u001B[0m\u001B[1;33m\u001B[0m\u001B[0m\n\u001B[1;32m--> 506\u001B[1;33m             sample_weight_val, begin_at_stage, monitor)\n\u001B[0m\u001B[0;32m    507\u001B[0m \u001B[1;33m\u001B[0m\u001B[0m\n\u001B[0;32m    508\u001B[0m         \u001B[1;31m# change shape of arrays after fit (early-stopping or additional ests)\u001B[0m\u001B[1;33m\u001B[0m\u001B[1;33m\u001B[0m\u001B[1;33m\u001B[0m\u001B[0m\n",
      "\u001B[1;32mc:\\program files\\python37\\lib\\site-packages\\sklearn\\ensemble\\_gb.py\u001B[0m in \u001B[0;36m_fit_stages\u001B[1;34m(self, X, y, raw_predictions, sample_weight, random_state, X_val, y_val, sample_weight_val, begin_at_stage, monitor)\u001B[0m\n\u001B[0;32m    561\u001B[0m             raw_predictions = self._fit_stage(\n\u001B[0;32m    562\u001B[0m                 \u001B[0mi\u001B[0m\u001B[1;33m,\u001B[0m \u001B[0mX\u001B[0m\u001B[1;33m,\u001B[0m \u001B[0my\u001B[0m\u001B[1;33m,\u001B[0m \u001B[0mraw_predictions\u001B[0m\u001B[1;33m,\u001B[0m \u001B[0msample_weight\u001B[0m\u001B[1;33m,\u001B[0m \u001B[0msample_mask\u001B[0m\u001B[1;33m,\u001B[0m\u001B[1;33m\u001B[0m\u001B[1;33m\u001B[0m\u001B[0m\n\u001B[1;32m--> 563\u001B[1;33m                 random_state, X_csc, X_csr)\n\u001B[0m\u001B[0;32m    564\u001B[0m \u001B[1;33m\u001B[0m\u001B[0m\n\u001B[0;32m    565\u001B[0m             \u001B[1;31m# track deviance (= loss)\u001B[0m\u001B[1;33m\u001B[0m\u001B[1;33m\u001B[0m\u001B[1;33m\u001B[0m\u001B[0m\n",
      "\u001B[1;32mc:\\program files\\python37\\lib\\site-packages\\sklearn\\ensemble\\_gb.py\u001B[0m in \u001B[0;36m_fit_stage\u001B[1;34m(self, i, X, y, raw_predictions, sample_weight, sample_mask, random_state, X_csc, X_csr)\u001B[0m\n\u001B[0;32m    213\u001B[0m             \u001B[0mX\u001B[0m \u001B[1;33m=\u001B[0m \u001B[0mX_csr\u001B[0m \u001B[1;32mif\u001B[0m \u001B[0mX_csr\u001B[0m \u001B[1;32mis\u001B[0m \u001B[1;32mnot\u001B[0m \u001B[1;32mNone\u001B[0m \u001B[1;32melse\u001B[0m \u001B[0mX\u001B[0m\u001B[1;33m\u001B[0m\u001B[1;33m\u001B[0m\u001B[0m\n\u001B[0;32m    214\u001B[0m             tree.fit(X, residual, sample_weight=sample_weight,\n\u001B[1;32m--> 215\u001B[1;33m                      check_input=False)\n\u001B[0m\u001B[0;32m    216\u001B[0m \u001B[1;33m\u001B[0m\u001B[0m\n\u001B[0;32m    217\u001B[0m             \u001B[1;31m# update tree leaves\u001B[0m\u001B[1;33m\u001B[0m\u001B[1;33m\u001B[0m\u001B[1;33m\u001B[0m\u001B[0m\n",
      "\u001B[1;32mc:\\program files\\python37\\lib\\site-packages\\sklearn\\tree\\_classes.py\u001B[0m in \u001B[0;36mfit\u001B[1;34m(self, X, y, sample_weight, check_input, X_idx_sorted)\u001B[0m\n\u001B[0;32m   1249\u001B[0m             \u001B[0msample_weight\u001B[0m\u001B[1;33m=\u001B[0m\u001B[0msample_weight\u001B[0m\u001B[1;33m,\u001B[0m\u001B[1;33m\u001B[0m\u001B[1;33m\u001B[0m\u001B[0m\n\u001B[0;32m   1250\u001B[0m             \u001B[0mcheck_input\u001B[0m\u001B[1;33m=\u001B[0m\u001B[0mcheck_input\u001B[0m\u001B[1;33m,\u001B[0m\u001B[1;33m\u001B[0m\u001B[1;33m\u001B[0m\u001B[0m\n\u001B[1;32m-> 1251\u001B[1;33m             X_idx_sorted=X_idx_sorted)\n\u001B[0m\u001B[0;32m   1252\u001B[0m         \u001B[1;32mreturn\u001B[0m \u001B[0mself\u001B[0m\u001B[1;33m\u001B[0m\u001B[1;33m\u001B[0m\u001B[0m\n\u001B[0;32m   1253\u001B[0m \u001B[1;33m\u001B[0m\u001B[0m\n",
      "\u001B[1;32mc:\\program files\\python37\\lib\\site-packages\\sklearn\\tree\\_classes.py\u001B[0m in \u001B[0;36mfit\u001B[1;34m(self, X, y, sample_weight, check_input, X_idx_sorted)\u001B[0m\n\u001B[0;32m    387\u001B[0m                                            min_impurity_split)\n\u001B[0;32m    388\u001B[0m \u001B[1;33m\u001B[0m\u001B[0m\n\u001B[1;32m--> 389\u001B[1;33m         \u001B[0mbuilder\u001B[0m\u001B[1;33m.\u001B[0m\u001B[0mbuild\u001B[0m\u001B[1;33m(\u001B[0m\u001B[0mself\u001B[0m\u001B[1;33m.\u001B[0m\u001B[0mtree_\u001B[0m\u001B[1;33m,\u001B[0m \u001B[0mX\u001B[0m\u001B[1;33m,\u001B[0m \u001B[0my\u001B[0m\u001B[1;33m,\u001B[0m \u001B[0msample_weight\u001B[0m\u001B[1;33m)\u001B[0m\u001B[1;33m\u001B[0m\u001B[1;33m\u001B[0m\u001B[0m\n\u001B[0m\u001B[0;32m    390\u001B[0m \u001B[1;33m\u001B[0m\u001B[0m\n\u001B[0;32m    391\u001B[0m         \u001B[1;32mif\u001B[0m \u001B[0mself\u001B[0m\u001B[1;33m.\u001B[0m\u001B[0mn_outputs_\u001B[0m \u001B[1;33m==\u001B[0m \u001B[1;36m1\u001B[0m \u001B[1;32mand\u001B[0m \u001B[0mis_classifier\u001B[0m\u001B[1;33m(\u001B[0m\u001B[0mself\u001B[0m\u001B[1;33m)\u001B[0m\u001B[1;33m:\u001B[0m\u001B[1;33m\u001B[0m\u001B[1;33m\u001B[0m\u001B[0m\n",
      "\u001B[1;31mKeyboardInterrupt\u001B[0m: "
     ]
    }
   ],
   "source": [
    "best_model = None\n",
    "np.random.seed(42)\n",
    "best_score = 0\n",
    "\n",
    "if not is_fitted:\n",
    "    for n_estimators in tqdm(range(300, 600, 50)):\n",
    "        for lr in tqdm(range(1, 200, 10)):\n",
    "            mult_model  = MultiOutputRegressor(GradientBoostingRegressor(\n",
    "                n_estimators=n_estimators,\n",
    "                learning_rate=lr/1000))\n",
    "\n",
    "            mult_model.fit(data_train_marked, target_train)\n",
    "            cur_score = r2_score(target_test, mult_model.predict(data_test_non_marked))\n",
    "\n",
    "            if cur_score > best_score:\n",
    "                best_score = cur_score\n",
    "                best_model = mult_model\n",
    "                print(best_score)\n",
    "\n",
    "    multi_model_save(best_model)\n",
    "\n",
    "else:\n",
    "    best_model = multi_model_load()\n",
    "    best_score = r2_score(target_test, best_model.predict(data_test_non_marked))"
   ],
   "metadata": {
    "collapsed": false,
    "pycharm": {
     "name": "#%%\n"
    }
   }
  },
  {
   "cell_type": "code",
   "source": [
    "plot_feature_importance(best_model, data_train_marked, 0, 'Feature Importance For химшлак последний Al2O3')"
   ],
   "metadata": {
    "collapsed": false,
    "pycharm": {
     "name": "#%%\n"
    }
   },
   "execution_count": null,
   "outputs": []
  },
  {
   "cell_type": "code",
   "execution_count": null,
   "outputs": [],
   "source": [
    "plot_feature_importance(best_model, data_train_marked, 1, 'Feature Importance For химшлак последний CaO')"
   ],
   "metadata": {
    "collapsed": false,
    "pycharm": {
     "name": "#%%\n"
    }
   }
  },
  {
   "cell_type": "code",
   "execution_count": null,
   "outputs": [],
   "source": [
    "plot_feature_importance(best_model, data_train_marked, 2, 'Feature Importance  For химшлак последний R')"
   ],
   "metadata": {
    "collapsed": false,
    "pycharm": {
     "name": "#%%\n"
    }
   }
  },
  {
   "cell_type": "code",
   "execution_count": null,
   "outputs": [],
   "source": [
    "plot_feature_importance(best_model, data_train_marked, 3, 'Feature Importance For химшлак последний SiO2')"
   ],
   "metadata": {
    "collapsed": false,
    "pycharm": {
     "name": "#%%\n"
    }
   }
  },
  {
   "cell_type": "code",
   "execution_count": null,
   "outputs": [],
   "source": [
    "best_score"
   ],
   "metadata": {
    "collapsed": false,
    "pycharm": {
     "name": "#%%\n"
    }
   }
  },
  {
   "cell_type": "code",
   "execution_count": null,
   "outputs": [],
   "source": [
    "predict = best_model.predict(data_test_non_marked)\n",
    "show_result(predict, target_test )"
   ],
   "metadata": {
    "collapsed": false,
    "pycharm": {
     "name": "#%%\n"
    }
   }
  }
 ],
 "metadata": {
  "kernelspec": {
   "display_name": "Python 3",
   "language": "python",
   "name": "python3"
  },
  "language_info": {
   "codemirror_mode": {
    "name": "ipython",
    "version": 2
   },
   "file_extension": ".py",
   "mimetype": "text/x-python",
   "name": "python",
   "nbconvert_exporter": "python",
   "pygments_lexer": "ipython2",
   "version": "2.7.6"
  }
 },
 "nbformat": 4,
 "nbformat_minor": 0
}