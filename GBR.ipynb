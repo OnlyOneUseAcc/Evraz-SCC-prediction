{
 "cells": [
  {
   "cell_type": "code",
   "execution_count": 4,
   "outputs": [],
   "source": [
    "import numpy as np\n",
    "import pandas as pd\n",
    "from sklearn.ensemble import GradientBoostingRegressor\n",
    "from sklearn.metrics import r2_score\n",
    "import subfunc as sf\n",
    "from tqdm import tqdm\n",
    "from collections import defaultdict"
   ],
   "metadata": {
    "collapsed": false,
    "pycharm": {
     "name": "#%%\n"
    }
   }
  },
  {
   "cell_type": "code",
   "execution_count": 5,
   "outputs": [],
   "source": [
    "# Models fit flag\n",
    "is_fitted = False"
   ],
   "metadata": {
    "collapsed": false,
    "pycharm": {
     "name": "#%%\n"
    }
   }
  },
  {
   "cell_type": "code",
   "execution_count": 6,
   "outputs": [],
   "source": [
    "DATA_PATH = 'data/'\n",
    "FINAL_STAGE = 'final_stage/'\n",
    "X_train = pd.read_csv(f'{DATA_PATH}{FINAL_STAGE}x_train.csv',sep='\\t', index_col='index')\n",
    "X_test = pd.read_csv(f'{DATA_PATH}{FINAL_STAGE}x_test.csv', sep='\\t', index_col='index')\n",
    "y_train = pd.read_csv(f'{DATA_PATH}{FINAL_STAGE}y_train.csv',sep='\\t', index_col='index')\n",
    "y_test = pd.read_csv(f'{DATA_PATH}{FINAL_STAGE}y_test.csv',sep='\\t', index_col='index')"
   ],
   "metadata": {
    "collapsed": false,
    "pycharm": {
     "name": "#%%\n"
    }
   }
  },
  {
   "cell_type": "code",
   "execution_count": 11,
   "outputs": [
    {
     "name": "stdout",
     "output_type": "stream",
     "text": [
      "0.11192767412390403\n",
      "0.30664029540218785\n",
      "0.35681165104427726\n",
      "0.37587455469856257\n",
      "0.3871281699337109\n",
      "0.389393195072249\n",
      "0.3916752048092077\n",
      "0.39221602389589194\n",
      "0.39376099618425053\n",
      "0.3963944970581804\n",
      "0.39769808605590296\n",
      "0.39996723083220986\n",
      "0.40117397224148676\n",
      "0.4038678889200016\n",
      "0.40655733096570845\n"
     ]
    }
   ],
   "source": [
    "np.random.seed(42)\n",
    "models = defaultdict()\n",
    "\n",
    "if not is_fitted:\n",
    "    best_score = 0\n",
    "    best_model = None\n",
    "    for n_estimators in np.arange(250, 350, 50):\n",
    "        for lr in np.arange(0.001, 0.1, 0.005):\n",
    "            current_model  = GradientBoostingRegressor(\n",
    "                n_estimators=n_estimators,\n",
    "                learning_rate=lr)\n",
    "            current_model.fit(X_train, y_train.values.ravel())\n",
    "            current_score = r2_score(y_test.values.ravel(), current_model.predict(X_test))\n",
    "\n",
    "            if current_score > best_score:\n",
    "                best_score = current_score\n",
    "                best_model = current_model\n",
    "                print(f'{best_score}')\n",
    "\n",
    "    models['model'] = best_model\n",
    "    sf.models_save(models)\n",
    "else:\n",
    "    models = sf.models_load()"
   ],
   "metadata": {
    "collapsed": false,
    "pycharm": {
     "name": "#%%\n"
    }
   }
  },
  {
   "cell_type": "code",
   "execution_count": 6,
   "outputs": [],
   "source": [],
   "metadata": {
    "collapsed": false,
    "pycharm": {
     "name": "#%%\n"
    }
   }
  }
 ],
 "metadata": {
  "kernelspec": {
   "display_name": "Python 3",
   "language": "python",
   "name": "python3"
  },
  "language_info": {
   "codemirror_mode": {
    "name": "ipython",
    "version": 2
   },
   "file_extension": ".py",
   "mimetype": "text/x-python",
   "name": "python",
   "nbconvert_exporter": "python",
   "pygments_lexer": "ipython2",
   "version": "2.7.6"
  }
 },
 "nbformat": 4,
 "nbformat_minor": 0
}