{
 "cells": [
  {
   "cell_type": "markdown",
   "metadata": {
    "collapsed": true,
    "pycharm": {
     "name": "#%% md\n"
    }
   },
   "source": [
    "# Предобработка данных"
   ]
  },
  {
   "cell_type": "code",
   "execution_count": 1,
   "outputs": [],
   "source": [
    "import pandas as pd\n",
    "import numpy as np\n",
    "from src import subfunc as sf\n",
    "import warnings"
   ],
   "metadata": {
    "collapsed": false,
    "pycharm": {
     "name": "#%%\n"
    }
   }
  },
  {
   "cell_type": "code",
   "execution_count": 2,
   "outputs": [],
   "source": [
    "RAW_DATA = '../../data/evras.csv'\n",
    "POST_PROCESSING_TRAIN_DATA = '../../data/X_train.csv'\n",
    "POST_PROCESSING_TRAIN_DATA_LABELS = '../../data/y_train.csv'\n",
    "POST_PROCESSING_TEST_DATA = '../../data/X_test.csv'\n",
    "POST_PROCESSING_TEST_DATA_LABELS = '../../data/y_test.csv'\n",
    "SOURCE_DATA = 'source/'"
   ],
   "metadata": {
    "collapsed": false,
    "pycharm": {
     "name": "#%%\n"
    }
   }
  },
  {
   "cell_type": "code",
   "execution_count": 3,
   "outputs": [],
   "source": [
    "pd.options.display.max_columns = 90\n",
    "warnings.filterwarnings(\"ignore\")"
   ],
   "metadata": {
    "collapsed": false,
    "pycharm": {
     "name": "#%%\n"
    }
   }
  },
  {
   "cell_type": "code",
   "execution_count": 4,
   "outputs": [],
   "source": [
    "target_columns = ['химшлак последний Al2O3',\n",
    "                  'химшлак последний CaO',\n",
    "                  'химшлак последний R',\n",
    "                  'химшлак последний SiO2']"
   ],
   "metadata": {
    "collapsed": false,
    "pycharm": {
     "name": "#%%\n"
    }
   }
  },
  {
   "cell_type": "markdown",
   "source": [
    " * Информация о данных"
   ],
   "metadata": {
    "collapsed": false,
    "pycharm": {
     "name": "#%% md\n"
    }
   }
  },
  {
   "cell_type": "code",
   "execution_count": 5,
   "outputs": [
    {
     "data": {
      "text/plain": "               nplv                   DT  МАРКА ПРОФИЛЬ    t вып-обр  \\\ncount          7041                 7041   7041    7041  6444.000000   \nunique         7041                 7041     18      18          NaN   \ntop     г6838636><=  2071-01-13 11:04:00  Э76ХФ     Р65          NaN   \nfreq              1                    1   4953    6427          NaN   \nmean            NaN                  NaN    NaN     NaN    26.492241   \nstd             NaN                  NaN    NaN     NaN    14.842045   \nmin             NaN                  NaN    NaN     NaN    -1.000000   \n25%             NaN                  NaN    NaN     NaN    14.000000   \n50%             NaN                  NaN    NaN     NaN    25.000000   \n75%             NaN                  NaN    NaN     NaN    37.000000   \nmax             NaN                  NaN    NaN     NaN    98.000000   \n\n        t обработка  t под током   t продувка      ПСН гр.  чист расход C  \\\ncount   6440.000000  6440.000000  6444.000000  5249.000000    6435.000000   \nunique          NaN          NaN          NaN          NaN            NaN   \ntop             NaN          NaN          NaN          NaN            NaN   \nfreq            NaN          NaN          NaN          NaN            NaN   \nmean      46.194099    21.010523    46.063051     3.004414       0.403088   \nstd        9.878727     4.758272     9.625492     0.738573       0.091197   \nmin        4.350000     2.816667     4.350000     1.000000       0.004400   \n25%       42.350000    18.033333    42.216667     2.539699       0.345045   \n50%       44.683333    20.500000    44.550000     3.000000       0.402250   \n75%       47.550000    23.300000    47.516667     3.500875       0.460938   \nmax      294.083333    67.583333   251.000000     6.702208       0.909300   \n\n        чист расход Cr  чист расход Mn  чист расход Si  чист расход V  \\\ncount      5883.000000     6431.000000     6431.000000    6178.000000   \nunique             NaN             NaN             NaN            NaN   \ntop                NaN             NaN             NaN            NaN   \nfreq               NaN             NaN             NaN            NaN   \nmean          0.117692        0.139068        0.130561       0.051366   \nstd           0.031589        0.052807        0.041268       0.022126   \nmin           0.000572        0.000356        0.009790       0.002965   \n25%           0.097838        0.103651        0.103468       0.039122   \n50%           0.118770        0.138111        0.127332       0.040082   \n75%           0.138435        0.172799        0.153948       0.042257   \nmax           0.675108        0.374175        0.478882       0.110047   \n\n        температура первая  температура последняя  Ar (интенс.)  N2 (интенс.)  \\\ncount          6436.000000            6436.000000   6426.000000   1389.000000   \nunique                 NaN                    NaN           NaN           NaN   \ntop                    NaN                    NaN           NaN           NaN   \nfreq                   NaN                    NaN           NaN           NaN   \nmean           1567.771753            1587.973897     11.593261     13.227743   \nstd              23.122019              14.714953      3.516874      4.058446   \nmin            1259.000000            1301.000000      2.456416      2.256585   \n25%            1552.000000            1579.000000      9.167960     10.223178   \n50%            1568.000000            1585.000000     11.039425     12.878459   \n75%            1583.000000            1594.000000     13.474756     15.584599   \nmax            1673.000000            1691.000000     28.126298     27.997753   \n\n        эл. энергия (интенс.)  произв жидкая сталь  \\\ncount             6440.000000          6444.000000   \nunique                    NaN                  NaN   \ntop                       NaN                  NaN   \nfreq                      NaN                  NaN   \nmean             12989.038791           114.404252   \nstd                889.488799             2.357373   \nmin               6105.482555            98.200000   \n25%              12504.290993           113.000000   \n50%              13041.114141           114.500000   \n75%              13502.338330           115.900000   \nmax              38216.817594           171.400000   \n\n        произв количество обработок  произв  количество плавок  \\\ncount                   6444.000000                     6444.0   \nunique                          NaN                        NaN   \ntop                             NaN                        NaN   \nfreq                            NaN                        NaN   \nmean                       1.009001                        1.0   \nstd                        0.102338                        0.0   \nmin                        1.000000                        1.0   \n25%                        1.000000                        1.0   \n50%                        1.000000                        1.0   \n75%                        1.000000                        1.0   \nmax                        3.000000                        1.0   \n\n        произв количество плавок (цел)  расход газ Ar  расход газ  N2  \\\ncount                           6444.0    6426.000000     1389.000000   \nunique                             NaN            NaN             NaN   \ntop                                NaN            NaN             NaN   \nfreq                               NaN            NaN             NaN   \nmean                               1.0      15.450528       10.547284   \nstd                                0.0       6.454300        5.424832   \nmin                                1.0       0.262000        0.257000   \n25%                                1.0      11.343500        7.140000   \n50%                                1.0      14.885000       10.039000   \n75%                                1.0      18.618250       13.398000   \nmax                                1.0      69.001000       38.235000   \n\n        расход C пров.  сыпуч известь РП  сыпуч кварцит  сыпуч кокс пыль УСТК  \\\ncount       724.000000       4770.000000          13.00           6422.000000   \nunique             NaN               NaN            NaN                   NaN   \ntop                NaN               NaN            NaN                   NaN   \nfreq               NaN               NaN            NaN                   NaN   \nmean          0.020862          0.132179           0.02              0.066706   \nstd           0.013748          0.079763           0.00              0.081494   \nmin           0.000760          0.003000           0.02              0.010000   \n25%           0.010193          0.075000           0.02              0.050000   \n50%           0.018559          0.116000           0.02              0.050000   \n75%           0.029600          0.163000           0.02              0.050000   \nmax           0.072726          0.730000           0.02              0.926000   \n\n        сыпуч  кокс. мелочь (сух.)  сыпуч  кокс. мелочь КМ1  \\\ncount                     7.000000              6307.000000   \nunique                         NaN                      NaN   \ntop                            NaN                      NaN   \nfreq                           NaN                      NaN   \nmean                      0.385714                 0.420162   \nstd                       0.123544                 0.113075   \nmin                       0.136000                 0.012000   \n25%                       0.369000                 0.347000   \n50%                       0.421000                 0.420000   \n75%                       0.453500                 0.494000   \nmax                       0.498000                 0.976000   \n\n        сыпуч  шпат плав.  ферспл CaC2  ферспл FeMo  ферспл FeSi-75  \\\ncount         5910.000000  6244.000000    33.000000        5.000000   \nunique                NaN          NaN          NaN             NaN   \ntop                   NaN          NaN          NaN             NaN   \nfreq                  NaN          NaN          NaN             NaN   \nmean             0.054730     0.020086     0.019429        0.044000   \nstd              0.023799     0.001429     0.001874        0.013416   \nmin              0.012000     0.010000     0.014902        0.020000   \n25%              0.038000     0.020000     0.018193        0.050000   \n50%              0.048000     0.020000     0.019350        0.050000   \n75%              0.069000     0.020000     0.020978        0.050000   \nmax              0.224000     0.050000     0.023184        0.050000   \n\n        ферспл FeV азот.  ферспл  FeV-80  ферспл  Mn5Si65Al0.5  \\\ncount         383.000000     6179.000000           6400.000000   \nunique               NaN             NaN                   NaN   \ntop                  NaN             NaN                   NaN   \nfreq                 NaN             NaN                   NaN   \nmean            0.023845        0.061368              0.143436   \nstd             0.001094        0.021887              0.055613   \nmin             0.011212        0.003725              0.007000   \n25%             0.023401        0.049262              0.107000   \n50%             0.023944        0.050492              0.140000   \n75%             0.024306        0.053205              0.176000   \nmax             0.026476        0.124638              0.660000   \n\n        ферспл  Ni H1 пласт.  ферспл SiMn18  ферспл  ферванит  ферспл  фх850А  \\\ncount              82.000000    6398.000000       1017.000000     5883.000000   \nunique                   NaN            NaN               NaN             NaN   \ntop                      NaN            NaN               NaN             NaN   \nfreq                     NaN            NaN               NaN             NaN   \nmean                0.039869       0.215540          0.026624        0.208039   \nstd                 0.012768       0.081399          0.008244        0.056090   \nmin                 0.005859       0.013000          0.005244        0.001000   \n25%                 0.032778       0.160000          0.023872        0.173000   \n50%                 0.041812       0.213000          0.025535        0.210000   \n75%                 0.049190       0.267000          0.026512        0.245000   \nmax                 0.064996       0.584000          0.126519        1.197000   \n\n         эл. энергия  химсталь первый Al_1  химсталь первый C_1  \\\ncount    6440.000000           6444.000000          6444.000000   \nunique           NaN                   NaN                  NaN   \ntop              NaN                   NaN                  NaN   \nfreq             NaN                   NaN                  NaN   \nmean     4557.236180              0.001782             0.466162   \nstd      1106.338452              0.000491             0.063416   \nmin       513.000000              0.001000             0.046000   \n25%      3839.000000              0.002000             0.426000   \n50%      4437.000000              0.002000             0.464000   \n75%      5115.500000              0.002000             0.505000   \nmax     14957.000000              0.006000             0.815000   \n\n        химсталь первый Cr_1  химсталь первый Cu_1  химсталь первый Mn_1  \\\ncount            6444.000000           6444.000000           6444.000000   \nunique                   NaN                   NaN                   NaN   \ntop                      NaN                   NaN                   NaN   \nfreq                     NaN                   NaN                   NaN   \nmean                0.273289              0.101999              0.672277   \nstd                 0.078583              0.013180              0.063099   \nmin                 0.033000              0.042000              0.081000   \n25%                 0.226000              0.094000              0.642000   \n50%                 0.301000              0.102000              0.672000   \n75%                 0.321000              0.110000              0.702000   \nmax                 0.621000              0.278000              1.348000   \n\n        химсталь первый Mo_1  химсталь первый N_1  химсталь первый Ni_1  \\\ncount            6443.000000          6443.000000           6444.000000   \nunique                   NaN                  NaN                   NaN   \ntop                      NaN                  NaN                   NaN   \nfreq                     NaN                  NaN                   NaN   \nmean                0.007049             0.009971              0.070998   \nstd                 0.002110             0.001511              0.011993   \nmin                 0.002000             0.003000              0.030000   \n25%                 0.006000             0.009000              0.064000   \n50%                 0.007000             0.010000              0.070000   \n75%                 0.008000             0.011000              0.076000   \nmax                 0.064000             0.028000              0.151000   \n\n        химсталь первый P_1  химсталь первый S_1  химсталь первый Si_1  \\\ncount           6444.000000          6444.000000           6444.000000   \nunique                  NaN                  NaN                   NaN   \ntop                     NaN                  NaN                   NaN   \nfreq                    NaN                  NaN                   NaN   \nmean               0.009108             0.020019              0.425896   \nstd                0.002040             0.003427              0.076906   \nmin                0.004000             0.010000              0.062000   \n25%                0.008000             0.018000              0.424000   \n50%                0.009000             0.020000              0.447000   \n75%                0.010000             0.022000              0.465000   \nmax                0.021000             0.047000              0.657000   \n\n        химсталь первый Ti_1  химсталь первый V_1  химсталь последний Al  \\\ncount            6444.000000          6444.000000            6444.000000   \nunique                   NaN                  NaN                    NaN   \ntop                      NaN                  NaN                    NaN   \nfreq                     NaN                  NaN                    NaN   \nmean                0.001662             0.002770               0.003182   \nstd                 0.000564             0.002796               0.001304   \nmin                 0.000000             0.000000               0.001000   \n25%                 0.001000             0.002000               0.003000   \n50%                 0.002000             0.003000               0.003000   \n75%                 0.002000             0.003000               0.003000   \nmax                 0.007000             0.083000               0.048000   \n\n        химсталь последний C  химсталь последний Ca  химсталь последний Cr  \\\ncount            6444.000000            6218.000000            6444.000000   \nunique                   NaN                    NaN                    NaN   \ntop                      NaN                    NaN                    NaN   \nfreq                     NaN                    NaN                    NaN   \nmean                0.781571               0.000319               0.363489   \nstd                 0.046222               0.000250               0.103946   \nmin                 0.071000               0.000000               0.034000   \n25%                 0.759000               0.000200               0.291000   \n50%                 0.770000               0.000300               0.416000   \n75%                 0.785000               0.000400               0.418000   \nmax                 0.908000               0.007000               0.697000   \n\n        химсталь последний Cu  химсталь последний Mn  химсталь последний Mo  \\\ncount             6444.000000            6444.000000            6444.000000   \nunique                    NaN                    NaN                    NaN   \ntop                       NaN                    NaN                    NaN   \nfreq                      NaN                    NaN                    NaN   \nmean                 0.101690               0.794441               0.006255   \nstd                  0.013033               0.054023               0.002312   \nmin                  0.044000               0.092000               0.001000   \n25%                  0.094000               0.785000               0.005000   \n50%                  0.102000               0.790000               0.006000   \n75%                  0.110000               0.796000               0.007000   \nmax                  0.275000               1.664000               0.061000   \n\n        химсталь последний N  химсталь последний Ni  химсталь последний P  \\\ncount            6442.000000            6444.000000           6444.000000   \nunique                   NaN                    NaN                   NaN   \ntop                      NaN                    NaN                   NaN   \nfreq                     NaN                    NaN                   NaN   \nmean                0.012446               0.071517              0.010058   \nstd                 0.002245               0.014324              0.002069   \nmin                 0.007000               0.030000              0.004000   \n25%                 0.011000               0.064000              0.009000   \n50%                 0.012000               0.070000              0.010000   \n75%                 0.014000               0.076000              0.011000   \nmax                 0.024000               0.174000              0.022000   \n\n        химсталь последний S  химсталь последний Si  химсталь последний Ti  \\\ncount            6444.000000            6444.000000            6444.000000   \nunique                   NaN                    NaN                    NaN   \ntop                      NaN                    NaN                    NaN   \nfreq                     NaN                    NaN                    NaN   \nmean                0.015014               0.537171               0.002902   \nstd                 0.002716               0.075337               0.000537   \nmin                 0.003000               0.056000               0.001000   \n25%                 0.013000               0.546000               0.003000   \n50%                 0.015000               0.561000               0.003000   \n75%                 0.017000               0.568000               0.003000   \nmax                 0.030000               0.699000               0.005000   \n\n        химсталь последний V  химшлак первый Al2O3_1  химшлак первый CaO_1  \\\ncount            6444.000000             4742.000000           6444.000000   \nunique                   NaN                     NaN                   NaN   \ntop                      NaN                     NaN                   NaN   \nfreq                     NaN                     NaN                   NaN   \nmean                0.045446                4.113897             54.527824   \nstd                 0.020792                0.928221              5.039707   \nmin                 0.001000                1.800000             25.200000   \n25%                 0.036000                3.500000             50.900000   \n50%                 0.037000                4.000000             54.700000   \n75%                 0.039000                4.600000             58.300000   \nmax                 0.090000               18.500000             82.800000   \n\n        химшлак первый FeO_1  химшлак первый MgO_1  химшлак первый MnO_1  \\\ncount            6444.000000           6443.000000           6444.000000   \nunique                   NaN                   NaN                   NaN   \ntop                      NaN                   NaN                   NaN   \nfreq                     NaN                   NaN                   NaN   \nmean                0.705726             11.654974              0.229375   \nstd                 0.711858              3.569979              0.309229   \nmin                 0.100000              1.100000              0.050000   \n25%                 0.400000              9.100000              0.100000   \n50%                 0.600000             11.400000              0.140000   \n75%                 0.800000             13.700000              0.230000   \nmax                29.900000             37.400000              5.700000   \n\n        химшлак первый R_1  химшлак первый SiO2_1  химшлак последний Al2O3  \\\ncount          6444.000000            4742.000000              4742.000000   \nunique                 NaN                    NaN                      NaN   \ntop                    NaN                    NaN                      NaN   \nfreq                   NaN                    NaN                      NaN   \nmean              2.414929              22.704914                 4.597912   \nstd               0.334448               2.393835                 0.960123   \nmin               1.300000               8.200000                 2.400000   \n25%               2.200000              21.300000                 3.900000   \n50%               2.400000              22.700000                 4.500000   \n75%               2.600000              24.600000                 5.100000   \nmax              10.100000              32.800000                14.200000   \n\n        химшлак последний CaO  химшлак последний FeO  химшлак последний MgO  \\\ncount             6444.000000            6444.000000            6443.000000   \nunique                    NaN                    NaN                    NaN   \ntop                       NaN                    NaN                    NaN   \nfreq                      NaN                    NaN                    NaN   \nmean                56.382992               0.585723               9.061990   \nstd                  3.780037               0.216918               3.163436   \nmin                 35.900000               0.100000               0.300000   \n25%                 54.300000               0.400000               6.700000   \n50%                 56.800000               0.600000               8.900000   \n75%                 58.800000               0.700000              11.300000   \nmax                 67.500000               4.200000              32.400000   \n\n        химшлак последний MnO  химшлак последний R  химшлак последний SiO2  \ncount             6444.000000          6444.000000             4742.000000  \nunique                    NaN                  NaN                     NaN  \ntop                       NaN                  NaN                     NaN  \nfreq                      NaN                  NaN                     NaN  \nmean                 0.123794             2.361425               23.971700  \nstd                  0.064587             0.224172                2.187768  \nmin                  0.040000             1.600000               16.400000  \n25%                  0.080000             2.200000               22.200000  \n50%                  0.110000             2.300000               24.400000  \n75%                  0.150000             2.500000               25.900000  \nmax                  1.450000             3.100000               28.700000  ",
      "text/html": "<div>\n<style scoped>\n    .dataframe tbody tr th:only-of-type {\n        vertical-align: middle;\n    }\n\n    .dataframe tbody tr th {\n        vertical-align: top;\n    }\n\n    .dataframe thead th {\n        text-align: right;\n    }\n</style>\n<table border=\"1\" class=\"dataframe\">\n  <thead>\n    <tr style=\"text-align: right;\">\n      <th></th>\n      <th>nplv</th>\n      <th>DT</th>\n      <th>МАРКА</th>\n      <th>ПРОФИЛЬ</th>\n      <th>t вып-обр</th>\n      <th>t обработка</th>\n      <th>t под током</th>\n      <th>t продувка</th>\n      <th>ПСН гр.</th>\n      <th>чист расход C</th>\n      <th>чист расход Cr</th>\n      <th>чист расход Mn</th>\n      <th>чист расход Si</th>\n      <th>чист расход V</th>\n      <th>температура первая</th>\n      <th>температура последняя</th>\n      <th>Ar (интенс.)</th>\n      <th>N2 (интенс.)</th>\n      <th>эл. энергия (интенс.)</th>\n      <th>произв жидкая сталь</th>\n      <th>произв количество обработок</th>\n      <th>произв  количество плавок</th>\n      <th>произв количество плавок (цел)</th>\n      <th>расход газ Ar</th>\n      <th>расход газ  N2</th>\n      <th>расход C пров.</th>\n      <th>сыпуч известь РП</th>\n      <th>сыпуч кварцит</th>\n      <th>сыпуч кокс пыль УСТК</th>\n      <th>сыпуч  кокс. мелочь (сух.)</th>\n      <th>сыпуч  кокс. мелочь КМ1</th>\n      <th>сыпуч  шпат плав.</th>\n      <th>ферспл CaC2</th>\n      <th>ферспл FeMo</th>\n      <th>ферспл FeSi-75</th>\n      <th>ферспл FeV азот.</th>\n      <th>ферспл  FeV-80</th>\n      <th>ферспл  Mn5Si65Al0.5</th>\n      <th>ферспл  Ni H1 пласт.</th>\n      <th>ферспл SiMn18</th>\n      <th>ферспл  ферванит</th>\n      <th>ферспл  фх850А</th>\n      <th>эл. энергия</th>\n      <th>химсталь первый Al_1</th>\n      <th>химсталь первый C_1</th>\n      <th>химсталь первый Cr_1</th>\n      <th>химсталь первый Cu_1</th>\n      <th>химсталь первый Mn_1</th>\n      <th>химсталь первый Mo_1</th>\n      <th>химсталь первый N_1</th>\n      <th>химсталь первый Ni_1</th>\n      <th>химсталь первый P_1</th>\n      <th>химсталь первый S_1</th>\n      <th>химсталь первый Si_1</th>\n      <th>химсталь первый Ti_1</th>\n      <th>химсталь первый V_1</th>\n      <th>химсталь последний Al</th>\n      <th>химсталь последний C</th>\n      <th>химсталь последний Ca</th>\n      <th>химсталь последний Cr</th>\n      <th>химсталь последний Cu</th>\n      <th>химсталь последний Mn</th>\n      <th>химсталь последний Mo</th>\n      <th>химсталь последний N</th>\n      <th>химсталь последний Ni</th>\n      <th>химсталь последний P</th>\n      <th>химсталь последний S</th>\n      <th>химсталь последний Si</th>\n      <th>химсталь последний Ti</th>\n      <th>химсталь последний V</th>\n      <th>химшлак первый Al2O3_1</th>\n      <th>химшлак первый CaO_1</th>\n      <th>химшлак первый FeO_1</th>\n      <th>химшлак первый MgO_1</th>\n      <th>химшлак первый MnO_1</th>\n      <th>химшлак первый R_1</th>\n      <th>химшлак первый SiO2_1</th>\n      <th>химшлак последний Al2O3</th>\n      <th>химшлак последний CaO</th>\n      <th>химшлак последний FeO</th>\n      <th>химшлак последний MgO</th>\n      <th>химшлак последний MnO</th>\n      <th>химшлак последний R</th>\n      <th>химшлак последний SiO2</th>\n    </tr>\n  </thead>\n  <tbody>\n    <tr>\n      <th>count</th>\n      <td>7041</td>\n      <td>7041</td>\n      <td>7041</td>\n      <td>7041</td>\n      <td>6444.000000</td>\n      <td>6440.000000</td>\n      <td>6440.000000</td>\n      <td>6444.000000</td>\n      <td>5249.000000</td>\n      <td>6435.000000</td>\n      <td>5883.000000</td>\n      <td>6431.000000</td>\n      <td>6431.000000</td>\n      <td>6178.000000</td>\n      <td>6436.000000</td>\n      <td>6436.000000</td>\n      <td>6426.000000</td>\n      <td>1389.000000</td>\n      <td>6440.000000</td>\n      <td>6444.000000</td>\n      <td>6444.000000</td>\n      <td>6444.0</td>\n      <td>6444.0</td>\n      <td>6426.000000</td>\n      <td>1389.000000</td>\n      <td>724.000000</td>\n      <td>4770.000000</td>\n      <td>13.00</td>\n      <td>6422.000000</td>\n      <td>7.000000</td>\n      <td>6307.000000</td>\n      <td>5910.000000</td>\n      <td>6244.000000</td>\n      <td>33.000000</td>\n      <td>5.000000</td>\n      <td>383.000000</td>\n      <td>6179.000000</td>\n      <td>6400.000000</td>\n      <td>82.000000</td>\n      <td>6398.000000</td>\n      <td>1017.000000</td>\n      <td>5883.000000</td>\n      <td>6440.000000</td>\n      <td>6444.000000</td>\n      <td>6444.000000</td>\n      <td>6444.000000</td>\n      <td>6444.000000</td>\n      <td>6444.000000</td>\n      <td>6443.000000</td>\n      <td>6443.000000</td>\n      <td>6444.000000</td>\n      <td>6444.000000</td>\n      <td>6444.000000</td>\n      <td>6444.000000</td>\n      <td>6444.000000</td>\n      <td>6444.000000</td>\n      <td>6444.000000</td>\n      <td>6444.000000</td>\n      <td>6218.000000</td>\n      <td>6444.000000</td>\n      <td>6444.000000</td>\n      <td>6444.000000</td>\n      <td>6444.000000</td>\n      <td>6442.000000</td>\n      <td>6444.000000</td>\n      <td>6444.000000</td>\n      <td>6444.000000</td>\n      <td>6444.000000</td>\n      <td>6444.000000</td>\n      <td>6444.000000</td>\n      <td>4742.000000</td>\n      <td>6444.000000</td>\n      <td>6444.000000</td>\n      <td>6443.000000</td>\n      <td>6444.000000</td>\n      <td>6444.000000</td>\n      <td>4742.000000</td>\n      <td>4742.000000</td>\n      <td>6444.000000</td>\n      <td>6444.000000</td>\n      <td>6443.000000</td>\n      <td>6444.000000</td>\n      <td>6444.000000</td>\n      <td>4742.000000</td>\n    </tr>\n    <tr>\n      <th>unique</th>\n      <td>7041</td>\n      <td>7041</td>\n      <td>18</td>\n      <td>18</td>\n      <td>NaN</td>\n      <td>NaN</td>\n      <td>NaN</td>\n      <td>NaN</td>\n      <td>NaN</td>\n      <td>NaN</td>\n      <td>NaN</td>\n      <td>NaN</td>\n      <td>NaN</td>\n      <td>NaN</td>\n      <td>NaN</td>\n      <td>NaN</td>\n      <td>NaN</td>\n      <td>NaN</td>\n      <td>NaN</td>\n      <td>NaN</td>\n      <td>NaN</td>\n      <td>NaN</td>\n      <td>NaN</td>\n      <td>NaN</td>\n      <td>NaN</td>\n      <td>NaN</td>\n      <td>NaN</td>\n      <td>NaN</td>\n      <td>NaN</td>\n      <td>NaN</td>\n      <td>NaN</td>\n      <td>NaN</td>\n      <td>NaN</td>\n      <td>NaN</td>\n      <td>NaN</td>\n      <td>NaN</td>\n      <td>NaN</td>\n      <td>NaN</td>\n      <td>NaN</td>\n      <td>NaN</td>\n      <td>NaN</td>\n      <td>NaN</td>\n      <td>NaN</td>\n      <td>NaN</td>\n      <td>NaN</td>\n      <td>NaN</td>\n      <td>NaN</td>\n      <td>NaN</td>\n      <td>NaN</td>\n      <td>NaN</td>\n      <td>NaN</td>\n      <td>NaN</td>\n      <td>NaN</td>\n      <td>NaN</td>\n      <td>NaN</td>\n      <td>NaN</td>\n      <td>NaN</td>\n      <td>NaN</td>\n      <td>NaN</td>\n      <td>NaN</td>\n      <td>NaN</td>\n      <td>NaN</td>\n      <td>NaN</td>\n      <td>NaN</td>\n      <td>NaN</td>\n      <td>NaN</td>\n      <td>NaN</td>\n      <td>NaN</td>\n      <td>NaN</td>\n      <td>NaN</td>\n      <td>NaN</td>\n      <td>NaN</td>\n      <td>NaN</td>\n      <td>NaN</td>\n      <td>NaN</td>\n      <td>NaN</td>\n      <td>NaN</td>\n      <td>NaN</td>\n      <td>NaN</td>\n      <td>NaN</td>\n      <td>NaN</td>\n      <td>NaN</td>\n      <td>NaN</td>\n      <td>NaN</td>\n    </tr>\n    <tr>\n      <th>top</th>\n      <td>г6838636&gt;&lt;=</td>\n      <td>2071-01-13 11:04:00</td>\n      <td>Э76ХФ</td>\n      <td>Р65</td>\n      <td>NaN</td>\n      <td>NaN</td>\n      <td>NaN</td>\n      <td>NaN</td>\n      <td>NaN</td>\n      <td>NaN</td>\n      <td>NaN</td>\n      <td>NaN</td>\n      <td>NaN</td>\n      <td>NaN</td>\n      <td>NaN</td>\n      <td>NaN</td>\n      <td>NaN</td>\n      <td>NaN</td>\n      <td>NaN</td>\n      <td>NaN</td>\n      <td>NaN</td>\n      <td>NaN</td>\n      <td>NaN</td>\n      <td>NaN</td>\n      <td>NaN</td>\n      <td>NaN</td>\n      <td>NaN</td>\n      <td>NaN</td>\n      <td>NaN</td>\n      <td>NaN</td>\n      <td>NaN</td>\n      <td>NaN</td>\n      <td>NaN</td>\n      <td>NaN</td>\n      <td>NaN</td>\n      <td>NaN</td>\n      <td>NaN</td>\n      <td>NaN</td>\n      <td>NaN</td>\n      <td>NaN</td>\n      <td>NaN</td>\n      <td>NaN</td>\n      <td>NaN</td>\n      <td>NaN</td>\n      <td>NaN</td>\n      <td>NaN</td>\n      <td>NaN</td>\n      <td>NaN</td>\n      <td>NaN</td>\n      <td>NaN</td>\n      <td>NaN</td>\n      <td>NaN</td>\n      <td>NaN</td>\n      <td>NaN</td>\n      <td>NaN</td>\n      <td>NaN</td>\n      <td>NaN</td>\n      <td>NaN</td>\n      <td>NaN</td>\n      <td>NaN</td>\n      <td>NaN</td>\n      <td>NaN</td>\n      <td>NaN</td>\n      <td>NaN</td>\n      <td>NaN</td>\n      <td>NaN</td>\n      <td>NaN</td>\n      <td>NaN</td>\n      <td>NaN</td>\n      <td>NaN</td>\n      <td>NaN</td>\n      <td>NaN</td>\n      <td>NaN</td>\n      <td>NaN</td>\n      <td>NaN</td>\n      <td>NaN</td>\n      <td>NaN</td>\n      <td>NaN</td>\n      <td>NaN</td>\n      <td>NaN</td>\n      <td>NaN</td>\n      <td>NaN</td>\n      <td>NaN</td>\n      <td>NaN</td>\n    </tr>\n    <tr>\n      <th>freq</th>\n      <td>1</td>\n      <td>1</td>\n      <td>4953</td>\n      <td>6427</td>\n      <td>NaN</td>\n      <td>NaN</td>\n      <td>NaN</td>\n      <td>NaN</td>\n      <td>NaN</td>\n      <td>NaN</td>\n      <td>NaN</td>\n      <td>NaN</td>\n      <td>NaN</td>\n      <td>NaN</td>\n      <td>NaN</td>\n      <td>NaN</td>\n      <td>NaN</td>\n      <td>NaN</td>\n      <td>NaN</td>\n      <td>NaN</td>\n      <td>NaN</td>\n      <td>NaN</td>\n      <td>NaN</td>\n      <td>NaN</td>\n      <td>NaN</td>\n      <td>NaN</td>\n      <td>NaN</td>\n      <td>NaN</td>\n      <td>NaN</td>\n      <td>NaN</td>\n      <td>NaN</td>\n      <td>NaN</td>\n      <td>NaN</td>\n      <td>NaN</td>\n      <td>NaN</td>\n      <td>NaN</td>\n      <td>NaN</td>\n      <td>NaN</td>\n      <td>NaN</td>\n      <td>NaN</td>\n      <td>NaN</td>\n      <td>NaN</td>\n      <td>NaN</td>\n      <td>NaN</td>\n      <td>NaN</td>\n      <td>NaN</td>\n      <td>NaN</td>\n      <td>NaN</td>\n      <td>NaN</td>\n      <td>NaN</td>\n      <td>NaN</td>\n      <td>NaN</td>\n      <td>NaN</td>\n      <td>NaN</td>\n      <td>NaN</td>\n      <td>NaN</td>\n      <td>NaN</td>\n      <td>NaN</td>\n      <td>NaN</td>\n      <td>NaN</td>\n      <td>NaN</td>\n      <td>NaN</td>\n      <td>NaN</td>\n      <td>NaN</td>\n      <td>NaN</td>\n      <td>NaN</td>\n      <td>NaN</td>\n      <td>NaN</td>\n      <td>NaN</td>\n      <td>NaN</td>\n      <td>NaN</td>\n      <td>NaN</td>\n      <td>NaN</td>\n      <td>NaN</td>\n      <td>NaN</td>\n      <td>NaN</td>\n      <td>NaN</td>\n      <td>NaN</td>\n      <td>NaN</td>\n      <td>NaN</td>\n      <td>NaN</td>\n      <td>NaN</td>\n      <td>NaN</td>\n      <td>NaN</td>\n    </tr>\n    <tr>\n      <th>mean</th>\n      <td>NaN</td>\n      <td>NaN</td>\n      <td>NaN</td>\n      <td>NaN</td>\n      <td>26.492241</td>\n      <td>46.194099</td>\n      <td>21.010523</td>\n      <td>46.063051</td>\n      <td>3.004414</td>\n      <td>0.403088</td>\n      <td>0.117692</td>\n      <td>0.139068</td>\n      <td>0.130561</td>\n      <td>0.051366</td>\n      <td>1567.771753</td>\n      <td>1587.973897</td>\n      <td>11.593261</td>\n      <td>13.227743</td>\n      <td>12989.038791</td>\n      <td>114.404252</td>\n      <td>1.009001</td>\n      <td>1.0</td>\n      <td>1.0</td>\n      <td>15.450528</td>\n      <td>10.547284</td>\n      <td>0.020862</td>\n      <td>0.132179</td>\n      <td>0.02</td>\n      <td>0.066706</td>\n      <td>0.385714</td>\n      <td>0.420162</td>\n      <td>0.054730</td>\n      <td>0.020086</td>\n      <td>0.019429</td>\n      <td>0.044000</td>\n      <td>0.023845</td>\n      <td>0.061368</td>\n      <td>0.143436</td>\n      <td>0.039869</td>\n      <td>0.215540</td>\n      <td>0.026624</td>\n      <td>0.208039</td>\n      <td>4557.236180</td>\n      <td>0.001782</td>\n      <td>0.466162</td>\n      <td>0.273289</td>\n      <td>0.101999</td>\n      <td>0.672277</td>\n      <td>0.007049</td>\n      <td>0.009971</td>\n      <td>0.070998</td>\n      <td>0.009108</td>\n      <td>0.020019</td>\n      <td>0.425896</td>\n      <td>0.001662</td>\n      <td>0.002770</td>\n      <td>0.003182</td>\n      <td>0.781571</td>\n      <td>0.000319</td>\n      <td>0.363489</td>\n      <td>0.101690</td>\n      <td>0.794441</td>\n      <td>0.006255</td>\n      <td>0.012446</td>\n      <td>0.071517</td>\n      <td>0.010058</td>\n      <td>0.015014</td>\n      <td>0.537171</td>\n      <td>0.002902</td>\n      <td>0.045446</td>\n      <td>4.113897</td>\n      <td>54.527824</td>\n      <td>0.705726</td>\n      <td>11.654974</td>\n      <td>0.229375</td>\n      <td>2.414929</td>\n      <td>22.704914</td>\n      <td>4.597912</td>\n      <td>56.382992</td>\n      <td>0.585723</td>\n      <td>9.061990</td>\n      <td>0.123794</td>\n      <td>2.361425</td>\n      <td>23.971700</td>\n    </tr>\n    <tr>\n      <th>std</th>\n      <td>NaN</td>\n      <td>NaN</td>\n      <td>NaN</td>\n      <td>NaN</td>\n      <td>14.842045</td>\n      <td>9.878727</td>\n      <td>4.758272</td>\n      <td>9.625492</td>\n      <td>0.738573</td>\n      <td>0.091197</td>\n      <td>0.031589</td>\n      <td>0.052807</td>\n      <td>0.041268</td>\n      <td>0.022126</td>\n      <td>23.122019</td>\n      <td>14.714953</td>\n      <td>3.516874</td>\n      <td>4.058446</td>\n      <td>889.488799</td>\n      <td>2.357373</td>\n      <td>0.102338</td>\n      <td>0.0</td>\n      <td>0.0</td>\n      <td>6.454300</td>\n      <td>5.424832</td>\n      <td>0.013748</td>\n      <td>0.079763</td>\n      <td>0.00</td>\n      <td>0.081494</td>\n      <td>0.123544</td>\n      <td>0.113075</td>\n      <td>0.023799</td>\n      <td>0.001429</td>\n      <td>0.001874</td>\n      <td>0.013416</td>\n      <td>0.001094</td>\n      <td>0.021887</td>\n      <td>0.055613</td>\n      <td>0.012768</td>\n      <td>0.081399</td>\n      <td>0.008244</td>\n      <td>0.056090</td>\n      <td>1106.338452</td>\n      <td>0.000491</td>\n      <td>0.063416</td>\n      <td>0.078583</td>\n      <td>0.013180</td>\n      <td>0.063099</td>\n      <td>0.002110</td>\n      <td>0.001511</td>\n      <td>0.011993</td>\n      <td>0.002040</td>\n      <td>0.003427</td>\n      <td>0.076906</td>\n      <td>0.000564</td>\n      <td>0.002796</td>\n      <td>0.001304</td>\n      <td>0.046222</td>\n      <td>0.000250</td>\n      <td>0.103946</td>\n      <td>0.013033</td>\n      <td>0.054023</td>\n      <td>0.002312</td>\n      <td>0.002245</td>\n      <td>0.014324</td>\n      <td>0.002069</td>\n      <td>0.002716</td>\n      <td>0.075337</td>\n      <td>0.000537</td>\n      <td>0.020792</td>\n      <td>0.928221</td>\n      <td>5.039707</td>\n      <td>0.711858</td>\n      <td>3.569979</td>\n      <td>0.309229</td>\n      <td>0.334448</td>\n      <td>2.393835</td>\n      <td>0.960123</td>\n      <td>3.780037</td>\n      <td>0.216918</td>\n      <td>3.163436</td>\n      <td>0.064587</td>\n      <td>0.224172</td>\n      <td>2.187768</td>\n    </tr>\n    <tr>\n      <th>min</th>\n      <td>NaN</td>\n      <td>NaN</td>\n      <td>NaN</td>\n      <td>NaN</td>\n      <td>-1.000000</td>\n      <td>4.350000</td>\n      <td>2.816667</td>\n      <td>4.350000</td>\n      <td>1.000000</td>\n      <td>0.004400</td>\n      <td>0.000572</td>\n      <td>0.000356</td>\n      <td>0.009790</td>\n      <td>0.002965</td>\n      <td>1259.000000</td>\n      <td>1301.000000</td>\n      <td>2.456416</td>\n      <td>2.256585</td>\n      <td>6105.482555</td>\n      <td>98.200000</td>\n      <td>1.000000</td>\n      <td>1.0</td>\n      <td>1.0</td>\n      <td>0.262000</td>\n      <td>0.257000</td>\n      <td>0.000760</td>\n      <td>0.003000</td>\n      <td>0.02</td>\n      <td>0.010000</td>\n      <td>0.136000</td>\n      <td>0.012000</td>\n      <td>0.012000</td>\n      <td>0.010000</td>\n      <td>0.014902</td>\n      <td>0.020000</td>\n      <td>0.011212</td>\n      <td>0.003725</td>\n      <td>0.007000</td>\n      <td>0.005859</td>\n      <td>0.013000</td>\n      <td>0.005244</td>\n      <td>0.001000</td>\n      <td>513.000000</td>\n      <td>0.001000</td>\n      <td>0.046000</td>\n      <td>0.033000</td>\n      <td>0.042000</td>\n      <td>0.081000</td>\n      <td>0.002000</td>\n      <td>0.003000</td>\n      <td>0.030000</td>\n      <td>0.004000</td>\n      <td>0.010000</td>\n      <td>0.062000</td>\n      <td>0.000000</td>\n      <td>0.000000</td>\n      <td>0.001000</td>\n      <td>0.071000</td>\n      <td>0.000000</td>\n      <td>0.034000</td>\n      <td>0.044000</td>\n      <td>0.092000</td>\n      <td>0.001000</td>\n      <td>0.007000</td>\n      <td>0.030000</td>\n      <td>0.004000</td>\n      <td>0.003000</td>\n      <td>0.056000</td>\n      <td>0.001000</td>\n      <td>0.001000</td>\n      <td>1.800000</td>\n      <td>25.200000</td>\n      <td>0.100000</td>\n      <td>1.100000</td>\n      <td>0.050000</td>\n      <td>1.300000</td>\n      <td>8.200000</td>\n      <td>2.400000</td>\n      <td>35.900000</td>\n      <td>0.100000</td>\n      <td>0.300000</td>\n      <td>0.040000</td>\n      <td>1.600000</td>\n      <td>16.400000</td>\n    </tr>\n    <tr>\n      <th>25%</th>\n      <td>NaN</td>\n      <td>NaN</td>\n      <td>NaN</td>\n      <td>NaN</td>\n      <td>14.000000</td>\n      <td>42.350000</td>\n      <td>18.033333</td>\n      <td>42.216667</td>\n      <td>2.539699</td>\n      <td>0.345045</td>\n      <td>0.097838</td>\n      <td>0.103651</td>\n      <td>0.103468</td>\n      <td>0.039122</td>\n      <td>1552.000000</td>\n      <td>1579.000000</td>\n      <td>9.167960</td>\n      <td>10.223178</td>\n      <td>12504.290993</td>\n      <td>113.000000</td>\n      <td>1.000000</td>\n      <td>1.0</td>\n      <td>1.0</td>\n      <td>11.343500</td>\n      <td>7.140000</td>\n      <td>0.010193</td>\n      <td>0.075000</td>\n      <td>0.02</td>\n      <td>0.050000</td>\n      <td>0.369000</td>\n      <td>0.347000</td>\n      <td>0.038000</td>\n      <td>0.020000</td>\n      <td>0.018193</td>\n      <td>0.050000</td>\n      <td>0.023401</td>\n      <td>0.049262</td>\n      <td>0.107000</td>\n      <td>0.032778</td>\n      <td>0.160000</td>\n      <td>0.023872</td>\n      <td>0.173000</td>\n      <td>3839.000000</td>\n      <td>0.002000</td>\n      <td>0.426000</td>\n      <td>0.226000</td>\n      <td>0.094000</td>\n      <td>0.642000</td>\n      <td>0.006000</td>\n      <td>0.009000</td>\n      <td>0.064000</td>\n      <td>0.008000</td>\n      <td>0.018000</td>\n      <td>0.424000</td>\n      <td>0.001000</td>\n      <td>0.002000</td>\n      <td>0.003000</td>\n      <td>0.759000</td>\n      <td>0.000200</td>\n      <td>0.291000</td>\n      <td>0.094000</td>\n      <td>0.785000</td>\n      <td>0.005000</td>\n      <td>0.011000</td>\n      <td>0.064000</td>\n      <td>0.009000</td>\n      <td>0.013000</td>\n      <td>0.546000</td>\n      <td>0.003000</td>\n      <td>0.036000</td>\n      <td>3.500000</td>\n      <td>50.900000</td>\n      <td>0.400000</td>\n      <td>9.100000</td>\n      <td>0.100000</td>\n      <td>2.200000</td>\n      <td>21.300000</td>\n      <td>3.900000</td>\n      <td>54.300000</td>\n      <td>0.400000</td>\n      <td>6.700000</td>\n      <td>0.080000</td>\n      <td>2.200000</td>\n      <td>22.200000</td>\n    </tr>\n    <tr>\n      <th>50%</th>\n      <td>NaN</td>\n      <td>NaN</td>\n      <td>NaN</td>\n      <td>NaN</td>\n      <td>25.000000</td>\n      <td>44.683333</td>\n      <td>20.500000</td>\n      <td>44.550000</td>\n      <td>3.000000</td>\n      <td>0.402250</td>\n      <td>0.118770</td>\n      <td>0.138111</td>\n      <td>0.127332</td>\n      <td>0.040082</td>\n      <td>1568.000000</td>\n      <td>1585.000000</td>\n      <td>11.039425</td>\n      <td>12.878459</td>\n      <td>13041.114141</td>\n      <td>114.500000</td>\n      <td>1.000000</td>\n      <td>1.0</td>\n      <td>1.0</td>\n      <td>14.885000</td>\n      <td>10.039000</td>\n      <td>0.018559</td>\n      <td>0.116000</td>\n      <td>0.02</td>\n      <td>0.050000</td>\n      <td>0.421000</td>\n      <td>0.420000</td>\n      <td>0.048000</td>\n      <td>0.020000</td>\n      <td>0.019350</td>\n      <td>0.050000</td>\n      <td>0.023944</td>\n      <td>0.050492</td>\n      <td>0.140000</td>\n      <td>0.041812</td>\n      <td>0.213000</td>\n      <td>0.025535</td>\n      <td>0.210000</td>\n      <td>4437.000000</td>\n      <td>0.002000</td>\n      <td>0.464000</td>\n      <td>0.301000</td>\n      <td>0.102000</td>\n      <td>0.672000</td>\n      <td>0.007000</td>\n      <td>0.010000</td>\n      <td>0.070000</td>\n      <td>0.009000</td>\n      <td>0.020000</td>\n      <td>0.447000</td>\n      <td>0.002000</td>\n      <td>0.003000</td>\n      <td>0.003000</td>\n      <td>0.770000</td>\n      <td>0.000300</td>\n      <td>0.416000</td>\n      <td>0.102000</td>\n      <td>0.790000</td>\n      <td>0.006000</td>\n      <td>0.012000</td>\n      <td>0.070000</td>\n      <td>0.010000</td>\n      <td>0.015000</td>\n      <td>0.561000</td>\n      <td>0.003000</td>\n      <td>0.037000</td>\n      <td>4.000000</td>\n      <td>54.700000</td>\n      <td>0.600000</td>\n      <td>11.400000</td>\n      <td>0.140000</td>\n      <td>2.400000</td>\n      <td>22.700000</td>\n      <td>4.500000</td>\n      <td>56.800000</td>\n      <td>0.600000</td>\n      <td>8.900000</td>\n      <td>0.110000</td>\n      <td>2.300000</td>\n      <td>24.400000</td>\n    </tr>\n    <tr>\n      <th>75%</th>\n      <td>NaN</td>\n      <td>NaN</td>\n      <td>NaN</td>\n      <td>NaN</td>\n      <td>37.000000</td>\n      <td>47.550000</td>\n      <td>23.300000</td>\n      <td>47.516667</td>\n      <td>3.500875</td>\n      <td>0.460938</td>\n      <td>0.138435</td>\n      <td>0.172799</td>\n      <td>0.153948</td>\n      <td>0.042257</td>\n      <td>1583.000000</td>\n      <td>1594.000000</td>\n      <td>13.474756</td>\n      <td>15.584599</td>\n      <td>13502.338330</td>\n      <td>115.900000</td>\n      <td>1.000000</td>\n      <td>1.0</td>\n      <td>1.0</td>\n      <td>18.618250</td>\n      <td>13.398000</td>\n      <td>0.029600</td>\n      <td>0.163000</td>\n      <td>0.02</td>\n      <td>0.050000</td>\n      <td>0.453500</td>\n      <td>0.494000</td>\n      <td>0.069000</td>\n      <td>0.020000</td>\n      <td>0.020978</td>\n      <td>0.050000</td>\n      <td>0.024306</td>\n      <td>0.053205</td>\n      <td>0.176000</td>\n      <td>0.049190</td>\n      <td>0.267000</td>\n      <td>0.026512</td>\n      <td>0.245000</td>\n      <td>5115.500000</td>\n      <td>0.002000</td>\n      <td>0.505000</td>\n      <td>0.321000</td>\n      <td>0.110000</td>\n      <td>0.702000</td>\n      <td>0.008000</td>\n      <td>0.011000</td>\n      <td>0.076000</td>\n      <td>0.010000</td>\n      <td>0.022000</td>\n      <td>0.465000</td>\n      <td>0.002000</td>\n      <td>0.003000</td>\n      <td>0.003000</td>\n      <td>0.785000</td>\n      <td>0.000400</td>\n      <td>0.418000</td>\n      <td>0.110000</td>\n      <td>0.796000</td>\n      <td>0.007000</td>\n      <td>0.014000</td>\n      <td>0.076000</td>\n      <td>0.011000</td>\n      <td>0.017000</td>\n      <td>0.568000</td>\n      <td>0.003000</td>\n      <td>0.039000</td>\n      <td>4.600000</td>\n      <td>58.300000</td>\n      <td>0.800000</td>\n      <td>13.700000</td>\n      <td>0.230000</td>\n      <td>2.600000</td>\n      <td>24.600000</td>\n      <td>5.100000</td>\n      <td>58.800000</td>\n      <td>0.700000</td>\n      <td>11.300000</td>\n      <td>0.150000</td>\n      <td>2.500000</td>\n      <td>25.900000</td>\n    </tr>\n    <tr>\n      <th>max</th>\n      <td>NaN</td>\n      <td>NaN</td>\n      <td>NaN</td>\n      <td>NaN</td>\n      <td>98.000000</td>\n      <td>294.083333</td>\n      <td>67.583333</td>\n      <td>251.000000</td>\n      <td>6.702208</td>\n      <td>0.909300</td>\n      <td>0.675108</td>\n      <td>0.374175</td>\n      <td>0.478882</td>\n      <td>0.110047</td>\n      <td>1673.000000</td>\n      <td>1691.000000</td>\n      <td>28.126298</td>\n      <td>27.997753</td>\n      <td>38216.817594</td>\n      <td>171.400000</td>\n      <td>3.000000</td>\n      <td>1.0</td>\n      <td>1.0</td>\n      <td>69.001000</td>\n      <td>38.235000</td>\n      <td>0.072726</td>\n      <td>0.730000</td>\n      <td>0.02</td>\n      <td>0.926000</td>\n      <td>0.498000</td>\n      <td>0.976000</td>\n      <td>0.224000</td>\n      <td>0.050000</td>\n      <td>0.023184</td>\n      <td>0.050000</td>\n      <td>0.026476</td>\n      <td>0.124638</td>\n      <td>0.660000</td>\n      <td>0.064996</td>\n      <td>0.584000</td>\n      <td>0.126519</td>\n      <td>1.197000</td>\n      <td>14957.000000</td>\n      <td>0.006000</td>\n      <td>0.815000</td>\n      <td>0.621000</td>\n      <td>0.278000</td>\n      <td>1.348000</td>\n      <td>0.064000</td>\n      <td>0.028000</td>\n      <td>0.151000</td>\n      <td>0.021000</td>\n      <td>0.047000</td>\n      <td>0.657000</td>\n      <td>0.007000</td>\n      <td>0.083000</td>\n      <td>0.048000</td>\n      <td>0.908000</td>\n      <td>0.007000</td>\n      <td>0.697000</td>\n      <td>0.275000</td>\n      <td>1.664000</td>\n      <td>0.061000</td>\n      <td>0.024000</td>\n      <td>0.174000</td>\n      <td>0.022000</td>\n      <td>0.030000</td>\n      <td>0.699000</td>\n      <td>0.005000</td>\n      <td>0.090000</td>\n      <td>18.500000</td>\n      <td>82.800000</td>\n      <td>29.900000</td>\n      <td>37.400000</td>\n      <td>5.700000</td>\n      <td>10.100000</td>\n      <td>32.800000</td>\n      <td>14.200000</td>\n      <td>67.500000</td>\n      <td>4.200000</td>\n      <td>32.400000</td>\n      <td>1.450000</td>\n      <td>3.100000</td>\n      <td>28.700000</td>\n    </tr>\n  </tbody>\n</table>\n</div>"
     },
     "execution_count": 5,
     "metadata": {},
     "output_type": "execute_result"
    }
   ],
   "source": [
    "data = pd.read_csv(RAW_DATA, sep=';', index_col='index', decimal=',')\n",
    "data.describe(include='all')"
   ],
   "metadata": {
    "collapsed": false,
    "pycharm": {
     "name": "#%%\n"
    }
   }
  },
  {
   "cell_type": "code",
   "execution_count": 6,
   "outputs": [
    {
     "name": "stdout",
     "output_type": "stream",
     "text": [
      "<class 'pandas.core.frame.DataFrame'>\n",
      "Int64Index: 7041 entries, 0 to 7040\n",
      "Data columns (total 84 columns):\n",
      " #   Column                          Non-Null Count  Dtype  \n",
      "---  ------                          --------------  -----  \n",
      " 0   nplv                            7041 non-null   object \n",
      " 1   DT                              7041 non-null   object \n",
      " 2   МАРКА                           7041 non-null   object \n",
      " 3   ПРОФИЛЬ                         7041 non-null   object \n",
      " 4   t вып-обр                       6444 non-null   float64\n",
      " 5   t обработка                     6440 non-null   float64\n",
      " 6   t под током                     6440 non-null   float64\n",
      " 7   t продувка                      6444 non-null   float64\n",
      " 8   ПСН гр.                         5249 non-null   float64\n",
      " 9   чист расход C                   6435 non-null   float64\n",
      " 10  чист расход Cr                  5883 non-null   float64\n",
      " 11  чист расход Mn                  6431 non-null   float64\n",
      " 12  чист расход Si                  6431 non-null   float64\n",
      " 13  чист расход V                   6178 non-null   float64\n",
      " 14  температура первая              6436 non-null   float64\n",
      " 15  температура последняя           6436 non-null   float64\n",
      " 16  Ar (интенс.)                    6426 non-null   float64\n",
      " 17  N2 (интенс.)                    1389 non-null   float64\n",
      " 18  эл. энергия (интенс.)           6440 non-null   float64\n",
      " 19  произв жидкая сталь             6444 non-null   float64\n",
      " 20  произв количество обработок     6444 non-null   float64\n",
      " 21  произв  количество плавок       6444 non-null   float64\n",
      " 22  произв количество плавок (цел)  6444 non-null   float64\n",
      " 23  расход газ Ar                   6426 non-null   float64\n",
      " 24  расход газ  N2                  1389 non-null   float64\n",
      " 25  расход C пров.                  724 non-null    float64\n",
      " 26  сыпуч известь РП                4770 non-null   float64\n",
      " 27  сыпуч кварцит                   13 non-null     float64\n",
      " 28  сыпуч кокс пыль УСТК            6422 non-null   float64\n",
      " 29  сыпуч  кокс. мелочь (сух.)      7 non-null      float64\n",
      " 30  сыпуч  кокс. мелочь КМ1         6307 non-null   float64\n",
      " 31  сыпуч  шпат плав.               5910 non-null   float64\n",
      " 32  ферспл CaC2                     6244 non-null   float64\n",
      " 33  ферспл FeMo                     33 non-null     float64\n",
      " 34  ферспл FeSi-75                  5 non-null      float64\n",
      " 35  ферспл FeV азот.                383 non-null    float64\n",
      " 36  ферспл  FeV-80                  6179 non-null   float64\n",
      " 37  ферспл  Mn5Si65Al0.5            6400 non-null   float64\n",
      " 38  ферспл  Ni H1 пласт.            82 non-null     float64\n",
      " 39  ферспл SiMn18                   6398 non-null   float64\n",
      " 40  ферспл  ферванит                1017 non-null   float64\n",
      " 41  ферспл  фх850А                  5883 non-null   float64\n",
      " 42  эл. энергия                     6440 non-null   float64\n",
      " 43  химсталь первый Al_1            6444 non-null   float64\n",
      " 44  химсталь первый C_1             6444 non-null   float64\n",
      " 45  химсталь первый Cr_1            6444 non-null   float64\n",
      " 46  химсталь первый Cu_1            6444 non-null   float64\n",
      " 47  химсталь первый Mn_1            6444 non-null   float64\n",
      " 48  химсталь первый Mo_1            6443 non-null   float64\n",
      " 49  химсталь первый N_1             6443 non-null   float64\n",
      " 50  химсталь первый Ni_1            6444 non-null   float64\n",
      " 51  химсталь первый P_1             6444 non-null   float64\n",
      " 52  химсталь первый S_1             6444 non-null   float64\n",
      " 53  химсталь первый Si_1            6444 non-null   float64\n",
      " 54  химсталь первый Ti_1            6444 non-null   float64\n",
      " 55  химсталь первый V_1             6444 non-null   float64\n",
      " 56  химсталь последний Al           6444 non-null   float64\n",
      " 57  химсталь последний C            6444 non-null   float64\n",
      " 58  химсталь последний Ca           6218 non-null   float64\n",
      " 59  химсталь последний Cr           6444 non-null   float64\n",
      " 60  химсталь последний Cu           6444 non-null   float64\n",
      " 61  химсталь последний Mn           6444 non-null   float64\n",
      " 62  химсталь последний Mo           6444 non-null   float64\n",
      " 63  химсталь последний N            6442 non-null   float64\n",
      " 64  химсталь последний Ni           6444 non-null   float64\n",
      " 65  химсталь последний P            6444 non-null   float64\n",
      " 66  химсталь последний S            6444 non-null   float64\n",
      " 67  химсталь последний Si           6444 non-null   float64\n",
      " 68  химсталь последний Ti           6444 non-null   float64\n",
      " 69  химсталь последний V            6444 non-null   float64\n",
      " 70  химшлак первый Al2O3_1          4742 non-null   float64\n",
      " 71  химшлак первый CaO_1            6444 non-null   float64\n",
      " 72  химшлак первый FeO_1            6444 non-null   float64\n",
      " 73  химшлак первый MgO_1            6443 non-null   float64\n",
      " 74  химшлак первый MnO_1            6444 non-null   float64\n",
      " 75  химшлак первый R_1              6444 non-null   float64\n",
      " 76  химшлак первый SiO2_1           4742 non-null   float64\n",
      " 77  химшлак последний Al2O3         4742 non-null   float64\n",
      " 78  химшлак последний CaO           6444 non-null   float64\n",
      " 79  химшлак последний FeO           6444 non-null   float64\n",
      " 80  химшлак последний MgO           6443 non-null   float64\n",
      " 81  химшлак последний MnO           6444 non-null   float64\n",
      " 82  химшлак последний R             6444 non-null   float64\n",
      " 83  химшлак последний SiO2          4742 non-null   float64\n",
      "dtypes: float64(80), object(4)\n",
      "memory usage: 4.6+ MB\n"
     ]
    }
   ],
   "source": [
    "data.info()"
   ],
   "metadata": {
    "collapsed": false,
    "pycharm": {
     "name": "#%%\n"
    }
   }
  },
  {
   "cell_type": "markdown",
   "source": [
    " * Нахождение самой популярной марки"
   ],
   "metadata": {
    "collapsed": false,
    "pycharm": {
     "name": "#%% md\n"
    }
   }
  },
  {
   "cell_type": "code",
   "execution_count": 7,
   "outputs": [
    {
     "name": "stdout",
     "output_type": "stream",
     "text": [
      "Самая популярная марка -  Э76ХФ\n"
     ]
    }
   ],
   "source": [
    "top_mark = data.describe(include='all').loc[\"top\", \"МАРКА\"]\n",
    "print(\"Самая популярная марка - \", top_mark)"
   ],
   "metadata": {
    "collapsed": false,
    "pycharm": {
     "name": "#%%\n"
    }
   }
  },
  {
   "cell_type": "markdown",
   "source": [
    "* Переводим дату во время изготовления сплава"
   ],
   "metadata": {
    "collapsed": false,
    "pycharm": {
     "name": "#%% md\n"
    }
   }
  },
  {
   "cell_type": "code",
   "execution_count": 8,
   "outputs": [],
   "source": [
    "data['DT'] = sf.date_to_interval(data['DT'])"
   ],
   "metadata": {
    "collapsed": false,
    "pycharm": {
     "name": "#%%\n"
    }
   }
  },
  {
   "cell_type": "markdown",
   "source": [
    "* Процент пропущенных значений в датасете"
   ],
   "metadata": {
    "collapsed": false,
    "pycharm": {
     "name": "#%% md\n"
    }
   }
  },
  {
   "cell_type": "code",
   "execution_count": 9,
   "outputs": [
    {
     "data": {
      "text/plain": "ферспл FeSi-75                0.999290\nсыпуч  кокс. мелочь (сух.)    0.999006\nсыпуч кварцит                 0.998154\nферспл FeMo                   0.995313\nферспл  Ni H1 пласт.          0.988354\nферспл FeV азот.              0.945604\nрасход C пров.                0.897174\nферспл  ферванит              0.855560\nрасход газ  N2                0.802727\nN2 (интенс.)                  0.802727\nхимшлак последний SiO2        0.326516\nхимшлак последний Al2O3       0.326516\nхимшлак первый SiO2_1         0.326516\nхимшлак первый Al2O3_1        0.326516\nсыпуч известь РП              0.322539\ndtype: float64"
     },
     "execution_count": 9,
     "metadata": {},
     "output_type": "execute_result"
    }
   ],
   "source": [
    "data.isnull().sum().sort_values(ascending= False).apply(lambda x : x / data.shape[0])[:15]"
   ],
   "metadata": {
    "collapsed": false,
    "pycharm": {
     "name": "#%%\n"
    }
   }
  },
  {
   "cell_type": "code",
   "execution_count": 10,
   "outputs": [
    {
     "data": {
      "text/plain": "<Figure size 1224x1080 with 1 Axes>",
      "image/png": "[encoded data removed]"
     },
     "metadata": {
      "needs_background": "light"
     },
     "output_type": "display_data"
    }
   ],
   "source": [
    "import re\n",
    "from matplotlib import pyplot as plt\n",
    "\n",
    "df_him = data[[column for column in data.columns if re.search('хим',\n",
    "                                                                  column.lower())]]\n",
    "df_nan_count = df_him.isnull().sum(axis=0)\n",
    "df_full_count = df_him.notnull().sum() + df_nan_count\n",
    "\n",
    "ind = np.arange(len(df_him.columns))\n",
    "\n",
    "fig, ax = plt.subplots(figsize=(17, 15))\n",
    "\n",
    "ax.barh(ind, df_full_count, label='Full count', color='orange')\n",
    "ax.barh(ind, df_nan_count, label='NaN count', color='purple')\n",
    "\n",
    "ax.axhline(0, color='grey', linewidth=0.8)\n",
    "ax.set_title('Отношение пропущенных данных от всего кол-ва')\n",
    "ax.set_yticks(ind)\n",
    "ax.set_yticklabels(df_him.columns)\n",
    "ax.legend()\n",
    "\n",
    "#plt.savefig(f'{SOURCE_DATA}nan.png')\n",
    "\n",
    "del df_him\n",
    "del df_nan_count\n",
    "del df_full_count"
   ],
   "metadata": {
    "collapsed": false,
    "pycharm": {
     "name": "#%%\n"
    }
   }
  },
  {
   "cell_type": "markdown",
   "source": [
    "* Оставляем колонки с > 65% известных данных, а также удаляем колонки с бесполезной информацией"
   ],
   "metadata": {
    "collapsed": false,
    "pycharm": {
     "name": "#%% md\n"
    }
   }
  },
  {
   "cell_type": "code",
   "source": [
    "fer_columns = [x for x in data.columns if 'ф' in x]"
   ],
   "metadata": {
    "collapsed": false,
    "pycharm": {
     "name": "#%%\n"
    }
   },
   "execution_count": 11,
   "outputs": []
  },
  {
   "cell_type": "code",
   "execution_count": 12,
   "outputs": [
    {
     "name": "stdout",
     "output_type": "stream",
     "text": [
      "Удаленные колонки: N2 (интенс.), расход газ  N2, расход C пров., сыпуч кварцит, сыпуч  кокс. мелочь (сух.)\n"
     ]
    }
   ],
   "source": [
    "data[fer_columns] = data[fer_columns].fillna(0)\n",
    "dropped_data, _ = sf.drop_columns(data, 0.65)"
   ],
   "metadata": {
    "collapsed": false,
    "pycharm": {
     "name": "#%%\n"
    }
   }
  },
  {
   "cell_type": "code",
   "execution_count": 13,
   "outputs": [],
   "source": [
    "marked_data = dropped_data[dropped_data['МАРКА'] == top_mark]\n",
    "marked_data = marked_data.drop(columns= ['nplv', 'ПРОФИЛЬ', 'МАРКА','DT'])"
   ],
   "metadata": {
    "collapsed": false,
    "pycharm": {
     "name": "#%%\n"
    }
   }
  },
  {
   "cell_type": "markdown",
   "source": [
    "* Удаляем строки, где пропущены значения для целевых переменных"
   ],
   "metadata": {
    "collapsed": false,
    "pycharm": {
     "name": "#%% md\n"
    }
   }
  },
  {
   "cell_type": "code",
   "execution_count": 14,
   "outputs": [],
   "source": [
    "marked_data = marked_data.dropna(axis = 0, subset = target_columns)"
   ],
   "metadata": {
    "collapsed": false,
    "pycharm": {
     "name": "#%%\n"
    }
   }
  },
  {
   "cell_type": "markdown",
   "source": [
    " * Заполняем пропущенные данные с помощью метода MICE"
   ],
   "metadata": {
    "collapsed": false,
    "pycharm": {
     "name": "#%% md\n"
    }
   }
  },
  {
   "cell_type": "code",
   "execution_count": 15,
   "outputs": [],
   "source": [
    "marked_data = sf.fill_empty_values(marked_data)"
   ],
   "metadata": {
    "collapsed": false,
    "pycharm": {
     "name": "#%%\n"
    }
   }
  },
  {
   "cell_type": "markdown",
   "source": [
    " Выведем распределение наших целевых переменных"
   ],
   "metadata": {
    "collapsed": false,
    "pycharm": {
     "name": "#%% md\n"
    }
   }
  },
  {
   "cell_type": "code",
   "execution_count": 16,
   "outputs": [],
   "source": [
    "import seaborn as sns\n",
    "import matplotlib.pyplot as plt\n",
    "\n",
    "#plt.figure(figsize=(7, 7))\n",
    "#sns.distplot(marked_data['химшлак последний Al2O3'], color='g', bins=100, hist_kws={'alpha': 0.4}, vertical=True)\n",
    "#plt.savefig(f'{SOURCE_DATA}target_range_1.png')"
   ],
   "metadata": {
    "collapsed": false,
    "pycharm": {
     "name": "#%%\n"
    }
   }
  },
  {
   "cell_type": "code",
   "execution_count": 17,
   "outputs": [],
   "source": [
    "#plt.figure(figsize=(7, 7))\n",
    "#sns.distplot(marked_data['химшлак последний CaO'], color='r', bins=100, hist_kws={'alpha': 0.4}, vertical=True)\n",
    "#plt.savefig(f'{SOURCE_DATA}target_range_2.png')"
   ],
   "metadata": {
    "collapsed": false,
    "pycharm": {
     "name": "#%%\n"
    }
   }
  },
  {
   "cell_type": "code",
   "execution_count": 18,
   "outputs": [],
   "source": [
    "#plt.figure(figsize=(7, 7))\n",
    "#sns.distplot(marked_data['химшлак последний R'], color='g', bins=100, hist_kws={'alpha': 0.4}, vertical=True)\n",
    "#plt.savefig(f'{SOURCE_DATA}target_range_3.png')"
   ],
   "metadata": {
    "collapsed": false,
    "pycharm": {
     "name": "#%%\n"
    }
   }
  },
  {
   "cell_type": "code",
   "execution_count": 19,
   "outputs": [],
   "source": [
    "#plt.figure(figsize=(7, 7))\n",
    "#sns.distplot(marked_data['химшлак последний SiO2'], color='r', bins=100, hist_kws={'alpha': 0.4}, vertical=True)\n",
    "#plt.savefig(f'{SOURCE_DATA}target_range_4.png')"
   ],
   "metadata": {
    "collapsed": false,
    "pycharm": {
     "name": "#%%\n"
    }
   }
  },
  {
   "cell_type": "markdown",
   "source": [
    "* Сделаем нормализацию данных"
   ],
   "metadata": {
    "collapsed": false,
    "pycharm": {
     "name": "#%% md\n"
    }
   }
  },
  {
   "cell_type": "code",
   "execution_count": 20,
   "outputs": [],
   "source": [
    "normalized_data = sf.normalize_data(marked_data.drop(columns=target_columns))\n",
    "normalized_data[target_columns] = marked_data[target_columns]\n",
    "del marked_data"
   ],
   "metadata": {
    "collapsed": false,
    "pycharm": {
     "name": "#%%\n"
    }
   }
  },
  {
   "cell_type": "markdown",
   "source": [
    "* Распределение значений признаков до обработки данных"
   ],
   "metadata": {
    "collapsed": false,
    "pycharm": {
     "name": "#%% md\n"
    }
   }
  },
  {
   "cell_type": "code",
   "execution_count": 21,
   "outputs": [],
   "source": [
    "#sns_plot = sns.pairplot(normalized_data,\n",
    " #                   x_vars=normalized_data.columns,\n",
    "  #                  y_vars=target_columns)\n",
    "#sns_plot.savefig('source/multi_map_preprocessing.png')"
   ],
   "metadata": {
    "collapsed": false,
    "pycharm": {
     "name": "#%%\n"
    }
   }
  },
  {
   "cell_type": "markdown",
   "source": [
    " * Дисперсия до обработки данных"
   ],
   "metadata": {
    "collapsed": false,
    "pycharm": {
     "name": "#%% md\n"
    }
   }
  },
  {
   "cell_type": "code",
   "execution_count": 22,
   "outputs": [],
   "source": [
    "#dispersion_ax = normalized_data.var().sort_values().plot(kind='barh', figsize=(13, 25), grid=True)\n",
    "#dispersion_fig = dispersion_ax.get_figure()\n",
    "#dispersion_fig.savefig('source/dispersion_bar_preprocessing.png')"
   ],
   "metadata": {
    "collapsed": false,
    "pycharm": {
     "name": "#%%\n"
    }
   }
  },
  {
   "cell_type": "markdown",
   "source": [
    "* Корреляции между признаками"
   ],
   "metadata": {
    "collapsed": false,
    "pycharm": {
     "name": "#%% md\n"
    }
   }
  },
  {
   "cell_type": "code",
   "execution_count": 23,
   "outputs": [],
   "source": [
    "corr_data = normalized_data.drop(columns=target_columns).corr()\n",
    "\n",
    "#plt.figure(figsize=(52, 50))\n",
    "#sns.heatmap(corr_data[(corr_data >= 0.5) | (corr_data <= -0.4)],\n",
    "#       cmap='viridis', vmax=1.0, vmin=-1.0, linewidths=0.1,\n",
    "#       annot=True, annot_kws={\"size\": 8}, square=True)\n",
    "#plt.savefig(f'{SOURCE_DATA}correletion_map.png')\n"
   ],
   "metadata": {
    "collapsed": false,
    "pycharm": {
     "name": "#%%\n"
    }
   }
  },
  {
   "cell_type": "code",
   "execution_count": 24,
   "outputs": [
    {
     "data": {
      "text/plain": "[['t обработка', 't продувка', 0.9905759013999706],\n ['t под током', 'эл. энергия', 0.9600527560978918],\n ['чист расход C', 'сыпуч  кокс. мелочь КМ1', 0.8691519554960815],\n ['чист расход Cr', 'ферспл  фх850А', 0.9973156216551802],\n ['чист расход Mn', 'ферспл SiMn18', 0.9987373592953883],\n ['чист расход Si', 'ферспл  Mn5Si65Al0.5', 0.9453294310880995],\n ['чист расход V', 'ферспл  FeV-80', 0.997182570941502],\n ['Ar (интенс.)', 'расход газ Ar', 0.8532494223017726],\n ['химсталь первый Cu_1', 'химсталь последний Cu', 0.990623998688086],\n ['химсталь первый Mo_1', 'химсталь последний Mo', 0.9571484699363622],\n ['химсталь первый Ni_1', 'химсталь последний Ni', 0.9942577617187606],\n ['химсталь первый P_1', 'химсталь последний P', 0.9578523669743539]]"
     },
     "execution_count": 24,
     "metadata": {},
     "output_type": "execute_result"
    }
   ],
   "source": [
    "useless_list = []\n",
    "for ind in corr_data.index:\n",
    "    for col in corr_data.columns:\n",
    "        if ind != col and abs(corr_data.loc[ind, col] >= 0.8 ):\n",
    "            if [col, ind, corr_data.loc[ind, col]] not in useless_list:\n",
    "                useless_list.append([ind, col, corr_data.loc[ind, col]])\n",
    "\n",
    "del corr_data\n",
    "useless_list"
   ],
   "metadata": {
    "collapsed": false,
    "pycharm": {
     "name": "#%%\n"
    }
   }
  },
  {
   "cell_type": "markdown",
   "source": [
    "*  В списке \"useless_list\" помимо дйствительно коррелирующих признаков есть признаки, которые мы отметили, как ложно-коррелирующие\n",
    "Список коррелирующих:\n",
    " * 'химсталь первый Cr_1', 'химсталь последний Cr'\n",
    " * 'химсталь первый Cu_1', 'химсталь последний Cu'\n",
    " * 'химсталь первый Mo_1', 'химсталь последний Mo'\n",
    " * 'химсталь первый Ni_1', 'химсталь последний Ni'\n",
    " * 'химсталь первый P_1', 'химсталь последний P'\n",
    " * 'химсталь первый Si_1', 'химсталь последний Si'\n",
    " * 't обработка', 't продувка'\n",
    " * 't под током', 'эл. энергия'\n",
    "\n",
    "Из карты корреляции видно, что свойства объектов 'произв количество плавок ' и 'произв количество плавок (цел)'\n",
    "не коррелирует даже сами с собой, рассмотрим их более внимательно\n"
   ],
   "metadata": {
    "collapsed": false,
    "pycharm": {
     "name": "#%% md\n"
    }
   }
  },
  {
   "cell_type": "code",
   "execution_count": 25,
   "outputs": [
    {
     "data": {
      "text/plain": "       произв  количество плавок  произв количество плавок (цел)\ncount                     3264.0                          3264.0\nmean                         1.0                             1.0\nstd                          0.0                             0.0\nmin                          1.0                             1.0\n25%                          1.0                             1.0\n50%                          1.0                             1.0\n75%                          1.0                             1.0\nmax                          1.0                             1.0",
      "text/html": "<div>\n<style scoped>\n    .dataframe tbody tr th:only-of-type {\n        vertical-align: middle;\n    }\n\n    .dataframe tbody tr th {\n        vertical-align: top;\n    }\n\n    .dataframe thead th {\n        text-align: right;\n    }\n</style>\n<table border=\"1\" class=\"dataframe\">\n  <thead>\n    <tr style=\"text-align: right;\">\n      <th></th>\n      <th>произв  количество плавок</th>\n      <th>произв количество плавок (цел)</th>\n    </tr>\n  </thead>\n  <tbody>\n    <tr>\n      <th>count</th>\n      <td>3264.0</td>\n      <td>3264.0</td>\n    </tr>\n    <tr>\n      <th>mean</th>\n      <td>1.0</td>\n      <td>1.0</td>\n    </tr>\n    <tr>\n      <th>std</th>\n      <td>0.0</td>\n      <td>0.0</td>\n    </tr>\n    <tr>\n      <th>min</th>\n      <td>1.0</td>\n      <td>1.0</td>\n    </tr>\n    <tr>\n      <th>25%</th>\n      <td>1.0</td>\n      <td>1.0</td>\n    </tr>\n    <tr>\n      <th>50%</th>\n      <td>1.0</td>\n      <td>1.0</td>\n    </tr>\n    <tr>\n      <th>75%</th>\n      <td>1.0</td>\n      <td>1.0</td>\n    </tr>\n    <tr>\n      <th>max</th>\n      <td>1.0</td>\n      <td>1.0</td>\n    </tr>\n  </tbody>\n</table>\n</div>"
     },
     "execution_count": 25,
     "metadata": {},
     "output_type": "execute_result"
    }
   ],
   "source": [
    "normalized_data[['произв  количество плавок','произв количество плавок (цел)']].describe()"
   ],
   "metadata": {
    "collapsed": false,
    "pycharm": {
     "name": "#%%\n"
    }
   }
  },
  {
   "cell_type": "markdown",
   "source": [
    "*  Из описания следует, что эти два признака имеют только по одному уникальному значению,\n",
    "тк среднее кв. отклонение равно нулю, избавимся от них."
   ],
   "metadata": {
    "collapsed": false,
    "pycharm": {
     "name": "#%% md\n"
    }
   }
  },
  {
   "cell_type": "code",
   "execution_count": 26,
   "outputs": [],
   "source": [
    "correlation_list = [\n",
    "                    'произв  количество плавок',\n",
    "                    'произв количество плавок (цел)',\n",
    "                    'произв количество обработок'\n",
    "                   # 'химсталь первый Cr_1',\n",
    "                   # 'химсталь первый Cu_1',\n",
    "                   # 'химсталь первый Mo_1',\n",
    "                   # 'химсталь первый Ni_1',\n",
    "                   # 'химсталь первый P_1',\n",
    "                   # 'химсталь первый Si_1'\n",
    "]\n",
    "\n",
    "normalized_data = normalized_data.drop(columns=correlation_list)"
   ],
   "metadata": {
    "collapsed": false,
    "pycharm": {
     "name": "#%%\n"
    }
   }
  },
  {
   "cell_type": "markdown",
   "source": [
    "* Посмотрим на корреляцию между таргетами и выведем график"
   ],
   "metadata": {
    "collapsed": false
   }
  },
  {
   "cell_type": "code",
   "execution_count": 27,
   "outputs": [],
   "source": [
    "corr_target = normalized_data[target_columns].corr()\n",
    "\n",
    "#plt.figure(figsize=(15, 15))\n",
    "#sns.heatmap(corr_target,\n",
    "#                 cmap='viridis', vmax=1.0, vmin=-1.0, linewidths=0.1,\n",
    "#                 annot=True, annot_kws={\"size\": 8}, square=True)\n",
    "#plt.savefig(f'{SOURCE_DATA}correletion_map_target.png')"
   ],
   "metadata": {
    "collapsed": false,
    "pycharm": {
     "name": "#%%\n"
    }
   }
  },
  {
   "cell_type": "markdown",
   "source": [
    " * Выделяется корреляция между таргетами 'химшлак последний R' и 'химшлак последний SiO2'"
   ],
   "metadata": {
    "collapsed": false
   }
  },
  {
   "cell_type": "markdown",
   "source": [
    "* Избавление от аномалий"
   ],
   "metadata": {
    "collapsed": false
   }
  },
  {
   "cell_type": "code",
   "execution_count": 28,
   "outputs": [],
   "source": [
    "normalized_data = sf.remove_noises(normalized_data)\n"
   ],
   "metadata": {
    "collapsed": false,
    "pycharm": {
     "name": "#%%\n"
    }
   }
  },
  {
   "cell_type": "markdown",
   "source": [
    " * Дисперсия после обработки данных"
   ],
   "metadata": {
    "collapsed": false,
    "pycharm": {
     "name": "#%% md\n"
    }
   }
  },
  {
   "cell_type": "code",
   "execution_count": 29,
   "outputs": [],
   "source": [
    "#dispersion_ax = normalized_data.var().sort_values().plot(kind='barh',\n",
    "#                                                        figsize=(13, 25),\n",
    "#                                                        grid=True)\n",
    "#dispersion_fig = dispersion_ax.get_figure()\n",
    "#dispersion_fig.savefig('source/dispersion_bar_postprocessing.png')"
   ],
   "metadata": {
    "collapsed": false,
    "pycharm": {
     "name": "#%%\n"
    }
   }
  },
  {
   "cell_type": "code",
   "execution_count": 30,
   "outputs": [],
   "source": [
    "#sns_plot = sns.pairplot(normalized_data,\n",
    "#                   x_vars=normalized_data.columns,\n",
    "#                   y_vars=target_columns)\n",
    "#sns_plot.savefig('source/multi_map_postprocessing.png')"
   ],
   "metadata": {
    "collapsed": false,
    "pycharm": {
     "name": "#%%\n"
    }
   }
  },
  {
   "cell_type": "markdown",
   "source": [
    "* Отбор признаков"
   ],
   "metadata": {
    "collapsed": false,
    "pycharm": {
     "name": "#%% md\n"
    }
   }
  },
  {
   "cell_type": "code",
   "execution_count": 31,
   "outputs": [
    {
     "name": "stdout",
     "output_type": "stream",
     "text": [
      "удалили признаков: 39\n"
     ]
    }
   ],
   "source": [
    "normalized_data, features = sf.filter_features(normalized_data.drop(columns=target_columns),\n",
    "                   normalized_data[target_columns])"
   ],
   "metadata": {
    "collapsed": false,
    "pycharm": {
     "name": "#%%\n"
    }
   }
  },
  {
   "cell_type": "code",
   "execution_count": 32,
   "outputs": [
    {
     "data": {
      "text/plain": "Index(['t вып-обр', 'ПСН гр.', 'чист расход C', 'чист расход Si',\n       'температура первая', 'эл. энергия (интенс.)', 'сыпуч известь РП',\n       'сыпуч  кокс. мелочь КМ1', 'сыпуч  шпат плав.', 'химсталь первый C_1',\n       'химсталь первый N_1', 'химсталь первый S_1', 'химсталь первый Si_1',\n       'химсталь последний C', 'химсталь последний Ca',\n       'химсталь последний Mn', 'химсталь последний N', 'химсталь последний S',\n       'химсталь последний V', 'химшлак первый Al2O3_1',\n       'химшлак первый CaO_1', 'химшлак первый FeO_1', 'химшлак первый MgO_1',\n       'химшлак первый MnO_1', 'химшлак первый R_1', 'химшлак первый SiO2_1',\n       'химшлак последний FeO', 'химшлак последний MgO',\n       'химшлак последний MnO', 'химшлак последний Al2O3',\n       'химшлак последний CaO', 'химшлак последний R',\n       'химшлак последний SiO2'],\n      dtype='object')"
     },
     "execution_count": 32,
     "metadata": {},
     "output_type": "execute_result"
    }
   ],
   "source": [
    "normalized_data.columns\n"
   ],
   "metadata": {
    "collapsed": false,
    "pycharm": {
     "name": "#%%\n"
    }
   }
  },
  {
   "cell_type": "markdown",
   "source": [
    "* Разбиение датасета на обучающую и тестовую выборки"
   ],
   "metadata": {
    "collapsed": false
   }
  },
  {
   "cell_type": "code",
   "execution_count": 33,
   "outputs": [],
   "source": [
    "test_data = normalized_data.sample(frac= 0.3)\n",
    "train_data = normalized_data.drop(test_data.index, axis='index')"
   ],
   "metadata": {
    "collapsed": false,
    "pycharm": {
     "name": "#%%\n"
    }
   }
  },
  {
   "cell_type": "code",
   "execution_count": 34,
   "outputs": [],
   "source": [
    "X_test_data = test_data.drop(columns= target_columns)\n",
    "labels_test_data = test_data[target_columns]\n",
    "X_train_data = train_data.drop(columns= target_columns)\n",
    "labels_train_data = train_data[target_columns]"
   ],
   "metadata": {
    "collapsed": false,
    "pycharm": {
     "name": "#%%\n"
    }
   }
  },
  {
   "cell_type": "code",
   "source": [
    "X_train_data.to_csv(POST_PROCESSING_TRAIN_DATA, sep = '\\t')\n",
    "X_test_data.to_csv(POST_PROCESSING_TEST_DATA, sep = '\\t')\n",
    "labels_train_data.to_csv(POST_PROCESSING_TRAIN_DATA_LABELS, sep = '\\t')\n",
    "labels_test_data.to_csv(POST_PROCESSING_TEST_DATA_LABELS, sep = '\\t')\n"
   ],
   "metadata": {
    "collapsed": false,
    "pycharm": {
     "name": "#%%\n"
    }
   },
   "execution_count": 35,
   "outputs": []
  }
 ],
 "metadata": {
  "kernelspec": {
   "display_name": "Python 3",
   "language": "python",
   "name": "python3"
  },
  "language_info": {
   "codemirror_mode": {
    "name": "ipython",
    "version": 2
   },
   "file_extension": ".py",
   "mimetype": "text/x-python",
   "name": "python",
   "nbconvert_exporter": "python",
   "pygments_lexer": "ipython2",
   "version": "2.7.6"
  }
 },
 "nbformat": 4,
 "nbformat_minor": 0
}