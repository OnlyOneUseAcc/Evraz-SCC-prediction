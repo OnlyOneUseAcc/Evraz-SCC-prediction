{
 "cells": [
  {
   "cell_type": "code",
   "execution_count": 61,
   "outputs": [],
   "source": [
    "import numpy as np\n",
    "import pandas as pd\n",
    "from sklearn.ensemble import GradientBoostingRegressor\n",
    "from sklearn.metrics import r2_score, mean_squared_error, mean_absolute_error,mean_absolute_percentage_error\n",
    "import catboost"
   ],
   "metadata": {
    "collapsed": false,
    "pycharm": {
     "name": "#%%\n"
    }
   }
  },
  {
   "cell_type": "code",
   "execution_count": 62,
   "outputs": [],
   "source": [
    "DATA_PATH = '../../data/'\n",
    "X_train = pd.read_csv(f'{DATA_PATH}X_train.csv',sep='\\t', index_col='index')\n",
    "X_test = pd.read_csv(f'{DATA_PATH}X_test.csv', sep='\\t', index_col='index')\n",
    "y_train = pd.read_csv(f'{DATA_PATH}y_train.csv',sep='\\t', index_col='index')\n",
    "y_test = pd.read_csv(f'{DATA_PATH}y_test.csv',sep='\\t', index_col='index')"
   ],
   "metadata": {
    "collapsed": false,
    "pycharm": {
     "name": "#%%\n"
    }
   }
  },
  {
   "cell_type": "code",
   "execution_count": 63,
   "outputs": [],
   "source": [
    "target_columns = y_train.columns"
   ],
   "metadata": {
    "collapsed": false,
    "pycharm": {
     "name": "#%%\n"
    }
   }
  },
  {
   "cell_type": "code",
   "execution_count": 64,
   "outputs": [],
   "source": [
    "models = {}\n",
    "for target in target_columns:\n",
    "    eval_data = catboost.Pool(X_test,y_test[target])\n",
    "    model = catboost.CatBoostRegressor(iterations=10000,\n",
    "                                learning_rate=0.01,\n",
    "                                task_type='CPU',\n",
    "                                loss_function='MAE',\n",
    "                                random_seed= 42)\n",
    "    model.fit(X_train,y_train[target],use_best_model=True, early_stopping_rounds=1000, eval_set=eval_data, silent=True)\n",
    "    models[target] = model"
   ],
   "metadata": {
    "collapsed": false,
    "pycharm": {
     "name": "#%%\n"
    }
   }
  },
  {
   "cell_type": "code",
   "execution_count": 65,
   "outputs": [],
   "source": [
    "r2_scores = np.zeros(4)\n",
    "mae_scores = np.zeros(4)\n",
    "mape_scores = np.zeros(4)\n",
    "mse_scores = np.zeros(4)\n",
    "for itarget, target in enumerate(target_columns):\n",
    "    r2_scores[itarget] = r2_score(y_test[target],models[target].predict(X_test))\n",
    "    mse_scores[itarget] = mean_squared_error(y_test[target],models[target].predict(X_test))\n",
    "    mape_scores[itarget] = mean_absolute_percentage_error(y_test[target],models[target].predict(X_test))\n",
    "    mae_scores[itarget] = mean_absolute_error(y_test[target],models[target].predict(X_test))"
   ],
   "metadata": {
    "collapsed": false,
    "pycharm": {
     "name": "#%%\n"
    }
   }
  },
  {
   "cell_type": "code",
   "execution_count": 66,
   "outputs": [],
   "source": [
    "scores = pd.DataFrame(index=target_columns,columns=['R2','MAE','MSE','MAPe'])"
   ],
   "metadata": {
    "collapsed": false,
    "pycharm": {
     "name": "#%%\n"
    }
   }
  },
  {
   "cell_type": "code",
   "execution_count": 67,
   "outputs": [],
   "source": [
    "scores['R2'] = r2_scores\n",
    "scores['MAE'] = mae_scores\n",
    "scores['MSE'] = mse_scores\n",
    "scores['MAPe'] = mape_scores"
   ],
   "metadata": {
    "collapsed": false,
    "pycharm": {
     "name": "#%%\n"
    }
   }
  },
  {
   "cell_type": "code",
   "execution_count": 68,
   "outputs": [
    {
     "data": {
      "text/plain": "                               R2       MAE        MSE      MAPe\nхимшлак последний Al2O3  0.417439  0.508752   0.568331  0.109536\nхимшлак последний CaO    0.209459  2.536374  10.814222  0.046224\nхимшлак последний R      0.398723  0.136182   0.030502  0.057322\nхимшлак последний SiO2   0.203819  1.524374   3.774773  0.065098",
      "text/html": "<div>\n<style scoped>\n    .dataframe tbody tr th:only-of-type {\n        vertical-align: middle;\n    }\n\n    .dataframe tbody tr th {\n        vertical-align: top;\n    }\n\n    .dataframe thead th {\n        text-align: right;\n    }\n</style>\n<table border=\"1\" class=\"dataframe\">\n  <thead>\n    <tr style=\"text-align: right;\">\n      <th></th>\n      <th>R2</th>\n      <th>MAE</th>\n      <th>MSE</th>\n      <th>MAPe</th>\n    </tr>\n  </thead>\n  <tbody>\n    <tr>\n      <th>химшлак последний Al2O3</th>\n      <td>0.417439</td>\n      <td>0.508752</td>\n      <td>0.568331</td>\n      <td>0.109536</td>\n    </tr>\n    <tr>\n      <th>химшлак последний CaO</th>\n      <td>0.209459</td>\n      <td>2.536374</td>\n      <td>10.814222</td>\n      <td>0.046224</td>\n    </tr>\n    <tr>\n      <th>химшлак последний R</th>\n      <td>0.398723</td>\n      <td>0.136182</td>\n      <td>0.030502</td>\n      <td>0.057322</td>\n    </tr>\n    <tr>\n      <th>химшлак последний SiO2</th>\n      <td>0.203819</td>\n      <td>1.524374</td>\n      <td>3.774773</td>\n      <td>0.065098</td>\n    </tr>\n  </tbody>\n</table>\n</div>"
     },
     "execution_count": 68,
     "metadata": {},
     "output_type": "execute_result"
    }
   ],
   "source": [
    "scores\n",
    "\n",
    "\n"
   ],
   "metadata": {
    "collapsed": false,
    "pycharm": {
     "name": "#%%\n"
    }
   }
  },
  {
   "cell_type": "code",
   "execution_count": null,
   "outputs": [],
   "source": [],
   "metadata": {
    "collapsed": false,
    "pycharm": {
     "name": "#%%\n"
    }
   }
  }
 ],
 "metadata": {
  "kernelspec": {
   "display_name": "Python 3",
   "language": "python",
   "name": "python3"
  },
  "language_info": {
   "codemirror_mode": {
    "name": "ipython",
    "version": 2
   },
   "file_extension": ".py",
   "mimetype": "text/x-python",
   "name": "python",
   "nbconvert_exporter": "python",
   "pygments_lexer": "ipython2",
   "version": "2.7.6"
  }
 },
 "nbformat": 4,
 "nbformat_minor": 0
}