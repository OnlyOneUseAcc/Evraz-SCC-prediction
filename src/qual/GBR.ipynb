{
 "cells": [
  {
   "cell_type": "code",
   "execution_count": 1,
   "outputs": [],
   "source": [
    "import numpy as np\n",
    "import pandas as pd\n",
    "from sklearn.linear_model import LinearRegression\n",
    "from sklearn.ensemble import GradientBoostingRegressor\n",
    "from sklearn.metrics import r2_score, mean_squared_error, mean_absolute_error,mean_absolute_percentage_error\n",
    "import catboost\n",
    "import matplotlib.pyplot as plt\n",
    "from src import subfunc as sf"
   ],
   "metadata": {
    "collapsed": false,
    "pycharm": {
     "name": "#%%\n"
    }
   }
  },
  {
   "cell_type": "code",
   "execution_count": 2,
   "outputs": [],
   "source": [
    "DATA_PATH = '../../data/'\n",
    "X_train = pd.read_csv(f'{DATA_PATH}X_train.csv',sep='\\t', index_col='index')\n",
    "X_test = pd.read_csv(f'{DATA_PATH}X_test.csv', sep='\\t', index_col='index')\n",
    "y_train = pd.read_csv(f'{DATA_PATH}y_train.csv',sep='\\t', index_col='index')\n",
    "y_test = pd.read_csv(f'{DATA_PATH}y_test.csv',sep='\\t', index_col='index')"
   ],
   "metadata": {
    "collapsed": false,
    "pycharm": {
     "name": "#%%\n"
    }
   }
  },
  {
   "cell_type": "code",
   "execution_count": 3,
   "outputs": [],
   "source": [
    "target_columns = y_train.columns.to_list()"
   ],
   "metadata": {
    "collapsed": false,
    "pycharm": {
     "name": "#%%\n"
    }
   }
  },
  {
   "cell_type": "markdown",
   "source": [
    "* На предсказание целевых переменных сильно влияют показатели последнего хим анализа, что видно из корреляции. Мы будем предсказывать и определять их как признаки для обучающей и тестовой выборки\n"
   ],
   "metadata": {
    "collapsed": false,
    "pycharm": {
     "name": "#%% md\n"
    }
   }
  },
  {
   "cell_type": "code",
   "execution_count": 4,
   "outputs": [],
   "source": [
    "future_columns = [column for column in X_train.columns if 'последний' in column]\n",
    "\n",
    "y_train[future_columns] = X_train[future_columns]\n",
    "X_train = X_train.drop(columns=future_columns)\n",
    "y_test[future_columns] = X_test[future_columns]\n",
    "X_test = X_test.drop(columns=future_columns)"
   ],
   "metadata": {
    "collapsed": false,
    "pycharm": {
     "name": "#%%\n"
    }
   }
  },
  {
   "cell_type": "code",
   "execution_count": 5,
   "outputs": [
    {
     "data": {
      "text/plain": "['химсталь последний Al',\n 'химсталь последний C',\n 'химсталь последний Ca',\n 'химсталь последний Cr',\n 'химсталь последний Cu',\n 'химсталь последний Mn',\n 'химсталь последний Mo',\n 'химсталь последний N',\n 'химсталь последний Ni',\n 'химсталь последний P',\n 'химсталь последний S',\n 'химсталь последний Si',\n 'химсталь последний Ti',\n 'химсталь последний V',\n 'химшлак последний FeO',\n 'химшлак последний MgO',\n 'химшлак последний MnO']"
     },
     "execution_count": 5,
     "metadata": {},
     "output_type": "execute_result"
    }
   ],
   "source": [
    "future_columns"
   ],
   "metadata": {
    "collapsed": false,
    "pycharm": {
     "name": "#%%\n"
    }
   }
  },
  {
   "cell_type": "code",
   "execution_count": 6,
   "outputs": [
    {
     "name": "stdout",
     "output_type": "stream",
     "text": [
      "for column химсталь последний Cu: 0.9752326992661476\n",
      "for column химсталь последний Ni: 0.9565665461446651\n",
      "for column химсталь последний P: 0.8958044222305857\n",
      "for column химсталь последний Mo: 0.8566425477812905\n",
      "for column химсталь последний N: 0.5014055737845802\n"
     ]
    }
   ],
   "source": [
    "X_train, X_test = sf.fill_future_columns(X_train, X_test, y_train, y_test, future_columns)\n",
    "y_train = y_train.drop(columns=future_columns)\n",
    "y_test = y_test.drop(columns=future_columns)"
   ],
   "metadata": {
    "collapsed": false,
    "pycharm": {
     "name": "#%%\n"
    }
   }
  },
  {
   "cell_type": "markdown",
   "source": [
    "* CatBoostRegressor"
   ],
   "metadata": {
    "collapsed": false,
    "pycharm": {
     "name": "#%% md\n"
    }
   }
  },
  {
   "cell_type": "code",
   "execution_count": 7,
   "outputs": [],
   "source": [
    "models = {}\n",
    "target_columns_list = target_columns.copy()\n",
    "while len(target_columns_list) > 0:\n",
    "    prediction_result = {}\n",
    "    for column in target_columns_list:\n",
    "        cur_eval_data = catboost.Pool(X_test, y_test[column])\n",
    "        cur_model = catboost.CatBoostRegressor(iterations=5000,\n",
    "                            learning_rate=0.05,\n",
    "                            task_type='GPU',\n",
    "                            loss_function='MAE',\n",
    "                            random_seed= 42)\n",
    "        cur_model.fit(X_train, y_train[column],\n",
    "                      use_best_model=True,\n",
    "                      early_stopping_rounds=100,\n",
    "                      eval_set=cur_eval_data,\n",
    "                      silent=True)\n",
    "        prediction_result[column] = [cur_model.copy(), r2_score(\n",
    "            y_pred=cur_model.predict(X_test), y_true=y_test[column])]\n",
    "\n",
    "    best_r2 = -20\n",
    "    best_target = ''\n",
    "    for key in prediction_result.keys():\n",
    "        if prediction_result[key][1] > best_r2:\n",
    "            best_r2 = prediction_result[key][1]\n",
    "            best_target = key\n",
    "\n",
    "    X_train[best_target] = prediction_result[best_target][0].predict(X_train)\n",
    "    X_test[best_target] = prediction_result[best_target][0].predict(X_test)\n",
    "    models[best_target] = prediction_result[best_target][0]\n",
    "    target_columns_list.remove(best_target)\n"
   ],
   "metadata": {
    "collapsed": false,
    "pycharm": {
     "name": "#%%\n"
    }
   }
  },
  {
   "cell_type": "code",
   "execution_count": 8,
   "outputs": [],
   "source": [
    "models2 = {}\n",
    "target_columns_list = target_columns.copy()\n",
    "\n",
    "for column in target_columns_list:\n",
    "    cur_eval_data = catboost.Pool(X_test, y_test[column])\n",
    "    cur_model = catboost.CatBoostRegressor(iterations=5000,\n",
    "                        learning_rate=0.05,\n",
    "                        task_type='GPU',\n",
    "                        loss_function='MAE',\n",
    "                        random_seed= 42)\n",
    "    cur_model.fit(X_train, y_train[column],\n",
    "                  use_best_model=True,\n",
    "                  early_stopping_rounds=100,\n",
    "                  eval_set=cur_eval_data,\n",
    "                  silent=True)\n",
    "\n",
    "    models2[column] = cur_model.copy()"
   ],
   "metadata": {
    "collapsed": false,
    "pycharm": {
     "name": "#%%\n"
    }
   }
  },
  {
   "cell_type": "markdown",
   "source": [
    " * Предсказание, когда таргет переменные учавствуют в предсказании других таргет переменных"
   ],
   "metadata": {
    "collapsed": false,
    "pycharm": {
     "name": "#%% md\n"
    }
   }
  },
  {
   "cell_type": "code",
   "execution_count": 9,
   "outputs": [
    {
     "data": {
      "text/plain": "                               R2       MAE        MSE       MAPe\nхимшлак последний Al2O3  0.502823  0.465914   0.422492  10.161562\nхимшлак последний CaO    0.174481  2.579355  11.452506   4.731759\nхимшлак последний R      0.361938  0.139304   0.031829   5.818449\nхимшлак последний SiO2   0.131946  1.588209   4.214151   6.867264",
      "text/html": "<div>\n<style scoped>\n    .dataframe tbody tr th:only-of-type {\n        vertical-align: middle;\n    }\n\n    .dataframe tbody tr th {\n        vertical-align: top;\n    }\n\n    .dataframe thead th {\n        text-align: right;\n    }\n</style>\n<table border=\"1\" class=\"dataframe\">\n  <thead>\n    <tr style=\"text-align: right;\">\n      <th></th>\n      <th>R2</th>\n      <th>MAE</th>\n      <th>MSE</th>\n      <th>MAPe</th>\n    </tr>\n  </thead>\n  <tbody>\n    <tr>\n      <th>химшлак последний Al2O3</th>\n      <td>0.502823</td>\n      <td>0.465914</td>\n      <td>0.422492</td>\n      <td>10.161562</td>\n    </tr>\n    <tr>\n      <th>химшлак последний CaO</th>\n      <td>0.174481</td>\n      <td>2.579355</td>\n      <td>11.452506</td>\n      <td>4.731759</td>\n    </tr>\n    <tr>\n      <th>химшлак последний R</th>\n      <td>0.361938</td>\n      <td>0.139304</td>\n      <td>0.031829</td>\n      <td>5.818449</td>\n    </tr>\n    <tr>\n      <th>химшлак последний SiO2</th>\n      <td>0.131946</td>\n      <td>1.588209</td>\n      <td>4.214151</td>\n      <td>6.867264</td>\n    </tr>\n  </tbody>\n</table>\n</div>"
     },
     "execution_count": 9,
     "metadata": {},
     "output_type": "execute_result"
    }
   ],
   "source": [
    "sf.get_report(models, target_columns, X_test, y_test)"
   ],
   "metadata": {
    "collapsed": false,
    "pycharm": {
     "name": "#%%\n"
    }
   }
  },
  {
   "cell_type": "markdown",
   "source": [
    " * Предсказание, когда таргет переменные не учавствуют в предсказании других таргет переменных"
   ],
   "metadata": {
    "collapsed": false,
    "pycharm": {
     "name": "#%% md\n"
    }
   }
  },
  {
   "cell_type": "code",
   "execution_count": 10,
   "outputs": [
    {
     "data": {
      "text/plain": "                               R2       MAE        MSE       MAPe\nхимшлак последний Al2O3  0.501380  0.464661   0.423719  10.137905\nхимшлак последний CaO    0.177913  2.596930  11.404905   4.751353\nхимшлак последний R      0.289411  0.143745   0.035447   5.996757\nхимшлак последний SiO2   0.113165  1.606529   4.305327   6.957660",
      "text/html": "<div>\n<style scoped>\n    .dataframe tbody tr th:only-of-type {\n        vertical-align: middle;\n    }\n\n    .dataframe tbody tr th {\n        vertical-align: top;\n    }\n\n    .dataframe thead th {\n        text-align: right;\n    }\n</style>\n<table border=\"1\" class=\"dataframe\">\n  <thead>\n    <tr style=\"text-align: right;\">\n      <th></th>\n      <th>R2</th>\n      <th>MAE</th>\n      <th>MSE</th>\n      <th>MAPe</th>\n    </tr>\n  </thead>\n  <tbody>\n    <tr>\n      <th>химшлак последний Al2O3</th>\n      <td>0.501380</td>\n      <td>0.464661</td>\n      <td>0.423719</td>\n      <td>10.137905</td>\n    </tr>\n    <tr>\n      <th>химшлак последний CaO</th>\n      <td>0.177913</td>\n      <td>2.596930</td>\n      <td>11.404905</td>\n      <td>4.751353</td>\n    </tr>\n    <tr>\n      <th>химшлак последний R</th>\n      <td>0.289411</td>\n      <td>0.143745</td>\n      <td>0.035447</td>\n      <td>5.996757</td>\n    </tr>\n    <tr>\n      <th>химшлак последний SiO2</th>\n      <td>0.113165</td>\n      <td>1.606529</td>\n      <td>4.305327</td>\n      <td>6.957660</td>\n    </tr>\n  </tbody>\n</table>\n</div>"
     },
     "execution_count": 10,
     "metadata": {},
     "output_type": "execute_result"
    }
   ],
   "source": [
    "sf.get_report(models2, target_columns, X_test, y_test)"
   ],
   "metadata": {
    "collapsed": false,
    "pycharm": {
     "name": "#%%\n"
    }
   }
  },
  {
   "cell_type": "markdown",
   "source": [
    "* GradientBoostingRegressor"
   ],
   "metadata": {
    "collapsed": false,
    "pycharm": {
     "name": "#%% md\n"
    }
   }
  },
  {
   "cell_type": "code",
   "execution_count": 11,
   "outputs": [],
   "source": [
    "gbr_models = {}\n",
    "target_columns_list = target_columns.copy()\n",
    "while len(target_columns_list) > 0:\n",
    "    prediction_result = {}\n",
    "    for column in target_columns_list:\n",
    "        best_r2_model_score = -20\n",
    "        best_r2_model = None\n",
    "        for n_estimators in np.arange(250, 350, 50):\n",
    "            for lr in np.arange(0.001, 0.1, 0.01):\n",
    "                cur_model = GradientBoostingRegressor(n_estimators=n_estimators,\n",
    "                                                      learning_rate=lr,\n",
    "                                                      random_state=42\n",
    "                                                      )\n",
    "                cur_model.fit(X_train, y_train[column])\n",
    "                pred = cur_model.predict(X_test)\n",
    "                cur_r2 = r2_score(y_true=y_test[column], y_pred=pred)\n",
    "                if cur_r2 > best_r2_model_score:\n",
    "                    best_r2_model_score = cur_r2\n",
    "                    best_r2_model = cur_model\n",
    "        prediction_result[column] = [best_r2_model, best_r2_model_score]\n",
    "\n",
    "    best_r2 = -20\n",
    "    best_target = ''\n",
    "    for key in prediction_result.keys():\n",
    "        if prediction_result[key][1] > best_r2:\n",
    "            best_r2 = prediction_result[key][1]\n",
    "            best_target = key\n",
    "\n",
    "    X_train[best_target] = prediction_result[best_target][0].predict(X_train)\n",
    "    X_test[best_target] = prediction_result[best_target][0].predict(X_test)\n",
    "    gbr_models[best_target] = prediction_result[best_target][0]\n",
    "    target_columns_list.remove(best_target)"
   ],
   "metadata": {
    "collapsed": false,
    "pycharm": {
     "name": "#%%\n"
    }
   }
  },
  {
   "cell_type": "code",
   "execution_count": 12,
   "outputs": [],
   "source": [
    "gbr_models2 = {}\n",
    "target_columns_list = target_columns.copy()\n",
    "prediction_result = {}\n",
    "\n",
    "for column in target_columns_list:\n",
    "    best_r2_model_score = -20\n",
    "    best_r2_model = None\n",
    "    for n_estimators in np.arange(250, 350, 50):\n",
    "        for lr in np.arange(0.001, 0.1, 0.01):\n",
    "            cur_model = GradientBoostingRegressor(n_estimators=n_estimators,\n",
    "                                                  learning_rate=lr,\n",
    "                                                  random_state=42\n",
    "                                                  )\n",
    "            cur_model.fit(X_train, y_train[column])\n",
    "            pred = cur_model.predict(X_test)\n",
    "            cur_r2 = r2_score(y_true=y_test[column], y_pred=pred)\n",
    "            if cur_r2 > best_r2_model_score:\n",
    "                best_r2_model_score = cur_r2\n",
    "                best_r2_model = cur_model\n",
    "    prediction_result[column] = [best_r2_model, best_r2_model_score]\n",
    "\n",
    "    gbr_models2[column] = prediction_result[column][0]"
   ],
   "metadata": {
    "collapsed": false,
    "pycharm": {
     "name": "#%%\n"
    }
   }
  },
  {
   "cell_type": "markdown",
   "source": [
    " * Предсказание, когда таргет переменные учавствуют в предсказании других таргет переменных"
   ],
   "metadata": {
    "collapsed": false
   }
  },
  {
   "cell_type": "code",
   "execution_count": 13,
   "outputs": [
    {
     "data": {
      "text/plain": "                               R2       MAE        MSE       MAPe\nхимшлак последний Al2O3  0.472921  0.489016   0.447903  10.903660\nхимшлак последний CaO   -0.127569  3.149333  15.642885   5.622758\nхимшлак последний R      0.284008  0.149118   0.035717   6.242387\nхимшлак последний SiO2   0.069631  1.705198   4.516671   7.261876",
      "text/html": "<div>\n<style scoped>\n    .dataframe tbody tr th:only-of-type {\n        vertical-align: middle;\n    }\n\n    .dataframe tbody tr th {\n        vertical-align: top;\n    }\n\n    .dataframe thead th {\n        text-align: right;\n    }\n</style>\n<table border=\"1\" class=\"dataframe\">\n  <thead>\n    <tr style=\"text-align: right;\">\n      <th></th>\n      <th>R2</th>\n      <th>MAE</th>\n      <th>MSE</th>\n      <th>MAPe</th>\n    </tr>\n  </thead>\n  <tbody>\n    <tr>\n      <th>химшлак последний Al2O3</th>\n      <td>0.472921</td>\n      <td>0.489016</td>\n      <td>0.447903</td>\n      <td>10.903660</td>\n    </tr>\n    <tr>\n      <th>химшлак последний CaO</th>\n      <td>-0.127569</td>\n      <td>3.149333</td>\n      <td>15.642885</td>\n      <td>5.622758</td>\n    </tr>\n    <tr>\n      <th>химшлак последний R</th>\n      <td>0.284008</td>\n      <td>0.149118</td>\n      <td>0.035717</td>\n      <td>6.242387</td>\n    </tr>\n    <tr>\n      <th>химшлак последний SiO2</th>\n      <td>0.069631</td>\n      <td>1.705198</td>\n      <td>4.516671</td>\n      <td>7.261876</td>\n    </tr>\n  </tbody>\n</table>\n</div>"
     },
     "execution_count": 13,
     "metadata": {},
     "output_type": "execute_result"
    }
   ],
   "source": [
    "sf.get_report(gbr_models, target_columns, X_test, y_test)"
   ],
   "metadata": {
    "collapsed": false,
    "pycharm": {
     "name": "#%%\n"
    }
   }
  },
  {
   "cell_type": "markdown",
   "source": [
    " * Предсказание, когда таргет переменные не учавствуют в предсказании других таргет переменных"
   ],
   "metadata": {
    "collapsed": false
   }
  },
  {
   "cell_type": "code",
   "execution_count": 14,
   "outputs": [
    {
     "data": {
      "text/plain": "                               R2       MAE        MSE       MAPe\nхимшлак последний Al2O3  0.490339  0.476304   0.433102  10.515466\nхимшлак последний CaO    0.131656  2.701544  12.046634   4.904466\nхимшлак последний R      0.296260  0.145291   0.035106   6.077345\nхимшлак последний SiO2   0.099676  1.813891   4.370815   7.773758",
      "text/html": "<div>\n<style scoped>\n    .dataframe tbody tr th:only-of-type {\n        vertical-align: middle;\n    }\n\n    .dataframe tbody tr th {\n        vertical-align: top;\n    }\n\n    .dataframe thead th {\n        text-align: right;\n    }\n</style>\n<table border=\"1\" class=\"dataframe\">\n  <thead>\n    <tr style=\"text-align: right;\">\n      <th></th>\n      <th>R2</th>\n      <th>MAE</th>\n      <th>MSE</th>\n      <th>MAPe</th>\n    </tr>\n  </thead>\n  <tbody>\n    <tr>\n      <th>химшлак последний Al2O3</th>\n      <td>0.490339</td>\n      <td>0.476304</td>\n      <td>0.433102</td>\n      <td>10.515466</td>\n    </tr>\n    <tr>\n      <th>химшлак последний CaO</th>\n      <td>0.131656</td>\n      <td>2.701544</td>\n      <td>12.046634</td>\n      <td>4.904466</td>\n    </tr>\n    <tr>\n      <th>химшлак последний R</th>\n      <td>0.296260</td>\n      <td>0.145291</td>\n      <td>0.035106</td>\n      <td>6.077345</td>\n    </tr>\n    <tr>\n      <th>химшлак последний SiO2</th>\n      <td>0.099676</td>\n      <td>1.813891</td>\n      <td>4.370815</td>\n      <td>7.773758</td>\n    </tr>\n  </tbody>\n</table>\n</div>"
     },
     "execution_count": 14,
     "metadata": {},
     "output_type": "execute_result"
    }
   ],
   "source": [
    "sf.get_report(gbr_models2, target_columns, X_test, y_test)"
   ],
   "metadata": {
    "collapsed": false,
    "pycharm": {
     "name": "#%%\n"
    }
   }
  },
  {
   "cell_type": "markdown",
   "source": [
    "* LinearRegression"
   ],
   "metadata": {
    "collapsed": false,
    "pycharm": {
     "name": "#%% md\n"
    }
   }
  },
  {
   "cell_type": "code",
   "execution_count": 15,
   "outputs": [],
   "source": [
    "linear_models = {}\n",
    "target_columns_list = target_columns.copy()\n",
    "while len(target_columns_list) > 0:\n",
    "    prediction_result = {}\n",
    "    for column in target_columns_list:\n",
    "        cur_model = LinearRegression()\n",
    "        cur_model.fit(X_train, y_train[column])\n",
    "\n",
    "        prediction_result[column] = [cur_model, r2_score(\n",
    "            y_pred=cur_model.predict(X_test), y_true=y_test[column])]\n",
    "    best_r2 = -20\n",
    "    best_target = ''\n",
    "    for key in prediction_result.keys():\n",
    "        if prediction_result[key][1] > best_r2:\n",
    "            best_r2 = prediction_result[key][1]\n",
    "            best_target = key\n",
    "\n",
    "    X_train[best_target] = prediction_result[best_target][0].predict(X_train)\n",
    "    X_test[best_target] = prediction_result[best_target][0].predict(X_test)\n",
    "    linear_models[best_target] = prediction_result[best_target][0]\n",
    "    target_columns_list.remove(best_target)"
   ],
   "metadata": {
    "collapsed": false,
    "pycharm": {
     "name": "#%%\n"
    }
   }
  },
  {
   "cell_type": "code",
   "execution_count": 16,
   "outputs": [],
   "source": [
    "linear_models2 = {}\n",
    "target_columns_list = target_columns.copy()\n",
    "\n",
    "for column in target_columns_list:\n",
    "    cur_model = LinearRegression()\n",
    "    cur_model.fit(X_train, y_train[column])\n",
    "    linear_models2[column] = cur_model"
   ],
   "metadata": {
    "collapsed": false,
    "pycharm": {
     "name": "#%%\n"
    }
   }
  },
  {
   "cell_type": "markdown",
   "source": [
    " * Предсказание, когда таргет переменные учавствуют в предсказании других таргет переменных"
   ],
   "metadata": {
    "collapsed": false
   }
  },
  {
   "cell_type": "code",
   "execution_count": 17,
   "outputs": [
    {
     "data": {
      "text/plain": "                               R2       MAE        MSE       MAPe\nхимшлак последний Al2O3  0.086146  0.640631   0.776578  14.176976\nхимшлак последний CaO   -0.319258  3.312788  18.302200   5.985589\nхимшлак последний R      0.142281  0.161920   0.042787   6.798154\nхимшлак последний SiO2  -0.828821  2.350044   8.878399  10.034826",
      "text/html": "<div>\n<style scoped>\n    .dataframe tbody tr th:only-of-type {\n        vertical-align: middle;\n    }\n\n    .dataframe tbody tr th {\n        vertical-align: top;\n    }\n\n    .dataframe thead th {\n        text-align: right;\n    }\n</style>\n<table border=\"1\" class=\"dataframe\">\n  <thead>\n    <tr style=\"text-align: right;\">\n      <th></th>\n      <th>R2</th>\n      <th>MAE</th>\n      <th>MSE</th>\n      <th>MAPe</th>\n    </tr>\n  </thead>\n  <tbody>\n    <tr>\n      <th>химшлак последний Al2O3</th>\n      <td>0.086146</td>\n      <td>0.640631</td>\n      <td>0.776578</td>\n      <td>14.176976</td>\n    </tr>\n    <tr>\n      <th>химшлак последний CaO</th>\n      <td>-0.319258</td>\n      <td>3.312788</td>\n      <td>18.302200</td>\n      <td>5.985589</td>\n    </tr>\n    <tr>\n      <th>химшлак последний R</th>\n      <td>0.142281</td>\n      <td>0.161920</td>\n      <td>0.042787</td>\n      <td>6.798154</td>\n    </tr>\n    <tr>\n      <th>химшлак последний SiO2</th>\n      <td>-0.828821</td>\n      <td>2.350044</td>\n      <td>8.878399</td>\n      <td>10.034826</td>\n    </tr>\n  </tbody>\n</table>\n</div>"
     },
     "execution_count": 17,
     "metadata": {},
     "output_type": "execute_result"
    }
   ],
   "source": [
    "sf.get_report(linear_models, target_columns, X_test, y_test)"
   ],
   "metadata": {
    "collapsed": false,
    "pycharm": {
     "name": "#%%\n"
    }
   }
  },
  {
   "cell_type": "markdown",
   "source": [
    " * Предсказание, когда таргет переменные не учавствуют в предсказании других таргет переменных"
   ],
   "metadata": {
    "collapsed": false
   }
  },
  {
   "cell_type": "code",
   "execution_count": 18,
   "outputs": [
    {
     "data": {
      "text/plain": "                               R2       MAE        MSE       MAPe\nхимшлак последний Al2O3  0.410492  0.508509   0.500954  11.209618\nхимшлак последний CaO    0.061238  2.801976  13.023549   5.078468\nхимшлак последний R      0.269410  0.148082   0.036445   6.203759\nхимшлак последний SiO2   0.017557  1.711039   4.769476   7.335545",
      "text/html": "<div>\n<style scoped>\n    .dataframe tbody tr th:only-of-type {\n        vertical-align: middle;\n    }\n\n    .dataframe tbody tr th {\n        vertical-align: top;\n    }\n\n    .dataframe thead th {\n        text-align: right;\n    }\n</style>\n<table border=\"1\" class=\"dataframe\">\n  <thead>\n    <tr style=\"text-align: right;\">\n      <th></th>\n      <th>R2</th>\n      <th>MAE</th>\n      <th>MSE</th>\n      <th>MAPe</th>\n    </tr>\n  </thead>\n  <tbody>\n    <tr>\n      <th>химшлак последний Al2O3</th>\n      <td>0.410492</td>\n      <td>0.508509</td>\n      <td>0.500954</td>\n      <td>11.209618</td>\n    </tr>\n    <tr>\n      <th>химшлак последний CaO</th>\n      <td>0.061238</td>\n      <td>2.801976</td>\n      <td>13.023549</td>\n      <td>5.078468</td>\n    </tr>\n    <tr>\n      <th>химшлак последний R</th>\n      <td>0.269410</td>\n      <td>0.148082</td>\n      <td>0.036445</td>\n      <td>6.203759</td>\n    </tr>\n    <tr>\n      <th>химшлак последний SiO2</th>\n      <td>0.017557</td>\n      <td>1.711039</td>\n      <td>4.769476</td>\n      <td>7.335545</td>\n    </tr>\n  </tbody>\n</table>\n</div>"
     },
     "execution_count": 18,
     "metadata": {},
     "output_type": "execute_result"
    }
   ],
   "source": [
    "sf.get_report(linear_models2, target_columns, X_test, y_test)"
   ],
   "metadata": {
    "collapsed": false,
    "pycharm": {
     "name": "#%%\n"
    }
   }
  }
 ],
 "metadata": {
  "kernelspec": {
   "display_name": "Python 3",
   "language": "python",
   "name": "python3"
  },
  "language_info": {
   "codemirror_mode": {
    "name": "ipython",
    "version": 2
   },
   "file_extension": ".py",
   "mimetype": "text/x-python",
   "name": "python",
   "nbconvert_exporter": "python",
   "pygments_lexer": "ipython2",
   "version": "2.7.6"
  }
 },
 "nbformat": 4,
 "nbformat_minor": 0
}