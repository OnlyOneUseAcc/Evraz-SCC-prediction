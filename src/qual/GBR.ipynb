{
 "cells": [
  {
   "cell_type": "code",
   "execution_count": 4,
   "outputs": [],
   "source": [
    "import numpy as np\n",
    "import pandas as pd\n",
    "from sklearn.ensemble import GradientBoostingRegressor\n",
    "from sklearn.metrics import r2_score"
   ],
   "metadata": {
    "collapsed": false,
    "pycharm": {
     "name": "#%%\n"
    }
   }
  },
  {
   "cell_type": "code",
   "execution_count": 5,
   "outputs": [],
   "source": [
    "# Models fit flag\n",
    "is_fitted = False"
   ],
   "metadata": {
    "collapsed": false,
    "pycharm": {
     "name": "#%%\n"
    }
   }
  },
  {
   "cell_type": "code",
   "execution_count": 6,
   "outputs": [],
   "source": [
    "DATA_PATH = 'data/'\n",
    "FINAL_STAGE = 'final_stage/'\n",
    "X_train = pd.read_csv(f'{DATA_PATH}{FINAL_STAGE}x_train.csv',sep='\\t', index_col='index')\n",
    "X_test = pd.read_csv(f'{DATA_PATH}{FINAL_STAGE}x_test.csv', sep='\\t', index_col='index')\n",
    "y_train = pd.read_csv(f'{DATA_PATH}{FINAL_STAGE}y_train.csv',sep='\\t', index_col='index')\n",
    "y_test = pd.read_csv(f'{DATA_PATH}{FINAL_STAGE}y_test.csv',sep='\\t', index_col='index')"
   ],
   "metadata": {
    "collapsed": false,
    "pycharm": {
     "name": "#%%\n"
    }
   }
  },
  {
   "cell_type": "code",
   "execution_count": 11,
   "outputs": [
    {
     "name": "stdout",
     "output_type": "stream",
     "text": [
      "0.11192767412390403\n",
      "0.30664029540218785\n",
      "0.35681165104427726\n",
      "0.37587455469856257\n",
      "0.3871281699337109\n",
      "0.389393195072249\n",
      "0.3916752048092077\n",
      "0.39221602389589194\n",
      "0.39376099618425053\n",
      "0.3963944970581804\n",
      "0.39769808605590296\n",
      "0.39996723083220986\n",
      "0.40117397224148676\n",
      "0.4038678889200016\n",
      "0.40655733096570845\n"
     ]
    }
   ],
   "source": [
    "model = catboost.CatBoostRegressor(iterations=10000,\n",
    "                            learning_rate=0.002,\n",
    "                            task_type='GPU',\n",
    "                            loss_function='RMSE',\n",
    "                            random_seed= 42)"
   ],
   "metadata": {
    "collapsed": false,
    "pycharm": {
     "name": "#%%\n"
    }
   }
  },
  {
   "cell_type": "code",
   "execution_count": 6,
   "outputs": [],
   "source": [],
   "metadata": {
    "collapsed": false,
    "pycharm": {
     "name": "#%%\n"
    }
   }
  }
 ],
 "metadata": {
  "kernelspec": {
   "display_name": "Python 3",
   "language": "python",
   "name": "python3"
  },
  "language_info": {
   "codemirror_mode": {
    "name": "ipython",
    "version": 2
   },
   "file_extension": ".py",
   "mimetype": "text/x-python",
   "name": "python",
   "nbconvert_exporter": "python",
   "pygments_lexer": "ipython2",
   "version": "2.7.6"
  }
 },
 "nbformat": 4,
 "nbformat_minor": 0
}