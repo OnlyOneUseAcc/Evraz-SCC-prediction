{
 "cells": [
  {
   "cell_type": "code",
   "execution_count": 1,
   "outputs": [],
   "source": [
    "import pickle\n",
    "import pandas as pd\n",
    "import numpy as np\n",
    "from src import subfunc as sf\n",
    "import warnings\n",
    "import seaborn as sns\n",
    "import matplotlib.pyplot as plt"
   ],
   "metadata": {
    "collapsed": false,
    "pycharm": {
     "name": "#%%\n"
    }
   }
  },
  {
   "cell_type": "code",
   "execution_count": 2,
   "outputs": [],
   "source": [
    "DATA_DIR = '../../data/'\n",
    "DATA = 'evras.csv'\n",
    "SOURCE_DIR = '../../source/'\n",
    "FINAL_STAGE_DIR = 'final_stage/'\n",
    "target_columns = ['сыпуч известь РП']"
   ],
   "metadata": {
    "collapsed": false,
    "pycharm": {
     "name": "#%%\n"
    }
   }
  },
  {
   "cell_type": "code",
   "execution_count": 3,
   "outputs": [],
   "source": [
    "data = pd.read_csv(f'{DATA_DIR}{DATA}', index_col='index', sep=';', decimal=',')"
   ],
   "metadata": {
    "collapsed": false,
    "pycharm": {
     "name": "#%%\n"
    }
   }
  },
  {
   "cell_type": "markdown",
   "source": [
    " * Нахождение самой популярной марки"
   ],
   "metadata": {
    "collapsed": false
   }
  },
  {
   "cell_type": "code",
   "execution_count": 4,
   "outputs": [
    {
     "name": "stdout",
     "output_type": "stream",
     "text": [
      "Самая популярная марка -  Э76ХФ\n"
     ]
    }
   ],
   "source": [
    "top_mark = data.describe(include='all').loc[\"top\", \"МАРКА\"]\n",
    "print(\"Самая популярная марка - \", top_mark)"
   ],
   "metadata": {
    "collapsed": false,
    "pycharm": {
     "name": "#%%\n"
    }
   }
  },
  {
   "cell_type": "markdown",
   "source": [
    "* Переводим дату во время изготовления сплава"
   ],
   "metadata": {
    "collapsed": false
   }
  },
  {
   "cell_type": "code",
   "execution_count": 5,
   "outputs": [],
   "source": [
    "data['DT'] = sf.date_to_interval(data['DT'])"
   ],
   "metadata": {
    "collapsed": false,
    "pycharm": {
     "name": "#%%\n"
    }
   }
  },
  {
   "cell_type": "code",
   "execution_count": 6,
   "outputs": [
    {
     "name": "stdout",
     "output_type": "stream",
     "text": [
      "Удаленные колонки: N2 (интенс.), расход газ  N2, расход C пров., сыпуч кварцит, сыпуч  кокс. мелочь (сух.), ферспл FeMo, ферспл FeSi-75, ферспл FeV азот., ферспл  Ni H1 пласт., ферспл  ферванит\n"
     ]
    }
   ],
   "source": [
    "dropped_data = sf.drop_columns(data,0.65)\n",
    "marked_data = dropped_data[dropped_data['МАРКА'] == top_mark]\n",
    "marked_data = marked_data.drop(columns= ['nplv', 'ПРОФИЛЬ', 'МАРКА'])"
   ],
   "metadata": {
    "collapsed": false,
    "pycharm": {
     "name": "#%%\n"
    }
   }
  },
  {
   "cell_type": "markdown",
   "source": [
    "* Удаляем строки, где пропущены значения для целевых переменных"
   ],
   "metadata": {
    "collapsed": false
   }
  },
  {
   "cell_type": "code",
   "execution_count": 7,
   "outputs": [],
   "source": [
    "marked_data = marked_data.dropna(axis = 0,subset = target_columns)"
   ],
   "metadata": {
    "collapsed": false,
    "pycharm": {
     "name": "#%%\n"
    }
   }
  },
  {
   "cell_type": "markdown",
   "source": [
    "* Заполнение пропущенных значений"
   ],
   "metadata": {
    "collapsed": false,
    "pycharm": {
     "name": "#%% md\n"
    }
   }
  },
  {
   "cell_type": "code",
   "execution_count": 8,
   "outputs": [],
   "source": [
    "marked_data = sf.fill_empty_values(marked_data)"
   ],
   "metadata": {
    "collapsed": false,
    "pycharm": {
     "name": "#%%\n"
    }
   }
  },
  {
   "cell_type": "code",
   "execution_count": 9,
   "outputs": [
    {
     "name": "stdout",
     "output_type": "stream",
     "text": [
      "<class 'pandas.core.frame.DataFrame'>\n",
      "Int64Index: 3284 entries, 3 to 7026\n",
      "Data columns (total 71 columns):\n",
      " #   Column                          Non-Null Count  Dtype  \n",
      "---  ------                          --------------  -----  \n",
      " 0   DT                              3284 non-null   float64\n",
      " 1   t вып-обр                       3284 non-null   float64\n",
      " 2   t обработка                     3284 non-null   float64\n",
      " 3   t под током                     3284 non-null   float64\n",
      " 4   t продувка                      3284 non-null   float64\n",
      " 5   ПСН гр.                         3284 non-null   float64\n",
      " 6   чист расход C                   3284 non-null   float64\n",
      " 7   чист расход Cr                  3284 non-null   float64\n",
      " 8   чист расход Mn                  3284 non-null   float64\n",
      " 9   чист расход Si                  3284 non-null   float64\n",
      " 10  чист расход V                   3284 non-null   float64\n",
      " 11  температура первая              3284 non-null   float64\n",
      " 12  температура последняя           3284 non-null   float64\n",
      " 13  Ar (интенс.)                    3284 non-null   float64\n",
      " 14  эл. энергия (интенс.)           3284 non-null   float64\n",
      " 15  произв жидкая сталь             3284 non-null   float64\n",
      " 16  произв количество обработок     3284 non-null   float64\n",
      " 17  произв  количество плавок       3284 non-null   float64\n",
      " 18  произв количество плавок (цел)  3284 non-null   float64\n",
      " 19  расход газ Ar                   3284 non-null   float64\n",
      " 20  сыпуч известь РП                3284 non-null   float64\n",
      " 21  сыпуч кокс пыль УСТК            3284 non-null   float64\n",
      " 22  сыпуч  кокс. мелочь КМ1         3284 non-null   float64\n",
      " 23  сыпуч  шпат плав.               3284 non-null   float64\n",
      " 24  ферспл CaC2                     3284 non-null   float64\n",
      " 25  ферспл  FeV-80                  3284 non-null   float64\n",
      " 26  ферспл  Mn5Si65Al0.5            3284 non-null   float64\n",
      " 27  ферспл SiMn18                   3284 non-null   float64\n",
      " 28  ферспл  фх850А                  3284 non-null   float64\n",
      " 29  эл. энергия                     3284 non-null   float64\n",
      " 30  химсталь первый Al_1            3284 non-null   float64\n",
      " 31  химсталь первый C_1             3284 non-null   float64\n",
      " 32  химсталь первый Cr_1            3284 non-null   float64\n",
      " 33  химсталь первый Cu_1            3284 non-null   float64\n",
      " 34  химсталь первый Mn_1            3284 non-null   float64\n",
      " 35  химсталь первый Mo_1            3284 non-null   float64\n",
      " 36  химсталь первый N_1             3284 non-null   float64\n",
      " 37  химсталь первый Ni_1            3284 non-null   float64\n",
      " 38  химсталь первый P_1             3284 non-null   float64\n",
      " 39  химсталь первый S_1             3284 non-null   float64\n",
      " 40  химсталь первый Si_1            3284 non-null   float64\n",
      " 41  химсталь первый Ti_1            3284 non-null   float64\n",
      " 42  химсталь первый V_1             3284 non-null   float64\n",
      " 43  химсталь последний Al           3284 non-null   float64\n",
      " 44  химсталь последний C            3284 non-null   float64\n",
      " 45  химсталь последний Ca           3284 non-null   float64\n",
      " 46  химсталь последний Cr           3284 non-null   float64\n",
      " 47  химсталь последний Cu           3284 non-null   float64\n",
      " 48  химсталь последний Mn           3284 non-null   float64\n",
      " 49  химсталь последний Mo           3284 non-null   float64\n",
      " 50  химсталь последний N            3284 non-null   float64\n",
      " 51  химсталь последний Ni           3284 non-null   float64\n",
      " 52  химсталь последний P            3284 non-null   float64\n",
      " 53  химсталь последний S            3284 non-null   float64\n",
      " 54  химсталь последний Si           3284 non-null   float64\n",
      " 55  химсталь последний Ti           3284 non-null   float64\n",
      " 56  химсталь последний V            3284 non-null   float64\n",
      " 57  химшлак первый Al2O3_1          3284 non-null   float64\n",
      " 58  химшлак первый CaO_1            3284 non-null   float64\n",
      " 59  химшлак первый FeO_1            3284 non-null   float64\n",
      " 60  химшлак первый MgO_1            3284 non-null   float64\n",
      " 61  химшлак первый MnO_1            3284 non-null   float64\n",
      " 62  химшлак первый R_1              3284 non-null   float64\n",
      " 63  химшлак первый SiO2_1           3284 non-null   float64\n",
      " 64  химшлак последний Al2O3         3284 non-null   float64\n",
      " 65  химшлак последний CaO           3284 non-null   float64\n",
      " 66  химшлак последний FeO           3284 non-null   float64\n",
      " 67  химшлак последний MgO           3284 non-null   float64\n",
      " 68  химшлак последний MnO           3284 non-null   float64\n",
      " 69  химшлак последний R             3284 non-null   float64\n",
      " 70  химшлак последний SiO2          3284 non-null   float64\n",
      "dtypes: float64(71)\n",
      "memory usage: 1.8 MB\n"
     ]
    }
   ],
   "source": [
    "marked_data.info()"
   ],
   "metadata": {
    "collapsed": false,
    "pycharm": {
     "name": "#%%\n"
    }
   }
  },
  {
   "cell_type": "markdown",
   "source": [
    "* Нормализация данных"
   ],
   "metadata": {
    "collapsed": false,
    "pycharm": {
     "name": "#%% md\n"
    }
   }
  },
  {
   "cell_type": "code",
   "execution_count": 10,
   "outputs": [],
   "source": [
    "normalized_data = sf.normalize_data(marked_data)\n",
    "del marked_data"
   ],
   "metadata": {
    "collapsed": false,
    "pycharm": {
     "name": "#%%\n"
    }
   }
  },
  {
   "cell_type": "code",
   "execution_count": 11,
   "outputs": [],
   "source": [
    "#sns_plot = sns.pairplot(normalized_data,\n",
    "#                    x_vars=normalized_data.columns,\n",
    "#                    y_vars=target_columns)\n",
    "#sns_plot.savefig(f'{SOURCE_DIR}{FINAL_STAGE_DIR}multi_map_preprocessing.png')"
   ],
   "metadata": {
    "collapsed": false,
    "pycharm": {
     "name": "#%%\n"
    }
   }
  },
  {
   "cell_type": "code",
   "execution_count": 12,
   "outputs": [],
   "source": [
    "dispersion = normalized_data.var()\n",
    "#dispersion_ax = dispersion.sort_values().plot(kind='barh', figsize=(13, 25), grid=True)\n",
    "#dispersion_fig = dispersion_ax.get_figure()\n",
    "#dispersion_fig.savefig(f'{SOURCE_DIR}{FINAL_STAGE_DIR}dispersion_bar_preprocessing.png')"
   ],
   "metadata": {
    "collapsed": false,
    "pycharm": {
     "name": "#%%\n"
    }
   }
  },
  {
   "cell_type": "code",
   "execution_count": 13,
   "outputs": [],
   "source": [
    "columns_to_drop = dispersion[dispersion < 0.001].index.to_list()\n",
    "normalized_data = normalized_data.drop(columns=columns_to_drop)"
   ],
   "metadata": {
    "collapsed": false,
    "pycharm": {
     "name": "#%%\n"
    }
   }
  },
  {
   "cell_type": "markdown",
   "source": [
    "* Графики корреляций"
   ],
   "metadata": {
    "collapsed": false,
    "pycharm": {
     "name": "#%% md\n"
    }
   }
  },
  {
   "cell_type": "code",
   "execution_count": 14,
   "outputs": [],
   "source": [
    "corr_data = normalized_data.corr()"
   ],
   "metadata": {
    "collapsed": false,
    "pycharm": {
     "name": "#%%\n"
    }
   }
  },
  {
   "cell_type": "code",
   "execution_count": 15,
   "outputs": [],
   "source": [
    "#plt.figure(figsize=(52, 50))\n",
    "#sns.heatmap(corr_data[(corr_data >= 0.5) | (corr_data <= -0.4)],\n",
    "#       cmap='viridis', vmax=1.0, vmin=-1.0, linewidths=0.1,\n",
    "#       annot=True, annot_kws={\"size\": 8}, square=True)\n",
    "#plt.savefig(f'{SOURCE_DIR}{FINAL_STAGE_DIR}correlation_map.png')\n",
    "#plt.show()"
   ],
   "metadata": {
    "collapsed": false,
    "pycharm": {
     "name": "#%%\n"
    }
   }
  },
  {
   "cell_type": "code",
   "execution_count": 16,
   "outputs": [],
   "source": [
    "corr_target_data = corr_data['сыпуч известь РП']\n",
    "corr_df = pd.DataFrame(corr_target_data.values, columns=target_columns, index=corr_data.index)\n",
    "#plt.figure(figsize=(10, 30))\n",
    "#sns.heatmap(corr_df[(corr_df >= 0.3) | (corr_df <= -0.3)], annot=True, fmt=\"g\", cmap='viridis')\n",
    "#plt.savefig(f'{SOURCE_DIR}{FINAL_STAGE_DIR}correlation_target_map.png')\n",
    "#plt.show()"
   ],
   "metadata": {
    "collapsed": false,
    "pycharm": {
     "name": "#%%\n"
    }
   }
  },
  {
   "cell_type": "code",
   "execution_count": 17,
   "outputs": [
    {
     "data": {
      "text/plain": "[['t обработка', 't продувка', 0.9909186491320651],\n ['t под током', 'эл. энергия', 0.9584755497481167],\n ['чист расход C', 'сыпуч  кокс. мелочь КМ1', 0.8276106332551523],\n ['чист расход Cr', 'ферспл  фх850А', 0.997506349516092],\n ['чист расход Mn', 'ферспл SiMn18', 0.998430874160154],\n ['чист расход Si', 'ферспл  Mn5Si65Al0.5', 0.9445263646726763],\n ['Ar (интенс.)', 'расход газ Ar', 0.8322528487336073],\n ['химсталь первый Cu_1', 'химсталь последний Cu', 0.9905269093021959],\n ['химсталь первый Mo_1', 'химсталь последний Mo', 0.9554056503456255],\n ['химсталь первый Ni_1', 'химсталь последний Ni', 0.994190788860572],\n ['химсталь первый P_1', 'химсталь последний P', 0.9598336534283521]]"
     },
     "execution_count": 17,
     "metadata": {},
     "output_type": "execute_result"
    }
   ],
   "source": [
    "useless_list = []\n",
    "for ind in corr_data.index:\n",
    "    for col in corr_data.columns:\n",
    "        if ind != col and abs(corr_data.loc[ind, col] >= 0.8 ):\n",
    "            if [col, ind, corr_data.loc[ind, col]] not in useless_list:\n",
    "                useless_list.append([ind, col, corr_data.loc[ind, col]])\n",
    "\n",
    "del corr_data\n",
    "useless_list"
   ],
   "metadata": {
    "collapsed": false,
    "pycharm": {
     "name": "#%%\n"
    }
   }
  },
  {
   "cell_type": "markdown",
   "source": [
    "*  В списке \"useless_list\" помимо дйствительно коррелирующих признаков есть признаки, которые мы отметили, как ложно-коррелирующие\n",
    "Список коррелирующих:\n",
    " * 'химсталь первый Cr_1', 'химсталь последний Cr'\n",
    " * 'химсталь первый Cu_1', 'химсталь последний Cu'\n",
    " * 'химсталь первый Mo_1', 'химсталь последний Mo'\n",
    " * 'химсталь первый Ni_1', 'химсталь последний Ni'\n",
    " * 'химсталь первый P_1', 'химсталь последний P'\n",
    " * 'химсталь первый Si_1', 'химсталь последний Si'\n",
    " * 't обработка', 't продувка'\n",
    " * 't под током', 'эл. энергия'"
   ],
   "metadata": {
    "collapsed": false
   }
  },
  {
   "cell_type": "code",
   "execution_count": 18,
   "outputs": [],
   "source": [
    "correlation_list = ['t обработка',\n",
    "                    't под током',\n",
    "                    'произв количество обработок',\n",
    "                    'химсталь первый Cr_1',\n",
    "                    'химсталь первый Cu_1',\n",
    "                    'химсталь первый Mo_1',\n",
    "                    'химсталь первый Ni_1',\n",
    "                    'химсталь первый P_1',\n",
    "                    'химсталь первый Si_1'\n",
    "]\n",
    "\n",
    "normalized_data = normalized_data.drop(columns=correlation_list)"
   ],
   "metadata": {
    "collapsed": false,
    "pycharm": {
     "name": "#%%\n"
    }
   }
  },
  {
   "cell_type": "markdown",
   "source": [
    "* Избавляемся от шумов"
   ],
   "metadata": {
    "collapsed": false,
    "pycharm": {
     "name": "#%% md\n"
    }
   }
  },
  {
   "cell_type": "code",
   "execution_count": 19,
   "outputs": [],
   "source": [
    "normalized_data = sf.remove_noises(normalized_data)"
   ],
   "metadata": {
    "collapsed": false,
    "pycharm": {
     "name": "#%%\n"
    }
   }
  },
  {
   "cell_type": "markdown",
   "source": [
    "* Отбор признаков"
   ],
   "metadata": {
    "collapsed": false,
    "pycharm": {
     "name": "#%% md\n"
    }
   }
  },
  {
   "cell_type": "code",
   "execution_count": 20,
   "outputs": [
    {
     "name": "stderr",
     "output_type": "stream",
     "text": [
      "D:\\kejual projects\\Evraz SCC prediction\\src\\subfunc.py:124: DataConversionWarning: A column-vector y was passed when a 1d array was expected. Please change the shape of y to (n_samples,), for example using ravel().\n",
      "  regressor.fit(X, Y)\n"
     ]
    },
    {
     "name": "stdout",
     "output_type": "stream",
     "text": [
      "удалили признаков: 25\n"
     ]
    }
   ],
   "source": [
    "normalized_data, features = sf.filter_features(normalized_data.drop(columns=target_columns),\n",
    "                   normalized_data[target_columns])"
   ],
   "metadata": {
    "collapsed": false,
    "pycharm": {
     "name": "#%%\n"
    }
   }
  },
  {
   "cell_type": "code",
   "execution_count": 21,
   "outputs": [
    {
     "data": {
      "text/plain": "array([[<AxesSubplot:title={'center':'сыпуч известь РП'}>]], dtype=object)"
     },
     "execution_count": 21,
     "metadata": {},
     "output_type": "execute_result"
    },
    {
     "data": {
      "text/plain": "<Figure size 432x288 with 1 Axes>",
      "image/png": "[encoded data removed]"
     },
     "metadata": {
      "needs_background": "light"
     },
     "output_type": "display_data"
    }
   ],
   "source": [
    "normalized_data[target_columns].hist()"
   ],
   "metadata": {
    "collapsed": false,
    "pycharm": {
     "name": "#%%\n"
    }
   }
  },
  {
   "cell_type": "code",
   "execution_count": 22,
   "outputs": [],
   "source": [
    "target = sf.to_categorical(normalized_data, target_columns[0], 5, f'{DATA_DIR}{FINAL_STAGE_DIR}dict')"
   ],
   "metadata": {
    "collapsed": false,
    "pycharm": {
     "name": "#%%\n"
    }
   }
  },
  {
   "cell_type": "code",
   "execution_count": 23,
   "outputs": [],
   "source": [
    "normalized_data[target_columns] = target.values.reshape(-1, 1)"
   ],
   "metadata": {
    "collapsed": false,
    "pycharm": {
     "name": "#%%\n"
    }
   }
  },
  {
   "cell_type": "markdown",
   "source": [
    "* Разбиение датасета на обучающую и тестовую выборки"
   ],
   "metadata": {
    "collapsed": false,
    "pycharm": {
     "name": "#%% md\n"
    }
   }
  },
  {
   "cell_type": "code",
   "execution_count": 24,
   "outputs": [],
   "source": [
    "test_data = normalized_data.sample(frac= 0.3)\n",
    "train_data = normalized_data.drop(test_data.index, axis='index')"
   ],
   "metadata": {
    "collapsed": false,
    "pycharm": {
     "name": "#%%\n"
    }
   }
  },
  {
   "cell_type": "code",
   "execution_count": 25,
   "outputs": [],
   "source": [
    "X_test_data = test_data.drop(columns= target_columns)\n",
    "labels_test_data = test_data[target_columns]\n",
    "X_train_data = train_data.drop(columns= target_columns)\n",
    "labels_train_data = train_data[target_columns]"
   ],
   "metadata": {
    "collapsed": false,
    "pycharm": {
     "name": "#%%\n"
    }
   }
  },
  {
   "cell_type": "code",
   "execution_count": 26,
   "outputs": [],
   "source": [
    "X_train_data.to_csv(f'{DATA_DIR}{FINAL_STAGE_DIR}x_train.csv', sep = '\\t')\n",
    "X_test_data.to_csv(f'{DATA_DIR}{FINAL_STAGE_DIR}x_test.csv', sep = '\\t')\n",
    "labels_train_data.to_csv(f'{DATA_DIR}{FINAL_STAGE_DIR}y_train.csv', sep = '\\t')\n",
    "labels_test_data.to_csv(f'{DATA_DIR}{FINAL_STAGE_DIR}y_test.csv', sep = '\\t')"
   ],
   "metadata": {
    "collapsed": false,
    "pycharm": {
     "name": "#%%\n"
    }
   }
  },
  {
   "cell_type": "code",
   "execution_count": 26,
   "outputs": [],
   "source": [],
   "metadata": {
    "collapsed": false,
    "pycharm": {
     "name": "#%%\n"
    }
   }
  }
 ],
 "metadata": {
  "kernelspec": {
   "display_name": "Python 3",
   "language": "python",
   "name": "python3"
  },
  "language_info": {
   "codemirror_mode": {
    "name": "ipython",
    "version": 2
   },
   "file_extension": ".py",
   "mimetype": "text/x-python",
   "name": "python",
   "nbconvert_exporter": "python",
   "pygments_lexer": "ipython2",
   "version": "2.7.6"
  }
 },
 "nbformat": 4,
 "nbformat_minor": 0
}