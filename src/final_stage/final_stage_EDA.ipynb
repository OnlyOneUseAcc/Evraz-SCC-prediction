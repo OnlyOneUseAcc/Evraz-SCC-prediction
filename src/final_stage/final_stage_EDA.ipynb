{
 "cells": [
  {
   "cell_type": "code",
   "execution_count": 1,
   "outputs": [],
   "source": [
    "import pickle\n",
    "import pandas as pd\n",
    "import numpy as np\n",
    "from src import subfunc as sf\n",
    "import warnings\n",
    "import seaborn as sns\n",
    "import matplotlib.pyplot as plt"
   ],
   "metadata": {
    "collapsed": false,
    "pycharm": {
     "name": "#%%\n"
    }
   }
  },
  {
   "cell_type": "code",
   "execution_count": 2,
   "outputs": [],
   "source": [
    "DATA_DIR = '../../data/'\n",
    "DATA = 'evras.csv'\n",
    "ATOMIC_WEIGHTS_DATA = 'full_atomic_weight.csv'\n",
    "SOURCE_DIR = '../../source/'\n",
    "FINAL_STAGE_DIR = 'final_stage/'\n",
    "target_columns = ['сыпуч известь РП']"
   ],
   "metadata": {
    "collapsed": false,
    "pycharm": {
     "name": "#%%\n"
    }
   }
  },
  {
   "cell_type": "code",
   "execution_count": 3,
   "outputs": [],
   "source": [
    "data = pd.read_csv(f'{DATA_DIR}{DATA}', index_col='index', sep=';', decimal=',')\n",
    "atomic_data = pd.read_csv(f'{DATA_DIR}{ATOMIC_WEIGHTS_DATA}', index_col='index', sep=';')"
   ],
   "metadata": {
    "collapsed": false,
    "pycharm": {
     "name": "#%%\n"
    }
   }
  },
  {
   "cell_type": "code",
   "execution_count": 4,
   "outputs": [],
   "source": [
    "drop_columns = []\n",
    "for column_name in atomic_data:\n",
    "    if 1 in atomic_data[column_name].values:\n",
    "        drop_columns.append(column_name)"
   ],
   "metadata": {
    "collapsed": false,
    "pycharm": {
     "name": "#%%\n"
    }
   }
  },
  {
   "cell_type": "code",
   "execution_count": 5,
   "outputs": [],
   "source": [
    "atomic_data = atomic_data.drop(columns=drop_columns)"
   ],
   "metadata": {
    "collapsed": false,
    "pycharm": {
     "name": "#%%\n"
    }
   }
  },
  {
   "cell_type": "markdown",
   "source": [
    " * Нахождение самой популярной марки"
   ],
   "metadata": {
    "collapsed": false,
    "pycharm": {
     "name": "#%% md\n"
    }
   }
  },
  {
   "cell_type": "code",
   "source": [
    "top_mark = data.describe(include='all').loc[\"top\", \"МАРКА\"]\n",
    "print(\"Самая популярная марка - \", top_mark)"
   ],
   "metadata": {
    "collapsed": false,
    "pycharm": {
     "name": "#%%\n"
    }
   },
   "execution_count": 6,
   "outputs": [
    {
     "name": "stdout",
     "output_type": "stream",
     "text": [
      "Самая популярная марка -  Э76ХФ\n"
     ]
    }
   ]
  },
  {
   "cell_type": "markdown",
   "source": [
    "* Переводим дату во время изготовления сплава"
   ],
   "metadata": {
    "collapsed": false,
    "pycharm": {
     "name": "#%% md\n"
    }
   }
  },
  {
   "cell_type": "code",
   "source": [
    "data['DT'] = sf.date_to_interval(data['DT'])"
   ],
   "metadata": {
    "collapsed": false,
    "pycharm": {
     "name": "#%%\n"
    }
   },
   "execution_count": 7,
   "outputs": []
  },
  {
   "cell_type": "code",
   "execution_count": 8,
   "outputs": [
    {
     "name": "stdout",
     "output_type": "stream",
     "text": [
      "Удаленные колонки: N2 (интенс.), расход газ  N2, расход C пров., сыпуч кварцит, сыпуч  кокс. мелочь (сух.), ферспл FeMo, ферспл FeSi-75, ферспл FeV азот., ферспл  Ni H1 пласт., ферспл  ферванит\n"
     ]
    }
   ],
   "source": [
    "dropped_data, dropped_columns = sf.drop_columns(data,0.65)\n",
    "marked_data = dropped_data[dropped_data['МАРКА'] == top_mark]\n",
    "marked_data = marked_data.drop(columns= ['nplv', 'ПРОФИЛЬ', 'МАРКА'])"
   ],
   "metadata": {
    "collapsed": false,
    "pycharm": {
     "name": "#%%\n"
    }
   }
  },
  {
   "cell_type": "markdown",
   "source": [
    "* Удаляем строки, где пропущены значения для целевых переменных"
   ],
   "metadata": {
    "collapsed": false,
    "pycharm": {
     "name": "#%% md\n"
    }
   }
  },
  {
   "cell_type": "code",
   "source": [
    "marked_data = marked_data.dropna(axis = 0,subset = target_columns)"
   ],
   "metadata": {
    "collapsed": false,
    "pycharm": {
     "name": "#%%\n"
    }
   },
   "execution_count": 9,
   "outputs": []
  },
  {
   "cell_type": "markdown",
   "source": [
    "* Заполнение пропущенных значений"
   ],
   "metadata": {
    "collapsed": false,
    "pycharm": {
     "name": "#%% md\n"
    }
   }
  },
  {
   "cell_type": "code",
   "source": [
    "marked_data = sf.fill_empty_values(marked_data)"
   ],
   "metadata": {
    "collapsed": false,
    "pycharm": {
     "name": "#%%\n"
    }
   },
   "execution_count": 10,
   "outputs": []
  },
  {
   "cell_type": "code",
   "execution_count": 11,
   "outputs": [],
   "source": [
    "for column_name in dropped_columns:\n",
    "    if column_name in atomic_data.columns:\n",
    "        atomic_data.drop(columns=column_name, inplace=True)"
   ],
   "metadata": {
    "collapsed": false,
    "pycharm": {
     "name": "#%%\n"
    }
   }
  },
  {
   "cell_type": "code",
   "execution_count": 12,
   "outputs": [],
   "source": [
    "marked_data = sf.split_substnce(marked_data, atomic_data)"
   ],
   "metadata": {
    "collapsed": false,
    "pycharm": {
     "name": "#%%\n"
    }
   }
  },
  {
   "cell_type": "markdown",
   "source": [
    "* Нормализация данных"
   ],
   "metadata": {
    "collapsed": false,
    "pycharm": {
     "name": "#%% md\n"
    }
   }
  },
  {
   "cell_type": "code",
   "source": [
    "normalized_data = sf.normalize_data(marked_data.drop(columns=target_columns))\n",
    "normalized_data[target_columns] = marked_data[target_columns]\n",
    "del marked_data"
   ],
   "metadata": {
    "collapsed": false,
    "pycharm": {
     "name": "#%%\n"
    }
   },
   "execution_count": 13,
   "outputs": []
  },
  {
   "cell_type": "code",
   "execution_count": 14,
   "outputs": [],
   "source": [
    "normalized_data['categorical_target'] = sf.to_categorical(normalized_data,\n",
    "                                                          target_columns,\n",
    "                                                          5,\n",
    "                                                          f'{DATA_DIR}{FINAL_STAGE_DIR}dict'\n",
    "                                                          )\n"
   ],
   "metadata": {
    "collapsed": false,
    "pycharm": {
     "name": "#%%\n"
    }
   }
  },
  {
   "cell_type": "code",
   "execution_count": 15,
   "outputs": [],
   "source": [
    "#sns_plot = sns.pairplot(normalized_data,\n",
    "#                    x_vars=normalized_data.columns,\n",
    "#                    y_vars=target_columns)\n",
    "#sns_plot.savefig(f'{SOURCE_DIR}{FINAL_STAGE_DIR}multi_map_preprocessing.png')"
   ],
   "metadata": {
    "collapsed": false,
    "pycharm": {
     "name": "#%%\n"
    }
   }
  },
  {
   "cell_type": "code",
   "execution_count": 16,
   "outputs": [],
   "source": [
    "dispersion = normalized_data.var()\n",
    "#dispersion_ax = dispersion.sort_values().plot(kind='barh', figsize=(13, 25), grid=True)\n",
    "#dispersion_fig = dispersion_ax.get_figure()\n",
    "#dispersion_fig.savefig(f'{SOURCE_DIR}{FINAL_STAGE_DIR}dispersion_bar_preprocessing.png')"
   ],
   "metadata": {
    "collapsed": false,
    "pycharm": {
     "name": "#%%\n"
    }
   }
  },
  {
   "cell_type": "code",
   "execution_count": 17,
   "outputs": [],
   "source": [
    "columns_to_drop = dispersion[dispersion < 0.001].index.to_list()\n",
    "normalized_data = normalized_data.drop(columns=columns_to_drop)\n"
   ],
   "metadata": {
    "collapsed": false,
    "pycharm": {
     "name": "#%%\n"
    }
   }
  },
  {
   "cell_type": "code",
   "source": [
    "corr_data = normalized_data.corr()"
   ],
   "metadata": {
    "collapsed": false,
    "pycharm": {
     "name": "#%%\n"
    }
   },
   "execution_count": 18,
   "outputs": []
  },
  {
   "cell_type": "code",
   "execution_count": 19,
   "outputs": [],
   "source": [
    "#plt.figure(figsize=(52, 50))\n",
    "#sns.heatmap(corr_data[(corr_data >= 0.5) | (corr_data <= -0.4)],\n",
    "#       cmap='viridis', vmax=1.0, vmin=-1.0, linewidths=0.1,\n",
    "#       annot=True, annot_kws={\"size\": 8}, square=True)\n",
    "#plt.savefig(f'{SOURCE_DIR}{FINAL_STAGE_DIR}correlation_map.png')\n",
    "#plt.show()"
   ],
   "metadata": {
    "collapsed": false,
    "pycharm": {
     "name": "#%%\n"
    }
   }
  },
  {
   "cell_type": "code",
   "execution_count": 20,
   "outputs": [],
   "source": [
    "corr_target_data = corr_data['сыпуч известь РП']\n",
    "corr_df = pd.DataFrame(corr_target_data.values, columns=target_columns, index=corr_data.index)\n",
    "#plt.figure(figsize=(10, 30))\n",
    "#sns.heatmap(corr_df[(corr_df >= 0.3) | (corr_df <= -0.3)], annot=True, fmt=\"g\", cmap='viridis')\n",
    "#plt.savefig(f'{SOURCE_DIR}{FINAL_STAGE_DIR}correlation_target_map.png')\n",
    "#plt.show()"
   ],
   "metadata": {
    "collapsed": false,
    "pycharm": {
     "name": "#%%\n"
    }
   }
  },
  {
   "cell_type": "code",
   "execution_count": 21,
   "outputs": [
    {
     "data": {
      "text/plain": "[['t обработка', 't продувка', 0.9909186476436075],\n ['t под током', 'эл. энергия', 0.9584710527149887],\n ['чист расход C', 'сыпуч  кокс. мелочь КМ1', 0.828000797897333],\n ['чист расход Cr', 'ферспл  фх850А', 0.997451580263042],\n ['чист расход Mn', 'ферспл SiMn18', 0.9984268985073596],\n ['чист расход Mn', 'ферспл  Mn', 0.9984268985073593],\n ['чист расход Mn', 'ферспл  Si', 0.9984268985073597],\n ['чист расход Si', 'ферспл  Mn5Si65Al0.5', 0.9445660124448018],\n ['чист расход Si', 'ферспл   Mn', 0.9445660124448018],\n ['чист расход Si', 'ферспл   Si', 0.944566012444802],\n ['чист расход Si', 'ферспл   Al', 0.9445660124448018],\n ['Ar (интенс.)', 'расход газ Ar', 0.8322528487336073],\n ['ферспл CaC2', 'ферспл  Ca', 1.0],\n ['ферспл CaC2', 'ферспл  C', 1.0],\n ['ферспл  Mn5Si65Al0.5', 'ферспл   Mn', 1.0000000000000004],\n ['ферспл  Mn5Si65Al0.5', 'ферспл   Si', 1.0000000000000002],\n ['ферспл  Mn5Si65Al0.5', 'ферспл   Al', 1.0],\n ['ферспл SiMn18', 'ферспл  Mn', 1.0],\n ['ферспл SiMn18', 'ферспл  Si', 1.0000000000000002],\n ['химсталь первый Cu_1', 'химсталь последний Cu', 0.9905269093021959],\n ['химсталь первый Mo_1', 'химсталь последний Mo', 0.9554056503456255],\n ['химсталь первый Ni_1', 'химсталь последний Ni', 0.994190788860572],\n ['химсталь первый P_1', 'химсталь последний P', 0.9598336534283521],\n ['химшлак первый Al2O3_1', 'химшлак первый  Al', 1.0],\n ['химшлак первый CaO_1', 'химшлак первый  Ca', 1.0],\n ['химшлак первый MgO_1', 'химшлак первый  Mg', 1.0],\n ['химшлак первый MnO_1', 'химшлак первый  Mn', 0.9999999999999998],\n ['химшлак первый SiO2_1', 'химшлак первый  Si', 1.0],\n ['химшлак последний Al2O3', 'химшлак последний  Al', 1.0],\n ['химшлак последний CaO', 'химшлак последний  Ca', 0.9999999999999999],\n ['химшлак последний FeO', 'химшлак последний  Fe', 0.9999999999999999],\n ['химшлак последний MgO', 'химшлак последний  Mg', 0.9999999999999999],\n ['химшлак последний MnO', 'химшлак последний  Mn', 0.9999999999999999],\n ['химшлак последний SiO2', 'химшлак последний  Si', 1.0],\n ['ферспл  Ca', 'ферспл  C', 1.0],\n ['ферспл   Mn', 'ферспл   Si', 1.0],\n ['ферспл   Mn', 'ферспл   Al', 1.0000000000000002],\n ['ферспл   Si', 'ферспл   Al', 0.9999999999999998],\n ['ферспл  Mn', 'ферспл  Si', 1.0]]"
     },
     "execution_count": 21,
     "metadata": {},
     "output_type": "execute_result"
    }
   ],
   "source": [
    "useless_list = []\n",
    "for ind in corr_data.index:\n",
    "    for col in corr_data.columns:\n",
    "        if ind != col and abs(corr_data.loc[ind, col] >= 0.8 ):\n",
    "            if [col, ind, corr_data.loc[ind, col]] not in useless_list:\n",
    "                useless_list.append([ind, col, corr_data.loc[ind, col]])\n",
    "\n",
    "del corr_data\n",
    "useless_list"
   ],
   "metadata": {
    "collapsed": false,
    "pycharm": {
     "name": "#%%\n"
    }
   }
  },
  {
   "cell_type": "markdown",
   "source": [
    "*  В списке \"useless_list\" помимо дйствительно коррелирующих признаков есть признаки, которые мы отметили, как ложно-коррелирующие\n",
    "Список коррелирующих:\n",
    " * 'химсталь первый Cr_1', 'химсталь последний Cr'\n",
    " * 'химсталь первый Cu_1', 'химсталь последний Cu'\n",
    " * 'химсталь первый Mo_1', 'химсталь последний Mo'\n",
    " * 'химсталь первый Ni_1', 'химсталь последний Ni'\n",
    " * 'химсталь первый P_1', 'химсталь последний P'\n",
    " * 'химсталь первый Si_1', 'химсталь последний Si'\n",
    " * 't обработка', 't продувка'\n",
    " * 't под током', 'эл. энергия'"
   ],
   "metadata": {
    "collapsed": false
   }
  },
  {
   "cell_type": "code",
   "execution_count": 22,
   "outputs": [],
   "source": [
    "correlation_list = ['t обработка',\n",
    "                    't под током',\n",
    "                    'произв количество обработок',\n",
    "                    'химсталь первый Cr_1',\n",
    "                    'химсталь первый Cu_1',\n",
    "                    'химсталь первый Mo_1',\n",
    "                    'химсталь первый Ni_1',\n",
    "                    'химсталь первый P_1',\n",
    "                    'химсталь первый Si_1'\n",
    "]\n",
    "\n",
    "normalized_data = normalized_data.drop(columns=correlation_list)"
   ],
   "metadata": {
    "collapsed": false,
    "pycharm": {
     "name": "#%%\n"
    }
   }
  },
  {
   "cell_type": "markdown",
   "source": [
    "* Избавляемся от шумов"
   ],
   "metadata": {
    "collapsed": false,
    "pycharm": {
     "name": "#%% md\n"
    }
   }
  },
  {
   "cell_type": "code",
   "execution_count": 23,
   "outputs": [],
   "source": [
    "normalized_data = sf.remove_noises(normalized_data)"
   ],
   "metadata": {
    "collapsed": false,
    "pycharm": {
     "name": "#%%\n"
    }
   }
  },
  {
   "cell_type": "markdown",
   "source": [
    "* Отбор признаков"
   ],
   "metadata": {
    "collapsed": false,
    "pycharm": {
     "name": "#%% md\n"
    }
   }
  },
  {
   "cell_type": "code",
   "execution_count": 24,
   "outputs": [
    {
     "name": "stderr",
     "output_type": "stream",
     "text": [
      "D:\\kejual projects\\Evraz SCC prediction\\src\\subfunc.py:125: DataConversionWarning: A column-vector y was passed when a 1d array was expected. Please change the shape of y to (n_samples,), for example using ravel().\n",
      "  regressor.fit(X, Y)\n"
     ]
    },
    {
     "name": "stdout",
     "output_type": "stream",
     "text": [
      "удалили признаков: 69\n"
     ]
    }
   ],
   "source": [
    "normalized_data, features = sf.filter_features(normalized_data.drop(columns=target_columns),\n",
    "                   normalized_data[target_columns])"
   ],
   "metadata": {
    "collapsed": false,
    "pycharm": {
     "name": "#%%\n"
    }
   }
  },
  {
   "cell_type": "code",
   "execution_count": 25,
   "outputs": [
    {
     "data": {
      "text/plain": "array([[<AxesSubplot:title={'center':'сыпуч известь РП'}>]], dtype=object)"
     },
     "execution_count": 25,
     "metadata": {},
     "output_type": "execute_result"
    },
    {
     "data": {
      "text/plain": "<Figure size 432x288 with 1 Axes>",
      "image/png": "[encoded data removed]"
     },
     "metadata": {
      "needs_background": "light"
     },
     "output_type": "display_data"
    }
   ],
   "source": [
    "normalized_data[target_columns].hist()\n"
   ],
   "metadata": {
    "collapsed": false,
    "pycharm": {
     "name": "#%%\n"
    }
   }
  },
  {
   "cell_type": "markdown",
   "source": [
    "* Разбиение датасета на обучающую и тестовую выборки"
   ],
   "metadata": {
    "collapsed": false,
    "pycharm": {
     "name": "#%% md\n"
    }
   }
  },
  {
   "cell_type": "code",
   "execution_count": 26,
   "outputs": [],
   "source": [
    "test_data = normalized_data.sample(frac= 0.3)\n",
    "train_data = normalized_data.drop(test_data.index, axis='index')"
   ],
   "metadata": {
    "collapsed": false,
    "pycharm": {
     "name": "#%%\n"
    }
   }
  },
  {
   "cell_type": "code",
   "execution_count": 27,
   "outputs": [],
   "source": [
    "X_test_data = test_data.drop(columns= target_columns)\n",
    "labels_test_data = test_data[target_columns]\n",
    "X_train_data = train_data.drop(columns= target_columns)\n",
    "labels_train_data = train_data[target_columns]"
   ],
   "metadata": {
    "collapsed": false,
    "pycharm": {
     "name": "#%%\n"
    }
   }
  },
  {
   "cell_type": "code",
   "execution_count": 28,
   "outputs": [],
   "source": [
    "X_train_data.to_csv(f'{DATA_DIR}{FINAL_STAGE_DIR}x_train.csv', sep = '\\t')\n",
    "X_test_data.to_csv(f'{DATA_DIR}{FINAL_STAGE_DIR}x_test.csv', sep = '\\t')\n",
    "labels_train_data.to_csv(f'{DATA_DIR}{FINAL_STAGE_DIR}y_train.csv', sep = '\\t')\n",
    "labels_test_data.to_csv(f'{DATA_DIR}{FINAL_STAGE_DIR}y_test.csv', sep = '\\t')"
   ],
   "metadata": {
    "collapsed": false,
    "pycharm": {
     "name": "#%%\n"
    }
   }
  },
  {
   "cell_type": "code",
   "execution_count": 28,
   "outputs": [],
   "source": [],
   "metadata": {
    "collapsed": false,
    "pycharm": {
     "name": "#%%\n"
    }
   }
  }
 ],
 "metadata": {
  "kernelspec": {
   "display_name": "Python 3",
   "language": "python",
   "name": "python3"
  },
  "language_info": {
   "codemirror_mode": {
    "name": "ipython",
    "version": 2
   },
   "file_extension": ".py",
   "mimetype": "text/x-python",
   "name": "python",
   "nbconvert_exporter": "python",
   "pygments_lexer": "ipython2",
   "version": "2.7.6"
  }
 },
 "nbformat": 4,
 "nbformat_minor": 0
}