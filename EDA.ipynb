{
 "cells": [
  {
   "cell_type": "markdown",
   "source": [
    "# Предобработка данных"
   ],
   "metadata": {
    "collapsed": false,
    "pycharm": {
     "name": "#%% md\n"
    }
   }
  },
  {
   "cell_type": "code",
   "execution_count": 1,
   "metadata": {
    "collapsed": true
   },
   "outputs": [],
   "source": [
    "import pandas as pd\n",
    "import numpy as np\n",
    "import subfunc as sf\n",
    "from impyute.imputation.cs import mice"
   ]
  },
  {
   "cell_type": "code",
   "execution_count": 2,
   "outputs": [],
   "source": [
    "RAW_DATA = 'data/evras.csv'\n",
    "POST_PROCESSING_DATA = 'data/post_evras.csv'\n",
    "SOURCE_DATA = 'source/'\n",
    "pd.options.display.max_columns = 90\n",
    "target_columns = ['химшлак последний Al2O3',\n",
    "                  'химшлак последний CaO',\n",
    "                  'химшлак последний R',\n",
    "                  'химшлак последний SiO2']"
   ],
   "metadata": {
    "collapsed": false,
    "pycharm": {
     "name": "#%%\n"
    }
   }
  },
  {
   "cell_type": "markdown",
   "source": [
    "Информация о данных"
   ],
   "metadata": {
    "collapsed": false,
    "pycharm": {
     "name": "#%% md\n"
    }
   }
  },
  {
   "cell_type": "code",
   "execution_count": 3,
   "outputs": [
    {
     "data": {
      "text/plain": "               nplv                   DT  МАРКА ПРОФИЛЬ t вып-обр t обработка  \\\ncount          7041                 7041   7041    7041      6444        6440   \nunique         7041                 7041     18      18        82         816   \ntop     г683863??;?  2071-01-21 12:44:00  Э76ХФ     Р65       6,0  43,0333333   \nfreq              1                    1   4953    6427       227          53   \n\n       t под током  t продувка ПСН гр. чист расход C чист расход Cr  \\\ncount         6440        6444    5249          6435           5883   \nunique        1155         831    4296          6243           3115   \ntop     19,6833333  43,0333333     2,0      0,406765       0,104904   \nfreq            32          56     526             3             17   \n\n       чист расход Mn чист расход Si чист расход V температура первая  \\\ncount            6431           6431          6178               6436   \nunique           6320           6265          4645                154   \ntop          0,132318       0,184723     0,0391018             1571,0   \nfreq                3              2             9                134   \n\n       температура последняя Ar (интенс.) N2 (интенс.) эл. энергия (интенс.)  \\\ncount                   6436         6426         1389                  6440   \nunique                   109         6423         1389                  6362   \ntop                   1579,0   14,9067961   12,6160428               12600,0   \nfreq                     282            2            1                     4   \n\n       произв жидкая сталь произв количество обработок  \\\ncount                 6444                        6444   \nunique                 226                           3   \ntop                  115,4                         1,0   \nfreq                   124                        6391   \n\n       произв  количество плавок произв количество плавок (цел) расход газ Ar  \\\ncount                       6444                           6444          6426   \nunique                         1                              1          5556   \ntop                          1,0                            1,0        13,192   \nfreq                        6444                           6444             5   \n\n       расход газ  N2 расход C пров. сыпуч известь РП сыпуч кварцит  \\\ncount            1389            724             4770            13   \nunique           1341            593              469             1   \ntop             9,016       0,019448            0,063          0,02   \nfreq                3              4               87            13   \n\n       сыпуч кокс пыль УСТК сыпуч  кокс. мелочь (сух.)  \\\ncount                  6422                          7   \nunique                  307                          7   \ntop                    0,05                      0,417   \nfreq                   5873                          1   \n\n       сыпуч  кокс. мелочь КМ1 сыпуч  шпат плав. ферспл CaC2 ферспл FeMo  \\\ncount                     6307              5910        6244          33   \nunique                     691               197           7          28   \ntop                      0,384             0,041        0,02    0,021014   \nfreq                        34               250        6137           3   \n\n       ферспл FeSi-75 ферспл FeV азот. ферспл  FeV-80 ферспл  Mn5Si65Al0.5  \\\ncount               5              383           6179                 6400   \nunique              2               83            692                  399   \ntop              0,05         0,024306       0,050094                0,128   \nfreq                4               14             81                   61   \n\n       ферспл  Ni H1 пласт. ферспл SiMn18 ферспл  ферванит ферспл  фх850А  \\\ncount                    82          6398             1017           5883   \nunique                   80           528              199            398   \ntop                 0,04919         0,219         0,025897          0,214   \nfreq                      2            45               23             60   \n\n       эл. энергия химсталь первый Al_1 химсталь первый C_1  \\\ncount         6440                 6444                6444   \nunique        3132                    6                 417   \ntop         4199,0                0,002               0,435   \nfreq            11                 4656                  62   \n\n       химсталь первый Cr_1 химсталь первый Cu_1 химсталь первый Mn_1  \\\ncount                  6444                 6444                 6444   \nunique                  371                  101                  404   \ntop                   0,308                  0,1                0,672   \nfreq                     91                  236                   73   \n\n       химсталь первый Mo_1 химсталь первый N_1 химсталь первый Ni_1  \\\ncount                  6443                6443                 6444   \nunique                   24                  18                  115   \ntop                   0,006                0,01                0,071   \nfreq                   1783                1751                  308   \n\n       химсталь первый P_1 химсталь первый S_1 химсталь первый Si_1  \\\ncount                 6444                6444                 6444   \nunique                  18                  34                  384   \ntop                  0,008               0,019                0,449   \nfreq                  1410                 904                  105   \n\n       химсталь первый Ti_1 химсталь первый V_1 химсталь последний Al  \\\ncount                  6444                6444                  6444   \nunique                    7                  28                    20   \ntop                   0,002               0,002                 0,003   \nfreq                   3727                2929                  4526   \n\n       химсталь последний C химсталь последний Ca химсталь последний Cr  \\\ncount                  6444                  6218                  6444   \nunique                  226                    32                   206   \ntop                   0,762                0,0002                 0,418   \nfreq                    166                  1816                   660   \n\n       химсталь последний Cu химсталь последний Mn химсталь последний Mo  \\\ncount                   6444                  6444                  6444   \nunique                   100                   261                    24   \ntop                    0,103                 0,789                 0,006   \nfreq                     240                   353                  1590   \n\n       химсталь последний N химсталь последний Ni химсталь последний P  \\\ncount                  6442                  6444                 6444   \nunique                   17                   112                   19   \ntop                   0,012                 0,071                0,009   \nfreq                   1305                   324                 1363   \n\n       химсталь последний S химсталь последний Si химсталь последний Ti  \\\ncount                  6444                  6444                  6444   \nunique                   27                   256                     5   \ntop                   0,015                 0,566                 0,003   \nfreq                   1076                   229                  4764   \n\n       химсталь последний V химшлак первый Al2O3_1 химшлак первый CaO_1  \\\ncount                  6444                   4742                 6444   \nunique                   54                     73                  298   \ntop                   0,037                    3,7                 53,4   \nfreq                   1793                    263                   58   \n\n       химшлак первый FeO_1 химшлак первый MgO_1 химшлак первый MnO_1  \\\ncount                  6444                 6443                 6444   \nunique                   54                  236                  152   \ntop                     0,4                 11,3                 0,11   \nfreq                   1056                   96                  470   \n\n       химшлак первый R_1 химшлак первый SiO2_1 химшлак последний Al2O3  \\\ncount                6444                  4742                    4742   \nunique                 32                   149                      70   \ntop                   2,2                  21,7                     4,4   \nfreq                  915                   100                     243   \n\n       химшлак последний CaO химшлак последний FeO химшлак последний MgO  \\\ncount                   6444                  6444                  6443   \nunique                   229                    16                   192   \ntop                     57,6                   0,5                   8,7   \nfreq                     102                  1235                    88   \n\n       химшлак последний MnO химшлак последний R химшлак последний SiO2  \ncount                   6444                6444                   4742  \nunique                    61                  16                    116  \ntop                     0,08                 2,2                   26,0  \nfreq                     723                1483                    142  ",
      "text/html": "<div>\n<style scoped>\n    .dataframe tbody tr th:only-of-type {\n        vertical-align: middle;\n    }\n\n    .dataframe tbody tr th {\n        vertical-align: top;\n    }\n\n    .dataframe thead th {\n        text-align: right;\n    }\n</style>\n<table border=\"1\" class=\"dataframe\">\n  <thead>\n    <tr style=\"text-align: right;\">\n      <th></th>\n      <th>nplv</th>\n      <th>DT</th>\n      <th>МАРКА</th>\n      <th>ПРОФИЛЬ</th>\n      <th>t вып-обр</th>\n      <th>t обработка</th>\n      <th>t под током</th>\n      <th>t продувка</th>\n      <th>ПСН гр.</th>\n      <th>чист расход C</th>\n      <th>чист расход Cr</th>\n      <th>чист расход Mn</th>\n      <th>чист расход Si</th>\n      <th>чист расход V</th>\n      <th>температура первая</th>\n      <th>температура последняя</th>\n      <th>Ar (интенс.)</th>\n      <th>N2 (интенс.)</th>\n      <th>эл. энергия (интенс.)</th>\n      <th>произв жидкая сталь</th>\n      <th>произв количество обработок</th>\n      <th>произв  количество плавок</th>\n      <th>произв количество плавок (цел)</th>\n      <th>расход газ Ar</th>\n      <th>расход газ  N2</th>\n      <th>расход C пров.</th>\n      <th>сыпуч известь РП</th>\n      <th>сыпуч кварцит</th>\n      <th>сыпуч кокс пыль УСТК</th>\n      <th>сыпуч  кокс. мелочь (сух.)</th>\n      <th>сыпуч  кокс. мелочь КМ1</th>\n      <th>сыпуч  шпат плав.</th>\n      <th>ферспл CaC2</th>\n      <th>ферспл FeMo</th>\n      <th>ферспл FeSi-75</th>\n      <th>ферспл FeV азот.</th>\n      <th>ферспл  FeV-80</th>\n      <th>ферспл  Mn5Si65Al0.5</th>\n      <th>ферспл  Ni H1 пласт.</th>\n      <th>ферспл SiMn18</th>\n      <th>ферспл  ферванит</th>\n      <th>ферспл  фх850А</th>\n      <th>эл. энергия</th>\n      <th>химсталь первый Al_1</th>\n      <th>химсталь первый C_1</th>\n      <th>химсталь первый Cr_1</th>\n      <th>химсталь первый Cu_1</th>\n      <th>химсталь первый Mn_1</th>\n      <th>химсталь первый Mo_1</th>\n      <th>химсталь первый N_1</th>\n      <th>химсталь первый Ni_1</th>\n      <th>химсталь первый P_1</th>\n      <th>химсталь первый S_1</th>\n      <th>химсталь первый Si_1</th>\n      <th>химсталь первый Ti_1</th>\n      <th>химсталь первый V_1</th>\n      <th>химсталь последний Al</th>\n      <th>химсталь последний C</th>\n      <th>химсталь последний Ca</th>\n      <th>химсталь последний Cr</th>\n      <th>химсталь последний Cu</th>\n      <th>химсталь последний Mn</th>\n      <th>химсталь последний Mo</th>\n      <th>химсталь последний N</th>\n      <th>химсталь последний Ni</th>\n      <th>химсталь последний P</th>\n      <th>химсталь последний S</th>\n      <th>химсталь последний Si</th>\n      <th>химсталь последний Ti</th>\n      <th>химсталь последний V</th>\n      <th>химшлак первый Al2O3_1</th>\n      <th>химшлак первый CaO_1</th>\n      <th>химшлак первый FeO_1</th>\n      <th>химшлак первый MgO_1</th>\n      <th>химшлак первый MnO_1</th>\n      <th>химшлак первый R_1</th>\n      <th>химшлак первый SiO2_1</th>\n      <th>химшлак последний Al2O3</th>\n      <th>химшлак последний CaO</th>\n      <th>химшлак последний FeO</th>\n      <th>химшлак последний MgO</th>\n      <th>химшлак последний MnO</th>\n      <th>химшлак последний R</th>\n      <th>химшлак последний SiO2</th>\n    </tr>\n  </thead>\n  <tbody>\n    <tr>\n      <th>count</th>\n      <td>7041</td>\n      <td>7041</td>\n      <td>7041</td>\n      <td>7041</td>\n      <td>6444</td>\n      <td>6440</td>\n      <td>6440</td>\n      <td>6444</td>\n      <td>5249</td>\n      <td>6435</td>\n      <td>5883</td>\n      <td>6431</td>\n      <td>6431</td>\n      <td>6178</td>\n      <td>6436</td>\n      <td>6436</td>\n      <td>6426</td>\n      <td>1389</td>\n      <td>6440</td>\n      <td>6444</td>\n      <td>6444</td>\n      <td>6444</td>\n      <td>6444</td>\n      <td>6426</td>\n      <td>1389</td>\n      <td>724</td>\n      <td>4770</td>\n      <td>13</td>\n      <td>6422</td>\n      <td>7</td>\n      <td>6307</td>\n      <td>5910</td>\n      <td>6244</td>\n      <td>33</td>\n      <td>5</td>\n      <td>383</td>\n      <td>6179</td>\n      <td>6400</td>\n      <td>82</td>\n      <td>6398</td>\n      <td>1017</td>\n      <td>5883</td>\n      <td>6440</td>\n      <td>6444</td>\n      <td>6444</td>\n      <td>6444</td>\n      <td>6444</td>\n      <td>6444</td>\n      <td>6443</td>\n      <td>6443</td>\n      <td>6444</td>\n      <td>6444</td>\n      <td>6444</td>\n      <td>6444</td>\n      <td>6444</td>\n      <td>6444</td>\n      <td>6444</td>\n      <td>6444</td>\n      <td>6218</td>\n      <td>6444</td>\n      <td>6444</td>\n      <td>6444</td>\n      <td>6444</td>\n      <td>6442</td>\n      <td>6444</td>\n      <td>6444</td>\n      <td>6444</td>\n      <td>6444</td>\n      <td>6444</td>\n      <td>6444</td>\n      <td>4742</td>\n      <td>6444</td>\n      <td>6444</td>\n      <td>6443</td>\n      <td>6444</td>\n      <td>6444</td>\n      <td>4742</td>\n      <td>4742</td>\n      <td>6444</td>\n      <td>6444</td>\n      <td>6443</td>\n      <td>6444</td>\n      <td>6444</td>\n      <td>4742</td>\n    </tr>\n    <tr>\n      <th>unique</th>\n      <td>7041</td>\n      <td>7041</td>\n      <td>18</td>\n      <td>18</td>\n      <td>82</td>\n      <td>816</td>\n      <td>1155</td>\n      <td>831</td>\n      <td>4296</td>\n      <td>6243</td>\n      <td>3115</td>\n      <td>6320</td>\n      <td>6265</td>\n      <td>4645</td>\n      <td>154</td>\n      <td>109</td>\n      <td>6423</td>\n      <td>1389</td>\n      <td>6362</td>\n      <td>226</td>\n      <td>3</td>\n      <td>1</td>\n      <td>1</td>\n      <td>5556</td>\n      <td>1341</td>\n      <td>593</td>\n      <td>469</td>\n      <td>1</td>\n      <td>307</td>\n      <td>7</td>\n      <td>691</td>\n      <td>197</td>\n      <td>7</td>\n      <td>28</td>\n      <td>2</td>\n      <td>83</td>\n      <td>692</td>\n      <td>399</td>\n      <td>80</td>\n      <td>528</td>\n      <td>199</td>\n      <td>398</td>\n      <td>3132</td>\n      <td>6</td>\n      <td>417</td>\n      <td>371</td>\n      <td>101</td>\n      <td>404</td>\n      <td>24</td>\n      <td>18</td>\n      <td>115</td>\n      <td>18</td>\n      <td>34</td>\n      <td>384</td>\n      <td>7</td>\n      <td>28</td>\n      <td>20</td>\n      <td>226</td>\n      <td>32</td>\n      <td>206</td>\n      <td>100</td>\n      <td>261</td>\n      <td>24</td>\n      <td>17</td>\n      <td>112</td>\n      <td>19</td>\n      <td>27</td>\n      <td>256</td>\n      <td>5</td>\n      <td>54</td>\n      <td>73</td>\n      <td>298</td>\n      <td>54</td>\n      <td>236</td>\n      <td>152</td>\n      <td>32</td>\n      <td>149</td>\n      <td>70</td>\n      <td>229</td>\n      <td>16</td>\n      <td>192</td>\n      <td>61</td>\n      <td>16</td>\n      <td>116</td>\n    </tr>\n    <tr>\n      <th>top</th>\n      <td>г683863??;?</td>\n      <td>2071-01-21 12:44:00</td>\n      <td>Э76ХФ</td>\n      <td>Р65</td>\n      <td>6,0</td>\n      <td>43,0333333</td>\n      <td>19,6833333</td>\n      <td>43,0333333</td>\n      <td>2,0</td>\n      <td>0,406765</td>\n      <td>0,104904</td>\n      <td>0,132318</td>\n      <td>0,184723</td>\n      <td>0,0391018</td>\n      <td>1571,0</td>\n      <td>1579,0</td>\n      <td>14,9067961</td>\n      <td>12,6160428</td>\n      <td>12600,0</td>\n      <td>115,4</td>\n      <td>1,0</td>\n      <td>1,0</td>\n      <td>1,0</td>\n      <td>13,192</td>\n      <td>9,016</td>\n      <td>0,019448</td>\n      <td>0,063</td>\n      <td>0,02</td>\n      <td>0,05</td>\n      <td>0,417</td>\n      <td>0,384</td>\n      <td>0,041</td>\n      <td>0,02</td>\n      <td>0,021014</td>\n      <td>0,05</td>\n      <td>0,024306</td>\n      <td>0,050094</td>\n      <td>0,128</td>\n      <td>0,04919</td>\n      <td>0,219</td>\n      <td>0,025897</td>\n      <td>0,214</td>\n      <td>4199,0</td>\n      <td>0,002</td>\n      <td>0,435</td>\n      <td>0,308</td>\n      <td>0,1</td>\n      <td>0,672</td>\n      <td>0,006</td>\n      <td>0,01</td>\n      <td>0,071</td>\n      <td>0,008</td>\n      <td>0,019</td>\n      <td>0,449</td>\n      <td>0,002</td>\n      <td>0,002</td>\n      <td>0,003</td>\n      <td>0,762</td>\n      <td>0,0002</td>\n      <td>0,418</td>\n      <td>0,103</td>\n      <td>0,789</td>\n      <td>0,006</td>\n      <td>0,012</td>\n      <td>0,071</td>\n      <td>0,009</td>\n      <td>0,015</td>\n      <td>0,566</td>\n      <td>0,003</td>\n      <td>0,037</td>\n      <td>3,7</td>\n      <td>53,4</td>\n      <td>0,4</td>\n      <td>11,3</td>\n      <td>0,11</td>\n      <td>2,2</td>\n      <td>21,7</td>\n      <td>4,4</td>\n      <td>57,6</td>\n      <td>0,5</td>\n      <td>8,7</td>\n      <td>0,08</td>\n      <td>2,2</td>\n      <td>26,0</td>\n    </tr>\n    <tr>\n      <th>freq</th>\n      <td>1</td>\n      <td>1</td>\n      <td>4953</td>\n      <td>6427</td>\n      <td>227</td>\n      <td>53</td>\n      <td>32</td>\n      <td>56</td>\n      <td>526</td>\n      <td>3</td>\n      <td>17</td>\n      <td>3</td>\n      <td>2</td>\n      <td>9</td>\n      <td>134</td>\n      <td>282</td>\n      <td>2</td>\n      <td>1</td>\n      <td>4</td>\n      <td>124</td>\n      <td>6391</td>\n      <td>6444</td>\n      <td>6444</td>\n      <td>5</td>\n      <td>3</td>\n      <td>4</td>\n      <td>87</td>\n      <td>13</td>\n      <td>5873</td>\n      <td>1</td>\n      <td>34</td>\n      <td>250</td>\n      <td>6137</td>\n      <td>3</td>\n      <td>4</td>\n      <td>14</td>\n      <td>81</td>\n      <td>61</td>\n      <td>2</td>\n      <td>45</td>\n      <td>23</td>\n      <td>60</td>\n      <td>11</td>\n      <td>4656</td>\n      <td>62</td>\n      <td>91</td>\n      <td>236</td>\n      <td>73</td>\n      <td>1783</td>\n      <td>1751</td>\n      <td>308</td>\n      <td>1410</td>\n      <td>904</td>\n      <td>105</td>\n      <td>3727</td>\n      <td>2929</td>\n      <td>4526</td>\n      <td>166</td>\n      <td>1816</td>\n      <td>660</td>\n      <td>240</td>\n      <td>353</td>\n      <td>1590</td>\n      <td>1305</td>\n      <td>324</td>\n      <td>1363</td>\n      <td>1076</td>\n      <td>229</td>\n      <td>4764</td>\n      <td>1793</td>\n      <td>263</td>\n      <td>58</td>\n      <td>1056</td>\n      <td>96</td>\n      <td>470</td>\n      <td>915</td>\n      <td>100</td>\n      <td>243</td>\n      <td>102</td>\n      <td>1235</td>\n      <td>88</td>\n      <td>723</td>\n      <td>1483</td>\n      <td>142</td>\n    </tr>\n  </tbody>\n</table>\n</div>"
     },
     "execution_count": 3,
     "metadata": {},
     "output_type": "execute_result"
    }
   ],
   "source": [
    "data = pd.read_csv(RAW_DATA, sep=';', index_col='index')\n",
    "data.describe()"
   ],
   "metadata": {
    "collapsed": false,
    "pycharm": {
     "name": "#%%\n"
    }
   }
  },
  {
   "cell_type": "markdown",
   "source": [
    "Нахождение самой популярной марки"
   ],
   "metadata": {
    "collapsed": false,
    "pycharm": {
     "name": "#%% md\n"
    }
   }
  },
  {
   "cell_type": "code",
   "execution_count": 4,
   "outputs": [
    {
     "name": "stdout",
     "output_type": "stream",
     "text": [
      "Самая популярная марка -  Э76ХФ\n"
     ]
    }
   ],
   "source": [
    "top_mark = data.describe().loc[\"top\", \"МАРКА\"]\n",
    "print(\"Самая популярная марка - \", top_mark)"
   ],
   "metadata": {
    "collapsed": false,
    "pycharm": {
     "name": "#%%\n"
    }
   }
  },
  {
   "cell_type": "markdown",
   "source": [
    "Процент пропущенных значений в датасете"
   ],
   "metadata": {
    "collapsed": false,
    "pycharm": {
     "name": "#%% md\n"
    }
   }
  },
  {
   "cell_type": "code",
   "execution_count": 5,
   "outputs": [
    {
     "data": {
      "text/plain": "ферспл FeSi-75                0.999290\nсыпуч  кокс. мелочь (сух.)    0.999006\nсыпуч кварцит                 0.998154\nферспл FeMo                   0.995313\nферспл  Ni H1 пласт.          0.988354\nферспл FeV азот.              0.945604\nрасход C пров.                0.897174\nферспл  ферванит              0.855560\nрасход газ  N2                0.802727\nN2 (интенс.)                  0.802727\nхимшлак первый SiO2_1         0.326516\nхимшлак последний Al2O3       0.326516\nхимшлак первый Al2O3_1        0.326516\nхимшлак последний SiO2        0.326516\nсыпуч известь РП              0.322539\ndtype: float64"
     },
     "execution_count": 5,
     "metadata": {},
     "output_type": "execute_result"
    }
   ],
   "source": [
    "data.isnull().sum().sort_values(ascending= False).apply(lambda x : x / data.shape[0])[:15]"
   ],
   "metadata": {
    "collapsed": false,
    "pycharm": {
     "name": "#%%\n"
    }
   }
  },
  {
   "cell_type": "markdown",
   "source": [
    "Перевод даты во время изготовления сплава"
   ],
   "metadata": {
    "collapsed": false,
    "pycharm": {
     "name": "#%% md\n"
    }
   }
  },
  {
   "cell_type": "code",
   "execution_count": 6,
   "outputs": [],
   "source": [
    "data['DT'] = sf.date_to_interval(data['DT'])"
   ],
   "metadata": {
    "collapsed": false,
    "pycharm": {
     "name": "#%%\n"
    }
   }
  },
  {
   "cell_type": "markdown",
   "source": [
    "Оставляем колонки с > 65% известных данных"
   ],
   "metadata": {
    "collapsed": false,
    "pycharm": {
     "name": "#%% md\n"
    }
   }
  },
  {
   "cell_type": "code",
   "execution_count": 7,
   "outputs": [
    {
     "name": "stdout",
     "output_type": "stream",
     "text": [
      "Удаленные колонки: N2 (интенс.), расход газ  N2, расход C пров., сыпуч кварцит, сыпуч  кокс. мелочь (сух.), ферспл FeMo, ферспл FeSi-75, ферспл FeV азот., ферспл  Ni H1 пласт., ферспл  ферванит\n"
     ]
    }
   ],
   "source": [
    "dropped_data = sf.drop_columns(data,0.65)"
   ],
   "metadata": {
    "collapsed": false,
    "pycharm": {
     "name": "#%%\n"
    }
   }
  },
  {
   "cell_type": "code",
   "execution_count": 8,
   "outputs": [],
   "source": [
    "#part_nan = dropped_data.isnull().sum().sort_values(ascending= False).apply(lambda x : x / data.shape[0])"
   ],
   "metadata": {
    "collapsed": false,
    "pycharm": {
     "name": "#%%\n"
    }
   }
  },
  {
   "cell_type": "markdown",
   "source": [
    "Зануляем показатели трети хим анализа"
   ],
   "metadata": {
    "collapsed": false,
    "pycharm": {
     "name": "#%% md\n"
    }
   }
  },
  {
   "cell_type": "code",
   "execution_count": 9,
   "outputs": [],
   "source": [
    "listd = []\n",
    "for column in data.columns:\n",
    "    if 'хим' in column:\n",
    "        listd.append(column)"
   ],
   "metadata": {
    "collapsed": false,
    "pycharm": {
     "name": "#%%\n"
    }
   }
  },
  {
   "cell_type": "code",
   "execution_count": 10,
   "outputs": [
    {
     "name": "stderr",
     "output_type": "stream",
     "text": [
      "C:\\Users\\vasya\\anaconda3\\lib\\site-packages\\pandas\\core\\frame.py:3065: SettingWithCopyWarning: \n",
      "A value is trying to be set on a copy of a slice from a DataFrame.\n",
      "Try using .loc[row_indexer,col_indexer] = value instead\n",
      "\n",
      "See the caveats in the documentation: https://pandas.pydata.org/pandas-docs/stable/user_guide/indexing.html#returning-a-view-versus-a-copy\n",
      "  self[k1] = value[k2]\n"
     ]
    }
   ],
   "source": [
    "dropped_data[listd] = dropped_data[listd].fillna(0)"
   ],
   "metadata": {
    "collapsed": false,
    "pycharm": {
     "name": "#%%\n"
    }
   }
  },
  {
   "cell_type": "code",
   "execution_count": 12,
   "outputs": [],
   "source": [
    "str_columns = ['ПРОФИЛЬ','МАРКА','nplv','DT']\n",
    "all_columns = dropped_data.columns.to_list()\n",
    "result_columns = list(set(all_columns) - set(str_columns))"
   ],
   "metadata": {
    "collapsed": false,
    "pycharm": {
     "name": "#%%\n"
    }
   }
  },
  {
   "cell_type": "code",
   "execution_count": 13,
   "outputs": [],
   "source": [
    "trunc_data = dropped_data[result_columns].apply(lambda x:\n",
    "                                                 x.str.replace(',', '.').astype(float))"
   ],
   "metadata": {
    "collapsed": false,
    "pycharm": {
     "name": "#%%\n"
    }
   }
  },
  {
   "cell_type": "code",
   "execution_count": 14,
   "outputs": [
    {
     "ename": "KeyboardInterrupt",
     "evalue": "",
     "output_type": "error",
     "traceback": [
      "\u001B[1;31m---------------------------------------------------------------------------\u001B[0m",
      "\u001B[1;31mKeyboardInterrupt\u001B[0m                         Traceback (most recent call last)",
      "\u001B[1;32m<ipython-input-14-ebf38afcb9be>\u001B[0m in \u001B[0;36m<module>\u001B[1;34m\u001B[0m\n\u001B[0;32m      1\u001B[0m \u001B[1;32mfrom\u001B[0m \u001B[0mimpyute\u001B[0m\u001B[1;33m.\u001B[0m\u001B[0mimputation\u001B[0m\u001B[1;33m.\u001B[0m\u001B[0mcs\u001B[0m \u001B[1;32mimport\u001B[0m \u001B[0mmice\u001B[0m\u001B[1;33m\u001B[0m\u001B[1;33m\u001B[0m\u001B[0m\n\u001B[0;32m      2\u001B[0m \u001B[1;33m\u001B[0m\u001B[0m\n\u001B[1;32m----> 3\u001B[1;33m \u001B[0mimputed_training\u001B[0m \u001B[1;33m=\u001B[0m \u001B[0mmice\u001B[0m\u001B[1;33m(\u001B[0m\u001B[0mtrunc_data\u001B[0m\u001B[1;33m.\u001B[0m\u001B[0mvalues\u001B[0m\u001B[1;33m)\u001B[0m\u001B[1;33m\u001B[0m\u001B[1;33m\u001B[0m\u001B[0m\n\u001B[0m",
      "\u001B[1;32m~\\anaconda3\\lib\\site-packages\\impyute\\util\\preprocess.py\u001B[0m in \u001B[0;36mwrapper\u001B[1;34m(*args, **kwargs)\u001B[0m\n\u001B[0;32m     53\u001B[0m             \u001B[1;32mreturn\u001B[0m \u001B[0mpd_DataFrame\u001B[0m\u001B[1;33m(\u001B[0m\u001B[0mfn\u001B[0m\u001B[1;33m(\u001B[0m\u001B[1;33m*\u001B[0m\u001B[0margs\u001B[0m\u001B[1;33m,\u001B[0m \u001B[1;33m**\u001B[0m\u001B[0mkwargs\u001B[0m\u001B[1;33m)\u001B[0m\u001B[1;33m)\u001B[0m\u001B[1;33m\u001B[0m\u001B[1;33m\u001B[0m\u001B[0m\n\u001B[0;32m     54\u001B[0m         \u001B[1;32melse\u001B[0m\u001B[1;33m:\u001B[0m\u001B[1;33m\u001B[0m\u001B[1;33m\u001B[0m\u001B[0m\n\u001B[1;32m---> 55\u001B[1;33m             \u001B[1;32mreturn\u001B[0m \u001B[0mfn\u001B[0m\u001B[1;33m(\u001B[0m\u001B[1;33m*\u001B[0m\u001B[0margs\u001B[0m\u001B[1;33m,\u001B[0m \u001B[1;33m**\u001B[0m\u001B[0mkwargs\u001B[0m\u001B[1;33m)\u001B[0m\u001B[1;33m\u001B[0m\u001B[1;33m\u001B[0m\u001B[0m\n\u001B[0m\u001B[0;32m     56\u001B[0m \u001B[1;33m\u001B[0m\u001B[0m\n\u001B[0;32m     57\u001B[0m     \u001B[1;32mreturn\u001B[0m \u001B[0mwrapper\u001B[0m\u001B[1;33m\u001B[0m\u001B[1;33m\u001B[0m\u001B[0m\n",
      "\u001B[1;32m~\\anaconda3\\lib\\site-packages\\impyute\\util\\checks.py\u001B[0m in \u001B[0;36mwrapper\u001B[1;34m(*args, **kwargs)\u001B[0m\n\u001B[0;32m     34\u001B[0m         \u001B[1;32melif\u001B[0m \u001B[1;32mnot\u001B[0m \u001B[0m_nan_exists\u001B[0m\u001B[1;33m(\u001B[0m\u001B[0mdata\u001B[0m\u001B[1;33m)\u001B[0m\u001B[1;33m:\u001B[0m\u001B[1;33m\u001B[0m\u001B[1;33m\u001B[0m\u001B[0m\n\u001B[0;32m     35\u001B[0m             \u001B[1;32mraise\u001B[0m \u001B[0mBadInputError\u001B[0m\u001B[1;33m(\u001B[0m\u001B[1;34m\"No NaN's in given data\"\u001B[0m\u001B[1;33m)\u001B[0m\u001B[1;33m\u001B[0m\u001B[1;33m\u001B[0m\u001B[0m\n\u001B[1;32m---> 36\u001B[1;33m         \u001B[1;32mreturn\u001B[0m \u001B[0mfn\u001B[0m\u001B[1;33m(\u001B[0m\u001B[1;33m*\u001B[0m\u001B[0margs\u001B[0m\u001B[1;33m,\u001B[0m \u001B[1;33m**\u001B[0m\u001B[0mkwargs\u001B[0m\u001B[1;33m)\u001B[0m\u001B[1;33m\u001B[0m\u001B[1;33m\u001B[0m\u001B[0m\n\u001B[0m\u001B[0;32m     37\u001B[0m     \u001B[1;32mreturn\u001B[0m \u001B[0mwrapper\u001B[0m\u001B[1;33m\u001B[0m\u001B[1;33m\u001B[0m\u001B[0m\n\u001B[0;32m     38\u001B[0m \u001B[1;33m\u001B[0m\u001B[0m\n",
      "\u001B[1;32m~\\anaconda3\\lib\\site-packages\\impyute\\imputation\\cs\\mice.py\u001B[0m in \u001B[0;36mmice\u001B[1;34m(data, **kwargs)\u001B[0m\n\u001B[0;32m     65\u001B[0m         \u001B[0mx_train\u001B[0m\u001B[1;33m,\u001B[0m \u001B[0my_train\u001B[0m \u001B[1;33m=\u001B[0m \u001B[1;33m[\u001B[0m\u001B[1;33m]\u001B[0m\u001B[1;33m,\u001B[0m \u001B[1;33m[\u001B[0m\u001B[1;33m]\u001B[0m\u001B[1;33m\u001B[0m\u001B[1;33m\u001B[0m\u001B[0m\n\u001B[0;32m     66\u001B[0m         \u001B[1;32mfor\u001B[0m \u001B[0mx_i\u001B[0m \u001B[1;32min\u001B[0m \u001B[1;33m(\u001B[0m\u001B[0mx_i\u001B[0m \u001B[1;32mfor\u001B[0m \u001B[0mx_i\u001B[0m \u001B[1;32min\u001B[0m \u001B[0mrange\u001B[0m\u001B[1;33m(\u001B[0m\u001B[0mlen\u001B[0m\u001B[1;33m(\u001B[0m\u001B[0mdata\u001B[0m\u001B[1;33m)\u001B[0m\u001B[1;33m)\u001B[0m \u001B[1;32mif\u001B[0m \u001B[0mx_i\u001B[0m \u001B[1;32mnot\u001B[0m \u001B[1;32min\u001B[0m \u001B[0mmissing_xs\u001B[0m\u001B[1;33m)\u001B[0m\u001B[1;33m:\u001B[0m\u001B[1;33m\u001B[0m\u001B[1;33m\u001B[0m\u001B[0m\n\u001B[1;32m---> 67\u001B[1;33m             \u001B[0mx_train\u001B[0m\u001B[1;33m.\u001B[0m\u001B[0mappend\u001B[0m\u001B[1;33m(\u001B[0m\u001B[0mnp\u001B[0m\u001B[1;33m.\u001B[0m\u001B[0mdelete\u001B[0m\u001B[1;33m(\u001B[0m\u001B[0mdata\u001B[0m\u001B[1;33m[\u001B[0m\u001B[0mx_i\u001B[0m\u001B[1;33m]\u001B[0m\u001B[1;33m,\u001B[0m \u001B[0mdependent_col\u001B[0m\u001B[1;33m)\u001B[0m\u001B[1;33m)\u001B[0m\u001B[1;33m\u001B[0m\u001B[1;33m\u001B[0m\u001B[0m\n\u001B[0m\u001B[0;32m     68\u001B[0m             \u001B[0my_train\u001B[0m\u001B[1;33m.\u001B[0m\u001B[0mappend\u001B[0m\u001B[1;33m(\u001B[0m\u001B[0mdata\u001B[0m\u001B[1;33m[\u001B[0m\u001B[0mx_i\u001B[0m\u001B[1;33m]\u001B[0m\u001B[1;33m[\u001B[0m\u001B[0mdependent_col\u001B[0m\u001B[1;33m]\u001B[0m\u001B[1;33m)\u001B[0m\u001B[1;33m\u001B[0m\u001B[1;33m\u001B[0m\u001B[0m\n\u001B[0;32m     69\u001B[0m         \u001B[0mmodel\u001B[0m \u001B[1;33m=\u001B[0m \u001B[0mLinearRegression\u001B[0m\u001B[1;33m(\u001B[0m\u001B[1;33m)\u001B[0m\u001B[1;33m\u001B[0m\u001B[1;33m\u001B[0m\u001B[0m\n",
      "\u001B[1;32m<__array_function__ internals>\u001B[0m in \u001B[0;36mdelete\u001B[1;34m(*args, **kwargs)\u001B[0m\n",
      "\u001B[1;32m~\\anaconda3\\lib\\site-packages\\numpy\\lib\\function_base.py\u001B[0m in \u001B[0;36mdelete\u001B[1;34m(arr, obj, axis)\u001B[0m\n\u001B[0;32m   4387\u001B[0m         \u001B[0mslobj2\u001B[0m \u001B[1;33m=\u001B[0m \u001B[1;33m[\u001B[0m\u001B[0mslice\u001B[0m\u001B[1;33m(\u001B[0m\u001B[1;32mNone\u001B[0m\u001B[1;33m)\u001B[0m\u001B[1;33m]\u001B[0m\u001B[1;33m*\u001B[0m\u001B[0mndim\u001B[0m\u001B[1;33m\u001B[0m\u001B[1;33m\u001B[0m\u001B[0m\n\u001B[0;32m   4388\u001B[0m         \u001B[0mslobj2\u001B[0m\u001B[1;33m[\u001B[0m\u001B[0maxis\u001B[0m\u001B[1;33m]\u001B[0m \u001B[1;33m=\u001B[0m \u001B[0mslice\u001B[0m\u001B[1;33m(\u001B[0m\u001B[0mobj\u001B[0m\u001B[1;33m+\u001B[0m\u001B[1;36m1\u001B[0m\u001B[1;33m,\u001B[0m \u001B[1;32mNone\u001B[0m\u001B[1;33m)\u001B[0m\u001B[1;33m\u001B[0m\u001B[1;33m\u001B[0m\u001B[0m\n\u001B[1;32m-> 4389\u001B[1;33m         \u001B[0mnew\u001B[0m\u001B[1;33m[\u001B[0m\u001B[0mtuple\u001B[0m\u001B[1;33m(\u001B[0m\u001B[0mslobj\u001B[0m\u001B[1;33m)\u001B[0m\u001B[1;33m]\u001B[0m \u001B[1;33m=\u001B[0m \u001B[0marr\u001B[0m\u001B[1;33m[\u001B[0m\u001B[0mtuple\u001B[0m\u001B[1;33m(\u001B[0m\u001B[0mslobj2\u001B[0m\u001B[1;33m)\u001B[0m\u001B[1;33m]\u001B[0m\u001B[1;33m\u001B[0m\u001B[1;33m\u001B[0m\u001B[0m\n\u001B[0m\u001B[0;32m   4390\u001B[0m     \u001B[1;32melse\u001B[0m\u001B[1;33m:\u001B[0m\u001B[1;33m\u001B[0m\u001B[1;33m\u001B[0m\u001B[0m\n\u001B[0;32m   4391\u001B[0m         \u001B[0m_obj\u001B[0m \u001B[1;33m=\u001B[0m \u001B[0mobj\u001B[0m\u001B[1;33m\u001B[0m\u001B[1;33m\u001B[0m\u001B[0m\n",
      "\u001B[1;31mKeyboardInterrupt\u001B[0m: "
     ]
    }
   ],
   "source": [
    "from impyute.imputation.cs import mice\n",
    "\n",
    "imputed_training = mice(trunc_data.values)"
   ],
   "metadata": {
    "collapsed": false,
    "pycharm": {
     "name": "#%%\n"
    }
   }
  },
  {
   "cell_type": "code",
   "execution_count": null,
   "outputs": [],
   "source": [
    "dropped_data[result_columns] = imputed_training"
   ],
   "metadata": {
    "collapsed": false,
    "pycharm": {
     "name": "#%%\n"
    }
   }
  },
  {
   "cell_type": "code",
   "execution_count": null,
   "outputs": [],
   "source": [
    "import seaborn as sns\n",
    "import matplotlib.pyplot as plt\n",
    "\n",
    "\n",
    "plt.figure(figsize=(7, 7))\n",
    "sns.distplot(dropped_data['химшлак последний Al2O3'], color='g', bins=100, hist_kws={'alpha': 0.4}, vertical=True)\n",
    "#plt.show()\n",
    "plt.savefig(f'{SOURCE_DATA}target_range_1.png')"
   ],
   "metadata": {
    "collapsed": false,
    "pycharm": {
     "name": "#%%\n"
    }
   }
  },
  {
   "cell_type": "code",
   "execution_count": null,
   "outputs": [],
   "source": [
    "plt.figure(figsize=(7, 7))\n",
    "sns.distplot(dropped_data['химшлак последний CaO'], color='r', bins=100, hist_kws={'alpha': 0.4}, vertical=True)\n",
    "#plt.show()\n",
    "plt.savefig(f'{SOURCE_DATA}target_range_2.png')"
   ],
   "metadata": {
    "collapsed": false,
    "pycharm": {
     "name": "#%%\n"
    }
   }
  },
  {
   "cell_type": "code",
   "execution_count": null,
   "outputs": [],
   "source": [
    "plt.figure(figsize=(7, 7))\n",
    "sns.distplot(dropped_data['химшлак последний R'], color='g', bins=100, hist_kws={'alpha': 0.4}, vertical=True)\n",
    "plt.show()\n",
    "plt.savefig(f'{SOURCE_DATA}target_range_3.png')"
   ],
   "metadata": {
    "collapsed": false,
    "pycharm": {
     "name": "#%%\n"
    }
   }
  },
  {
   "cell_type": "code",
   "execution_count": null,
   "outputs": [],
   "source": [
    "plt.figure(figsize=(7, 7))\n",
    "sns.distplot(dropped_data['химшлак последний SiO2'], color='r', bins=100, hist_kws={'alpha': 0.4}, vertical=True)\n",
    "plt.show()\n",
    "plt.savefig(f'{SOURCE_DATA}target_range_4.png')"
   ],
   "metadata": {
    "collapsed": false,
    "pycharm": {
     "name": "#%%\n"
    }
   }
  },
  {
   "cell_type": "code",
   "execution_count": null,
   "outputs": [],
   "source": [
    "corr_data = dropped_data.drop(columns=target_columns).corr()\n",
    "\n",
    "plt.figure(figsize=(52, 50))\n",
    "\n",
    "sns.heatmap(corr_data[(corr_data >= 0.5) | (corr_data <= -0.4)],\n",
    "            cmap='viridis', vmax=1.0, vmin=-1.0, linewidths=0.1,\n",
    "            annot=True, annot_kws={\"size\": 8}, square=True)\n",
    "plt.savefig(f'{SOURCE_DATA}correletion_map.png')"
   ],
   "metadata": {
    "collapsed": false,
    "pycharm": {
     "name": "#%%\n"
    }
   }
  },
  {
   "cell_type": "code",
   "execution_count": null,
   "outputs": [],
   "source": [],
   "metadata": {
    "collapsed": false,
    "pycharm": {
     "name": "#%%\n"
    }
   }
  },
  {
   "cell_type": "code",
   "execution_count": null,
   "outputs": [],
   "source": [
    "dropped_data.to_csv(POST_PROCESSING_DATA, sep='\\t', index=False)"
   ],
   "metadata": {
    "collapsed": false,
    "pycharm": {
     "name": "#%%\n"
    }
   }
  },
  {
   "cell_type": "code",
   "execution_count": null,
   "outputs": [],
   "source": [],
   "metadata": {
    "collapsed": false,
    "pycharm": {
     "name": "#%%\n"
    }
   }
  },
  {
   "cell_type": "code",
   "execution_count": null,
   "outputs": [],
   "source": [],
   "metadata": {
    "collapsed": false,
    "pycharm": {
     "name": "#%%\n"
    }
   }
  },
  {
   "cell_type": "code",
   "execution_count": null,
   "outputs": [],
   "source": [],
   "metadata": {
    "collapsed": false,
    "pycharm": {
     "name": "#%%\n"
    }
   }
  },
  {
   "cell_type": "code",
   "execution_count": null,
   "outputs": [],
   "source": [],
   "metadata": {
    "collapsed": false,
    "pycharm": {
     "name": "#%%\n"
    }
   }
  }
 ],
 "metadata": {
  "kernelspec": {
   "display_name": "Python 3",
   "language": "python",
   "name": "python3"
  },
  "language_info": {
   "codemirror_mode": {
    "name": "ipython",
    "version": 2
   },
   "file_extension": ".py",
   "mimetype": "text/x-python",
   "name": "python",
   "nbconvert_exporter": "python",
   "pygments_lexer": "ipython2",
   "version": "2.7.6"
  }
 },
 "nbformat": 4,
 "nbformat_minor": 0
}