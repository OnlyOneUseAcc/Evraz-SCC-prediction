{
 "cells": [
  {
   "cell_type": "code",
   "execution_count": 1,
   "metadata": {
    "collapsed": true
   },
   "outputs": [],
   "source": [
    "import pandas as pd\n",
    "import numpy as np"
   ]
  },
  {
   "cell_type": "code",
   "execution_count": 4,
   "outputs": [],
   "source": [
    "RAW_DATA = 'evras.csv'\n",
    "POST_PROCESSING_DATA = 'post_evras.csv'\n",
    "pd.options.display.max_columns = 90"
   ],
   "metadata": {
    "collapsed": false,
    "pycharm": {
     "name": "#%%\n"
    }
   }
  },
  {
   "cell_type": "code",
   "execution_count": 42,
   "outputs": [
    {
     "name": "stdout",
     "output_type": "stream",
     "text": [
      "<class 'pandas.core.frame.DataFrame'>\n",
      "Int64Index: 7041 entries, 0 to 7040\n",
      "Data columns (total 84 columns):\n",
      " #   Column                          Non-Null Count  Dtype \n",
      "---  ------                          --------------  ----- \n",
      " 0   nplv                            7041 non-null   object\n",
      " 1   DT                              7041 non-null   object\n",
      " 2   МАРКА                           7041 non-null   object\n",
      " 3   ПРОФИЛЬ                         7041 non-null   object\n",
      " 4   t вып-обр                       6444 non-null   object\n",
      " 5   t обработка                     6440 non-null   object\n",
      " 6   t под током                     6440 non-null   object\n",
      " 7   t продувка                      6444 non-null   object\n",
      " 8   ПСН гр.                         5249 non-null   object\n",
      " 9   чист расход C                   6435 non-null   object\n",
      " 10  чист расход Cr                  5883 non-null   object\n",
      " 11  чист расход Mn                  6431 non-null   object\n",
      " 12  чист расход Si                  6431 non-null   object\n",
      " 13  чист расход V                   6178 non-null   object\n",
      " 14  температура первая              6436 non-null   object\n",
      " 15  температура последняя           6436 non-null   object\n",
      " 16  Ar (интенс.)                    6426 non-null   object\n",
      " 17  N2 (интенс.)                    1389 non-null   object\n",
      " 18  эл. энергия (интенс.)           6440 non-null   object\n",
      " 19  произв жидкая сталь             6444 non-null   object\n",
      " 20  произв количество обработок     6444 non-null   object\n",
      " 21  произв  количество плавок       6444 non-null   object\n",
      " 22  произв количество плавок (цел)  6444 non-null   object\n",
      " 23  расход газ Ar                   6426 non-null   object\n",
      " 24  расход газ  N2                  1389 non-null   object\n",
      " 25  расход C пров.                  724 non-null    object\n",
      " 26  сыпуч известь РП                4770 non-null   object\n",
      " 27  сыпуч кварцит                   13 non-null     object\n",
      " 28  сыпуч кокс пыль УСТК            6422 non-null   object\n",
      " 29  сыпуч  кокс. мелочь (сух.)      7 non-null      object\n",
      " 30  сыпуч  кокс. мелочь КМ1         6307 non-null   object\n",
      " 31  сыпуч  шпат плав.               5910 non-null   object\n",
      " 32  ферспл CaC2                     6244 non-null   object\n",
      " 33  ферспл FeMo                     33 non-null     object\n",
      " 34  ферспл FeSi-75                  5 non-null      object\n",
      " 35  ферспл FeV азот.                383 non-null    object\n",
      " 36  ферспл  FeV-80                  6179 non-null   object\n",
      " 37  ферспл  Mn5Si65Al0.5            6400 non-null   object\n",
      " 38  ферспл  Ni H1 пласт.            82 non-null     object\n",
      " 39  ферспл SiMn18                   6398 non-null   object\n",
      " 40  ферспл  ферванит                1017 non-null   object\n",
      " 41  ферспл  фх850А                  5883 non-null   object\n",
      " 42  эл. энергия                     6440 non-null   object\n",
      " 43  химсталь первый Al_1            6444 non-null   object\n",
      " 44  химсталь первый C_1             6444 non-null   object\n",
      " 45  химсталь первый Cr_1            6444 non-null   object\n",
      " 46  химсталь первый Cu_1            6444 non-null   object\n",
      " 47  химсталь первый Mn_1            6444 non-null   object\n",
      " 48  химсталь первый Mo_1            6443 non-null   object\n",
      " 49  химсталь первый N_1             6443 non-null   object\n",
      " 50  химсталь первый Ni_1            6444 non-null   object\n",
      " 51  химсталь первый P_1             6444 non-null   object\n",
      " 52  химсталь первый S_1             6444 non-null   object\n",
      " 53  химсталь первый Si_1            6444 non-null   object\n",
      " 54  химсталь первый Ti_1            6444 non-null   object\n",
      " 55  химсталь первый V_1             6444 non-null   object\n",
      " 56  химсталь последний Al           6444 non-null   object\n",
      " 57  химсталь последний C            6444 non-null   object\n",
      " 58  химсталь последний Ca           6218 non-null   object\n",
      " 59  химсталь последний Cr           6444 non-null   object\n",
      " 60  химсталь последний Cu           6444 non-null   object\n",
      " 61  химсталь последний Mn           6444 non-null   object\n",
      " 62  химсталь последний Mo           6444 non-null   object\n",
      " 63  химсталь последний N            6442 non-null   object\n",
      " 64  химсталь последний Ni           6444 non-null   object\n",
      " 65  химсталь последний P            6444 non-null   object\n",
      " 66  химсталь последний S            6444 non-null   object\n",
      " 67  химсталь последний Si           6444 non-null   object\n",
      " 68  химсталь последний Ti           6444 non-null   object\n",
      " 69  химсталь последний V            6444 non-null   object\n",
      " 70  химшлак первый Al2O3_1          4742 non-null   object\n",
      " 71  химшлак первый CaO_1            6444 non-null   object\n",
      " 72  химшлак первый FeO_1            6444 non-null   object\n",
      " 73  химшлак первый MgO_1            6443 non-null   object\n",
      " 74  химшлак первый MnO_1            6444 non-null   object\n",
      " 75  химшлак первый R_1              6444 non-null   object\n",
      " 76  химшлак первый SiO2_1           4742 non-null   object\n",
      " 77  химшлак последний Al2O3         4742 non-null   object\n",
      " 78  химшлак последний CaO           6444 non-null   object\n",
      " 79  химшлак последний FeO           6444 non-null   object\n",
      " 80  химшлак последний MgO           6443 non-null   object\n",
      " 81  химшлак последний MnO           6444 non-null   object\n",
      " 82  химшлак последний R             6444 non-null   object\n",
      " 83  химшлак последний SiO2          4742 non-null   object\n",
      "dtypes: object(84)\n",
      "memory usage: 4.6+ MB\n"
     ]
    }
   ],
   "source": [
    "data = pd.read_csv(RAW_DATA, sep=';', index_col='index')\n",
    "data.info()"
   ],
   "metadata": {
    "collapsed": false,
    "pycharm": {
     "name": "#%%\n"
    }
   }
  },
  {
   "cell_type": "code",
   "execution_count": 43,
   "outputs": [
    {
     "data": {
      "text/plain": "               nplv                   DT  МАРКА ПРОФИЛЬ t вып-обр t обработка  \\\ncount          7041                 7041   7041    7041      6444        6440   \nunique         7041                 7041     18      18        82         816   \ntop     г6838636=>>  2070-12-26 23:26:00  Э76ХФ     Р65       6,0  43,0333333   \nfreq              1                    1   4953    6427       227          53   \n\n       t под током  t продувка ПСН гр. чист расход C чист расход Cr  \\\ncount         6440        6444    5249          6435           5883   \nunique        1155         831    4296          6243           3115   \ntop     19,6833333  43,0333333     2,0       0,39118       0,104904   \nfreq            32          56     526             3             17   \n\n       чист расход Mn чист расход Si чист расход V температура первая  \\\ncount            6431           6431          6178               6436   \nunique           6320           6265          4645                154   \ntop           0,14244        0,16899     0,0388151             1571,0   \nfreq                3              2             9                134   \n\n       температура последняя Ar (интенс.) N2 (интенс.) эл. энергия (интенс.)  \\\ncount                   6436         6426         1389                  6440   \nunique                   109         6423         1389                  6362   \ntop                   1579,0   14,9067961   12,5963039               13200,0   \nfreq                     282            2            1                     4   \n\n       произв жидкая сталь произв количество обработок  \\\ncount                 6444                        6444   \nunique                 226                           3   \ntop                  115,4                         1,0   \nfreq                   124                        6391   \n\n       произв  количество плавок произв количество плавок (цел) расход газ Ar  \\\ncount                       6444                           6444          6426   \nunique                         1                              1          5556   \ntop                          1,0                            1,0        13,192   \nfreq                        6444                           6444             5   \n\n       расход газ  N2 расход C пров. сыпуч известь РП сыпуч кварцит  \\\ncount            1389            724             4770            13   \nunique           1341            593              469             1   \ntop             9,016       0,019448            0,063          0,02   \nfreq                3              4               87            13   \n\n       сыпуч кокс пыль УСТК сыпуч  кокс. мелочь (сух.)  \\\ncount                  6422                          7   \nunique                  307                          7   \ntop                    0,05        0,42100000000000004   \nfreq                   5873                          1   \n\n       сыпуч  кокс. мелочь КМ1 сыпуч  шпат плав. ферспл CaC2 ферспл FeMo  \\\ncount                     6307              5910        6244          33   \nunique                     691               197           7          28   \ntop                      0,368             0,041        0,02    0,021014   \nfreq                        34               250        6137           3   \n\n       ферспл FeSi-75 ферспл FeV азот. ферспл  FeV-80 ферспл  Mn5Si65Al0.5  \\\ncount               5              383           6179                 6400   \nunique              2               83            692                  399   \ntop              0,05         0,024306       0,050094                0,128   \nfreq                4               14             81                   61   \n\n       ферспл  Ni H1 пласт. ферспл SiMn18 ферспл  ферванит ферспл  фх850А  \\\ncount                    82          6398             1017           5883   \nunique                   80           528              199            398   \ntop                 0,04919         0,219         0,025897          0,214   \nfreq                      2            45               23             60   \n\n       эл. энергия химсталь первый Al_1 химсталь первый C_1  \\\ncount         6440                 6444                6444   \nunique        3132                    6                 417   \ntop         4199,0                0,002               0,435   \nfreq            11                 4656                  62   \n\n       химсталь первый Cr_1 химсталь первый Cu_1 химсталь первый Mn_1  \\\ncount                  6444                 6444                 6444   \nunique                  371                  101                  404   \ntop                   0,315                  0,1                0,672   \nfreq                     91                  236                   73   \n\n       химсталь первый Mo_1 химсталь первый N_1 химсталь первый Ni_1  \\\ncount                  6443                6443                 6444   \nunique                   24                  18                  115   \ntop                   0,006                0,01                0,071   \nfreq                   1783                1751                  308   \n\n       химсталь первый P_1 химсталь первый S_1 химсталь первый Si_1  \\\ncount                 6444                6444                 6444   \nunique                  18                  34                  384   \ntop                  0,008               0,019                0,449   \nfreq                  1410                 904                  105   \n\n       химсталь первый Ti_1 химсталь первый V_1 химсталь последний Al  \\\ncount                  6444                6444                  6444   \nunique                    7                  28                    20   \ntop                   0,002               0,002                 0,003   \nfreq                   3727                2929                  4526   \n\n       химсталь последний C химсталь последний Ca химсталь последний Cr  \\\ncount                  6444                  6218                  6444   \nunique                  226                    32                   206   \ntop                   0,762                0,0002                 0,418   \nfreq                    166                  1816                   660   \n\n       химсталь последний Cu химсталь последний Mn химсталь последний Mo  \\\ncount                   6444                  6444                  6444   \nunique                   100                   261                    24   \ntop                    0,103                 0,789                 0,006   \nfreq                     240                   353                  1590   \n\n       химсталь последний N химсталь последний Ni химсталь последний P  \\\ncount                  6442                  6444                 6444   \nunique                   17                   112                   19   \ntop                   0,012                 0,071                0,009   \nfreq                   1305                   324                 1363   \n\n       химсталь последний S химсталь последний Si химсталь последний Ti  \\\ncount                  6444                  6444                  6444   \nunique                   27                   256                     5   \ntop                   0,015                 0,566                 0,003   \nfreq                   1076                   229                  4764   \n\n       химсталь последний V химшлак первый Al2O3_1 химшлак первый CaO_1  \\\ncount                  6444                   4742                 6444   \nunique                   54                     73                  298   \ntop                   0,037                    3,7                 57,0   \nfreq                   1793                    263                   58   \n\n       химшлак первый FeO_1 химшлак первый MgO_1 химшлак первый MnO_1  \\\ncount                  6444                 6443                 6444   \nunique                   54                  236                  152   \ntop                     0,4                 11,3                 0,11   \nfreq                   1056                   96                  470   \n\n       химшлак первый R_1 химшлак первый SiO2_1 химшлак последний Al2O3  \\\ncount                6444                  4742                    4742   \nunique                 32                   149                      70   \ntop                   2,2                  21,7                     4,4   \nfreq                  915                   100                     243   \n\n       химшлак последний CaO химшлак последний FeO химшлак последний MgO  \\\ncount                   6444                  6444                  6443   \nunique                   229                    16                   192   \ntop                     57,6                   0,5                   8,7   \nfreq                     102                  1235                    88   \n\n       химшлак последний MnO химшлак последний R химшлак последний SiO2  \ncount                   6444                6444                   4742  \nunique                    61                  16                    116  \ntop                     0,08                 2,2                   26,0  \nfreq                     723                1483                    142  ",
      "text/html": "<div>\n<style scoped>\n    .dataframe tbody tr th:only-of-type {\n        vertical-align: middle;\n    }\n\n    .dataframe tbody tr th {\n        vertical-align: top;\n    }\n\n    .dataframe thead th {\n        text-align: right;\n    }\n</style>\n<table border=\"1\" class=\"dataframe\">\n  <thead>\n    <tr style=\"text-align: right;\">\n      <th></th>\n      <th>nplv</th>\n      <th>DT</th>\n      <th>МАРКА</th>\n      <th>ПРОФИЛЬ</th>\n      <th>t вып-обр</th>\n      <th>t обработка</th>\n      <th>t под током</th>\n      <th>t продувка</th>\n      <th>ПСН гр.</th>\n      <th>чист расход C</th>\n      <th>чист расход Cr</th>\n      <th>чист расход Mn</th>\n      <th>чист расход Si</th>\n      <th>чист расход V</th>\n      <th>температура первая</th>\n      <th>температура последняя</th>\n      <th>Ar (интенс.)</th>\n      <th>N2 (интенс.)</th>\n      <th>эл. энергия (интенс.)</th>\n      <th>произв жидкая сталь</th>\n      <th>произв количество обработок</th>\n      <th>произв  количество плавок</th>\n      <th>произв количество плавок (цел)</th>\n      <th>расход газ Ar</th>\n      <th>расход газ  N2</th>\n      <th>расход C пров.</th>\n      <th>сыпуч известь РП</th>\n      <th>сыпуч кварцит</th>\n      <th>сыпуч кокс пыль УСТК</th>\n      <th>сыпуч  кокс. мелочь (сух.)</th>\n      <th>сыпуч  кокс. мелочь КМ1</th>\n      <th>сыпуч  шпат плав.</th>\n      <th>ферспл CaC2</th>\n      <th>ферспл FeMo</th>\n      <th>ферспл FeSi-75</th>\n      <th>ферспл FeV азот.</th>\n      <th>ферспл  FeV-80</th>\n      <th>ферспл  Mn5Si65Al0.5</th>\n      <th>ферспл  Ni H1 пласт.</th>\n      <th>ферспл SiMn18</th>\n      <th>ферспл  ферванит</th>\n      <th>ферспл  фх850А</th>\n      <th>эл. энергия</th>\n      <th>химсталь первый Al_1</th>\n      <th>химсталь первый C_1</th>\n      <th>химсталь первый Cr_1</th>\n      <th>химсталь первый Cu_1</th>\n      <th>химсталь первый Mn_1</th>\n      <th>химсталь первый Mo_1</th>\n      <th>химсталь первый N_1</th>\n      <th>химсталь первый Ni_1</th>\n      <th>химсталь первый P_1</th>\n      <th>химсталь первый S_1</th>\n      <th>химсталь первый Si_1</th>\n      <th>химсталь первый Ti_1</th>\n      <th>химсталь первый V_1</th>\n      <th>химсталь последний Al</th>\n      <th>химсталь последний C</th>\n      <th>химсталь последний Ca</th>\n      <th>химсталь последний Cr</th>\n      <th>химсталь последний Cu</th>\n      <th>химсталь последний Mn</th>\n      <th>химсталь последний Mo</th>\n      <th>химсталь последний N</th>\n      <th>химсталь последний Ni</th>\n      <th>химсталь последний P</th>\n      <th>химсталь последний S</th>\n      <th>химсталь последний Si</th>\n      <th>химсталь последний Ti</th>\n      <th>химсталь последний V</th>\n      <th>химшлак первый Al2O3_1</th>\n      <th>химшлак первый CaO_1</th>\n      <th>химшлак первый FeO_1</th>\n      <th>химшлак первый MgO_1</th>\n      <th>химшлак первый MnO_1</th>\n      <th>химшлак первый R_1</th>\n      <th>химшлак первый SiO2_1</th>\n      <th>химшлак последний Al2O3</th>\n      <th>химшлак последний CaO</th>\n      <th>химшлак последний FeO</th>\n      <th>химшлак последний MgO</th>\n      <th>химшлак последний MnO</th>\n      <th>химшлак последний R</th>\n      <th>химшлак последний SiO2</th>\n    </tr>\n  </thead>\n  <tbody>\n    <tr>\n      <th>count</th>\n      <td>7041</td>\n      <td>7041</td>\n      <td>7041</td>\n      <td>7041</td>\n      <td>6444</td>\n      <td>6440</td>\n      <td>6440</td>\n      <td>6444</td>\n      <td>5249</td>\n      <td>6435</td>\n      <td>5883</td>\n      <td>6431</td>\n      <td>6431</td>\n      <td>6178</td>\n      <td>6436</td>\n      <td>6436</td>\n      <td>6426</td>\n      <td>1389</td>\n      <td>6440</td>\n      <td>6444</td>\n      <td>6444</td>\n      <td>6444</td>\n      <td>6444</td>\n      <td>6426</td>\n      <td>1389</td>\n      <td>724</td>\n      <td>4770</td>\n      <td>13</td>\n      <td>6422</td>\n      <td>7</td>\n      <td>6307</td>\n      <td>5910</td>\n      <td>6244</td>\n      <td>33</td>\n      <td>5</td>\n      <td>383</td>\n      <td>6179</td>\n      <td>6400</td>\n      <td>82</td>\n      <td>6398</td>\n      <td>1017</td>\n      <td>5883</td>\n      <td>6440</td>\n      <td>6444</td>\n      <td>6444</td>\n      <td>6444</td>\n      <td>6444</td>\n      <td>6444</td>\n      <td>6443</td>\n      <td>6443</td>\n      <td>6444</td>\n      <td>6444</td>\n      <td>6444</td>\n      <td>6444</td>\n      <td>6444</td>\n      <td>6444</td>\n      <td>6444</td>\n      <td>6444</td>\n      <td>6218</td>\n      <td>6444</td>\n      <td>6444</td>\n      <td>6444</td>\n      <td>6444</td>\n      <td>6442</td>\n      <td>6444</td>\n      <td>6444</td>\n      <td>6444</td>\n      <td>6444</td>\n      <td>6444</td>\n      <td>6444</td>\n      <td>4742</td>\n      <td>6444</td>\n      <td>6444</td>\n      <td>6443</td>\n      <td>6444</td>\n      <td>6444</td>\n      <td>4742</td>\n      <td>4742</td>\n      <td>6444</td>\n      <td>6444</td>\n      <td>6443</td>\n      <td>6444</td>\n      <td>6444</td>\n      <td>4742</td>\n    </tr>\n    <tr>\n      <th>unique</th>\n      <td>7041</td>\n      <td>7041</td>\n      <td>18</td>\n      <td>18</td>\n      <td>82</td>\n      <td>816</td>\n      <td>1155</td>\n      <td>831</td>\n      <td>4296</td>\n      <td>6243</td>\n      <td>3115</td>\n      <td>6320</td>\n      <td>6265</td>\n      <td>4645</td>\n      <td>154</td>\n      <td>109</td>\n      <td>6423</td>\n      <td>1389</td>\n      <td>6362</td>\n      <td>226</td>\n      <td>3</td>\n      <td>1</td>\n      <td>1</td>\n      <td>5556</td>\n      <td>1341</td>\n      <td>593</td>\n      <td>469</td>\n      <td>1</td>\n      <td>307</td>\n      <td>7</td>\n      <td>691</td>\n      <td>197</td>\n      <td>7</td>\n      <td>28</td>\n      <td>2</td>\n      <td>83</td>\n      <td>692</td>\n      <td>399</td>\n      <td>80</td>\n      <td>528</td>\n      <td>199</td>\n      <td>398</td>\n      <td>3132</td>\n      <td>6</td>\n      <td>417</td>\n      <td>371</td>\n      <td>101</td>\n      <td>404</td>\n      <td>24</td>\n      <td>18</td>\n      <td>115</td>\n      <td>18</td>\n      <td>34</td>\n      <td>384</td>\n      <td>7</td>\n      <td>28</td>\n      <td>20</td>\n      <td>226</td>\n      <td>32</td>\n      <td>206</td>\n      <td>100</td>\n      <td>261</td>\n      <td>24</td>\n      <td>17</td>\n      <td>112</td>\n      <td>19</td>\n      <td>27</td>\n      <td>256</td>\n      <td>5</td>\n      <td>54</td>\n      <td>73</td>\n      <td>298</td>\n      <td>54</td>\n      <td>236</td>\n      <td>152</td>\n      <td>32</td>\n      <td>149</td>\n      <td>70</td>\n      <td>229</td>\n      <td>16</td>\n      <td>192</td>\n      <td>61</td>\n      <td>16</td>\n      <td>116</td>\n    </tr>\n    <tr>\n      <th>top</th>\n      <td>г6838636=&gt;&gt;</td>\n      <td>2070-12-26 23:26:00</td>\n      <td>Э76ХФ</td>\n      <td>Р65</td>\n      <td>6,0</td>\n      <td>43,0333333</td>\n      <td>19,6833333</td>\n      <td>43,0333333</td>\n      <td>2,0</td>\n      <td>0,39118</td>\n      <td>0,104904</td>\n      <td>0,14244</td>\n      <td>0,16899</td>\n      <td>0,0388151</td>\n      <td>1571,0</td>\n      <td>1579,0</td>\n      <td>14,9067961</td>\n      <td>12,5963039</td>\n      <td>13200,0</td>\n      <td>115,4</td>\n      <td>1,0</td>\n      <td>1,0</td>\n      <td>1,0</td>\n      <td>13,192</td>\n      <td>9,016</td>\n      <td>0,019448</td>\n      <td>0,063</td>\n      <td>0,02</td>\n      <td>0,05</td>\n      <td>0,42100000000000004</td>\n      <td>0,368</td>\n      <td>0,041</td>\n      <td>0,02</td>\n      <td>0,021014</td>\n      <td>0,05</td>\n      <td>0,024306</td>\n      <td>0,050094</td>\n      <td>0,128</td>\n      <td>0,04919</td>\n      <td>0,219</td>\n      <td>0,025897</td>\n      <td>0,214</td>\n      <td>4199,0</td>\n      <td>0,002</td>\n      <td>0,435</td>\n      <td>0,315</td>\n      <td>0,1</td>\n      <td>0,672</td>\n      <td>0,006</td>\n      <td>0,01</td>\n      <td>0,071</td>\n      <td>0,008</td>\n      <td>0,019</td>\n      <td>0,449</td>\n      <td>0,002</td>\n      <td>0,002</td>\n      <td>0,003</td>\n      <td>0,762</td>\n      <td>0,0002</td>\n      <td>0,418</td>\n      <td>0,103</td>\n      <td>0,789</td>\n      <td>0,006</td>\n      <td>0,012</td>\n      <td>0,071</td>\n      <td>0,009</td>\n      <td>0,015</td>\n      <td>0,566</td>\n      <td>0,003</td>\n      <td>0,037</td>\n      <td>3,7</td>\n      <td>57,0</td>\n      <td>0,4</td>\n      <td>11,3</td>\n      <td>0,11</td>\n      <td>2,2</td>\n      <td>21,7</td>\n      <td>4,4</td>\n      <td>57,6</td>\n      <td>0,5</td>\n      <td>8,7</td>\n      <td>0,08</td>\n      <td>2,2</td>\n      <td>26,0</td>\n    </tr>\n    <tr>\n      <th>freq</th>\n      <td>1</td>\n      <td>1</td>\n      <td>4953</td>\n      <td>6427</td>\n      <td>227</td>\n      <td>53</td>\n      <td>32</td>\n      <td>56</td>\n      <td>526</td>\n      <td>3</td>\n      <td>17</td>\n      <td>3</td>\n      <td>2</td>\n      <td>9</td>\n      <td>134</td>\n      <td>282</td>\n      <td>2</td>\n      <td>1</td>\n      <td>4</td>\n      <td>124</td>\n      <td>6391</td>\n      <td>6444</td>\n      <td>6444</td>\n      <td>5</td>\n      <td>3</td>\n      <td>4</td>\n      <td>87</td>\n      <td>13</td>\n      <td>5873</td>\n      <td>1</td>\n      <td>34</td>\n      <td>250</td>\n      <td>6137</td>\n      <td>3</td>\n      <td>4</td>\n      <td>14</td>\n      <td>81</td>\n      <td>61</td>\n      <td>2</td>\n      <td>45</td>\n      <td>23</td>\n      <td>60</td>\n      <td>11</td>\n      <td>4656</td>\n      <td>62</td>\n      <td>91</td>\n      <td>236</td>\n      <td>73</td>\n      <td>1783</td>\n      <td>1751</td>\n      <td>308</td>\n      <td>1410</td>\n      <td>904</td>\n      <td>105</td>\n      <td>3727</td>\n      <td>2929</td>\n      <td>4526</td>\n      <td>166</td>\n      <td>1816</td>\n      <td>660</td>\n      <td>240</td>\n      <td>353</td>\n      <td>1590</td>\n      <td>1305</td>\n      <td>324</td>\n      <td>1363</td>\n      <td>1076</td>\n      <td>229</td>\n      <td>4764</td>\n      <td>1793</td>\n      <td>263</td>\n      <td>58</td>\n      <td>1056</td>\n      <td>96</td>\n      <td>470</td>\n      <td>915</td>\n      <td>100</td>\n      <td>243</td>\n      <td>102</td>\n      <td>1235</td>\n      <td>88</td>\n      <td>723</td>\n      <td>1483</td>\n      <td>142</td>\n    </tr>\n  </tbody>\n</table>\n</div>"
     },
     "execution_count": 43,
     "metadata": {},
     "output_type": "execute_result"
    }
   ],
   "source": [
    "data.describe()"
   ],
   "metadata": {
    "collapsed": false,
    "pycharm": {
     "name": "#%%\n"
    }
   }
  },
  {
   "cell_type": "code",
   "execution_count": 45,
   "outputs": [
    {
     "data": {
      "text/plain": "'Э76ХФ'"
     },
     "execution_count": 45,
     "metadata": {},
     "output_type": "execute_result"
    }
   ],
   "source": [
    "u, count = np.unique(data['МАРКА'], return_counts=True)\n",
    "count_sort_ind = np.argsort(-count)\n",
    "top_mark = u[count_sort_ind][0]\n",
    "top_mark"
   ],
   "metadata": {
    "collapsed": false,
    "pycharm": {
     "name": "#%%\n"
    }
   }
  },
  {
   "cell_type": "code",
   "execution_count": 46,
   "outputs": [],
   "source": [
    "nan_columns = data.isnull().sum().sort_values(ascending= False)[:10].index.to_list()\n",
    "nan_columns.append('nplv')\n",
    "nan_columns.append('МАРКА')\n",
    "nan_columns.append('DT')\n",
    "nan_columns.append('ПРОФИЛЬ')"
   ],
   "metadata": {
    "collapsed": false,
    "pycharm": {
     "name": "#%%\n"
    }
   }
  },
  {
   "cell_type": "code",
   "execution_count": 47,
   "outputs": [],
   "source": [
    "mark_data = data[data['МАРКА'] == top_mark]\n"
   ],
   "metadata": {
    "collapsed": false,
    "pycharm": {
     "name": "#%%\n"
    }
   }
  },
  {
   "cell_type": "code",
   "execution_count": 48,
   "outputs": [
    {
     "data": {
      "text/plain": "      t вып-обр t обработка t под током  t продувка ПСН гр. чист расход C  \\\nindex                                                                       \n0          29,0  45,3666667        24,4  41,0333333     NaN       0,45646   \n1          26,0  44,0666667  13,8666667  44,0666667     NaN      0,359285   \n2          24,0       43,35       17,95       43,35     NaN      0,331665   \n3          17,0  46,1833333  19,8166667  46,1833333     NaN      0,377945   \n4          20,0        48,5  17,0333333        48,5     NaN      0,389875   \n\n      чист расход Cr чист расход Mn чист расход Si чист расход V  \\\nindex                                                              \n0           0,059572       0,117446       0,104762     0,0409383   \n1           0,083738       0,160923       0,110327     0,0400831   \n2            0,08149       0,132332        0,13986     0,0416225   \n3           0,133194       0,221605       0,165186     0,0420497   \n4           0,105094       0,169459       0,143024     0,0409667   \n\n      температура первая температура последняя Ar (интенс.)  \\\nindex                                                         \n0                 1557,0                1580,0   13,6067425   \n1                 1601,0                1591,0     8,074721   \n2                 1593,0                1586,0    13,801968   \n3                 1589,0                1589,0   12,6649585   \n4                 1597,0                1592,0   10,2983505   \n\n      эл. энергия (интенс.) произв жидкая сталь произв количество обработок  \\\nindex                                                                         \n0             12809,0163934               115,5                         1,0   \n1             12816,3461538               111,6                         1,0   \n2             12511,4206128               115,8                         1,0   \n3             12998,1497056               116,3                         1,0   \n4             12987,4755382               115,0                         1,0   \n\n      произв  количество плавок произв количество плавок (цел) расход газ Ar  \\\nindex                                                                          \n0                           1,0                            1,0        18,611   \n1                           1,0                            1,0        11,659   \n2                           1,0                            1,0        19,871   \n3                           1,0                            1,0        19,497   \n4                           1,0                            1,0        16,649   \n\n      сыпуч известь РП сыпуч кокс пыль УСТК сыпуч  кокс. мелочь КМ1  \\\nindex                                                                 \n0                  NaN                 0,17                   0,401   \n1                  NaN                0,488                     NaN   \n2                  NaN                 0,05                   0,346   \n3                0,077                 0,05                    0,39   \n4                0,082                 0,05                   0,412   \n\n      сыпуч  шпат плав. ферспл CaC2 ферспл  FeV-80 ферспл  Mn5Si65Al0.5  \\\nindex                                                                     \n0                 0,123        0,02       0,051939                0,112   \n1                 0,094        0,02       0,050854                0,102   \n2                 0,061        0,02       0,052807                 0,16   \n3                 0,059        0,02       0,053349                0,161   \n4                 0,035        0,02       0,051975                0,149   \n\n      ферспл SiMn18 ферспл  фх850А эл. энергия химсталь первый Al_1  \\\nindex                                                                 \n0             0,182          0,106      5209,0                0,002   \n1             0,251          0,149      2962,0                0,002   \n2             0,204          0,145      3743,0                0,002   \n3             0,345          0,237      4293,0                0,002   \n4             0,263          0,187      3687,0                0,002   \n\n      химсталь первый C_1 химсталь первый Cr_1 химсталь первый Cu_1  \\\nindex                                                                 \n0                   0,389                0,368                0,127   \n1                   0,465                0,345                0,112   \n2                   0,513                0,351                0,107   \n3                   0,487                 0,31                0,105   \n4                   0,461                0,334                0,105   \n\n      химсталь первый Mn_1 химсталь первый Mo_1 химсталь первый N_1  \\\nindex                                                                 \n0                    0,682                 0,01               0,011   \n1                    0,643                0,009               0,011   \n2                    0,674                0,007               0,011   \n3                    0,611                0,009               0,011   \n4                    0,652                0,007               0,011   \n\n      химсталь первый Ni_1 химсталь первый P_1 химсталь первый S_1  \\\nindex                                                                \n0                    0,086               0,009               0,023   \n1                     0,08               0,007               0,023   \n2                    0,078               0,008               0,019   \n3                     0,07               0,006                0,02   \n4                     0,08               0,007                0,02   \n\n      химсталь первый Si_1 химсталь первый Ti_1 химсталь первый V_1  \\\nindex                                                                 \n0                    0,459                0,002               0,002   \n1                    0,461                0,002               0,002   \n2                    0,455                0,002               0,002   \n3                    0,434                0,001               0,001   \n4                    0,447                0,001               0,002   \n\n      химсталь последний Al химсталь последний C химсталь последний Ca  \\\nindex                                                                    \n0                     0,003                0,756                0,0001   \n1                     0,003                0,774                0,0003   \n2                     0,004                 0,77                0,0009   \n3                     0,003                0,767                0,0002   \n4                     0,003                0,784                0,0003   \n\n      химсталь последний Cr химсталь последний Cu химсталь последний Mn  \\\nindex                                                                     \n0                     0,417                 0,126                 0,779   \n1                     0,416                 0,109                 0,767   \n2                     0,417                 0,108                 0,788   \n3                     0,419                 0,103                 0,795   \n4                     0,421                 0,105                 0,796   \n\n      химсталь последний Mo химсталь последний N химсталь последний Ni  \\\nindex                                                                    \n0                     0,009                0,012                 0,086   \n1                     0,008                0,013                 0,079   \n2                     0,006                0,012                 0,078   \n3                     0,008                0,013                  0,07   \n4                     0,006                0,013                 0,081   \n\n      химсталь последний P химсталь последний S химсталь последний Si  \\\nindex                                                                   \n0                    0,011                0,018                 0,559   \n1                    0,008                0,021                 0,543   \n2                    0,008                0,013                 0,568   \n3                    0,007                0,014                 0,571   \n4                    0,008                0,017                 0,568   \n\n      химсталь последний Ti химсталь последний V химшлак первый Al2O3_1  \\\nindex                                                                     \n0                     0,003                0,037                    NaN   \n1                     0,003                0,038                    NaN   \n2                     0,003                0,038                    NaN   \n3                     0,003                0,038                    NaN   \n4                     0,003                0,037                    NaN   \n\n      химшлак первый CaO_1 химшлак первый FeO_1 химшлак первый MgO_1  \\\nindex                                                                  \n0                     63,7                  1,1                  3,7   \n1                     58,5                  0,8                  4,9   \n2                     58,0                  0,8                  8,6   \n3                     59,8                  0,4                  6,4   \n4                     59,6                  0,7                  4,7   \n\n      химшлак первый MnO_1 химшлак первый R_1 химшлак первый SiO2_1  \\\nindex                                                                 \n0                     0,12                2,6                   NaN   \n1                     0,14                2,2                   NaN   \n2                     0,12                2,6                   NaN   \n3                     0,11                2,4                   NaN   \n4                     0,12                2,4                   NaN   \n\n      химшлак последний Al2O3 химшлак последний CaO химшлак последний FeO  \\\nindex                                                                       \n0                         NaN                  53,4                   1,0   \n1                         NaN                  59,3                   0,6   \n2                         NaN                  57,2                   0,5   \n3                         NaN                  60,3                   0,5   \n4                         NaN                  60,3                   0,6   \n\n      химшлак последний MgO химшлак последний MnO химшлак последний R  \\\nindex                                                                   \n0                       5,8                  0,15                 2,6   \n1                       4,1                  0,11                 2,3   \n2                       8,1                  0,13                 2,3   \n3                       6,3                  0,12                 2,6   \n4                       4,5                  0,09                 2,5   \n\n      химшлак последний SiO2  \nindex                         \n0                        NaN  \n1                        NaN  \n2                        NaN  \n3                        NaN  \n4                        NaN  ",
      "text/html": "<div>\n<style scoped>\n    .dataframe tbody tr th:only-of-type {\n        vertical-align: middle;\n    }\n\n    .dataframe tbody tr th {\n        vertical-align: top;\n    }\n\n    .dataframe thead th {\n        text-align: right;\n    }\n</style>\n<table border=\"1\" class=\"dataframe\">\n  <thead>\n    <tr style=\"text-align: right;\">\n      <th></th>\n      <th>t вып-обр</th>\n      <th>t обработка</th>\n      <th>t под током</th>\n      <th>t продувка</th>\n      <th>ПСН гр.</th>\n      <th>чист расход C</th>\n      <th>чист расход Cr</th>\n      <th>чист расход Mn</th>\n      <th>чист расход Si</th>\n      <th>чист расход V</th>\n      <th>температура первая</th>\n      <th>температура последняя</th>\n      <th>Ar (интенс.)</th>\n      <th>эл. энергия (интенс.)</th>\n      <th>произв жидкая сталь</th>\n      <th>произв количество обработок</th>\n      <th>произв  количество плавок</th>\n      <th>произв количество плавок (цел)</th>\n      <th>расход газ Ar</th>\n      <th>сыпуч известь РП</th>\n      <th>сыпуч кокс пыль УСТК</th>\n      <th>сыпуч  кокс. мелочь КМ1</th>\n      <th>сыпуч  шпат плав.</th>\n      <th>ферспл CaC2</th>\n      <th>ферспл  FeV-80</th>\n      <th>ферспл  Mn5Si65Al0.5</th>\n      <th>ферспл SiMn18</th>\n      <th>ферспл  фх850А</th>\n      <th>эл. энергия</th>\n      <th>химсталь первый Al_1</th>\n      <th>химсталь первый C_1</th>\n      <th>химсталь первый Cr_1</th>\n      <th>химсталь первый Cu_1</th>\n      <th>химсталь первый Mn_1</th>\n      <th>химсталь первый Mo_1</th>\n      <th>химсталь первый N_1</th>\n      <th>химсталь первый Ni_1</th>\n      <th>химсталь первый P_1</th>\n      <th>химсталь первый S_1</th>\n      <th>химсталь первый Si_1</th>\n      <th>химсталь первый Ti_1</th>\n      <th>химсталь первый V_1</th>\n      <th>химсталь последний Al</th>\n      <th>химсталь последний C</th>\n      <th>химсталь последний Ca</th>\n      <th>химсталь последний Cr</th>\n      <th>химсталь последний Cu</th>\n      <th>химсталь последний Mn</th>\n      <th>химсталь последний Mo</th>\n      <th>химсталь последний N</th>\n      <th>химсталь последний Ni</th>\n      <th>химсталь последний P</th>\n      <th>химсталь последний S</th>\n      <th>химсталь последний Si</th>\n      <th>химсталь последний Ti</th>\n      <th>химсталь последний V</th>\n      <th>химшлак первый Al2O3_1</th>\n      <th>химшлак первый CaO_1</th>\n      <th>химшлак первый FeO_1</th>\n      <th>химшлак первый MgO_1</th>\n      <th>химшлак первый MnO_1</th>\n      <th>химшлак первый R_1</th>\n      <th>химшлак первый SiO2_1</th>\n      <th>химшлак последний Al2O3</th>\n      <th>химшлак последний CaO</th>\n      <th>химшлак последний FeO</th>\n      <th>химшлак последний MgO</th>\n      <th>химшлак последний MnO</th>\n      <th>химшлак последний R</th>\n      <th>химшлак последний SiO2</th>\n    </tr>\n    <tr>\n      <th>index</th>\n      <th></th>\n      <th></th>\n      <th></th>\n      <th></th>\n      <th></th>\n      <th></th>\n      <th></th>\n      <th></th>\n      <th></th>\n      <th></th>\n      <th></th>\n      <th></th>\n      <th></th>\n      <th></th>\n      <th></th>\n      <th></th>\n      <th></th>\n      <th></th>\n      <th></th>\n      <th></th>\n      <th></th>\n      <th></th>\n      <th></th>\n      <th></th>\n      <th></th>\n      <th></th>\n      <th></th>\n      <th></th>\n      <th></th>\n      <th></th>\n      <th></th>\n      <th></th>\n      <th></th>\n      <th></th>\n      <th></th>\n      <th></th>\n      <th></th>\n      <th></th>\n      <th></th>\n      <th></th>\n      <th></th>\n      <th></th>\n      <th></th>\n      <th></th>\n      <th></th>\n      <th></th>\n      <th></th>\n      <th></th>\n      <th></th>\n      <th></th>\n      <th></th>\n      <th></th>\n      <th></th>\n      <th></th>\n      <th></th>\n      <th></th>\n      <th></th>\n      <th></th>\n      <th></th>\n      <th></th>\n      <th></th>\n      <th></th>\n      <th></th>\n      <th></th>\n      <th></th>\n      <th></th>\n      <th></th>\n      <th></th>\n      <th></th>\n      <th></th>\n    </tr>\n  </thead>\n  <tbody>\n    <tr>\n      <th>0</th>\n      <td>29,0</td>\n      <td>45,3666667</td>\n      <td>24,4</td>\n      <td>41,0333333</td>\n      <td>NaN</td>\n      <td>0,45646</td>\n      <td>0,059572</td>\n      <td>0,117446</td>\n      <td>0,104762</td>\n      <td>0,0409383</td>\n      <td>1557,0</td>\n      <td>1580,0</td>\n      <td>13,6067425</td>\n      <td>12809,0163934</td>\n      <td>115,5</td>\n      <td>1,0</td>\n      <td>1,0</td>\n      <td>1,0</td>\n      <td>18,611</td>\n      <td>NaN</td>\n      <td>0,17</td>\n      <td>0,401</td>\n      <td>0,123</td>\n      <td>0,02</td>\n      <td>0,051939</td>\n      <td>0,112</td>\n      <td>0,182</td>\n      <td>0,106</td>\n      <td>5209,0</td>\n      <td>0,002</td>\n      <td>0,389</td>\n      <td>0,368</td>\n      <td>0,127</td>\n      <td>0,682</td>\n      <td>0,01</td>\n      <td>0,011</td>\n      <td>0,086</td>\n      <td>0,009</td>\n      <td>0,023</td>\n      <td>0,459</td>\n      <td>0,002</td>\n      <td>0,002</td>\n      <td>0,003</td>\n      <td>0,756</td>\n      <td>0,0001</td>\n      <td>0,417</td>\n      <td>0,126</td>\n      <td>0,779</td>\n      <td>0,009</td>\n      <td>0,012</td>\n      <td>0,086</td>\n      <td>0,011</td>\n      <td>0,018</td>\n      <td>0,559</td>\n      <td>0,003</td>\n      <td>0,037</td>\n      <td>NaN</td>\n      <td>63,7</td>\n      <td>1,1</td>\n      <td>3,7</td>\n      <td>0,12</td>\n      <td>2,6</td>\n      <td>NaN</td>\n      <td>NaN</td>\n      <td>53,4</td>\n      <td>1,0</td>\n      <td>5,8</td>\n      <td>0,15</td>\n      <td>2,6</td>\n      <td>NaN</td>\n    </tr>\n    <tr>\n      <th>1</th>\n      <td>26,0</td>\n      <td>44,0666667</td>\n      <td>13,8666667</td>\n      <td>44,0666667</td>\n      <td>NaN</td>\n      <td>0,359285</td>\n      <td>0,083738</td>\n      <td>0,160923</td>\n      <td>0,110327</td>\n      <td>0,0400831</td>\n      <td>1601,0</td>\n      <td>1591,0</td>\n      <td>8,074721</td>\n      <td>12816,3461538</td>\n      <td>111,6</td>\n      <td>1,0</td>\n      <td>1,0</td>\n      <td>1,0</td>\n      <td>11,659</td>\n      <td>NaN</td>\n      <td>0,488</td>\n      <td>NaN</td>\n      <td>0,094</td>\n      <td>0,02</td>\n      <td>0,050854</td>\n      <td>0,102</td>\n      <td>0,251</td>\n      <td>0,149</td>\n      <td>2962,0</td>\n      <td>0,002</td>\n      <td>0,465</td>\n      <td>0,345</td>\n      <td>0,112</td>\n      <td>0,643</td>\n      <td>0,009</td>\n      <td>0,011</td>\n      <td>0,08</td>\n      <td>0,007</td>\n      <td>0,023</td>\n      <td>0,461</td>\n      <td>0,002</td>\n      <td>0,002</td>\n      <td>0,003</td>\n      <td>0,774</td>\n      <td>0,0003</td>\n      <td>0,416</td>\n      <td>0,109</td>\n      <td>0,767</td>\n      <td>0,008</td>\n      <td>0,013</td>\n      <td>0,079</td>\n      <td>0,008</td>\n      <td>0,021</td>\n      <td>0,543</td>\n      <td>0,003</td>\n      <td>0,038</td>\n      <td>NaN</td>\n      <td>58,5</td>\n      <td>0,8</td>\n      <td>4,9</td>\n      <td>0,14</td>\n      <td>2,2</td>\n      <td>NaN</td>\n      <td>NaN</td>\n      <td>59,3</td>\n      <td>0,6</td>\n      <td>4,1</td>\n      <td>0,11</td>\n      <td>2,3</td>\n      <td>NaN</td>\n    </tr>\n    <tr>\n      <th>2</th>\n      <td>24,0</td>\n      <td>43,35</td>\n      <td>17,95</td>\n      <td>43,35</td>\n      <td>NaN</td>\n      <td>0,331665</td>\n      <td>0,08149</td>\n      <td>0,132332</td>\n      <td>0,13986</td>\n      <td>0,0416225</td>\n      <td>1593,0</td>\n      <td>1586,0</td>\n      <td>13,801968</td>\n      <td>12511,4206128</td>\n      <td>115,8</td>\n      <td>1,0</td>\n      <td>1,0</td>\n      <td>1,0</td>\n      <td>19,871</td>\n      <td>NaN</td>\n      <td>0,05</td>\n      <td>0,346</td>\n      <td>0,061</td>\n      <td>0,02</td>\n      <td>0,052807</td>\n      <td>0,16</td>\n      <td>0,204</td>\n      <td>0,145</td>\n      <td>3743,0</td>\n      <td>0,002</td>\n      <td>0,513</td>\n      <td>0,351</td>\n      <td>0,107</td>\n      <td>0,674</td>\n      <td>0,007</td>\n      <td>0,011</td>\n      <td>0,078</td>\n      <td>0,008</td>\n      <td>0,019</td>\n      <td>0,455</td>\n      <td>0,002</td>\n      <td>0,002</td>\n      <td>0,004</td>\n      <td>0,77</td>\n      <td>0,0009</td>\n      <td>0,417</td>\n      <td>0,108</td>\n      <td>0,788</td>\n      <td>0,006</td>\n      <td>0,012</td>\n      <td>0,078</td>\n      <td>0,008</td>\n      <td>0,013</td>\n      <td>0,568</td>\n      <td>0,003</td>\n      <td>0,038</td>\n      <td>NaN</td>\n      <td>58,0</td>\n      <td>0,8</td>\n      <td>8,6</td>\n      <td>0,12</td>\n      <td>2,6</td>\n      <td>NaN</td>\n      <td>NaN</td>\n      <td>57,2</td>\n      <td>0,5</td>\n      <td>8,1</td>\n      <td>0,13</td>\n      <td>2,3</td>\n      <td>NaN</td>\n    </tr>\n    <tr>\n      <th>3</th>\n      <td>17,0</td>\n      <td>46,1833333</td>\n      <td>19,8166667</td>\n      <td>46,1833333</td>\n      <td>NaN</td>\n      <td>0,377945</td>\n      <td>0,133194</td>\n      <td>0,221605</td>\n      <td>0,165186</td>\n      <td>0,0420497</td>\n      <td>1589,0</td>\n      <td>1589,0</td>\n      <td>12,6649585</td>\n      <td>12998,1497056</td>\n      <td>116,3</td>\n      <td>1,0</td>\n      <td>1,0</td>\n      <td>1,0</td>\n      <td>19,497</td>\n      <td>0,077</td>\n      <td>0,05</td>\n      <td>0,39</td>\n      <td>0,059</td>\n      <td>0,02</td>\n      <td>0,053349</td>\n      <td>0,161</td>\n      <td>0,345</td>\n      <td>0,237</td>\n      <td>4293,0</td>\n      <td>0,002</td>\n      <td>0,487</td>\n      <td>0,31</td>\n      <td>0,105</td>\n      <td>0,611</td>\n      <td>0,009</td>\n      <td>0,011</td>\n      <td>0,07</td>\n      <td>0,006</td>\n      <td>0,02</td>\n      <td>0,434</td>\n      <td>0,001</td>\n      <td>0,001</td>\n      <td>0,003</td>\n      <td>0,767</td>\n      <td>0,0002</td>\n      <td>0,419</td>\n      <td>0,103</td>\n      <td>0,795</td>\n      <td>0,008</td>\n      <td>0,013</td>\n      <td>0,07</td>\n      <td>0,007</td>\n      <td>0,014</td>\n      <td>0,571</td>\n      <td>0,003</td>\n      <td>0,038</td>\n      <td>NaN</td>\n      <td>59,8</td>\n      <td>0,4</td>\n      <td>6,4</td>\n      <td>0,11</td>\n      <td>2,4</td>\n      <td>NaN</td>\n      <td>NaN</td>\n      <td>60,3</td>\n      <td>0,5</td>\n      <td>6,3</td>\n      <td>0,12</td>\n      <td>2,6</td>\n      <td>NaN</td>\n    </tr>\n    <tr>\n      <th>4</th>\n      <td>20,0</td>\n      <td>48,5</td>\n      <td>17,0333333</td>\n      <td>48,5</td>\n      <td>NaN</td>\n      <td>0,389875</td>\n      <td>0,105094</td>\n      <td>0,169459</td>\n      <td>0,143024</td>\n      <td>0,0409667</td>\n      <td>1597,0</td>\n      <td>1592,0</td>\n      <td>10,2983505</td>\n      <td>12987,4755382</td>\n      <td>115,0</td>\n      <td>1,0</td>\n      <td>1,0</td>\n      <td>1,0</td>\n      <td>16,649</td>\n      <td>0,082</td>\n      <td>0,05</td>\n      <td>0,412</td>\n      <td>0,035</td>\n      <td>0,02</td>\n      <td>0,051975</td>\n      <td>0,149</td>\n      <td>0,263</td>\n      <td>0,187</td>\n      <td>3687,0</td>\n      <td>0,002</td>\n      <td>0,461</td>\n      <td>0,334</td>\n      <td>0,105</td>\n      <td>0,652</td>\n      <td>0,007</td>\n      <td>0,011</td>\n      <td>0,08</td>\n      <td>0,007</td>\n      <td>0,02</td>\n      <td>0,447</td>\n      <td>0,001</td>\n      <td>0,002</td>\n      <td>0,003</td>\n      <td>0,784</td>\n      <td>0,0003</td>\n      <td>0,421</td>\n      <td>0,105</td>\n      <td>0,796</td>\n      <td>0,006</td>\n      <td>0,013</td>\n      <td>0,081</td>\n      <td>0,008</td>\n      <td>0,017</td>\n      <td>0,568</td>\n      <td>0,003</td>\n      <td>0,037</td>\n      <td>NaN</td>\n      <td>59,6</td>\n      <td>0,7</td>\n      <td>4,7</td>\n      <td>0,12</td>\n      <td>2,4</td>\n      <td>NaN</td>\n      <td>NaN</td>\n      <td>60,3</td>\n      <td>0,6</td>\n      <td>4,5</td>\n      <td>0,09</td>\n      <td>2,5</td>\n      <td>NaN</td>\n    </tr>\n  </tbody>\n</table>\n</div>"
     },
     "execution_count": 48,
     "metadata": {},
     "output_type": "execute_result"
    }
   ],
   "source": [
    "mark_data = mark_data.drop(columns=nan_columns)\n",
    "mark_data.head()"
   ],
   "metadata": {
    "collapsed": false,
    "pycharm": {
     "name": "#%%\n"
    }
   }
  },
  {
   "cell_type": "code",
   "execution_count": 49,
   "outputs": [
    {
     "name": "stdout",
     "output_type": "stream",
     "text": [
      "<class 'pandas.core.frame.DataFrame'>\n",
      "Int64Index: 4953 entries, 0 to 7026\n",
      "Data columns (total 70 columns):\n",
      " #   Column                          Non-Null Count  Dtype \n",
      "---  ------                          --------------  ----- \n",
      " 0   t вып-обр                       4953 non-null   object\n",
      " 1   t обработка                     4953 non-null   object\n",
      " 2   t под током                     4953 non-null   object\n",
      " 3   t продувка                      4953 non-null   object\n",
      " 4   ПСН гр.                         4953 non-null   object\n",
      " 5   чист расход C                   4953 non-null   object\n",
      " 6   чист расход Cr                  4953 non-null   object\n",
      " 7   чист расход Mn                  4953 non-null   object\n",
      " 8   чист расход Si                  4953 non-null   object\n",
      " 9   чист расход V                   4953 non-null   object\n",
      " 10  температура первая              4953 non-null   object\n",
      " 11  температура последняя           4953 non-null   object\n",
      " 12  Ar (интенс.)                    4953 non-null   object\n",
      " 13  эл. энергия (интенс.)           4953 non-null   object\n",
      " 14  произв жидкая сталь             4953 non-null   object\n",
      " 15  произв количество обработок     4953 non-null   object\n",
      " 16  произв  количество плавок       4953 non-null   object\n",
      " 17  произв количество плавок (цел)  4953 non-null   object\n",
      " 18  расход газ Ar                   4953 non-null   object\n",
      " 19  сыпуч известь РП                4953 non-null   object\n",
      " 20  сыпуч кокс пыль УСТК            4953 non-null   object\n",
      " 21  сыпуч  кокс. мелочь КМ1         4953 non-null   object\n",
      " 22  сыпуч  шпат плав.               4953 non-null   object\n",
      " 23  ферспл CaC2                     4953 non-null   object\n",
      " 24  ферспл  FeV-80                  4953 non-null   object\n",
      " 25  ферспл  Mn5Si65Al0.5            4953 non-null   object\n",
      " 26  ферспл SiMn18                   4953 non-null   object\n",
      " 27  ферспл  фх850А                  4953 non-null   object\n",
      " 28  эл. энергия                     4953 non-null   object\n",
      " 29  химсталь первый Al_1            4953 non-null   object\n",
      " 30  химсталь первый C_1             4953 non-null   object\n",
      " 31  химсталь первый Cr_1            4953 non-null   object\n",
      " 32  химсталь первый Cu_1            4953 non-null   object\n",
      " 33  химсталь первый Mn_1            4953 non-null   object\n",
      " 34  химсталь первый Mo_1            4953 non-null   object\n",
      " 35  химсталь первый N_1             4953 non-null   object\n",
      " 36  химсталь первый Ni_1            4953 non-null   object\n",
      " 37  химсталь первый P_1             4953 non-null   object\n",
      " 38  химсталь первый S_1             4953 non-null   object\n",
      " 39  химсталь первый Si_1            4953 non-null   object\n",
      " 40  химсталь первый Ti_1            4953 non-null   object\n",
      " 41  химсталь первый V_1             4953 non-null   object\n",
      " 42  химсталь последний Al           4953 non-null   object\n",
      " 43  химсталь последний C            4953 non-null   object\n",
      " 44  химсталь последний Ca           4953 non-null   object\n",
      " 45  химсталь последний Cr           4953 non-null   object\n",
      " 46  химсталь последний Cu           4953 non-null   object\n",
      " 47  химсталь последний Mn           4953 non-null   object\n",
      " 48  химсталь последний Mo           4953 non-null   object\n",
      " 49  химсталь последний N            4953 non-null   object\n",
      " 50  химсталь последний Ni           4953 non-null   object\n",
      " 51  химсталь последний P            4953 non-null   object\n",
      " 52  химсталь последний S            4953 non-null   object\n",
      " 53  химсталь последний Si           4953 non-null   object\n",
      " 54  химсталь последний Ti           4953 non-null   object\n",
      " 55  химсталь последний V            4953 non-null   object\n",
      " 56  химшлак первый Al2O3_1          4953 non-null   object\n",
      " 57  химшлак первый CaO_1            4953 non-null   object\n",
      " 58  химшлак первый FeO_1            4953 non-null   object\n",
      " 59  химшлак первый MgO_1            4953 non-null   object\n",
      " 60  химшлак первый MnO_1            4953 non-null   object\n",
      " 61  химшлак первый R_1              4953 non-null   object\n",
      " 62  химшлак первый SiO2_1           4953 non-null   object\n",
      " 63  химшлак последний Al2O3         4953 non-null   object\n",
      " 64  химшлак последний CaO           4953 non-null   object\n",
      " 65  химшлак последний FeO           4953 non-null   object\n",
      " 66  химшлак последний MgO           4953 non-null   object\n",
      " 67  химшлак последний MnO           4953 non-null   object\n",
      " 68  химшлак последний R             4953 non-null   object\n",
      " 69  химшлак последний SiO2          4953 non-null   object\n",
      "dtypes: object(70)\n",
      "memory usage: 2.7+ MB\n"
     ]
    }
   ],
   "source": [
    "mark_data.fillna(0, inplace=True)\n",
    "mark_data.info()"
   ],
   "metadata": {
    "collapsed": false,
    "pycharm": {
     "name": "#%%\n"
    }
   }
  },
  {
   "cell_type": "code",
   "execution_count": 50,
   "outputs": [],
   "source": [
    "mark_data = mark_data.apply(lambda x: x.apply(str).str.replace(',', '.') )\n",
    "mark_data = mark_data.apply(lambda x: pd.to_numeric(x))"
   ],
   "metadata": {
    "collapsed": false,
    "pycharm": {
     "name": "#%%\n"
    }
   }
  },
  {
   "cell_type": "code",
   "execution_count": 51,
   "outputs": [
    {
     "data": {
      "text/plain": "       t вып-обр  t обработка  t под током  t продувка  ПСН гр.  \\\nindex                                                             \n0           29.0    45.366667    24.400000   41.033333      0.0   \n1           26.0    44.066667    13.866667   44.066667      0.0   \n2           24.0    43.350000    17.950000   43.350000      0.0   \n3           17.0    46.183333    19.816667   46.183333      0.0   \n4           20.0    48.500000    17.033333   48.500000      0.0   \n\n       чист расход C  чист расход Cr  чист расход Mn  чист расход Si  \\\nindex                                                                  \n0           0.456460        0.059572        0.117446        0.104762   \n1           0.359285        0.083738        0.160923        0.110327   \n2           0.331665        0.081490        0.132332        0.139860   \n3           0.377945        0.133194        0.221605        0.165186   \n4           0.389875        0.105094        0.169459        0.143024   \n\n       чист расход V  температура первая  температура последняя  Ar (интенс.)  \\\nindex                                                                           \n0           0.040938              1557.0                 1580.0     13.606742   \n1           0.040083              1601.0                 1591.0      8.074721   \n2           0.041622              1593.0                 1586.0     13.801968   \n3           0.042050              1589.0                 1589.0     12.664958   \n4           0.040967              1597.0                 1592.0     10.298350   \n\n       эл. энергия (интенс.)  произв жидкая сталь  \\\nindex                                               \n0               12809.016393                115.5   \n1               12816.346154                111.6   \n2               12511.420613                115.8   \n3               12998.149706                116.3   \n4               12987.475538                115.0   \n\n       произв количество обработок  произв  количество плавок  \\\nindex                                                           \n0                              1.0                        1.0   \n1                              1.0                        1.0   \n2                              1.0                        1.0   \n3                              1.0                        1.0   \n4                              1.0                        1.0   \n\n       произв количество плавок (цел)  расход газ Ar  сыпуч известь РП  \\\nindex                                                                    \n0                                 1.0         18.611             0.000   \n1                                 1.0         11.659             0.000   \n2                                 1.0         19.871             0.000   \n3                                 1.0         19.497             0.077   \n4                                 1.0         16.649             0.082   \n\n       сыпуч кокс пыль УСТК  сыпуч  кокс. мелочь КМ1  сыпуч  шпат плав.  \\\nindex                                                                     \n0                     0.170                    0.401              0.123   \n1                     0.488                    0.000              0.094   \n2                     0.050                    0.346              0.061   \n3                     0.050                    0.390              0.059   \n4                     0.050                    0.412              0.035   \n\n       ферспл CaC2  ферспл  FeV-80  ферспл  Mn5Si65Al0.5  ферспл SiMn18  \\\nindex                                                                     \n0             0.02        0.051939                 0.112          0.182   \n1             0.02        0.050854                 0.102          0.251   \n2             0.02        0.052807                 0.160          0.204   \n3             0.02        0.053349                 0.161          0.345   \n4             0.02        0.051975                 0.149          0.263   \n\n       ферспл  фх850А  эл. энергия  химсталь первый Al_1  химсталь первый C_1  \\\nindex                                                                           \n0               0.106       5209.0                 0.002                0.389   \n1               0.149       2962.0                 0.002                0.465   \n2               0.145       3743.0                 0.002                0.513   \n3               0.237       4293.0                 0.002                0.487   \n4               0.187       3687.0                 0.002                0.461   \n\n       химсталь первый Cr_1  химсталь первый Cu_1  химсталь первый Mn_1  \\\nindex                                                                     \n0                     0.368                 0.127                 0.682   \n1                     0.345                 0.112                 0.643   \n2                     0.351                 0.107                 0.674   \n3                     0.310                 0.105                 0.611   \n4                     0.334                 0.105                 0.652   \n\n       химсталь первый Mo_1  химсталь первый N_1  химсталь первый Ni_1  \\\nindex                                                                    \n0                     0.010                0.011                 0.086   \n1                     0.009                0.011                 0.080   \n2                     0.007                0.011                 0.078   \n3                     0.009                0.011                 0.070   \n4                     0.007                0.011                 0.080   \n\n       химсталь первый P_1  химсталь первый S_1  химсталь первый Si_1  \\\nindex                                                                   \n0                    0.009                0.023                 0.459   \n1                    0.007                0.023                 0.461   \n2                    0.008                0.019                 0.455   \n3                    0.006                0.020                 0.434   \n4                    0.007                0.020                 0.447   \n\n       химсталь первый Ti_1  химсталь первый V_1  химсталь последний Al  \\\nindex                                                                     \n0                     0.002                0.002                  0.003   \n1                     0.002                0.002                  0.003   \n2                     0.002                0.002                  0.004   \n3                     0.001                0.001                  0.003   \n4                     0.001                0.002                  0.003   \n\n       химсталь последний C  химсталь последний Ca  химсталь последний Cr  \\\nindex                                                                       \n0                     0.756                 0.0001                  0.417   \n1                     0.774                 0.0003                  0.416   \n2                     0.770                 0.0009                  0.417   \n3                     0.767                 0.0002                  0.419   \n4                     0.784                 0.0003                  0.421   \n\n       химсталь последний Cu  химсталь последний Mn  химсталь последний Mo  \\\nindex                                                                        \n0                      0.126                  0.779                  0.009   \n1                      0.109                  0.767                  0.008   \n2                      0.108                  0.788                  0.006   \n3                      0.103                  0.795                  0.008   \n4                      0.105                  0.796                  0.006   \n\n       химсталь последний N  химсталь последний Ni  химсталь последний P  \\\nindex                                                                      \n0                     0.012                  0.086                 0.011   \n1                     0.013                  0.079                 0.008   \n2                     0.012                  0.078                 0.008   \n3                     0.013                  0.070                 0.007   \n4                     0.013                  0.081                 0.008   \n\n       химсталь последний S  химсталь последний Si  химсталь последний Ti  \\\nindex                                                                       \n0                     0.018                  0.559                  0.003   \n1                     0.021                  0.543                  0.003   \n2                     0.013                  0.568                  0.003   \n3                     0.014                  0.571                  0.003   \n4                     0.017                  0.568                  0.003   \n\n       химсталь последний V  химшлак первый Al2O3_1  химшлак первый CaO_1  \\\nindex                                                                       \n0                     0.037                     0.0                  63.7   \n1                     0.038                     0.0                  58.5   \n2                     0.038                     0.0                  58.0   \n3                     0.038                     0.0                  59.8   \n4                     0.037                     0.0                  59.6   \n\n       химшлак первый FeO_1  химшлак первый MgO_1  химшлак первый MnO_1  \\\nindex                                                                     \n0                       1.1                   3.7                  0.12   \n1                       0.8                   4.9                  0.14   \n2                       0.8                   8.6                  0.12   \n3                       0.4                   6.4                  0.11   \n4                       0.7                   4.7                  0.12   \n\n       химшлак первый R_1  химшлак первый SiO2_1  химшлак последний Al2O3  \\\nindex                                                                       \n0                     2.6                    0.0                      0.0   \n1                     2.2                    0.0                      0.0   \n2                     2.6                    0.0                      0.0   \n3                     2.4                    0.0                      0.0   \n4                     2.4                    0.0                      0.0   \n\n       химшлак последний CaO  химшлак последний FeO  химшлак последний MgO  \\\nindex                                                                        \n0                       53.4                    1.0                    5.8   \n1                       59.3                    0.6                    4.1   \n2                       57.2                    0.5                    8.1   \n3                       60.3                    0.5                    6.3   \n4                       60.3                    0.6                    4.5   \n\n       химшлак последний MnO  химшлак последний R  химшлак последний SiO2  \nindex                                                                      \n0                       0.15                  2.6                     0.0  \n1                       0.11                  2.3                     0.0  \n2                       0.13                  2.3                     0.0  \n3                       0.12                  2.6                     0.0  \n4                       0.09                  2.5                     0.0  ",
      "text/html": "<div>\n<style scoped>\n    .dataframe tbody tr th:only-of-type {\n        vertical-align: middle;\n    }\n\n    .dataframe tbody tr th {\n        vertical-align: top;\n    }\n\n    .dataframe thead th {\n        text-align: right;\n    }\n</style>\n<table border=\"1\" class=\"dataframe\">\n  <thead>\n    <tr style=\"text-align: right;\">\n      <th></th>\n      <th>t вып-обр</th>\n      <th>t обработка</th>\n      <th>t под током</th>\n      <th>t продувка</th>\n      <th>ПСН гр.</th>\n      <th>чист расход C</th>\n      <th>чист расход Cr</th>\n      <th>чист расход Mn</th>\n      <th>чист расход Si</th>\n      <th>чист расход V</th>\n      <th>температура первая</th>\n      <th>температура последняя</th>\n      <th>Ar (интенс.)</th>\n      <th>эл. энергия (интенс.)</th>\n      <th>произв жидкая сталь</th>\n      <th>произв количество обработок</th>\n      <th>произв  количество плавок</th>\n      <th>произв количество плавок (цел)</th>\n      <th>расход газ Ar</th>\n      <th>сыпуч известь РП</th>\n      <th>сыпуч кокс пыль УСТК</th>\n      <th>сыпуч  кокс. мелочь КМ1</th>\n      <th>сыпуч  шпат плав.</th>\n      <th>ферспл CaC2</th>\n      <th>ферспл  FeV-80</th>\n      <th>ферспл  Mn5Si65Al0.5</th>\n      <th>ферспл SiMn18</th>\n      <th>ферспл  фх850А</th>\n      <th>эл. энергия</th>\n      <th>химсталь первый Al_1</th>\n      <th>химсталь первый C_1</th>\n      <th>химсталь первый Cr_1</th>\n      <th>химсталь первый Cu_1</th>\n      <th>химсталь первый Mn_1</th>\n      <th>химсталь первый Mo_1</th>\n      <th>химсталь первый N_1</th>\n      <th>химсталь первый Ni_1</th>\n      <th>химсталь первый P_1</th>\n      <th>химсталь первый S_1</th>\n      <th>химсталь первый Si_1</th>\n      <th>химсталь первый Ti_1</th>\n      <th>химсталь первый V_1</th>\n      <th>химсталь последний Al</th>\n      <th>химсталь последний C</th>\n      <th>химсталь последний Ca</th>\n      <th>химсталь последний Cr</th>\n      <th>химсталь последний Cu</th>\n      <th>химсталь последний Mn</th>\n      <th>химсталь последний Mo</th>\n      <th>химсталь последний N</th>\n      <th>химсталь последний Ni</th>\n      <th>химсталь последний P</th>\n      <th>химсталь последний S</th>\n      <th>химсталь последний Si</th>\n      <th>химсталь последний Ti</th>\n      <th>химсталь последний V</th>\n      <th>химшлак первый Al2O3_1</th>\n      <th>химшлак первый CaO_1</th>\n      <th>химшлак первый FeO_1</th>\n      <th>химшлак первый MgO_1</th>\n      <th>химшлак первый MnO_1</th>\n      <th>химшлак первый R_1</th>\n      <th>химшлак первый SiO2_1</th>\n      <th>химшлак последний Al2O3</th>\n      <th>химшлак последний CaO</th>\n      <th>химшлак последний FeO</th>\n      <th>химшлак последний MgO</th>\n      <th>химшлак последний MnO</th>\n      <th>химшлак последний R</th>\n      <th>химшлак последний SiO2</th>\n    </tr>\n    <tr>\n      <th>index</th>\n      <th></th>\n      <th></th>\n      <th></th>\n      <th></th>\n      <th></th>\n      <th></th>\n      <th></th>\n      <th></th>\n      <th></th>\n      <th></th>\n      <th></th>\n      <th></th>\n      <th></th>\n      <th></th>\n      <th></th>\n      <th></th>\n      <th></th>\n      <th></th>\n      <th></th>\n      <th></th>\n      <th></th>\n      <th></th>\n      <th></th>\n      <th></th>\n      <th></th>\n      <th></th>\n      <th></th>\n      <th></th>\n      <th></th>\n      <th></th>\n      <th></th>\n      <th></th>\n      <th></th>\n      <th></th>\n      <th></th>\n      <th></th>\n      <th></th>\n      <th></th>\n      <th></th>\n      <th></th>\n      <th></th>\n      <th></th>\n      <th></th>\n      <th></th>\n      <th></th>\n      <th></th>\n      <th></th>\n      <th></th>\n      <th></th>\n      <th></th>\n      <th></th>\n      <th></th>\n      <th></th>\n      <th></th>\n      <th></th>\n      <th></th>\n      <th></th>\n      <th></th>\n      <th></th>\n      <th></th>\n      <th></th>\n      <th></th>\n      <th></th>\n      <th></th>\n      <th></th>\n      <th></th>\n      <th></th>\n      <th></th>\n      <th></th>\n      <th></th>\n    </tr>\n  </thead>\n  <tbody>\n    <tr>\n      <th>0</th>\n      <td>29.0</td>\n      <td>45.366667</td>\n      <td>24.400000</td>\n      <td>41.033333</td>\n      <td>0.0</td>\n      <td>0.456460</td>\n      <td>0.059572</td>\n      <td>0.117446</td>\n      <td>0.104762</td>\n      <td>0.040938</td>\n      <td>1557.0</td>\n      <td>1580.0</td>\n      <td>13.606742</td>\n      <td>12809.016393</td>\n      <td>115.5</td>\n      <td>1.0</td>\n      <td>1.0</td>\n      <td>1.0</td>\n      <td>18.611</td>\n      <td>0.000</td>\n      <td>0.170</td>\n      <td>0.401</td>\n      <td>0.123</td>\n      <td>0.02</td>\n      <td>0.051939</td>\n      <td>0.112</td>\n      <td>0.182</td>\n      <td>0.106</td>\n      <td>5209.0</td>\n      <td>0.002</td>\n      <td>0.389</td>\n      <td>0.368</td>\n      <td>0.127</td>\n      <td>0.682</td>\n      <td>0.010</td>\n      <td>0.011</td>\n      <td>0.086</td>\n      <td>0.009</td>\n      <td>0.023</td>\n      <td>0.459</td>\n      <td>0.002</td>\n      <td>0.002</td>\n      <td>0.003</td>\n      <td>0.756</td>\n      <td>0.0001</td>\n      <td>0.417</td>\n      <td>0.126</td>\n      <td>0.779</td>\n      <td>0.009</td>\n      <td>0.012</td>\n      <td>0.086</td>\n      <td>0.011</td>\n      <td>0.018</td>\n      <td>0.559</td>\n      <td>0.003</td>\n      <td>0.037</td>\n      <td>0.0</td>\n      <td>63.7</td>\n      <td>1.1</td>\n      <td>3.7</td>\n      <td>0.12</td>\n      <td>2.6</td>\n      <td>0.0</td>\n      <td>0.0</td>\n      <td>53.4</td>\n      <td>1.0</td>\n      <td>5.8</td>\n      <td>0.15</td>\n      <td>2.6</td>\n      <td>0.0</td>\n    </tr>\n    <tr>\n      <th>1</th>\n      <td>26.0</td>\n      <td>44.066667</td>\n      <td>13.866667</td>\n      <td>44.066667</td>\n      <td>0.0</td>\n      <td>0.359285</td>\n      <td>0.083738</td>\n      <td>0.160923</td>\n      <td>0.110327</td>\n      <td>0.040083</td>\n      <td>1601.0</td>\n      <td>1591.0</td>\n      <td>8.074721</td>\n      <td>12816.346154</td>\n      <td>111.6</td>\n      <td>1.0</td>\n      <td>1.0</td>\n      <td>1.0</td>\n      <td>11.659</td>\n      <td>0.000</td>\n      <td>0.488</td>\n      <td>0.000</td>\n      <td>0.094</td>\n      <td>0.02</td>\n      <td>0.050854</td>\n      <td>0.102</td>\n      <td>0.251</td>\n      <td>0.149</td>\n      <td>2962.0</td>\n      <td>0.002</td>\n      <td>0.465</td>\n      <td>0.345</td>\n      <td>0.112</td>\n      <td>0.643</td>\n      <td>0.009</td>\n      <td>0.011</td>\n      <td>0.080</td>\n      <td>0.007</td>\n      <td>0.023</td>\n      <td>0.461</td>\n      <td>0.002</td>\n      <td>0.002</td>\n      <td>0.003</td>\n      <td>0.774</td>\n      <td>0.0003</td>\n      <td>0.416</td>\n      <td>0.109</td>\n      <td>0.767</td>\n      <td>0.008</td>\n      <td>0.013</td>\n      <td>0.079</td>\n      <td>0.008</td>\n      <td>0.021</td>\n      <td>0.543</td>\n      <td>0.003</td>\n      <td>0.038</td>\n      <td>0.0</td>\n      <td>58.5</td>\n      <td>0.8</td>\n      <td>4.9</td>\n      <td>0.14</td>\n      <td>2.2</td>\n      <td>0.0</td>\n      <td>0.0</td>\n      <td>59.3</td>\n      <td>0.6</td>\n      <td>4.1</td>\n      <td>0.11</td>\n      <td>2.3</td>\n      <td>0.0</td>\n    </tr>\n    <tr>\n      <th>2</th>\n      <td>24.0</td>\n      <td>43.350000</td>\n      <td>17.950000</td>\n      <td>43.350000</td>\n      <td>0.0</td>\n      <td>0.331665</td>\n      <td>0.081490</td>\n      <td>0.132332</td>\n      <td>0.139860</td>\n      <td>0.041622</td>\n      <td>1593.0</td>\n      <td>1586.0</td>\n      <td>13.801968</td>\n      <td>12511.420613</td>\n      <td>115.8</td>\n      <td>1.0</td>\n      <td>1.0</td>\n      <td>1.0</td>\n      <td>19.871</td>\n      <td>0.000</td>\n      <td>0.050</td>\n      <td>0.346</td>\n      <td>0.061</td>\n      <td>0.02</td>\n      <td>0.052807</td>\n      <td>0.160</td>\n      <td>0.204</td>\n      <td>0.145</td>\n      <td>3743.0</td>\n      <td>0.002</td>\n      <td>0.513</td>\n      <td>0.351</td>\n      <td>0.107</td>\n      <td>0.674</td>\n      <td>0.007</td>\n      <td>0.011</td>\n      <td>0.078</td>\n      <td>0.008</td>\n      <td>0.019</td>\n      <td>0.455</td>\n      <td>0.002</td>\n      <td>0.002</td>\n      <td>0.004</td>\n      <td>0.770</td>\n      <td>0.0009</td>\n      <td>0.417</td>\n      <td>0.108</td>\n      <td>0.788</td>\n      <td>0.006</td>\n      <td>0.012</td>\n      <td>0.078</td>\n      <td>0.008</td>\n      <td>0.013</td>\n      <td>0.568</td>\n      <td>0.003</td>\n      <td>0.038</td>\n      <td>0.0</td>\n      <td>58.0</td>\n      <td>0.8</td>\n      <td>8.6</td>\n      <td>0.12</td>\n      <td>2.6</td>\n      <td>0.0</td>\n      <td>0.0</td>\n      <td>57.2</td>\n      <td>0.5</td>\n      <td>8.1</td>\n      <td>0.13</td>\n      <td>2.3</td>\n      <td>0.0</td>\n    </tr>\n    <tr>\n      <th>3</th>\n      <td>17.0</td>\n      <td>46.183333</td>\n      <td>19.816667</td>\n      <td>46.183333</td>\n      <td>0.0</td>\n      <td>0.377945</td>\n      <td>0.133194</td>\n      <td>0.221605</td>\n      <td>0.165186</td>\n      <td>0.042050</td>\n      <td>1589.0</td>\n      <td>1589.0</td>\n      <td>12.664958</td>\n      <td>12998.149706</td>\n      <td>116.3</td>\n      <td>1.0</td>\n      <td>1.0</td>\n      <td>1.0</td>\n      <td>19.497</td>\n      <td>0.077</td>\n      <td>0.050</td>\n      <td>0.390</td>\n      <td>0.059</td>\n      <td>0.02</td>\n      <td>0.053349</td>\n      <td>0.161</td>\n      <td>0.345</td>\n      <td>0.237</td>\n      <td>4293.0</td>\n      <td>0.002</td>\n      <td>0.487</td>\n      <td>0.310</td>\n      <td>0.105</td>\n      <td>0.611</td>\n      <td>0.009</td>\n      <td>0.011</td>\n      <td>0.070</td>\n      <td>0.006</td>\n      <td>0.020</td>\n      <td>0.434</td>\n      <td>0.001</td>\n      <td>0.001</td>\n      <td>0.003</td>\n      <td>0.767</td>\n      <td>0.0002</td>\n      <td>0.419</td>\n      <td>0.103</td>\n      <td>0.795</td>\n      <td>0.008</td>\n      <td>0.013</td>\n      <td>0.070</td>\n      <td>0.007</td>\n      <td>0.014</td>\n      <td>0.571</td>\n      <td>0.003</td>\n      <td>0.038</td>\n      <td>0.0</td>\n      <td>59.8</td>\n      <td>0.4</td>\n      <td>6.4</td>\n      <td>0.11</td>\n      <td>2.4</td>\n      <td>0.0</td>\n      <td>0.0</td>\n      <td>60.3</td>\n      <td>0.5</td>\n      <td>6.3</td>\n      <td>0.12</td>\n      <td>2.6</td>\n      <td>0.0</td>\n    </tr>\n    <tr>\n      <th>4</th>\n      <td>20.0</td>\n      <td>48.500000</td>\n      <td>17.033333</td>\n      <td>48.500000</td>\n      <td>0.0</td>\n      <td>0.389875</td>\n      <td>0.105094</td>\n      <td>0.169459</td>\n      <td>0.143024</td>\n      <td>0.040967</td>\n      <td>1597.0</td>\n      <td>1592.0</td>\n      <td>10.298350</td>\n      <td>12987.475538</td>\n      <td>115.0</td>\n      <td>1.0</td>\n      <td>1.0</td>\n      <td>1.0</td>\n      <td>16.649</td>\n      <td>0.082</td>\n      <td>0.050</td>\n      <td>0.412</td>\n      <td>0.035</td>\n      <td>0.02</td>\n      <td>0.051975</td>\n      <td>0.149</td>\n      <td>0.263</td>\n      <td>0.187</td>\n      <td>3687.0</td>\n      <td>0.002</td>\n      <td>0.461</td>\n      <td>0.334</td>\n      <td>0.105</td>\n      <td>0.652</td>\n      <td>0.007</td>\n      <td>0.011</td>\n      <td>0.080</td>\n      <td>0.007</td>\n      <td>0.020</td>\n      <td>0.447</td>\n      <td>0.001</td>\n      <td>0.002</td>\n      <td>0.003</td>\n      <td>0.784</td>\n      <td>0.0003</td>\n      <td>0.421</td>\n      <td>0.105</td>\n      <td>0.796</td>\n      <td>0.006</td>\n      <td>0.013</td>\n      <td>0.081</td>\n      <td>0.008</td>\n      <td>0.017</td>\n      <td>0.568</td>\n      <td>0.003</td>\n      <td>0.037</td>\n      <td>0.0</td>\n      <td>59.6</td>\n      <td>0.7</td>\n      <td>4.7</td>\n      <td>0.12</td>\n      <td>2.4</td>\n      <td>0.0</td>\n      <td>0.0</td>\n      <td>60.3</td>\n      <td>0.6</td>\n      <td>4.5</td>\n      <td>0.09</td>\n      <td>2.5</td>\n      <td>0.0</td>\n    </tr>\n  </tbody>\n</table>\n</div>"
     },
     "execution_count": 51,
     "metadata": {},
     "output_type": "execute_result"
    }
   ],
   "source": [
    "mark_data.head()"
   ],
   "metadata": {
    "collapsed": false,
    "pycharm": {
     "name": "#%%\n"
    }
   }
  },
  {
   "cell_type": "code",
   "execution_count": 53,
   "outputs": [],
   "source": [
    "mark_data.to_csv(POST_PROCESSING_DATA, sep='\\t', index=False)"
   ],
   "metadata": {
    "collapsed": false,
    "pycharm": {
     "name": "#%%\n"
    }
   }
  }
 ],
 "metadata": {
  "kernelspec": {
   "display_name": "Python 3",
   "language": "python",
   "name": "python3"
  },
  "language_info": {
   "codemirror_mode": {
    "name": "ipython",
    "version": 2
   },
   "file_extension": ".py",
   "mimetype": "text/x-python",
   "name": "python",
   "nbconvert_exporter": "python",
   "pygments_lexer": "ipython2",
   "version": "2.7.6"
  }
 },
 "nbformat": 4,
 "nbformat_minor": 0
}