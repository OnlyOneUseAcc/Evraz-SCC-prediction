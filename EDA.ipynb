{
 "cells": [
  {
   "cell_type": "markdown",
   "metadata": {
    "collapsed": true,
    "pycharm": {
     "name": "#%% md\n"
    }
   },
   "source": [
    "# Предобработка данных"
   ]
  },
  {
   "cell_type": "code",
   "execution_count": 253,
   "outputs": [],
   "source": [
    "import pandas as pd\n",
    "import numpy as np\n",
    "import subfunc as sf\n",
    "from impyute.imputation.cs import mice"
   ],
   "metadata": {
    "collapsed": false,
    "pycharm": {
     "name": "#%%\n"
    }
   }
  },
  {
   "cell_type": "code",
   "execution_count": 254,
   "outputs": [],
   "source": [
    "RAW_DATA = 'data/evras.csv'\n",
    "POST_PROCESSING_DATA = 'data/post_evras.csv'\n",
    "SOURCE_DATA = 'source/'\n",
    "pd.options.display.max_columns = 90\n",
    "target_columns = ['химшлак последний Al2O3',\n",
    "                  'химшлак последний CaO',\n",
    "                  'химшлак последний R',\n",
    "                  'химшлак последний SiO2']"
   ],
   "metadata": {
    "collapsed": false,
    "pycharm": {
     "name": "#%%\n"
    }
   }
  },
  {
   "cell_type": "markdown",
   "source": [
    "Информация о данных"
   ],
   "metadata": {
    "collapsed": false,
    "pycharm": {
     "name": "#%% md\n"
    }
   }
  },
  {
   "cell_type": "code",
   "execution_count": 255,
   "outputs": [
    {
     "data": {
      "text/plain": "               nplv                   DT  МАРКА ПРОФИЛЬ    t вып-обр  \\\ncount          7041                 7041   7041    7041  6444.000000   \nunique         7041                 7041     18      18          NaN   \ntop     г683863?:>6  2070-07-24 20:09:00  Э76ХФ     Р65          NaN   \nfreq              1                    1   4953    6427          NaN   \nmean            NaN                  NaN    NaN     NaN    26.492241   \nstd             NaN                  NaN    NaN     NaN    14.842045   \nmin             NaN                  NaN    NaN     NaN    -1.000000   \n25%             NaN                  NaN    NaN     NaN    14.000000   \n50%             NaN                  NaN    NaN     NaN    25.000000   \n75%             NaN                  NaN    NaN     NaN    37.000000   \nmax             NaN                  NaN    NaN     NaN    98.000000   \n\n        t обработка  t под током   t продувка      ПСН гр.  чист расход C  \\\ncount   6440.000000  6440.000000  6444.000000  5249.000000    6435.000000   \nunique          NaN          NaN          NaN          NaN            NaN   \ntop             NaN          NaN          NaN          NaN            NaN   \nfreq            NaN          NaN          NaN          NaN            NaN   \nmean      46.194099    21.010523    46.063051     3.004414       0.403088   \nstd        9.878727     4.758272     9.625492     0.738573       0.091197   \nmin        4.350000     2.816667     4.350000     1.000000       0.004400   \n25%       42.350000    18.033333    42.216667     2.539699       0.345045   \n50%       44.683333    20.500000    44.550000     3.000000       0.402250   \n75%       47.550000    23.300000    47.516667     3.500875       0.460938   \nmax      294.083333    67.583333   251.000000     6.702208       0.909300   \n\n        чист расход Cr  чист расход Mn  чист расход Si  чист расход V  \\\ncount      5883.000000     6431.000000     6431.000000    6178.000000   \nunique             NaN             NaN             NaN            NaN   \ntop                NaN             NaN             NaN            NaN   \nfreq               NaN             NaN             NaN            NaN   \nmean          0.117692        0.139068        0.130561       0.051366   \nstd           0.031589        0.052807        0.041268       0.022126   \nmin           0.000572        0.000356        0.009790       0.002965   \n25%           0.097838        0.103651        0.103468       0.039122   \n50%           0.118770        0.138111        0.127332       0.040082   \n75%           0.138435        0.172799        0.153948       0.042257   \nmax           0.675108        0.374175        0.478882       0.110047   \n\n        температура первая  температура последняя  Ar (интенс.)  N2 (интенс.)  \\\ncount          6436.000000            6436.000000   6426.000000   1389.000000   \nunique                 NaN                    NaN           NaN           NaN   \ntop                    NaN                    NaN           NaN           NaN   \nfreq                   NaN                    NaN           NaN           NaN   \nmean           1567.771753            1587.973897     11.593261     13.227743   \nstd              23.122019              14.714953      3.516874      4.058446   \nmin            1259.000000            1301.000000      2.456416      2.256585   \n25%            1552.000000            1579.000000      9.167960     10.223178   \n50%            1568.000000            1585.000000     11.039425     12.878459   \n75%            1583.000000            1594.000000     13.474756     15.584599   \nmax            1673.000000            1691.000000     28.126298     27.997753   \n\n        эл. энергия (интенс.)  произв жидкая сталь  \\\ncount             6440.000000          6444.000000   \nunique                    NaN                  NaN   \ntop                       NaN                  NaN   \nfreq                      NaN                  NaN   \nmean             12989.038791           114.404252   \nstd                889.488799             2.357373   \nmin               6105.482555            98.200000   \n25%              12504.290993           113.000000   \n50%              13041.114141           114.500000   \n75%              13502.338330           115.900000   \nmax              38216.817594           171.400000   \n\n        произв количество обработок  произв  количество плавок  \\\ncount                   6444.000000                     6444.0   \nunique                          NaN                        NaN   \ntop                             NaN                        NaN   \nfreq                            NaN                        NaN   \nmean                       1.009001                        1.0   \nstd                        0.102338                        0.0   \nmin                        1.000000                        1.0   \n25%                        1.000000                        1.0   \n50%                        1.000000                        1.0   \n75%                        1.000000                        1.0   \nmax                        3.000000                        1.0   \n\n        произв количество плавок (цел)  расход газ Ar  расход газ  N2  \\\ncount                           6444.0    6426.000000     1389.000000   \nunique                             NaN            NaN             NaN   \ntop                                NaN            NaN             NaN   \nfreq                               NaN            NaN             NaN   \nmean                               1.0      15.450528       10.547284   \nstd                                0.0       6.454300        5.424832   \nmin                                1.0       0.262000        0.257000   \n25%                                1.0      11.343500        7.140000   \n50%                                1.0      14.885000       10.039000   \n75%                                1.0      18.618250       13.398000   \nmax                                1.0      69.001000       38.235000   \n\n        расход C пров.  сыпуч известь РП  сыпуч кварцит  сыпуч кокс пыль УСТК  \\\ncount       724.000000       4770.000000          13.00           6422.000000   \nunique             NaN               NaN            NaN                   NaN   \ntop                NaN               NaN            NaN                   NaN   \nfreq               NaN               NaN            NaN                   NaN   \nmean          0.020862          0.132179           0.02              0.066706   \nstd           0.013748          0.079763           0.00              0.081494   \nmin           0.000760          0.003000           0.02              0.010000   \n25%           0.010193          0.075000           0.02              0.050000   \n50%           0.018559          0.116000           0.02              0.050000   \n75%           0.029600          0.163000           0.02              0.050000   \nmax           0.072726          0.730000           0.02              0.926000   \n\n        сыпуч  кокс. мелочь (сух.)  сыпуч  кокс. мелочь КМ1  \\\ncount                     7.000000              6307.000000   \nunique                         NaN                      NaN   \ntop                            NaN                      NaN   \nfreq                           NaN                      NaN   \nmean                      0.385714                 0.420162   \nstd                       0.123544                 0.113075   \nmin                       0.136000                 0.012000   \n25%                       0.369000                 0.347000   \n50%                       0.421000                 0.420000   \n75%                       0.453500                 0.494000   \nmax                       0.498000                 0.976000   \n\n        сыпуч  шпат плав.  ферспл CaC2  ферспл FeMo  ферспл FeSi-75  \\\ncount         5910.000000  6244.000000    33.000000        5.000000   \nunique                NaN          NaN          NaN             NaN   \ntop                   NaN          NaN          NaN             NaN   \nfreq                  NaN          NaN          NaN             NaN   \nmean             0.054730     0.020086     0.019429        0.044000   \nstd              0.023799     0.001429     0.001874        0.013416   \nmin              0.012000     0.010000     0.014902        0.020000   \n25%              0.038000     0.020000     0.018193        0.050000   \n50%              0.048000     0.020000     0.019350        0.050000   \n75%              0.069000     0.020000     0.020978        0.050000   \nmax              0.224000     0.050000     0.023184        0.050000   \n\n        ферспл FeV азот.  ферспл  FeV-80  ферспл  Mn5Si65Al0.5  \\\ncount         383.000000     6179.000000           6400.000000   \nunique               NaN             NaN                   NaN   \ntop                  NaN             NaN                   NaN   \nfreq                 NaN             NaN                   NaN   \nmean            0.023845        0.061368              0.143436   \nstd             0.001094        0.021887              0.055613   \nmin             0.011212        0.003725              0.007000   \n25%             0.023401        0.049262              0.107000   \n50%             0.023944        0.050492              0.140000   \n75%             0.024306        0.053205              0.176000   \nmax             0.026476        0.124638              0.660000   \n\n        ферспл  Ni H1 пласт.  ферспл SiMn18  ферспл  ферванит  ферспл  фх850А  \\\ncount              82.000000    6398.000000       1017.000000     5883.000000   \nunique                   NaN            NaN               NaN             NaN   \ntop                      NaN            NaN               NaN             NaN   \nfreq                     NaN            NaN               NaN             NaN   \nmean                0.039869       0.215540          0.026624        0.208039   \nstd                 0.012768       0.081399          0.008244        0.056090   \nmin                 0.005859       0.013000          0.005244        0.001000   \n25%                 0.032778       0.160000          0.023872        0.173000   \n50%                 0.041812       0.213000          0.025535        0.210000   \n75%                 0.049190       0.267000          0.026512        0.245000   \nmax                 0.064996       0.584000          0.126519        1.197000   \n\n         эл. энергия  химсталь первый Al_1  химсталь первый C_1  \\\ncount    6440.000000           6444.000000          6444.000000   \nunique           NaN                   NaN                  NaN   \ntop              NaN                   NaN                  NaN   \nfreq             NaN                   NaN                  NaN   \nmean     4557.236180              0.001782             0.466162   \nstd      1106.338452              0.000491             0.063416   \nmin       513.000000              0.001000             0.046000   \n25%      3839.000000              0.002000             0.426000   \n50%      4437.000000              0.002000             0.464000   \n75%      5115.500000              0.002000             0.505000   \nmax     14957.000000              0.006000             0.815000   \n\n        химсталь первый Cr_1  химсталь первый Cu_1  химсталь первый Mn_1  \\\ncount            6444.000000           6444.000000           6444.000000   \nunique                   NaN                   NaN                   NaN   \ntop                      NaN                   NaN                   NaN   \nfreq                     NaN                   NaN                   NaN   \nmean                0.273289              0.101999              0.672277   \nstd                 0.078583              0.013180              0.063099   \nmin                 0.033000              0.042000              0.081000   \n25%                 0.226000              0.094000              0.642000   \n50%                 0.301000              0.102000              0.672000   \n75%                 0.321000              0.110000              0.702000   \nmax                 0.621000              0.278000              1.348000   \n\n        химсталь первый Mo_1  химсталь первый N_1  химсталь первый Ni_1  \\\ncount            6443.000000          6443.000000           6444.000000   \nunique                   NaN                  NaN                   NaN   \ntop                      NaN                  NaN                   NaN   \nfreq                     NaN                  NaN                   NaN   \nmean                0.007049             0.009971              0.070998   \nstd                 0.002110             0.001511              0.011993   \nmin                 0.002000             0.003000              0.030000   \n25%                 0.006000             0.009000              0.064000   \n50%                 0.007000             0.010000              0.070000   \n75%                 0.008000             0.011000              0.076000   \nmax                 0.064000             0.028000              0.151000   \n\n        химсталь первый P_1  химсталь первый S_1  химсталь первый Si_1  \\\ncount           6444.000000          6444.000000           6444.000000   \nunique                  NaN                  NaN                   NaN   \ntop                     NaN                  NaN                   NaN   \nfreq                    NaN                  NaN                   NaN   \nmean               0.009108             0.020019              0.425896   \nstd                0.002040             0.003427              0.076906   \nmin                0.004000             0.010000              0.062000   \n25%                0.008000             0.018000              0.424000   \n50%                0.009000             0.020000              0.447000   \n75%                0.010000             0.022000              0.465000   \nmax                0.021000             0.047000              0.657000   \n\n        химсталь первый Ti_1  химсталь первый V_1  химсталь последний Al  \\\ncount            6444.000000          6444.000000            6444.000000   \nunique                   NaN                  NaN                    NaN   \ntop                      NaN                  NaN                    NaN   \nfreq                     NaN                  NaN                    NaN   \nmean                0.001662             0.002770               0.003182   \nstd                 0.000564             0.002796               0.001304   \nmin                 0.000000             0.000000               0.001000   \n25%                 0.001000             0.002000               0.003000   \n50%                 0.002000             0.003000               0.003000   \n75%                 0.002000             0.003000               0.003000   \nmax                 0.007000             0.083000               0.048000   \n\n        химсталь последний C  химсталь последний Ca  химсталь последний Cr  \\\ncount            6444.000000            6218.000000            6444.000000   \nunique                   NaN                    NaN                    NaN   \ntop                      NaN                    NaN                    NaN   \nfreq                     NaN                    NaN                    NaN   \nmean                0.781571               0.000319               0.363489   \nstd                 0.046222               0.000250               0.103946   \nmin                 0.071000               0.000000               0.034000   \n25%                 0.759000               0.000200               0.291000   \n50%                 0.770000               0.000300               0.416000   \n75%                 0.785000               0.000400               0.418000   \nmax                 0.908000               0.007000               0.697000   \n\n        химсталь последний Cu  химсталь последний Mn  химсталь последний Mo  \\\ncount             6444.000000            6444.000000            6444.000000   \nunique                    NaN                    NaN                    NaN   \ntop                       NaN                    NaN                    NaN   \nfreq                      NaN                    NaN                    NaN   \nmean                 0.101690               0.794441               0.006255   \nstd                  0.013033               0.054023               0.002312   \nmin                  0.044000               0.092000               0.001000   \n25%                  0.094000               0.785000               0.005000   \n50%                  0.102000               0.790000               0.006000   \n75%                  0.110000               0.796000               0.007000   \nmax                  0.275000               1.664000               0.061000   \n\n        химсталь последний N  химсталь последний Ni  химсталь последний P  \\\ncount            6442.000000            6444.000000           6444.000000   \nunique                   NaN                    NaN                   NaN   \ntop                      NaN                    NaN                   NaN   \nfreq                     NaN                    NaN                   NaN   \nmean                0.012446               0.071517              0.010058   \nstd                 0.002245               0.014324              0.002069   \nmin                 0.007000               0.030000              0.004000   \n25%                 0.011000               0.064000              0.009000   \n50%                 0.012000               0.070000              0.010000   \n75%                 0.014000               0.076000              0.011000   \nmax                 0.024000               0.174000              0.022000   \n\n        химсталь последний S  химсталь последний Si  химсталь последний Ti  \\\ncount            6444.000000            6444.000000            6444.000000   \nunique                   NaN                    NaN                    NaN   \ntop                      NaN                    NaN                    NaN   \nfreq                     NaN                    NaN                    NaN   \nmean                0.015014               0.537171               0.002902   \nstd                 0.002716               0.075337               0.000537   \nmin                 0.003000               0.056000               0.001000   \n25%                 0.013000               0.546000               0.003000   \n50%                 0.015000               0.561000               0.003000   \n75%                 0.017000               0.568000               0.003000   \nmax                 0.030000               0.699000               0.005000   \n\n        химсталь последний V  химшлак первый Al2O3_1  химшлак первый CaO_1  \\\ncount            6444.000000             4742.000000           6444.000000   \nunique                   NaN                     NaN                   NaN   \ntop                      NaN                     NaN                   NaN   \nfreq                     NaN                     NaN                   NaN   \nmean                0.045446                4.113897             54.527824   \nstd                 0.020792                0.928221              5.039707   \nmin                 0.001000                1.800000             25.200000   \n25%                 0.036000                3.500000             50.900000   \n50%                 0.037000                4.000000             54.700000   \n75%                 0.039000                4.600000             58.300000   \nmax                 0.090000               18.500000             82.800000   \n\n        химшлак первый FeO_1  химшлак первый MgO_1  химшлак первый MnO_1  \\\ncount            6444.000000           6443.000000           6444.000000   \nunique                   NaN                   NaN                   NaN   \ntop                      NaN                   NaN                   NaN   \nfreq                     NaN                   NaN                   NaN   \nmean                0.705726             11.654974              0.229375   \nstd                 0.711858              3.569979              0.309229   \nmin                 0.100000              1.100000              0.050000   \n25%                 0.400000              9.100000              0.100000   \n50%                 0.600000             11.400000              0.140000   \n75%                 0.800000             13.700000              0.230000   \nmax                29.900000             37.400000              5.700000   \n\n        химшлак первый R_1  химшлак первый SiO2_1  химшлак последний Al2O3  \\\ncount          6444.000000            4742.000000              4742.000000   \nunique                 NaN                    NaN                      NaN   \ntop                    NaN                    NaN                      NaN   \nfreq                   NaN                    NaN                      NaN   \nmean              2.414929              22.704914                 4.597912   \nstd               0.334448               2.393835                 0.960123   \nmin               1.300000               8.200000                 2.400000   \n25%               2.200000              21.300000                 3.900000   \n50%               2.400000              22.700000                 4.500000   \n75%               2.600000              24.600000                 5.100000   \nmax              10.100000              32.800000                14.200000   \n\n        химшлак последний CaO  химшлак последний FeO  химшлак последний MgO  \\\ncount             6444.000000            6444.000000            6443.000000   \nunique                    NaN                    NaN                    NaN   \ntop                       NaN                    NaN                    NaN   \nfreq                      NaN                    NaN                    NaN   \nmean                56.382992               0.585723               9.061990   \nstd                  3.780037               0.216918               3.163436   \nmin                 35.900000               0.100000               0.300000   \n25%                 54.300000               0.400000               6.700000   \n50%                 56.800000               0.600000               8.900000   \n75%                 58.800000               0.700000              11.300000   \nmax                 67.500000               4.200000              32.400000   \n\n        химшлак последний MnO  химшлак последний R  химшлак последний SiO2  \ncount             6444.000000          6444.000000             4742.000000  \nunique                    NaN                  NaN                     NaN  \ntop                       NaN                  NaN                     NaN  \nfreq                      NaN                  NaN                     NaN  \nmean                 0.123794             2.361425               23.971700  \nstd                  0.064587             0.224172                2.187768  \nmin                  0.040000             1.600000               16.400000  \n25%                  0.080000             2.200000               22.200000  \n50%                  0.110000             2.300000               24.400000  \n75%                  0.150000             2.500000               25.900000  \nmax                  1.450000             3.100000               28.700000  ",
      "text/html": "<div>\n<style scoped>\n    .dataframe tbody tr th:only-of-type {\n        vertical-align: middle;\n    }\n\n    .dataframe tbody tr th {\n        vertical-align: top;\n    }\n\n    .dataframe thead th {\n        text-align: right;\n    }\n</style>\n<table border=\"1\" class=\"dataframe\">\n  <thead>\n    <tr style=\"text-align: right;\">\n      <th></th>\n      <th>nplv</th>\n      <th>DT</th>\n      <th>МАРКА</th>\n      <th>ПРОФИЛЬ</th>\n      <th>t вып-обр</th>\n      <th>t обработка</th>\n      <th>t под током</th>\n      <th>t продувка</th>\n      <th>ПСН гр.</th>\n      <th>чист расход C</th>\n      <th>чист расход Cr</th>\n      <th>чист расход Mn</th>\n      <th>чист расход Si</th>\n      <th>чист расход V</th>\n      <th>температура первая</th>\n      <th>температура последняя</th>\n      <th>Ar (интенс.)</th>\n      <th>N2 (интенс.)</th>\n      <th>эл. энергия (интенс.)</th>\n      <th>произв жидкая сталь</th>\n      <th>произв количество обработок</th>\n      <th>произв  количество плавок</th>\n      <th>произв количество плавок (цел)</th>\n      <th>расход газ Ar</th>\n      <th>расход газ  N2</th>\n      <th>расход C пров.</th>\n      <th>сыпуч известь РП</th>\n      <th>сыпуч кварцит</th>\n      <th>сыпуч кокс пыль УСТК</th>\n      <th>сыпуч  кокс. мелочь (сух.)</th>\n      <th>сыпуч  кокс. мелочь КМ1</th>\n      <th>сыпуч  шпат плав.</th>\n      <th>ферспл CaC2</th>\n      <th>ферспл FeMo</th>\n      <th>ферспл FeSi-75</th>\n      <th>ферспл FeV азот.</th>\n      <th>ферспл  FeV-80</th>\n      <th>ферспл  Mn5Si65Al0.5</th>\n      <th>ферспл  Ni H1 пласт.</th>\n      <th>ферспл SiMn18</th>\n      <th>ферспл  ферванит</th>\n      <th>ферспл  фх850А</th>\n      <th>эл. энергия</th>\n      <th>химсталь первый Al_1</th>\n      <th>химсталь первый C_1</th>\n      <th>химсталь первый Cr_1</th>\n      <th>химсталь первый Cu_1</th>\n      <th>химсталь первый Mn_1</th>\n      <th>химсталь первый Mo_1</th>\n      <th>химсталь первый N_1</th>\n      <th>химсталь первый Ni_1</th>\n      <th>химсталь первый P_1</th>\n      <th>химсталь первый S_1</th>\n      <th>химсталь первый Si_1</th>\n      <th>химсталь первый Ti_1</th>\n      <th>химсталь первый V_1</th>\n      <th>химсталь последний Al</th>\n      <th>химсталь последний C</th>\n      <th>химсталь последний Ca</th>\n      <th>химсталь последний Cr</th>\n      <th>химсталь последний Cu</th>\n      <th>химсталь последний Mn</th>\n      <th>химсталь последний Mo</th>\n      <th>химсталь последний N</th>\n      <th>химсталь последний Ni</th>\n      <th>химсталь последний P</th>\n      <th>химсталь последний S</th>\n      <th>химсталь последний Si</th>\n      <th>химсталь последний Ti</th>\n      <th>химсталь последний V</th>\n      <th>химшлак первый Al2O3_1</th>\n      <th>химшлак первый CaO_1</th>\n      <th>химшлак первый FeO_1</th>\n      <th>химшлак первый MgO_1</th>\n      <th>химшлак первый MnO_1</th>\n      <th>химшлак первый R_1</th>\n      <th>химшлак первый SiO2_1</th>\n      <th>химшлак последний Al2O3</th>\n      <th>химшлак последний CaO</th>\n      <th>химшлак последний FeO</th>\n      <th>химшлак последний MgO</th>\n      <th>химшлак последний MnO</th>\n      <th>химшлак последний R</th>\n      <th>химшлак последний SiO2</th>\n    </tr>\n  </thead>\n  <tbody>\n    <tr>\n      <th>count</th>\n      <td>7041</td>\n      <td>7041</td>\n      <td>7041</td>\n      <td>7041</td>\n      <td>6444.000000</td>\n      <td>6440.000000</td>\n      <td>6440.000000</td>\n      <td>6444.000000</td>\n      <td>5249.000000</td>\n      <td>6435.000000</td>\n      <td>5883.000000</td>\n      <td>6431.000000</td>\n      <td>6431.000000</td>\n      <td>6178.000000</td>\n      <td>6436.000000</td>\n      <td>6436.000000</td>\n      <td>6426.000000</td>\n      <td>1389.000000</td>\n      <td>6440.000000</td>\n      <td>6444.000000</td>\n      <td>6444.000000</td>\n      <td>6444.0</td>\n      <td>6444.0</td>\n      <td>6426.000000</td>\n      <td>1389.000000</td>\n      <td>724.000000</td>\n      <td>4770.000000</td>\n      <td>13.00</td>\n      <td>6422.000000</td>\n      <td>7.000000</td>\n      <td>6307.000000</td>\n      <td>5910.000000</td>\n      <td>6244.000000</td>\n      <td>33.000000</td>\n      <td>5.000000</td>\n      <td>383.000000</td>\n      <td>6179.000000</td>\n      <td>6400.000000</td>\n      <td>82.000000</td>\n      <td>6398.000000</td>\n      <td>1017.000000</td>\n      <td>5883.000000</td>\n      <td>6440.000000</td>\n      <td>6444.000000</td>\n      <td>6444.000000</td>\n      <td>6444.000000</td>\n      <td>6444.000000</td>\n      <td>6444.000000</td>\n      <td>6443.000000</td>\n      <td>6443.000000</td>\n      <td>6444.000000</td>\n      <td>6444.000000</td>\n      <td>6444.000000</td>\n      <td>6444.000000</td>\n      <td>6444.000000</td>\n      <td>6444.000000</td>\n      <td>6444.000000</td>\n      <td>6444.000000</td>\n      <td>6218.000000</td>\n      <td>6444.000000</td>\n      <td>6444.000000</td>\n      <td>6444.000000</td>\n      <td>6444.000000</td>\n      <td>6442.000000</td>\n      <td>6444.000000</td>\n      <td>6444.000000</td>\n      <td>6444.000000</td>\n      <td>6444.000000</td>\n      <td>6444.000000</td>\n      <td>6444.000000</td>\n      <td>4742.000000</td>\n      <td>6444.000000</td>\n      <td>6444.000000</td>\n      <td>6443.000000</td>\n      <td>6444.000000</td>\n      <td>6444.000000</td>\n      <td>4742.000000</td>\n      <td>4742.000000</td>\n      <td>6444.000000</td>\n      <td>6444.000000</td>\n      <td>6443.000000</td>\n      <td>6444.000000</td>\n      <td>6444.000000</td>\n      <td>4742.000000</td>\n    </tr>\n    <tr>\n      <th>unique</th>\n      <td>7041</td>\n      <td>7041</td>\n      <td>18</td>\n      <td>18</td>\n      <td>NaN</td>\n      <td>NaN</td>\n      <td>NaN</td>\n      <td>NaN</td>\n      <td>NaN</td>\n      <td>NaN</td>\n      <td>NaN</td>\n      <td>NaN</td>\n      <td>NaN</td>\n      <td>NaN</td>\n      <td>NaN</td>\n      <td>NaN</td>\n      <td>NaN</td>\n      <td>NaN</td>\n      <td>NaN</td>\n      <td>NaN</td>\n      <td>NaN</td>\n      <td>NaN</td>\n      <td>NaN</td>\n      <td>NaN</td>\n      <td>NaN</td>\n      <td>NaN</td>\n      <td>NaN</td>\n      <td>NaN</td>\n      <td>NaN</td>\n      <td>NaN</td>\n      <td>NaN</td>\n      <td>NaN</td>\n      <td>NaN</td>\n      <td>NaN</td>\n      <td>NaN</td>\n      <td>NaN</td>\n      <td>NaN</td>\n      <td>NaN</td>\n      <td>NaN</td>\n      <td>NaN</td>\n      <td>NaN</td>\n      <td>NaN</td>\n      <td>NaN</td>\n      <td>NaN</td>\n      <td>NaN</td>\n      <td>NaN</td>\n      <td>NaN</td>\n      <td>NaN</td>\n      <td>NaN</td>\n      <td>NaN</td>\n      <td>NaN</td>\n      <td>NaN</td>\n      <td>NaN</td>\n      <td>NaN</td>\n      <td>NaN</td>\n      <td>NaN</td>\n      <td>NaN</td>\n      <td>NaN</td>\n      <td>NaN</td>\n      <td>NaN</td>\n      <td>NaN</td>\n      <td>NaN</td>\n      <td>NaN</td>\n      <td>NaN</td>\n      <td>NaN</td>\n      <td>NaN</td>\n      <td>NaN</td>\n      <td>NaN</td>\n      <td>NaN</td>\n      <td>NaN</td>\n      <td>NaN</td>\n      <td>NaN</td>\n      <td>NaN</td>\n      <td>NaN</td>\n      <td>NaN</td>\n      <td>NaN</td>\n      <td>NaN</td>\n      <td>NaN</td>\n      <td>NaN</td>\n      <td>NaN</td>\n      <td>NaN</td>\n      <td>NaN</td>\n      <td>NaN</td>\n      <td>NaN</td>\n    </tr>\n    <tr>\n      <th>top</th>\n      <td>г683863?:&gt;6</td>\n      <td>2070-07-24 20:09:00</td>\n      <td>Э76ХФ</td>\n      <td>Р65</td>\n      <td>NaN</td>\n      <td>NaN</td>\n      <td>NaN</td>\n      <td>NaN</td>\n      <td>NaN</td>\n      <td>NaN</td>\n      <td>NaN</td>\n      <td>NaN</td>\n      <td>NaN</td>\n      <td>NaN</td>\n      <td>NaN</td>\n      <td>NaN</td>\n      <td>NaN</td>\n      <td>NaN</td>\n      <td>NaN</td>\n      <td>NaN</td>\n      <td>NaN</td>\n      <td>NaN</td>\n      <td>NaN</td>\n      <td>NaN</td>\n      <td>NaN</td>\n      <td>NaN</td>\n      <td>NaN</td>\n      <td>NaN</td>\n      <td>NaN</td>\n      <td>NaN</td>\n      <td>NaN</td>\n      <td>NaN</td>\n      <td>NaN</td>\n      <td>NaN</td>\n      <td>NaN</td>\n      <td>NaN</td>\n      <td>NaN</td>\n      <td>NaN</td>\n      <td>NaN</td>\n      <td>NaN</td>\n      <td>NaN</td>\n      <td>NaN</td>\n      <td>NaN</td>\n      <td>NaN</td>\n      <td>NaN</td>\n      <td>NaN</td>\n      <td>NaN</td>\n      <td>NaN</td>\n      <td>NaN</td>\n      <td>NaN</td>\n      <td>NaN</td>\n      <td>NaN</td>\n      <td>NaN</td>\n      <td>NaN</td>\n      <td>NaN</td>\n      <td>NaN</td>\n      <td>NaN</td>\n      <td>NaN</td>\n      <td>NaN</td>\n      <td>NaN</td>\n      <td>NaN</td>\n      <td>NaN</td>\n      <td>NaN</td>\n      <td>NaN</td>\n      <td>NaN</td>\n      <td>NaN</td>\n      <td>NaN</td>\n      <td>NaN</td>\n      <td>NaN</td>\n      <td>NaN</td>\n      <td>NaN</td>\n      <td>NaN</td>\n      <td>NaN</td>\n      <td>NaN</td>\n      <td>NaN</td>\n      <td>NaN</td>\n      <td>NaN</td>\n      <td>NaN</td>\n      <td>NaN</td>\n      <td>NaN</td>\n      <td>NaN</td>\n      <td>NaN</td>\n      <td>NaN</td>\n      <td>NaN</td>\n    </tr>\n    <tr>\n      <th>freq</th>\n      <td>1</td>\n      <td>1</td>\n      <td>4953</td>\n      <td>6427</td>\n      <td>NaN</td>\n      <td>NaN</td>\n      <td>NaN</td>\n      <td>NaN</td>\n      <td>NaN</td>\n      <td>NaN</td>\n      <td>NaN</td>\n      <td>NaN</td>\n      <td>NaN</td>\n      <td>NaN</td>\n      <td>NaN</td>\n      <td>NaN</td>\n      <td>NaN</td>\n      <td>NaN</td>\n      <td>NaN</td>\n      <td>NaN</td>\n      <td>NaN</td>\n      <td>NaN</td>\n      <td>NaN</td>\n      <td>NaN</td>\n      <td>NaN</td>\n      <td>NaN</td>\n      <td>NaN</td>\n      <td>NaN</td>\n      <td>NaN</td>\n      <td>NaN</td>\n      <td>NaN</td>\n      <td>NaN</td>\n      <td>NaN</td>\n      <td>NaN</td>\n      <td>NaN</td>\n      <td>NaN</td>\n      <td>NaN</td>\n      <td>NaN</td>\n      <td>NaN</td>\n      <td>NaN</td>\n      <td>NaN</td>\n      <td>NaN</td>\n      <td>NaN</td>\n      <td>NaN</td>\n      <td>NaN</td>\n      <td>NaN</td>\n      <td>NaN</td>\n      <td>NaN</td>\n      <td>NaN</td>\n      <td>NaN</td>\n      <td>NaN</td>\n      <td>NaN</td>\n      <td>NaN</td>\n      <td>NaN</td>\n      <td>NaN</td>\n      <td>NaN</td>\n      <td>NaN</td>\n      <td>NaN</td>\n      <td>NaN</td>\n      <td>NaN</td>\n      <td>NaN</td>\n      <td>NaN</td>\n      <td>NaN</td>\n      <td>NaN</td>\n      <td>NaN</td>\n      <td>NaN</td>\n      <td>NaN</td>\n      <td>NaN</td>\n      <td>NaN</td>\n      <td>NaN</td>\n      <td>NaN</td>\n      <td>NaN</td>\n      <td>NaN</td>\n      <td>NaN</td>\n      <td>NaN</td>\n      <td>NaN</td>\n      <td>NaN</td>\n      <td>NaN</td>\n      <td>NaN</td>\n      <td>NaN</td>\n      <td>NaN</td>\n      <td>NaN</td>\n      <td>NaN</td>\n      <td>NaN</td>\n    </tr>\n    <tr>\n      <th>mean</th>\n      <td>NaN</td>\n      <td>NaN</td>\n      <td>NaN</td>\n      <td>NaN</td>\n      <td>26.492241</td>\n      <td>46.194099</td>\n      <td>21.010523</td>\n      <td>46.063051</td>\n      <td>3.004414</td>\n      <td>0.403088</td>\n      <td>0.117692</td>\n      <td>0.139068</td>\n      <td>0.130561</td>\n      <td>0.051366</td>\n      <td>1567.771753</td>\n      <td>1587.973897</td>\n      <td>11.593261</td>\n      <td>13.227743</td>\n      <td>12989.038791</td>\n      <td>114.404252</td>\n      <td>1.009001</td>\n      <td>1.0</td>\n      <td>1.0</td>\n      <td>15.450528</td>\n      <td>10.547284</td>\n      <td>0.020862</td>\n      <td>0.132179</td>\n      <td>0.02</td>\n      <td>0.066706</td>\n      <td>0.385714</td>\n      <td>0.420162</td>\n      <td>0.054730</td>\n      <td>0.020086</td>\n      <td>0.019429</td>\n      <td>0.044000</td>\n      <td>0.023845</td>\n      <td>0.061368</td>\n      <td>0.143436</td>\n      <td>0.039869</td>\n      <td>0.215540</td>\n      <td>0.026624</td>\n      <td>0.208039</td>\n      <td>4557.236180</td>\n      <td>0.001782</td>\n      <td>0.466162</td>\n      <td>0.273289</td>\n      <td>0.101999</td>\n      <td>0.672277</td>\n      <td>0.007049</td>\n      <td>0.009971</td>\n      <td>0.070998</td>\n      <td>0.009108</td>\n      <td>0.020019</td>\n      <td>0.425896</td>\n      <td>0.001662</td>\n      <td>0.002770</td>\n      <td>0.003182</td>\n      <td>0.781571</td>\n      <td>0.000319</td>\n      <td>0.363489</td>\n      <td>0.101690</td>\n      <td>0.794441</td>\n      <td>0.006255</td>\n      <td>0.012446</td>\n      <td>0.071517</td>\n      <td>0.010058</td>\n      <td>0.015014</td>\n      <td>0.537171</td>\n      <td>0.002902</td>\n      <td>0.045446</td>\n      <td>4.113897</td>\n      <td>54.527824</td>\n      <td>0.705726</td>\n      <td>11.654974</td>\n      <td>0.229375</td>\n      <td>2.414929</td>\n      <td>22.704914</td>\n      <td>4.597912</td>\n      <td>56.382992</td>\n      <td>0.585723</td>\n      <td>9.061990</td>\n      <td>0.123794</td>\n      <td>2.361425</td>\n      <td>23.971700</td>\n    </tr>\n    <tr>\n      <th>std</th>\n      <td>NaN</td>\n      <td>NaN</td>\n      <td>NaN</td>\n      <td>NaN</td>\n      <td>14.842045</td>\n      <td>9.878727</td>\n      <td>4.758272</td>\n      <td>9.625492</td>\n      <td>0.738573</td>\n      <td>0.091197</td>\n      <td>0.031589</td>\n      <td>0.052807</td>\n      <td>0.041268</td>\n      <td>0.022126</td>\n      <td>23.122019</td>\n      <td>14.714953</td>\n      <td>3.516874</td>\n      <td>4.058446</td>\n      <td>889.488799</td>\n      <td>2.357373</td>\n      <td>0.102338</td>\n      <td>0.0</td>\n      <td>0.0</td>\n      <td>6.454300</td>\n      <td>5.424832</td>\n      <td>0.013748</td>\n      <td>0.079763</td>\n      <td>0.00</td>\n      <td>0.081494</td>\n      <td>0.123544</td>\n      <td>0.113075</td>\n      <td>0.023799</td>\n      <td>0.001429</td>\n      <td>0.001874</td>\n      <td>0.013416</td>\n      <td>0.001094</td>\n      <td>0.021887</td>\n      <td>0.055613</td>\n      <td>0.012768</td>\n      <td>0.081399</td>\n      <td>0.008244</td>\n      <td>0.056090</td>\n      <td>1106.338452</td>\n      <td>0.000491</td>\n      <td>0.063416</td>\n      <td>0.078583</td>\n      <td>0.013180</td>\n      <td>0.063099</td>\n      <td>0.002110</td>\n      <td>0.001511</td>\n      <td>0.011993</td>\n      <td>0.002040</td>\n      <td>0.003427</td>\n      <td>0.076906</td>\n      <td>0.000564</td>\n      <td>0.002796</td>\n      <td>0.001304</td>\n      <td>0.046222</td>\n      <td>0.000250</td>\n      <td>0.103946</td>\n      <td>0.013033</td>\n      <td>0.054023</td>\n      <td>0.002312</td>\n      <td>0.002245</td>\n      <td>0.014324</td>\n      <td>0.002069</td>\n      <td>0.002716</td>\n      <td>0.075337</td>\n      <td>0.000537</td>\n      <td>0.020792</td>\n      <td>0.928221</td>\n      <td>5.039707</td>\n      <td>0.711858</td>\n      <td>3.569979</td>\n      <td>0.309229</td>\n      <td>0.334448</td>\n      <td>2.393835</td>\n      <td>0.960123</td>\n      <td>3.780037</td>\n      <td>0.216918</td>\n      <td>3.163436</td>\n      <td>0.064587</td>\n      <td>0.224172</td>\n      <td>2.187768</td>\n    </tr>\n    <tr>\n      <th>min</th>\n      <td>NaN</td>\n      <td>NaN</td>\n      <td>NaN</td>\n      <td>NaN</td>\n      <td>-1.000000</td>\n      <td>4.350000</td>\n      <td>2.816667</td>\n      <td>4.350000</td>\n      <td>1.000000</td>\n      <td>0.004400</td>\n      <td>0.000572</td>\n      <td>0.000356</td>\n      <td>0.009790</td>\n      <td>0.002965</td>\n      <td>1259.000000</td>\n      <td>1301.000000</td>\n      <td>2.456416</td>\n      <td>2.256585</td>\n      <td>6105.482555</td>\n      <td>98.200000</td>\n      <td>1.000000</td>\n      <td>1.0</td>\n      <td>1.0</td>\n      <td>0.262000</td>\n      <td>0.257000</td>\n      <td>0.000760</td>\n      <td>0.003000</td>\n      <td>0.02</td>\n      <td>0.010000</td>\n      <td>0.136000</td>\n      <td>0.012000</td>\n      <td>0.012000</td>\n      <td>0.010000</td>\n      <td>0.014902</td>\n      <td>0.020000</td>\n      <td>0.011212</td>\n      <td>0.003725</td>\n      <td>0.007000</td>\n      <td>0.005859</td>\n      <td>0.013000</td>\n      <td>0.005244</td>\n      <td>0.001000</td>\n      <td>513.000000</td>\n      <td>0.001000</td>\n      <td>0.046000</td>\n      <td>0.033000</td>\n      <td>0.042000</td>\n      <td>0.081000</td>\n      <td>0.002000</td>\n      <td>0.003000</td>\n      <td>0.030000</td>\n      <td>0.004000</td>\n      <td>0.010000</td>\n      <td>0.062000</td>\n      <td>0.000000</td>\n      <td>0.000000</td>\n      <td>0.001000</td>\n      <td>0.071000</td>\n      <td>0.000000</td>\n      <td>0.034000</td>\n      <td>0.044000</td>\n      <td>0.092000</td>\n      <td>0.001000</td>\n      <td>0.007000</td>\n      <td>0.030000</td>\n      <td>0.004000</td>\n      <td>0.003000</td>\n      <td>0.056000</td>\n      <td>0.001000</td>\n      <td>0.001000</td>\n      <td>1.800000</td>\n      <td>25.200000</td>\n      <td>0.100000</td>\n      <td>1.100000</td>\n      <td>0.050000</td>\n      <td>1.300000</td>\n      <td>8.200000</td>\n      <td>2.400000</td>\n      <td>35.900000</td>\n      <td>0.100000</td>\n      <td>0.300000</td>\n      <td>0.040000</td>\n      <td>1.600000</td>\n      <td>16.400000</td>\n    </tr>\n    <tr>\n      <th>25%</th>\n      <td>NaN</td>\n      <td>NaN</td>\n      <td>NaN</td>\n      <td>NaN</td>\n      <td>14.000000</td>\n      <td>42.350000</td>\n      <td>18.033333</td>\n      <td>42.216667</td>\n      <td>2.539699</td>\n      <td>0.345045</td>\n      <td>0.097838</td>\n      <td>0.103651</td>\n      <td>0.103468</td>\n      <td>0.039122</td>\n      <td>1552.000000</td>\n      <td>1579.000000</td>\n      <td>9.167960</td>\n      <td>10.223178</td>\n      <td>12504.290993</td>\n      <td>113.000000</td>\n      <td>1.000000</td>\n      <td>1.0</td>\n      <td>1.0</td>\n      <td>11.343500</td>\n      <td>7.140000</td>\n      <td>0.010193</td>\n      <td>0.075000</td>\n      <td>0.02</td>\n      <td>0.050000</td>\n      <td>0.369000</td>\n      <td>0.347000</td>\n      <td>0.038000</td>\n      <td>0.020000</td>\n      <td>0.018193</td>\n      <td>0.050000</td>\n      <td>0.023401</td>\n      <td>0.049262</td>\n      <td>0.107000</td>\n      <td>0.032778</td>\n      <td>0.160000</td>\n      <td>0.023872</td>\n      <td>0.173000</td>\n      <td>3839.000000</td>\n      <td>0.002000</td>\n      <td>0.426000</td>\n      <td>0.226000</td>\n      <td>0.094000</td>\n      <td>0.642000</td>\n      <td>0.006000</td>\n      <td>0.009000</td>\n      <td>0.064000</td>\n      <td>0.008000</td>\n      <td>0.018000</td>\n      <td>0.424000</td>\n      <td>0.001000</td>\n      <td>0.002000</td>\n      <td>0.003000</td>\n      <td>0.759000</td>\n      <td>0.000200</td>\n      <td>0.291000</td>\n      <td>0.094000</td>\n      <td>0.785000</td>\n      <td>0.005000</td>\n      <td>0.011000</td>\n      <td>0.064000</td>\n      <td>0.009000</td>\n      <td>0.013000</td>\n      <td>0.546000</td>\n      <td>0.003000</td>\n      <td>0.036000</td>\n      <td>3.500000</td>\n      <td>50.900000</td>\n      <td>0.400000</td>\n      <td>9.100000</td>\n      <td>0.100000</td>\n      <td>2.200000</td>\n      <td>21.300000</td>\n      <td>3.900000</td>\n      <td>54.300000</td>\n      <td>0.400000</td>\n      <td>6.700000</td>\n      <td>0.080000</td>\n      <td>2.200000</td>\n      <td>22.200000</td>\n    </tr>\n    <tr>\n      <th>50%</th>\n      <td>NaN</td>\n      <td>NaN</td>\n      <td>NaN</td>\n      <td>NaN</td>\n      <td>25.000000</td>\n      <td>44.683333</td>\n      <td>20.500000</td>\n      <td>44.550000</td>\n      <td>3.000000</td>\n      <td>0.402250</td>\n      <td>0.118770</td>\n      <td>0.138111</td>\n      <td>0.127332</td>\n      <td>0.040082</td>\n      <td>1568.000000</td>\n      <td>1585.000000</td>\n      <td>11.039425</td>\n      <td>12.878459</td>\n      <td>13041.114141</td>\n      <td>114.500000</td>\n      <td>1.000000</td>\n      <td>1.0</td>\n      <td>1.0</td>\n      <td>14.885000</td>\n      <td>10.039000</td>\n      <td>0.018559</td>\n      <td>0.116000</td>\n      <td>0.02</td>\n      <td>0.050000</td>\n      <td>0.421000</td>\n      <td>0.420000</td>\n      <td>0.048000</td>\n      <td>0.020000</td>\n      <td>0.019350</td>\n      <td>0.050000</td>\n      <td>0.023944</td>\n      <td>0.050492</td>\n      <td>0.140000</td>\n      <td>0.041812</td>\n      <td>0.213000</td>\n      <td>0.025535</td>\n      <td>0.210000</td>\n      <td>4437.000000</td>\n      <td>0.002000</td>\n      <td>0.464000</td>\n      <td>0.301000</td>\n      <td>0.102000</td>\n      <td>0.672000</td>\n      <td>0.007000</td>\n      <td>0.010000</td>\n      <td>0.070000</td>\n      <td>0.009000</td>\n      <td>0.020000</td>\n      <td>0.447000</td>\n      <td>0.002000</td>\n      <td>0.003000</td>\n      <td>0.003000</td>\n      <td>0.770000</td>\n      <td>0.000300</td>\n      <td>0.416000</td>\n      <td>0.102000</td>\n      <td>0.790000</td>\n      <td>0.006000</td>\n      <td>0.012000</td>\n      <td>0.070000</td>\n      <td>0.010000</td>\n      <td>0.015000</td>\n      <td>0.561000</td>\n      <td>0.003000</td>\n      <td>0.037000</td>\n      <td>4.000000</td>\n      <td>54.700000</td>\n      <td>0.600000</td>\n      <td>11.400000</td>\n      <td>0.140000</td>\n      <td>2.400000</td>\n      <td>22.700000</td>\n      <td>4.500000</td>\n      <td>56.800000</td>\n      <td>0.600000</td>\n      <td>8.900000</td>\n      <td>0.110000</td>\n      <td>2.300000</td>\n      <td>24.400000</td>\n    </tr>\n    <tr>\n      <th>75%</th>\n      <td>NaN</td>\n      <td>NaN</td>\n      <td>NaN</td>\n      <td>NaN</td>\n      <td>37.000000</td>\n      <td>47.550000</td>\n      <td>23.300000</td>\n      <td>47.516667</td>\n      <td>3.500875</td>\n      <td>0.460938</td>\n      <td>0.138435</td>\n      <td>0.172799</td>\n      <td>0.153948</td>\n      <td>0.042257</td>\n      <td>1583.000000</td>\n      <td>1594.000000</td>\n      <td>13.474756</td>\n      <td>15.584599</td>\n      <td>13502.338330</td>\n      <td>115.900000</td>\n      <td>1.000000</td>\n      <td>1.0</td>\n      <td>1.0</td>\n      <td>18.618250</td>\n      <td>13.398000</td>\n      <td>0.029600</td>\n      <td>0.163000</td>\n      <td>0.02</td>\n      <td>0.050000</td>\n      <td>0.453500</td>\n      <td>0.494000</td>\n      <td>0.069000</td>\n      <td>0.020000</td>\n      <td>0.020978</td>\n      <td>0.050000</td>\n      <td>0.024306</td>\n      <td>0.053205</td>\n      <td>0.176000</td>\n      <td>0.049190</td>\n      <td>0.267000</td>\n      <td>0.026512</td>\n      <td>0.245000</td>\n      <td>5115.500000</td>\n      <td>0.002000</td>\n      <td>0.505000</td>\n      <td>0.321000</td>\n      <td>0.110000</td>\n      <td>0.702000</td>\n      <td>0.008000</td>\n      <td>0.011000</td>\n      <td>0.076000</td>\n      <td>0.010000</td>\n      <td>0.022000</td>\n      <td>0.465000</td>\n      <td>0.002000</td>\n      <td>0.003000</td>\n      <td>0.003000</td>\n      <td>0.785000</td>\n      <td>0.000400</td>\n      <td>0.418000</td>\n      <td>0.110000</td>\n      <td>0.796000</td>\n      <td>0.007000</td>\n      <td>0.014000</td>\n      <td>0.076000</td>\n      <td>0.011000</td>\n      <td>0.017000</td>\n      <td>0.568000</td>\n      <td>0.003000</td>\n      <td>0.039000</td>\n      <td>4.600000</td>\n      <td>58.300000</td>\n      <td>0.800000</td>\n      <td>13.700000</td>\n      <td>0.230000</td>\n      <td>2.600000</td>\n      <td>24.600000</td>\n      <td>5.100000</td>\n      <td>58.800000</td>\n      <td>0.700000</td>\n      <td>11.300000</td>\n      <td>0.150000</td>\n      <td>2.500000</td>\n      <td>25.900000</td>\n    </tr>\n    <tr>\n      <th>max</th>\n      <td>NaN</td>\n      <td>NaN</td>\n      <td>NaN</td>\n      <td>NaN</td>\n      <td>98.000000</td>\n      <td>294.083333</td>\n      <td>67.583333</td>\n      <td>251.000000</td>\n      <td>6.702208</td>\n      <td>0.909300</td>\n      <td>0.675108</td>\n      <td>0.374175</td>\n      <td>0.478882</td>\n      <td>0.110047</td>\n      <td>1673.000000</td>\n      <td>1691.000000</td>\n      <td>28.126298</td>\n      <td>27.997753</td>\n      <td>38216.817594</td>\n      <td>171.400000</td>\n      <td>3.000000</td>\n      <td>1.0</td>\n      <td>1.0</td>\n      <td>69.001000</td>\n      <td>38.235000</td>\n      <td>0.072726</td>\n      <td>0.730000</td>\n      <td>0.02</td>\n      <td>0.926000</td>\n      <td>0.498000</td>\n      <td>0.976000</td>\n      <td>0.224000</td>\n      <td>0.050000</td>\n      <td>0.023184</td>\n      <td>0.050000</td>\n      <td>0.026476</td>\n      <td>0.124638</td>\n      <td>0.660000</td>\n      <td>0.064996</td>\n      <td>0.584000</td>\n      <td>0.126519</td>\n      <td>1.197000</td>\n      <td>14957.000000</td>\n      <td>0.006000</td>\n      <td>0.815000</td>\n      <td>0.621000</td>\n      <td>0.278000</td>\n      <td>1.348000</td>\n      <td>0.064000</td>\n      <td>0.028000</td>\n      <td>0.151000</td>\n      <td>0.021000</td>\n      <td>0.047000</td>\n      <td>0.657000</td>\n      <td>0.007000</td>\n      <td>0.083000</td>\n      <td>0.048000</td>\n      <td>0.908000</td>\n      <td>0.007000</td>\n      <td>0.697000</td>\n      <td>0.275000</td>\n      <td>1.664000</td>\n      <td>0.061000</td>\n      <td>0.024000</td>\n      <td>0.174000</td>\n      <td>0.022000</td>\n      <td>0.030000</td>\n      <td>0.699000</td>\n      <td>0.005000</td>\n      <td>0.090000</td>\n      <td>18.500000</td>\n      <td>82.800000</td>\n      <td>29.900000</td>\n      <td>37.400000</td>\n      <td>5.700000</td>\n      <td>10.100000</td>\n      <td>32.800000</td>\n      <td>14.200000</td>\n      <td>67.500000</td>\n      <td>4.200000</td>\n      <td>32.400000</td>\n      <td>1.450000</td>\n      <td>3.100000</td>\n      <td>28.700000</td>\n    </tr>\n  </tbody>\n</table>\n</div>"
     },
     "execution_count": 255,
     "metadata": {},
     "output_type": "execute_result"
    }
   ],
   "source": [
    "data = pd.read_csv(RAW_DATA, sep=';', index_col='index', decimal=',')\n",
    "data.describe(include='all')"
   ],
   "metadata": {
    "collapsed": false,
    "pycharm": {
     "name": "#%%\n"
    }
   }
  },
  {
   "cell_type": "code",
   "execution_count": 256,
   "outputs": [
    {
     "name": "stdout",
     "output_type": "stream",
     "text": [
      "<class 'pandas.core.frame.DataFrame'>\n",
      "Int64Index: 7041 entries, 0 to 7040\n",
      "Data columns (total 84 columns):\n",
      " #   Column                          Non-Null Count  Dtype  \n",
      "---  ------                          --------------  -----  \n",
      " 0   nplv                            7041 non-null   object \n",
      " 1   DT                              7041 non-null   object \n",
      " 2   МАРКА                           7041 non-null   object \n",
      " 3   ПРОФИЛЬ                         7041 non-null   object \n",
      " 4   t вып-обр                       6444 non-null   float64\n",
      " 5   t обработка                     6440 non-null   float64\n",
      " 6   t под током                     6440 non-null   float64\n",
      " 7   t продувка                      6444 non-null   float64\n",
      " 8   ПСН гр.                         5249 non-null   float64\n",
      " 9   чист расход C                   6435 non-null   float64\n",
      " 10  чист расход Cr                  5883 non-null   float64\n",
      " 11  чист расход Mn                  6431 non-null   float64\n",
      " 12  чист расход Si                  6431 non-null   float64\n",
      " 13  чист расход V                   6178 non-null   float64\n",
      " 14  температура первая              6436 non-null   float64\n",
      " 15  температура последняя           6436 non-null   float64\n",
      " 16  Ar (интенс.)                    6426 non-null   float64\n",
      " 17  N2 (интенс.)                    1389 non-null   float64\n",
      " 18  эл. энергия (интенс.)           6440 non-null   float64\n",
      " 19  произв жидкая сталь             6444 non-null   float64\n",
      " 20  произв количество обработок     6444 non-null   float64\n",
      " 21  произв  количество плавок       6444 non-null   float64\n",
      " 22  произв количество плавок (цел)  6444 non-null   float64\n",
      " 23  расход газ Ar                   6426 non-null   float64\n",
      " 24  расход газ  N2                  1389 non-null   float64\n",
      " 25  расход C пров.                  724 non-null    float64\n",
      " 26  сыпуч известь РП                4770 non-null   float64\n",
      " 27  сыпуч кварцит                   13 non-null     float64\n",
      " 28  сыпуч кокс пыль УСТК            6422 non-null   float64\n",
      " 29  сыпуч  кокс. мелочь (сух.)      7 non-null      float64\n",
      " 30  сыпуч  кокс. мелочь КМ1         6307 non-null   float64\n",
      " 31  сыпуч  шпат плав.               5910 non-null   float64\n",
      " 32  ферспл CaC2                     6244 non-null   float64\n",
      " 33  ферспл FeMo                     33 non-null     float64\n",
      " 34  ферспл FeSi-75                  5 non-null      float64\n",
      " 35  ферспл FeV азот.                383 non-null    float64\n",
      " 36  ферспл  FeV-80                  6179 non-null   float64\n",
      " 37  ферспл  Mn5Si65Al0.5            6400 non-null   float64\n",
      " 38  ферспл  Ni H1 пласт.            82 non-null     float64\n",
      " 39  ферспл SiMn18                   6398 non-null   float64\n",
      " 40  ферспл  ферванит                1017 non-null   float64\n",
      " 41  ферспл  фх850А                  5883 non-null   float64\n",
      " 42  эл. энергия                     6440 non-null   float64\n",
      " 43  химсталь первый Al_1            6444 non-null   float64\n",
      " 44  химсталь первый C_1             6444 non-null   float64\n",
      " 45  химсталь первый Cr_1            6444 non-null   float64\n",
      " 46  химсталь первый Cu_1            6444 non-null   float64\n",
      " 47  химсталь первый Mn_1            6444 non-null   float64\n",
      " 48  химсталь первый Mo_1            6443 non-null   float64\n",
      " 49  химсталь первый N_1             6443 non-null   float64\n",
      " 50  химсталь первый Ni_1            6444 non-null   float64\n",
      " 51  химсталь первый P_1             6444 non-null   float64\n",
      " 52  химсталь первый S_1             6444 non-null   float64\n",
      " 53  химсталь первый Si_1            6444 non-null   float64\n",
      " 54  химсталь первый Ti_1            6444 non-null   float64\n",
      " 55  химсталь первый V_1             6444 non-null   float64\n",
      " 56  химсталь последний Al           6444 non-null   float64\n",
      " 57  химсталь последний C            6444 non-null   float64\n",
      " 58  химсталь последний Ca           6218 non-null   float64\n",
      " 59  химсталь последний Cr           6444 non-null   float64\n",
      " 60  химсталь последний Cu           6444 non-null   float64\n",
      " 61  химсталь последний Mn           6444 non-null   float64\n",
      " 62  химсталь последний Mo           6444 non-null   float64\n",
      " 63  химсталь последний N            6442 non-null   float64\n",
      " 64  химсталь последний Ni           6444 non-null   float64\n",
      " 65  химсталь последний P            6444 non-null   float64\n",
      " 66  химсталь последний S            6444 non-null   float64\n",
      " 67  химсталь последний Si           6444 non-null   float64\n",
      " 68  химсталь последний Ti           6444 non-null   float64\n",
      " 69  химсталь последний V            6444 non-null   float64\n",
      " 70  химшлак первый Al2O3_1          4742 non-null   float64\n",
      " 71  химшлак первый CaO_1            6444 non-null   float64\n",
      " 72  химшлак первый FeO_1            6444 non-null   float64\n",
      " 73  химшлак первый MgO_1            6443 non-null   float64\n",
      " 74  химшлак первый MnO_1            6444 non-null   float64\n",
      " 75  химшлак первый R_1              6444 non-null   float64\n",
      " 76  химшлак первый SiO2_1           4742 non-null   float64\n",
      " 77  химшлак последний Al2O3         4742 non-null   float64\n",
      " 78  химшлак последний CaO           6444 non-null   float64\n",
      " 79  химшлак последний FeO           6444 non-null   float64\n",
      " 80  химшлак последний MgO           6443 non-null   float64\n",
      " 81  химшлак последний MnO           6444 non-null   float64\n",
      " 82  химшлак последний R             6444 non-null   float64\n",
      " 83  химшлак последний SiO2          4742 non-null   float64\n",
      "dtypes: float64(80), object(4)\n",
      "memory usage: 4.6+ MB\n"
     ]
    }
   ],
   "source": [
    "data.info()"
   ],
   "metadata": {
    "collapsed": false,
    "pycharm": {
     "name": "#%%\n"
    }
   }
  },
  {
   "cell_type": "markdown",
   "source": [
    "Нахождение самой популярной марки"
   ],
   "metadata": {
    "collapsed": false,
    "pycharm": {
     "name": "#%% md\n"
    }
   }
  },
  {
   "cell_type": "code",
   "execution_count": 257,
   "outputs": [
    {
     "name": "stdout",
     "output_type": "stream",
     "text": [
      "Самая популярная марка -  Э76ХФ\n"
     ]
    }
   ],
   "source": [
    "top_mark = data.describe(include='all').loc[\"top\", \"МАРКА\"]\n",
    "print(\"Самая популярная марка - \", top_mark)"
   ],
   "metadata": {
    "collapsed": false,
    "pycharm": {
     "name": "#%%\n"
    }
   }
  },
  {
   "cell_type": "markdown",
   "source": [
    "Процент пропущенных значений в датасете"
   ],
   "metadata": {
    "collapsed": false,
    "pycharm": {
     "name": "#%% md\n"
    }
   }
  },
  {
   "cell_type": "code",
   "execution_count": 258,
   "outputs": [
    {
     "data": {
      "text/plain": "ферспл FeSi-75                0.999290\nсыпуч  кокс. мелочь (сух.)    0.999006\nсыпуч кварцит                 0.998154\nферспл FeMo                   0.995313\nферспл  Ni H1 пласт.          0.988354\nферспл FeV азот.              0.945604\nрасход C пров.                0.897174\nферспл  ферванит              0.855560\nрасход газ  N2                0.802727\nN2 (интенс.)                  0.802727\nхимшлак последний SiO2        0.326516\nхимшлак последний Al2O3       0.326516\nхимшлак первый SiO2_1         0.326516\nхимшлак первый Al2O3_1        0.326516\nсыпуч известь РП              0.322539\ndtype: float64"
     },
     "execution_count": 258,
     "metadata": {},
     "output_type": "execute_result"
    }
   ],
   "source": [
    "data.isnull().sum().sort_values(ascending= False).apply(lambda x : x / data.shape[0])[:15]"
   ],
   "metadata": {
    "collapsed": false,
    "pycharm": {
     "name": "#%%\n"
    }
   }
  },
  {
   "cell_type": "markdown",
   "source": [
    "Перевод даты во время изготовления сплава"
   ],
   "metadata": {
    "collapsed": false,
    "pycharm": {
     "name": "#%% md\n"
    }
   }
  },
  {
   "cell_type": "code",
   "execution_count": 259,
   "outputs": [],
   "source": [
    "data['DT'] = sf.date_to_interval(data['DT'])"
   ],
   "metadata": {
    "collapsed": false,
    "pycharm": {
     "name": "#%%\n"
    }
   }
  },
  {
   "cell_type": "markdown",
   "source": [
    "Оставляем колонки с > 65% известных данных"
   ],
   "metadata": {
    "collapsed": false,
    "pycharm": {
     "name": "#%% md\n"
    }
   }
  },
  {
   "cell_type": "code",
   "execution_count": 260,
   "outputs": [
    {
     "name": "stdout",
     "output_type": "stream",
     "text": [
      "Удаленные колонки: N2 (интенс.), расход газ  N2, расход C пров., сыпуч кварцит, сыпуч  кокс. мелочь (сух.), ферспл FeMo, ферспл FeSi-75, ферспл FeV азот., ферспл  Ni H1 пласт., ферспл  ферванит\n"
     ]
    }
   ],
   "source": [
    "dropped_data = sf.drop_columns(data,0.65)"
   ],
   "metadata": {
    "collapsed": false,
    "pycharm": {
     "name": "#%%\n"
    }
   }
  },
  {
   "cell_type": "code",
   "execution_count": 261,
   "outputs": [],
   "source": [
    "#part_nan = dropped_data.isnull().sum().sort_values(ascending= False).apply(lambda x : x / data.shape[0])"
   ],
   "metadata": {
    "collapsed": false,
    "pycharm": {
     "name": "#%%\n"
    }
   }
  },
  {
   "cell_type": "markdown",
   "source": [
    "Зануляем показатели трети хим анализа"
   ],
   "metadata": {
    "collapsed": false,
    "pycharm": {
     "name": "#%% md\n"
    }
   }
  },
  {
   "cell_type": "code",
   "execution_count": 262,
   "outputs": [],
   "source": [
    "listd = []\n",
    "for column in data.columns:\n",
    "    if 'хим' in column:\n",
    "        listd.append(column)"
   ],
   "metadata": {
    "collapsed": false,
    "pycharm": {
     "name": "#%%\n"
    }
   }
  },
  {
   "cell_type": "code",
   "execution_count": 263,
   "outputs": [
    {
     "name": "stderr",
     "output_type": "stream",
     "text": [
      "c:\\program files\\python37\\lib\\site-packages\\pandas\\core\\frame.py:3191: SettingWithCopyWarning: \n",
      "A value is trying to be set on a copy of a slice from a DataFrame.\n",
      "Try using .loc[row_indexer,col_indexer] = value instead\n",
      "\n",
      "See the caveats in the documentation: https://pandas.pydata.org/pandas-docs/stable/user_guide/indexing.html#returning-a-view-versus-a-copy\n",
      "  self[k1] = value[k2]\n"
     ]
    }
   ],
   "source": [
    "dropped_data[listd] = dropped_data[listd].fillna(0)"
   ],
   "metadata": {
    "collapsed": false,
    "pycharm": {
     "name": "#%%\n"
    }
   }
  },
  {
   "cell_type": "code",
   "execution_count": 264,
   "outputs": [],
   "source": [
    "str_columns = ['ПРОФИЛЬ', 'МАРКА', 'nplv', 'DT']\n",
    "all_columns = dropped_data.columns.to_list()\n",
    "result_columns = list(set(all_columns) - set(str_columns))"
   ],
   "metadata": {
    "collapsed": false,
    "pycharm": {
     "name": "#%%\n"
    }
   }
  },
  {
   "cell_type": "code",
   "execution_count": 290,
   "outputs": [
    {
     "data": {
      "text/plain": "химсталь первый Al_1            0.001631\nэл. энергия                  4557.236180\nхимсталь первый C_1             0.426637\nПСН гр.                         3.004414\nчист расход V                   0.051366\n                                ...     \nчист расход C                   0.403088\nхимсталь последний Mo           0.005724\nхимшлак последний FeO           0.536060\nпроизв  количество плавок       1.000000\nчист расход Si                  0.130561\nLength: 70, dtype: float64"
     },
     "execution_count": 290,
     "metadata": {},
     "output_type": "execute_result"
    }
   ],
   "source": [
    "#dropped_data[result_columns].fillna(dropped_data[result_columns].mode(axis=0), inplace=True)\n",
    "dropped_data[result_columns].mean(axis=0)"
   ],
   "metadata": {
    "collapsed": false,
    "pycharm": {
     "name": "#%%\n"
    }
   }
  },
  {
   "cell_type": "code",
   "execution_count": 265,
   "outputs": [],
   "source": [
    "#dropped_data.fillna(your_func(dropped_data))"
   ],
   "metadata": {
    "collapsed": false,
    "pycharm": {
     "name": "#%%\n"
    }
   }
  },
  {
   "cell_type": "code",
   "execution_count": 266,
   "outputs": [],
   "source": [
    "#dropped_data[result_columns] = dropped_data[result_columns].fillna(\n",
    "#    dropped_data.groupby('МАРКА')[result_columns].transform('mean')\n",
    "#)"
   ],
   "metadata": {
    "collapsed": false,
    "pycharm": {
     "name": "#%%\n"
    }
   }
  },
  {
   "cell_type": "code",
   "execution_count": 267,
   "outputs": [],
   "source": [
    "#dropped_data"
   ],
   "metadata": {
    "collapsed": false,
    "pycharm": {
     "name": "#%%\n"
    }
   }
  },
  {
   "cell_type": "code",
   "execution_count": 268,
   "outputs": [
    {
     "data": {
      "text/plain": "сыпуч известь РП          2271\nПСН гр.                   1792\nферспл  фх850А            1158\nчист расход Cr            1158\nсыпуч  шпат плав.         1131\n                          ... \nхимсталь последний Al        0\nхимсталь последний C         0\nхимсталь последний Ca        0\nхимсталь последний Cr        0\nхимшлак последний SiO2       0\nLength: 74, dtype: int64"
     },
     "execution_count": 268,
     "metadata": {},
     "output_type": "execute_result"
    }
   ],
   "source": [
    "dropped_data.isnull().sum().sort_values(ascending= False)"
   ],
   "metadata": {
    "collapsed": false,
    "pycharm": {
     "name": "#%%\n"
    }
   }
  },
  {
   "cell_type": "markdown",
   "source": [
    "One-hot encoding"
   ],
   "metadata": {
    "collapsed": false,
    "pycharm": {
     "name": "#%% md\n"
    }
   }
  },
  {
   "cell_type": "code",
   "execution_count": 269,
   "outputs": [],
   "source": [
    "unique_marks = np.unique(dropped_data['МАРКА'], return_counts=True)\n",
    "\n"
   ],
   "metadata": {
    "collapsed": false,
    "pycharm": {
     "name": "#%%\n"
    }
   }
  },
  {
   "cell_type": "code",
   "execution_count": 270,
   "outputs": [],
   "source": [
    "dropped_data = pd.get_dummies(dropped_data, columns=['МАРКА'])"
   ],
   "metadata": {
    "collapsed": false,
    "pycharm": {
     "name": "#%%\n"
    }
   }
  },
  {
   "cell_type": "code",
   "execution_count": 271,
   "outputs": [],
   "source": [
    "# не влияет на процесс\n",
    "np.unique(dropped_data['ПРОФИЛЬ'], return_counts=True)\n",
    "dropped_data = dropped_data.drop(columns=['nplv', 'ПРОФИЛЬ'])"
   ],
   "metadata": {
    "collapsed": false,
    "pycharm": {
     "name": "#%%\n"
    }
   }
  },
  {
   "cell_type": "code",
   "execution_count": 272,
   "outputs": [],
   "source": [
    "dropped_data = dropped_data.apply(lambda x: pd.to_numeric(x))\n"
   ],
   "metadata": {
    "collapsed": false,
    "pycharm": {
     "name": "#%%\n"
    }
   }
  },
  {
   "cell_type": "code",
   "execution_count": 273,
   "outputs": [
    {
     "name": "stderr",
     "output_type": "stream",
     "text": [
      "c:\\program files\\python37\\lib\\site-packages\\seaborn\\distributions.py:2557: FutureWarning: `distplot` is a deprecated function and will be removed in a future version. Please adapt your code to use either `displot` (a figure-level function with similar flexibility) or `histplot` (an axes-level function for histograms).\n",
      "  warnings.warn(msg, FutureWarning)\n",
      "c:\\program files\\python37\\lib\\site-packages\\seaborn\\distributions.py:1647: FutureWarning: The `vertical` parameter is deprecated and will be removed in a future version. Assign the data to the `y` variable instead.\n",
      "  warnings.warn(msg, FutureWarning)\n"
     ]
    },
    {
     "data": {
      "text/plain": "<Figure size 504x504 with 1 Axes>",
      "image/png": "[encoded data removed]"
     },
     "metadata": {
      "needs_background": "light"
     },
     "output_type": "display_data"
    }
   ],
   "source": [
    "import seaborn as sns\n",
    "import matplotlib.pyplot as plt\n",
    "\n",
    "\n",
    "plt.figure(figsize=(7, 7))\n",
    "sns.distplot(dropped_data['химшлак последний Al2O3'], color='g', bins=100, hist_kws={'alpha': 0.4}, vertical=True)\n",
    "#plt.show()\n",
    "plt.savefig(f'{SOURCE_DATA}target_range_1.png')"
   ],
   "metadata": {
    "collapsed": false,
    "pycharm": {
     "name": "#%%\n"
    }
   }
  },
  {
   "cell_type": "code",
   "execution_count": 274,
   "outputs": [
    {
     "name": "stderr",
     "output_type": "stream",
     "text": [
      "c:\\program files\\python37\\lib\\site-packages\\seaborn\\distributions.py:2557: FutureWarning: `distplot` is a deprecated function and will be removed in a future version. Please adapt your code to use either `displot` (a figure-level function with similar flexibility) or `histplot` (an axes-level function for histograms).\n",
      "  warnings.warn(msg, FutureWarning)\n",
      "c:\\program files\\python37\\lib\\site-packages\\seaborn\\distributions.py:1647: FutureWarning: The `vertical` parameter is deprecated and will be removed in a future version. Assign the data to the `y` variable instead.\n",
      "  warnings.warn(msg, FutureWarning)\n"
     ]
    },
    {
     "data": {
      "text/plain": "<Figure size 504x504 with 1 Axes>",
      "image/png": "[encoded data removed]"
     },
     "metadata": {
      "needs_background": "light"
     },
     "output_type": "display_data"
    }
   ],
   "source": [
    "plt.figure(figsize=(7, 7))\n",
    "sns.distplot(dropped_data['химшлак последний CaO'], color='r', bins=100, hist_kws={'alpha': 0.4}, vertical=True)\n",
    "#plt.show()\n",
    "plt.savefig(f'{SOURCE_DATA}target_range_2.png')"
   ],
   "metadata": {
    "collapsed": false,
    "pycharm": {
     "name": "#%%\n"
    }
   }
  },
  {
   "cell_type": "code",
   "execution_count": 275,
   "outputs": [
    {
     "name": "stderr",
     "output_type": "stream",
     "text": [
      "c:\\program files\\python37\\lib\\site-packages\\seaborn\\distributions.py:2557: FutureWarning: `distplot` is a deprecated function and will be removed in a future version. Please adapt your code to use either `displot` (a figure-level function with similar flexibility) or `histplot` (an axes-level function for histograms).\n",
      "  warnings.warn(msg, FutureWarning)\n",
      "c:\\program files\\python37\\lib\\site-packages\\seaborn\\distributions.py:1647: FutureWarning: The `vertical` parameter is deprecated and will be removed in a future version. Assign the data to the `y` variable instead.\n",
      "  warnings.warn(msg, FutureWarning)\n"
     ]
    },
    {
     "data": {
      "text/plain": "<Figure size 504x504 with 1 Axes>",
      "image/png": "[encoded data removed]"
     },
     "metadata": {
      "needs_background": "light"
     },
     "output_type": "display_data"
    },
    {
     "data": {
      "text/plain": "<Figure size 432x288 with 0 Axes>"
     },
     "metadata": {},
     "output_type": "display_data"
    }
   ],
   "source": [
    "plt.figure(figsize=(7, 7))\n",
    "sns.distplot(dropped_data['химшлак последний R'], color='g', bins=100, hist_kws={'alpha': 0.4}, vertical=True)\n",
    "plt.show()\n",
    "plt.savefig(f'{SOURCE_DATA}target_range_3.png')"
   ],
   "metadata": {
    "collapsed": false,
    "pycharm": {
     "name": "#%%\n"
    }
   }
  },
  {
   "cell_type": "code",
   "execution_count": 276,
   "outputs": [
    {
     "name": "stderr",
     "output_type": "stream",
     "text": [
      "c:\\program files\\python37\\lib\\site-packages\\seaborn\\distributions.py:2557: FutureWarning: `distplot` is a deprecated function and will be removed in a future version. Please adapt your code to use either `displot` (a figure-level function with similar flexibility) or `histplot` (an axes-level function for histograms).\n",
      "  warnings.warn(msg, FutureWarning)\n",
      "c:\\program files\\python37\\lib\\site-packages\\seaborn\\distributions.py:1647: FutureWarning: The `vertical` parameter is deprecated and will be removed in a future version. Assign the data to the `y` variable instead.\n",
      "  warnings.warn(msg, FutureWarning)\n"
     ]
    },
    {
     "data": {
      "text/plain": "<Figure size 504x504 with 1 Axes>",
      "image/png": "[encoded data removed]"
     },
     "metadata": {
      "needs_background": "light"
     },
     "output_type": "display_data"
    },
    {
     "data": {
      "text/plain": "<Figure size 432x288 with 0 Axes>"
     },
     "metadata": {},
     "output_type": "display_data"
    }
   ],
   "source": [
    "plt.figure(figsize=(7, 7))\n",
    "sns.distplot(dropped_data['химшлак последний SiO2'], color='r', bins=100, hist_kws={'alpha': 0.4}, vertical=True)\n",
    "plt.show()\n",
    "plt.savefig(f'{SOURCE_DATA}target_range_4.png')"
   ],
   "metadata": {
    "collapsed": false,
    "pycharm": {
     "name": "#%%\n"
    }
   }
  },
  {
   "cell_type": "code",
   "execution_count": 277,
   "outputs": [],
   "source": [
    "corr_data = dropped_data.drop(columns=target_columns).corr()\n",
    "\n",
    "#plt.figure(figsize=(52, 50))\n",
    "\n",
    "#sns.heatmap(corr_data[(corr_data >= 0.5) | (corr_data <= -0.4)],\n",
    "            #cmap='viridis', vmax=1.0, vmin=-1.0, linewidths=0.1,\n",
    "            #annot=True, annot_kws={\"size\": 8}, square=True)\n",
    "#plt.savefig(f'{SOURCE_DATA}correletion_map.png')"
   ],
   "metadata": {
    "collapsed": false,
    "pycharm": {
     "name": "#%%\n"
    }
   }
  },
  {
   "cell_type": "code",
   "execution_count": 278,
   "outputs": [
    {
     "data": {
      "text/plain": "                    DT  t вып-обр  t обработка  t под током  t продувка  \\\nDT            1.000000  -0.119729     0.216299     0.196424    0.220036   \nt вып-обр    -0.119729   1.000000    -0.055413     0.003659   -0.056211   \nt обработка   0.216299  -0.055413     1.000000     0.594447    0.993280   \nt под током   0.196424   0.003659     0.594447     1.000000    0.598426   \nt продувка    0.220036  -0.056211     0.993280     0.598426    1.000000   \n...                ...        ...          ...          ...         ...   \nМАРКА_Э76     0.178522   0.008412     0.025548     0.042021    0.026451   \nМАРКА_Э76Ф   -0.000906  -0.017216    -0.005826    -0.013525   -0.004663   \nМАРКА_Э76ХАФ -0.000993  -0.005555     0.038342     0.014343    0.036717   \nМАРКА_Э76ХФ  -0.031221  -0.069580    -0.067210    -0.083386   -0.061077   \nМАРКА_Э90ХАФ -0.006930   0.099198     0.034844     0.040151    0.026707   \n\n               ПСН гр.  чист расход C  чист расход Cr  чист расход Mn  \\\nDT            0.021875       0.081285        0.043744        0.115790   \nt вып-обр     0.093821       0.083991       -0.062887       -0.075377   \nt обработка   0.049362       0.094720        0.023715        0.084258   \nt под током   0.340629       0.007994        0.046010        0.069873   \nt продувка    0.050153       0.091145        0.027908        0.084213   \n...                ...            ...             ...             ...   \nМАРКА_Э76    -0.018818       0.063809       -0.048348        0.097080   \nМАРКА_Э76Ф    0.016334       0.070554       -0.046137        0.213301   \nМАРКА_Э76ХАФ  0.013439      -0.049605       -0.020887       -0.033025   \nМАРКА_Э76ХФ  -0.048108      -0.439238        0.412711       -0.143969   \nМАРКА_Э90ХАФ  0.050955       0.477964       -0.441561       -0.032587   \n\n              чист расход Si  чист расход V  температура первая  \\\nDT                  0.117352       0.024297            0.063264   \nt вып-обр          -0.032539       0.098536           -0.337524   \nt обработка         0.102788       0.045744            0.018780   \nt под током        -0.020739       0.048464           -0.417644   \nt продувка          0.104094       0.037558            0.017988   \n...                      ...            ...                 ...   \nМАРКА_Э76          -0.003569      -0.010305            0.027616   \nМАРКА_Э76Ф         -0.030570      -0.054085            0.051768   \nМАРКА_Э76ХАФ       -0.023692       0.046169            0.000261   \nМАРКА_Э76ХФ         0.235111      -0.834083           -0.003210   \nМАРКА_Э90ХАФ       -0.239099       0.988423           -0.067053   \n\n              температура последняя  Ar (интенс.)  эл. энергия (интенс.)  \\\nDT                         0.165039      0.021204               0.029184   \nt вып-обр                 -0.172695     -0.042869               0.112598   \nt обработка                0.185289     -0.070279               0.003722   \nt под током                0.349120     -0.037521               0.124694   \nt продувка                 0.188377     -0.072159               0.004632   \n...                             ...           ...                    ...   \nМАРКА_Э76                  0.057011      0.012546              -0.025569   \nМАРКА_Э76Ф                 0.060423     -0.000603               0.013685   \nМАРКА_Э76ХАФ               0.018559      0.009936               0.010850   \nМАРКА_Э76ХФ               -0.041811     -0.105364              -0.013558   \nМАРКА_Э90ХАФ              -0.118653      0.138038               0.006947   \n\n              произв жидкая сталь  произв количество обработок  \\\nDT                      -0.075099                     0.046684   \nt вып-обр                0.068875                    -0.041645   \nt обработка             -0.032824                     0.437613   \nt под током             -0.003744                     0.272252   \nt продувка              -0.032944                     0.416131   \n...                           ...                          ...   \nМАРКА_Э76               -0.025546                    -0.007699   \nМАРКА_Э76Ф              -0.055546                    -0.010169   \nМАРКА_Э76ХАФ            -0.010589                     0.026789   \nМАРКА_Э76ХФ              0.045654                    -0.006188   \nМАРКА_Э90ХАФ            -0.001267                    -0.007890   \n\n              произв  количество плавок  произв количество плавок (цел)  \\\nDT                                  NaN                             NaN   \nt вып-обр                           NaN                             NaN   \nt обработка                         NaN                             NaN   \nt под током                         NaN                             NaN   \nt продувка                          NaN                             NaN   \n...                                 ...                             ...   \nМАРКА_Э76                           NaN                             NaN   \nМАРКА_Э76Ф                          NaN                             NaN   \nМАРКА_Э76ХАФ                        NaN                             NaN   \nМАРКА_Э76ХФ                         NaN                             NaN   \nМАРКА_Э90ХАФ                        NaN                             NaN   \n\n              расход газ Ar  сыпуч известь РП  сыпуч кокс пыль УСТК  \\\nDT                 0.122654          0.231290              0.023887   \nt вып-обр         -0.103736         -0.086261              0.030157   \nt обработка        0.311345          0.196115              0.076509   \nt под током        0.200861          0.213229              0.116423   \nt продувка         0.319033          0.196072              0.075411   \n...                     ...               ...                   ...   \nМАРКА_Э76          0.055395          0.031742             -0.001795   \nМАРКА_Э76Ф         0.038681         -0.013437             -0.001104   \nМАРКА_Э76ХАФ      -0.094133          0.001887              0.025756   \nМАРКА_Э76ХФ        0.356964         -0.036355             -0.062644   \nМАРКА_Э90ХАФ      -0.465245         -0.033152              0.039907   \n\n              сыпуч  кокс. мелочь КМ1  сыпуч  шпат плав.  ферспл CaC2  \\\nDT                           0.066767          -0.026760    -0.002376   \nt вып-обр                    0.069206          -0.053436     0.019847   \nt обработка                  0.063546          -0.007495     0.014172   \nt под током                 -0.033677           0.033065     0.028077   \nt продувка                   0.061054          -0.007522     0.015343   \n...                               ...                ...          ...   \nМАРКА_Э76                    0.081484           0.012554    -0.005326   \nМАРКА_Э76Ф                   0.081607          -0.011507    -0.007066   \nМАРКА_Э76ХАФ                -0.042874           0.019616    -0.005326   \nМАРКА_Э76ХФ                 -0.459439          -0.034301    -0.015113   \nМАРКА_Э90ХАФ                 0.469804           0.030622    -0.020045   \n\n              ферспл  FeV-80  ферспл  Mn5Si65Al0.5  ферспл SiMn18  \\\nDT                  0.024720              0.087295       0.115410   \nt вып-обр           0.102809             -0.013796      -0.072920   \nt обработка         0.044286              0.082691       0.085311   \nt под током         0.047430             -0.047432       0.076131   \nt продувка          0.036327              0.084327       0.085236   \n...                      ...                   ...            ...   \nМАРКА_Э76          -0.009667             -0.032203       0.100389   \nМАРКА_Э76Ф         -0.051013             -0.114942       0.210071   \nМАРКА_Э76ХАФ        0.016515             -0.016111      -0.033889   \nМАРКА_Э76ХФ        -0.822305              0.314374      -0.150608   \nМАРКА_Э90ХАФ        0.984262             -0.258188      -0.030948   \n\n              ферспл  фх850А  эл. энергия  химсталь первый Al_1  \\\nDT                  0.044527     0.198088             -0.058974   \nt вып-обр          -0.058243     0.032339              0.060558   \nt обработка         0.023729     0.551829             -0.042502   \nt под током         0.046999     0.959361              0.003084   \nt продувка          0.027939     0.555669             -0.041638   \n...                      ...          ...                   ...   \nМАРКА_Э76          -0.048133     0.030091             -0.066288   \nМАРКА_Э76Ф         -0.045553    -0.008474             -0.078068   \nМАРКА_Э76ХАФ       -0.023175     0.017875              0.025857   \nМАРКА_Э76ХФ         0.412774    -0.079915              0.000713   \nМАРКА_Э90ХАФ       -0.440762     0.038053              0.093945   \n\n              химсталь первый C_1  химсталь первый Cr_1  химсталь первый Cu_1  \\\nDT                      -0.065939             -0.053561             -0.057697   \nt вып-обр               -0.023048             -0.007627             -0.013743   \nt обработка             -0.100402             -0.041968              0.011212   \nt под током             -0.003763             -0.057369             -0.003494   \nt продувка              -0.101694             -0.039186              0.013541   \n...                           ...                   ...                   ...   \nМАРКА_Э76               -0.059109             -0.151517              0.009945   \nМАРКА_Э76Ф              -0.023363             -0.179736              0.028694   \nМАРКА_Э76ХАФ             0.012310              0.040505             -0.018203   \nМАРКА_Э76ХФ             -0.033283              0.432661             -0.081623   \nМАРКА_Э90ХАФ             0.101051             -0.205082              0.092074   \n\n              химсталь первый Mn_1  химсталь первый Mo_1  химсталь первый N_1  \\\nDT                       -0.068646             -0.045316            -0.053985   \nt вып-обр                 0.047588              0.020030             0.007419   \nt обработка              -0.062134             -0.002150             0.021131   \nt под током              -0.038236             -0.023498            -0.025414   \nt продувка               -0.063453              0.001371             0.021365   \n...                            ...                   ...                  ...   \nМАРКА_Э76                -0.023480             -0.016579             0.005124   \nМАРКА_Э76Ф                0.024514              0.023088             0.020764   \nМАРКА_Э76ХАФ              0.025937             -0.017117             0.017160   \nМАРКА_Э76ХФ              -0.117403             -0.016918            -0.097021   \nМАРКА_Э90ХАФ              0.103545              0.040108             0.076885   \n\n              химсталь первый Ni_1  химсталь первый P_1  химсталь первый S_1  \\\nDT                       -0.055140            -0.053372            -0.047556   \nt вып-обр                 0.016289             0.070275            -0.077191   \nt обработка               0.034488            -0.014482             0.033254   \nt под током               0.009338            -0.075224             0.057454   \nt продувка                0.036856            -0.015226             0.035849   \n...                            ...                  ...                  ...   \nМАРКА_Э76                -0.005720            -0.005388             0.015078   \nМАРКА_Э76Ф                0.017579             0.004504             0.047044   \nМАРКА_Э76ХАФ              0.217047             0.054015            -0.027995   \nМАРКА_Э76ХФ              -0.091498            -0.103121            -0.093635   \nМАРКА_Э90ХАФ              0.052076             0.081470             0.063875   \n\n              химсталь первый Si_1  химсталь первый Ti_1  химсталь первый V_1  \\\nDT                       -0.065803             -0.054339            -0.021940   \nt вып-обр                 0.022114              0.036363            -0.015313   \nt обработка              -0.069273             -0.058790            -0.019479   \nt под током              -0.043971              0.081359             0.021491   \nt продувка               -0.071126             -0.058921            -0.021131   \n...                            ...                   ...                  ...   \nМАРКА_Э76                -0.155470             -0.081372            -0.032720   \nМАРКА_Э76Ф               -0.147933             -0.083320            -0.028344   \nМАРКА_Э76ХАФ              0.038612              0.035582             0.010476   \nМАРКА_Э76ХФ               0.132130              0.114946             0.046400   \nМАРКА_Э90ХАФ              0.150003              0.016596            -0.004705   \n\n              химсталь последний Al  химсталь последний C  \\\nDT                        -0.037312             -0.064741   \nt вып-обр                  0.001513              0.099971   \nt обработка                0.028841              0.015419   \nt под током                0.063330              0.003961   \nt продувка                 0.031170              0.008071   \n...                             ...                   ...   \nМАРКА_Э76                 -0.046052             -0.026117   \nМАРКА_Э76Ф                -0.040925              0.017955   \nМАРКА_Э76ХАФ               0.001551              0.005587   \nМАРКА_Э76ХФ               -0.110734             -0.203341   \nМАРКА_Э90ХАФ               0.064671              0.258155   \n\n              химсталь последний Ca  химсталь последний Cr  \\\nDT                        -0.023543              -0.052189   \nt вып-обр                  0.013404              -0.016171   \nt обработка               -0.009351              -0.030770   \nt под током                0.033624              -0.041574   \nt продувка                -0.007554              -0.028325   \n...                             ...                    ...   \nМАРКА_Э76                 -0.031743              -0.165354   \nМАРКА_Э76Ф                -0.016857              -0.198427   \nМАРКА_Э76ХАФ              -0.017783               0.038241   \nМАРКА_Э76ХФ               -0.027675               0.442975   \nМАРКА_Э90ХАФ               0.043547              -0.178211   \n\n              химсталь последний Cu  химсталь последний Mn  \\\nDT                        -0.057806              -0.065225   \nt вып-обр                 -0.015128              -0.029051   \nt обработка                0.010493               0.003271   \nt под током               -0.003377               0.009362   \nt продувка                 0.012681               0.001508   \n...                             ...                    ...   \nМАРКА_Э76                  0.009982              -0.003198   \nМАРКА_Э76Ф                 0.028961               0.066409   \nМАРКА_Э76ХАФ              -0.018601               0.020362   \nМАРКА_Э76ХФ               -0.084418              -0.148685   \nМАРКА_Э90ХАФ               0.094870               0.101052   \n\n              химсталь последний Mo  химсталь последний N  \\\nDT                        -0.040481             -0.052128   \nt вып-обр                  0.018155              0.111954   \nt обработка                0.004972              0.061579   \nt под током               -0.002630              0.007583   \nt продувка                 0.009265              0.055771   \n...                             ...                   ...   \nМАРКА_Э76                 -0.000883             -0.004963   \nМАРКА_Э76Ф                 0.006300              0.023031   \nМАРКА_Э76ХАФ              -0.025354              0.071115   \nМАРКА_Э76ХФ                0.046724             -0.393327   \nМАРКА_Э90ХАФ              -0.081898              0.429598   \n\n              химсталь последний Ni  химсталь последний P  \\\nDT                        -0.052625             -0.053818   \nt вып-обр                  0.013859              0.091081   \nt обработка                0.044719              0.005545   \nt под током                0.016244             -0.055872   \nt продувка                 0.046460              0.004485   \n...                             ...                   ...   \nМАРКА_Э76                 -0.008755              0.000240   \nМАРКА_Э76Ф                 0.011765              0.011822   \nМАРКА_Э76ХАФ               0.317603              0.047703   \nМАРКА_Э76ХФ               -0.106768             -0.137498   \nМАРКА_Э90ХАФ               0.039071              0.113892   \n\n              химсталь последний S  химсталь последний Si  \\\nDT                       -0.055173              -0.065037   \nt вып-обр                -0.018256               0.019866   \nt обработка              -0.084377              -0.062279   \nt под током              -0.036975              -0.089867   \nt продувка               -0.084711              -0.064464   \n...                            ...                    ...   \nМАРКА_Э76                 0.014451              -0.134997   \nМАРКА_Э76Ф                0.042089              -0.125478   \nМАРКА_Э76ХАФ             -0.013760               0.032331   \nМАРКА_Э76ХФ              -0.114733               0.128272   \nМАРКА_Э90ХАФ              0.104116               0.108972   \n\n              химсталь последний Ti  химсталь последний V  \\\nDT                        -0.065293             -0.038043   \nt вып-обр                  0.044922              0.083697   \nt обработка               -0.088109              0.010273   \nt под током                0.046044              0.013035   \nt продувка                -0.089032              0.002066   \n...                             ...                   ...   \nМАРКА_Э76                 -0.111410             -0.143309   \nМАРКА_Э76Ф                -0.084270             -0.020783   \nМАРКА_Э76ХАФ               0.032123              0.056271   \nМАРКА_Э76ХФ                0.062995             -0.553253   \nМАРКА_Э90ХАФ               0.107407              0.828162   \n\n              химшлак первый Al2O3_1  химшлак первый CaO_1  \\\nDT                         -0.027247             -0.067023   \nt вып-обр                   0.133245             -0.040114   \nt обработка                -0.001205             -0.029977   \nt под током                 0.011714              0.047770   \nt продувка                 -0.001450             -0.029494   \n...                              ...                   ...   \nМАРКА_Э76                   0.065329             -0.020141   \nМАРКА_Э76Ф                  0.040787              0.024626   \nМАРКА_Э76ХАФ                0.000708              0.033992   \nМАРКА_Э76ХФ                -0.057211             -0.106828   \nМАРКА_Э90ХАФ                0.033244              0.102792   \n\n              химшлак первый FeO_1  химшлак первый MgO_1  \\\nDT                       -0.003318             -0.034558   \nt вып-обр                -0.014192             -0.036723   \nt обработка               0.054176              0.040059   \nt под током               0.064158             -0.047264   \nt продувка                0.053268              0.040898   \n...                            ...                   ...   \nМАРКА_Э76                 0.045412              0.044863   \nМАРКА_Э76Ф                0.025456              0.037966   \nМАРКА_Э76ХАФ              0.005741             -0.008524   \nМАРКА_Э76ХФ              -0.092434             -0.108038   \nМАРКА_Э90ХАФ              0.001911              0.038661   \n\n              химшлак первый MnO_1  химшлак первый R_1  химшлак первый SiO2_1  \\\nDT                        0.019173           -0.066500              -0.026470   \nt вып-обр                -0.023563           -0.046405               0.103305   \nt обработка               0.114437           -0.033602              -0.010036   \nt под током               0.066932            0.071268              -0.003395   \nt продувка                0.115351           -0.033119              -0.011275   \n...                            ...                 ...                    ...   \nМАРКА_Э76                 0.068283           -0.015603               0.028824   \nМАРКА_Э76Ф                0.074584            0.022262               0.034746   \nМАРКА_Э76ХАФ             -0.012108            0.035629               0.004051   \nМАРКА_Э76ХФ              -0.163298           -0.113821              -0.042236   \nМАРКА_Э90ХАФ             -0.017534            0.112661               0.043599   \n\n              химшлак последний FeO  химшлак последний MgO  \\\nDT                        -0.035058              -0.034655   \nt вып-обр                 -0.019597              -0.058165   \nt обработка                0.000931               0.037027   \nt под током                0.075031              -0.073533   \nt продувка                 0.002402               0.037417   \n...                             ...                    ...   \nМАРКА_Э76                  0.002911               0.005001   \nМАРКА_Э76Ф                 0.010771               0.028393   \nМАРКА_Э76ХАФ               0.022407               0.007673   \nМАРКА_Э76ХФ               -0.076224              -0.086071   \nМАРКА_Э90ХАФ               0.043586               0.046647   \n\n              химшлак последний MnO  МАРКА_09Г2С  МАРКА_900А  МАРКА_G2HH  \\\nDT                        -0.017884    -0.000757    0.000903    0.003058   \nt вып-обр                 -0.053616    -0.017202   -0.011290    0.021111   \nt обработка                0.081112     0.033650    0.011661    0.017791   \nt под током                0.075890     0.030312    0.028129    0.017410   \nt продувка                 0.081345     0.034694    0.013136    0.017609   \n...                             ...          ...         ...         ...   \nМАРКА_Э76                  0.012775    -0.002135   -0.007872   -0.006237   \nМАРКА_Э76Ф                 0.019305    -0.002651   -0.009776   -0.007746   \nМАРКА_Э76ХАФ               0.032393    -0.002016   -0.007435   -0.005891   \nМАРКА_Э76ХФ               -0.127027    -0.036720   -0.135401   -0.107286   \nМАРКА_Э90ХАФ               0.013364    -0.011793   -0.043484   -0.034455   \n\n              МАРКА_R260  МАРКА_R350HT  МАРКА_НХ  МАРКА_С255  МАРКА_С345  \\\nDT             -0.000937     -0.002163  0.000087    0.019862   -0.000096   \nt вып-обр       0.049772     -0.019345 -0.030297   -0.016363   -0.007114   \nt обработка     0.017348      0.008267  0.009020    0.027595   -0.002948   \nt под током     0.006225     -0.002267  0.037818    0.032320   -0.005380   \nt продувка      0.018211      0.004622  0.007330    0.028481   -0.002785   \n...                  ...           ...       ...         ...         ...   \nМАРКА_Э76      -0.006329     -0.007872 -0.002825   -0.001509   -0.001849   \nМАРКА_Э76Ф     -0.007860     -0.009776 -0.003508   -0.001874   -0.002296   \nМАРКА_Э76ХАФ   -0.005977     -0.007435 -0.002668   -0.001426   -0.001746   \nМАРКА_Э76ХФ    -0.108860     -0.135401 -0.048587   -0.025961   -0.031798   \nМАРКА_Э90ХАФ   -0.034960     -0.043484 -0.015604   -0.008337   -0.010212   \n\n              МАРКА_С355  МАРКА_Ст3сп  МАРКА_Ш2.2  МАРКА_Ш2Л  МАРКА_Э73Ф  \\\nDT             -0.000551    -0.000869    0.007616   0.010099   -0.002039   \nt вып-обр      -0.015523          NaN   -0.033098   0.002983   -0.024243   \nt обработка    -0.001864          NaN    0.020930   0.073784   -0.000396   \nt под током     0.001893          NaN    0.000015   0.108424    0.030426   \nt продувка     -0.001743          NaN    0.022603   0.075285    0.001437   \n...                  ...          ...         ...        ...         ...   \nМАРКА_Э76      -0.001067    -0.001067   -0.008231  -0.005954   -0.016343   \nМАРКА_Э76Ф     -0.001325    -0.001325   -0.010222  -0.007395   -0.020296   \nМАРКА_Э76ХАФ   -0.001008    -0.001008   -0.007774  -0.005624   -0.015436   \nМАРКА_Э76ХФ    -0.018356    -0.018356   -0.141581  -0.102421   -0.281113   \nМАРКА_Э90ХАФ   -0.005895    -0.005895   -0.045469  -0.032892   -0.090279   \n\n              МАРКА_Э76  МАРКА_Э76Ф  МАРКА_Э76ХАФ  МАРКА_Э76ХФ  МАРКА_Э90ХАФ  \nDT             0.178522   -0.000906     -0.000993    -0.031221     -0.006930  \nt вып-обр      0.008412   -0.017216     -0.005555    -0.069580      0.099198  \nt обработка    0.025548   -0.005826      0.038342    -0.067210      0.034844  \nt под током    0.042021   -0.013525      0.014343    -0.083386      0.040151  \nt продувка     0.026451   -0.004663      0.036717    -0.061077      0.026707  \n...                 ...         ...           ...          ...           ...  \nМАРКА_Э76      1.000000   -0.009957     -0.007572    -0.137905     -0.044288  \nМАРКА_Э76Ф    -0.009957    1.000000     -0.009404    -0.171265     -0.055002  \nМАРКА_Э76ХАФ  -0.007572   -0.009404      1.000000    -0.130252     -0.041830  \nМАРКА_Э76ХФ   -0.137905   -0.171265     -0.130252     1.000000     -0.761805  \nМАРКА_Э90ХАФ  -0.044288   -0.055002     -0.041830    -0.761805      1.000000  \n\n[85 rows x 85 columns]",
      "text/html": "<div>\n<style scoped>\n    .dataframe tbody tr th:only-of-type {\n        vertical-align: middle;\n    }\n\n    .dataframe tbody tr th {\n        vertical-align: top;\n    }\n\n    .dataframe thead th {\n        text-align: right;\n    }\n</style>\n<table border=\"1\" class=\"dataframe\">\n  <thead>\n    <tr style=\"text-align: right;\">\n      <th></th>\n      <th>DT</th>\n      <th>t вып-обр</th>\n      <th>t обработка</th>\n      <th>t под током</th>\n      <th>t продувка</th>\n      <th>ПСН гр.</th>\n      <th>чист расход C</th>\n      <th>чист расход Cr</th>\n      <th>чист расход Mn</th>\n      <th>чист расход Si</th>\n      <th>чист расход V</th>\n      <th>температура первая</th>\n      <th>температура последняя</th>\n      <th>Ar (интенс.)</th>\n      <th>эл. энергия (интенс.)</th>\n      <th>произв жидкая сталь</th>\n      <th>произв количество обработок</th>\n      <th>произв  количество плавок</th>\n      <th>произв количество плавок (цел)</th>\n      <th>расход газ Ar</th>\n      <th>сыпуч известь РП</th>\n      <th>сыпуч кокс пыль УСТК</th>\n      <th>сыпуч  кокс. мелочь КМ1</th>\n      <th>сыпуч  шпат плав.</th>\n      <th>ферспл CaC2</th>\n      <th>ферспл  FeV-80</th>\n      <th>ферспл  Mn5Si65Al0.5</th>\n      <th>ферспл SiMn18</th>\n      <th>ферспл  фх850А</th>\n      <th>эл. энергия</th>\n      <th>химсталь первый Al_1</th>\n      <th>химсталь первый C_1</th>\n      <th>химсталь первый Cr_1</th>\n      <th>химсталь первый Cu_1</th>\n      <th>химсталь первый Mn_1</th>\n      <th>химсталь первый Mo_1</th>\n      <th>химсталь первый N_1</th>\n      <th>химсталь первый Ni_1</th>\n      <th>химсталь первый P_1</th>\n      <th>химсталь первый S_1</th>\n      <th>химсталь первый Si_1</th>\n      <th>химсталь первый Ti_1</th>\n      <th>химсталь первый V_1</th>\n      <th>химсталь последний Al</th>\n      <th>химсталь последний C</th>\n      <th>химсталь последний Ca</th>\n      <th>химсталь последний Cr</th>\n      <th>химсталь последний Cu</th>\n      <th>химсталь последний Mn</th>\n      <th>химсталь последний Mo</th>\n      <th>химсталь последний N</th>\n      <th>химсталь последний Ni</th>\n      <th>химсталь последний P</th>\n      <th>химсталь последний S</th>\n      <th>химсталь последний Si</th>\n      <th>химсталь последний Ti</th>\n      <th>химсталь последний V</th>\n      <th>химшлак первый Al2O3_1</th>\n      <th>химшлак первый CaO_1</th>\n      <th>химшлак первый FeO_1</th>\n      <th>химшлак первый MgO_1</th>\n      <th>химшлак первый MnO_1</th>\n      <th>химшлак первый R_1</th>\n      <th>химшлак первый SiO2_1</th>\n      <th>химшлак последний FeO</th>\n      <th>химшлак последний MgO</th>\n      <th>химшлак последний MnO</th>\n      <th>МАРКА_09Г2С</th>\n      <th>МАРКА_900А</th>\n      <th>МАРКА_G2HH</th>\n      <th>МАРКА_R260</th>\n      <th>МАРКА_R350HT</th>\n      <th>МАРКА_НХ</th>\n      <th>МАРКА_С255</th>\n      <th>МАРКА_С345</th>\n      <th>МАРКА_С355</th>\n      <th>МАРКА_Ст3сп</th>\n      <th>МАРКА_Ш2.2</th>\n      <th>МАРКА_Ш2Л</th>\n      <th>МАРКА_Э73Ф</th>\n      <th>МАРКА_Э76</th>\n      <th>МАРКА_Э76Ф</th>\n      <th>МАРКА_Э76ХАФ</th>\n      <th>МАРКА_Э76ХФ</th>\n      <th>МАРКА_Э90ХАФ</th>\n    </tr>\n  </thead>\n  <tbody>\n    <tr>\n      <th>DT</th>\n      <td>1.000000</td>\n      <td>-0.119729</td>\n      <td>0.216299</td>\n      <td>0.196424</td>\n      <td>0.220036</td>\n      <td>0.021875</td>\n      <td>0.081285</td>\n      <td>0.043744</td>\n      <td>0.115790</td>\n      <td>0.117352</td>\n      <td>0.024297</td>\n      <td>0.063264</td>\n      <td>0.165039</td>\n      <td>0.021204</td>\n      <td>0.029184</td>\n      <td>-0.075099</td>\n      <td>0.046684</td>\n      <td>NaN</td>\n      <td>NaN</td>\n      <td>0.122654</td>\n      <td>0.231290</td>\n      <td>0.023887</td>\n      <td>0.066767</td>\n      <td>-0.026760</td>\n      <td>-0.002376</td>\n      <td>0.024720</td>\n      <td>0.087295</td>\n      <td>0.115410</td>\n      <td>0.044527</td>\n      <td>0.198088</td>\n      <td>-0.058974</td>\n      <td>-0.065939</td>\n      <td>-0.053561</td>\n      <td>-0.057697</td>\n      <td>-0.068646</td>\n      <td>-0.045316</td>\n      <td>-0.053985</td>\n      <td>-0.055140</td>\n      <td>-0.053372</td>\n      <td>-0.047556</td>\n      <td>-0.065803</td>\n      <td>-0.054339</td>\n      <td>-0.021940</td>\n      <td>-0.037312</td>\n      <td>-0.064741</td>\n      <td>-0.023543</td>\n      <td>-0.052189</td>\n      <td>-0.057806</td>\n      <td>-0.065225</td>\n      <td>-0.040481</td>\n      <td>-0.052128</td>\n      <td>-0.052625</td>\n      <td>-0.053818</td>\n      <td>-0.055173</td>\n      <td>-0.065037</td>\n      <td>-0.065293</td>\n      <td>-0.038043</td>\n      <td>-0.027247</td>\n      <td>-0.067023</td>\n      <td>-0.003318</td>\n      <td>-0.034558</td>\n      <td>0.019173</td>\n      <td>-0.066500</td>\n      <td>-0.026470</td>\n      <td>-0.035058</td>\n      <td>-0.034655</td>\n      <td>-0.017884</td>\n      <td>-0.000757</td>\n      <td>0.000903</td>\n      <td>0.003058</td>\n      <td>-0.000937</td>\n      <td>-0.002163</td>\n      <td>0.000087</td>\n      <td>0.019862</td>\n      <td>-0.000096</td>\n      <td>-0.000551</td>\n      <td>-0.000869</td>\n      <td>0.007616</td>\n      <td>0.010099</td>\n      <td>-0.002039</td>\n      <td>0.178522</td>\n      <td>-0.000906</td>\n      <td>-0.000993</td>\n      <td>-0.031221</td>\n      <td>-0.006930</td>\n    </tr>\n    <tr>\n      <th>t вып-обр</th>\n      <td>-0.119729</td>\n      <td>1.000000</td>\n      <td>-0.055413</td>\n      <td>0.003659</td>\n      <td>-0.056211</td>\n      <td>0.093821</td>\n      <td>0.083991</td>\n      <td>-0.062887</td>\n      <td>-0.075377</td>\n      <td>-0.032539</td>\n      <td>0.098536</td>\n      <td>-0.337524</td>\n      <td>-0.172695</td>\n      <td>-0.042869</td>\n      <td>0.112598</td>\n      <td>0.068875</td>\n      <td>-0.041645</td>\n      <td>NaN</td>\n      <td>NaN</td>\n      <td>-0.103736</td>\n      <td>-0.086261</td>\n      <td>0.030157</td>\n      <td>0.069206</td>\n      <td>-0.053436</td>\n      <td>0.019847</td>\n      <td>0.102809</td>\n      <td>-0.013796</td>\n      <td>-0.072920</td>\n      <td>-0.058243</td>\n      <td>0.032339</td>\n      <td>0.060558</td>\n      <td>-0.023048</td>\n      <td>-0.007627</td>\n      <td>-0.013743</td>\n      <td>0.047588</td>\n      <td>0.020030</td>\n      <td>0.007419</td>\n      <td>0.016289</td>\n      <td>0.070275</td>\n      <td>-0.077191</td>\n      <td>0.022114</td>\n      <td>0.036363</td>\n      <td>-0.015313</td>\n      <td>0.001513</td>\n      <td>0.099971</td>\n      <td>0.013404</td>\n      <td>-0.016171</td>\n      <td>-0.015128</td>\n      <td>-0.029051</td>\n      <td>0.018155</td>\n      <td>0.111954</td>\n      <td>0.013859</td>\n      <td>0.091081</td>\n      <td>-0.018256</td>\n      <td>0.019866</td>\n      <td>0.044922</td>\n      <td>0.083697</td>\n      <td>0.133245</td>\n      <td>-0.040114</td>\n      <td>-0.014192</td>\n      <td>-0.036723</td>\n      <td>-0.023563</td>\n      <td>-0.046405</td>\n      <td>0.103305</td>\n      <td>-0.019597</td>\n      <td>-0.058165</td>\n      <td>-0.053616</td>\n      <td>-0.017202</td>\n      <td>-0.011290</td>\n      <td>0.021111</td>\n      <td>0.049772</td>\n      <td>-0.019345</td>\n      <td>-0.030297</td>\n      <td>-0.016363</td>\n      <td>-0.007114</td>\n      <td>-0.015523</td>\n      <td>NaN</td>\n      <td>-0.033098</td>\n      <td>0.002983</td>\n      <td>-0.024243</td>\n      <td>0.008412</td>\n      <td>-0.017216</td>\n      <td>-0.005555</td>\n      <td>-0.069580</td>\n      <td>0.099198</td>\n    </tr>\n    <tr>\n      <th>t обработка</th>\n      <td>0.216299</td>\n      <td>-0.055413</td>\n      <td>1.000000</td>\n      <td>0.594447</td>\n      <td>0.993280</td>\n      <td>0.049362</td>\n      <td>0.094720</td>\n      <td>0.023715</td>\n      <td>0.084258</td>\n      <td>0.102788</td>\n      <td>0.045744</td>\n      <td>0.018780</td>\n      <td>0.185289</td>\n      <td>-0.070279</td>\n      <td>0.003722</td>\n      <td>-0.032824</td>\n      <td>0.437613</td>\n      <td>NaN</td>\n      <td>NaN</td>\n      <td>0.311345</td>\n      <td>0.196115</td>\n      <td>0.076509</td>\n      <td>0.063546</td>\n      <td>-0.007495</td>\n      <td>0.014172</td>\n      <td>0.044286</td>\n      <td>0.082691</td>\n      <td>0.085311</td>\n      <td>0.023729</td>\n      <td>0.551829</td>\n      <td>-0.042502</td>\n      <td>-0.100402</td>\n      <td>-0.041968</td>\n      <td>0.011212</td>\n      <td>-0.062134</td>\n      <td>-0.002150</td>\n      <td>0.021131</td>\n      <td>0.034488</td>\n      <td>-0.014482</td>\n      <td>0.033254</td>\n      <td>-0.069273</td>\n      <td>-0.058790</td>\n      <td>-0.019479</td>\n      <td>0.028841</td>\n      <td>0.015419</td>\n      <td>-0.009351</td>\n      <td>-0.030770</td>\n      <td>0.010493</td>\n      <td>0.003271</td>\n      <td>0.004972</td>\n      <td>0.061579</td>\n      <td>0.044719</td>\n      <td>0.005545</td>\n      <td>-0.084377</td>\n      <td>-0.062279</td>\n      <td>-0.088109</td>\n      <td>0.010273</td>\n      <td>-0.001205</td>\n      <td>-0.029977</td>\n      <td>0.054176</td>\n      <td>0.040059</td>\n      <td>0.114437</td>\n      <td>-0.033602</td>\n      <td>-0.010036</td>\n      <td>0.000931</td>\n      <td>0.037027</td>\n      <td>0.081112</td>\n      <td>0.033650</td>\n      <td>0.011661</td>\n      <td>0.017791</td>\n      <td>0.017348</td>\n      <td>0.008267</td>\n      <td>0.009020</td>\n      <td>0.027595</td>\n      <td>-0.002948</td>\n      <td>-0.001864</td>\n      <td>NaN</td>\n      <td>0.020930</td>\n      <td>0.073784</td>\n      <td>-0.000396</td>\n      <td>0.025548</td>\n      <td>-0.005826</td>\n      <td>0.038342</td>\n      <td>-0.067210</td>\n      <td>0.034844</td>\n    </tr>\n    <tr>\n      <th>t под током</th>\n      <td>0.196424</td>\n      <td>0.003659</td>\n      <td>0.594447</td>\n      <td>1.000000</td>\n      <td>0.598426</td>\n      <td>0.340629</td>\n      <td>0.007994</td>\n      <td>0.046010</td>\n      <td>0.069873</td>\n      <td>-0.020739</td>\n      <td>0.048464</td>\n      <td>-0.417644</td>\n      <td>0.349120</td>\n      <td>-0.037521</td>\n      <td>0.124694</td>\n      <td>-0.003744</td>\n      <td>0.272252</td>\n      <td>NaN</td>\n      <td>NaN</td>\n      <td>0.200861</td>\n      <td>0.213229</td>\n      <td>0.116423</td>\n      <td>-0.033677</td>\n      <td>0.033065</td>\n      <td>0.028077</td>\n      <td>0.047430</td>\n      <td>-0.047432</td>\n      <td>0.076131</td>\n      <td>0.046999</td>\n      <td>0.959361</td>\n      <td>0.003084</td>\n      <td>-0.003763</td>\n      <td>-0.057369</td>\n      <td>-0.003494</td>\n      <td>-0.038236</td>\n      <td>-0.023498</td>\n      <td>-0.025414</td>\n      <td>0.009338</td>\n      <td>-0.075224</td>\n      <td>0.057454</td>\n      <td>-0.043971</td>\n      <td>0.081359</td>\n      <td>0.021491</td>\n      <td>0.063330</td>\n      <td>0.003961</td>\n      <td>0.033624</td>\n      <td>-0.041574</td>\n      <td>-0.003377</td>\n      <td>0.009362</td>\n      <td>-0.002630</td>\n      <td>0.007583</td>\n      <td>0.016244</td>\n      <td>-0.055872</td>\n      <td>-0.036975</td>\n      <td>-0.089867</td>\n      <td>0.046044</td>\n      <td>0.013035</td>\n      <td>0.011714</td>\n      <td>0.047770</td>\n      <td>0.064158</td>\n      <td>-0.047264</td>\n      <td>0.066932</td>\n      <td>0.071268</td>\n      <td>-0.003395</td>\n      <td>0.075031</td>\n      <td>-0.073533</td>\n      <td>0.075890</td>\n      <td>0.030312</td>\n      <td>0.028129</td>\n      <td>0.017410</td>\n      <td>0.006225</td>\n      <td>-0.002267</td>\n      <td>0.037818</td>\n      <td>0.032320</td>\n      <td>-0.005380</td>\n      <td>0.001893</td>\n      <td>NaN</td>\n      <td>0.000015</td>\n      <td>0.108424</td>\n      <td>0.030426</td>\n      <td>0.042021</td>\n      <td>-0.013525</td>\n      <td>0.014343</td>\n      <td>-0.083386</td>\n      <td>0.040151</td>\n    </tr>\n    <tr>\n      <th>t продувка</th>\n      <td>0.220036</td>\n      <td>-0.056211</td>\n      <td>0.993280</td>\n      <td>0.598426</td>\n      <td>1.000000</td>\n      <td>0.050153</td>\n      <td>0.091145</td>\n      <td>0.027908</td>\n      <td>0.084213</td>\n      <td>0.104094</td>\n      <td>0.037558</td>\n      <td>0.017988</td>\n      <td>0.188377</td>\n      <td>-0.072159</td>\n      <td>0.004632</td>\n      <td>-0.032944</td>\n      <td>0.416131</td>\n      <td>NaN</td>\n      <td>NaN</td>\n      <td>0.319033</td>\n      <td>0.196072</td>\n      <td>0.075411</td>\n      <td>0.061054</td>\n      <td>-0.007522</td>\n      <td>0.015343</td>\n      <td>0.036327</td>\n      <td>0.084327</td>\n      <td>0.085236</td>\n      <td>0.027939</td>\n      <td>0.555669</td>\n      <td>-0.041638</td>\n      <td>-0.101694</td>\n      <td>-0.039186</td>\n      <td>0.013541</td>\n      <td>-0.063453</td>\n      <td>0.001371</td>\n      <td>0.021365</td>\n      <td>0.036856</td>\n      <td>-0.015226</td>\n      <td>0.035849</td>\n      <td>-0.071126</td>\n      <td>-0.058921</td>\n      <td>-0.021131</td>\n      <td>0.031170</td>\n      <td>0.008071</td>\n      <td>-0.007554</td>\n      <td>-0.028325</td>\n      <td>0.012681</td>\n      <td>0.001508</td>\n      <td>0.009265</td>\n      <td>0.055771</td>\n      <td>0.046460</td>\n      <td>0.004485</td>\n      <td>-0.084711</td>\n      <td>-0.064464</td>\n      <td>-0.089032</td>\n      <td>0.002066</td>\n      <td>-0.001450</td>\n      <td>-0.029494</td>\n      <td>0.053268</td>\n      <td>0.040898</td>\n      <td>0.115351</td>\n      <td>-0.033119</td>\n      <td>-0.011275</td>\n      <td>0.002402</td>\n      <td>0.037417</td>\n      <td>0.081345</td>\n      <td>0.034694</td>\n      <td>0.013136</td>\n      <td>0.017609</td>\n      <td>0.018211</td>\n      <td>0.004622</td>\n      <td>0.007330</td>\n      <td>0.028481</td>\n      <td>-0.002785</td>\n      <td>-0.001743</td>\n      <td>NaN</td>\n      <td>0.022603</td>\n      <td>0.075285</td>\n      <td>0.001437</td>\n      <td>0.026451</td>\n      <td>-0.004663</td>\n      <td>0.036717</td>\n      <td>-0.061077</td>\n      <td>0.026707</td>\n    </tr>\n    <tr>\n      <th>...</th>\n      <td>...</td>\n      <td>...</td>\n      <td>...</td>\n      <td>...</td>\n      <td>...</td>\n      <td>...</td>\n      <td>...</td>\n      <td>...</td>\n      <td>...</td>\n      <td>...</td>\n      <td>...</td>\n      <td>...</td>\n      <td>...</td>\n      <td>...</td>\n      <td>...</td>\n      <td>...</td>\n      <td>...</td>\n      <td>...</td>\n      <td>...</td>\n      <td>...</td>\n      <td>...</td>\n      <td>...</td>\n      <td>...</td>\n      <td>...</td>\n      <td>...</td>\n      <td>...</td>\n      <td>...</td>\n      <td>...</td>\n      <td>...</td>\n      <td>...</td>\n      <td>...</td>\n      <td>...</td>\n      <td>...</td>\n      <td>...</td>\n      <td>...</td>\n      <td>...</td>\n      <td>...</td>\n      <td>...</td>\n      <td>...</td>\n      <td>...</td>\n      <td>...</td>\n      <td>...</td>\n      <td>...</td>\n      <td>...</td>\n      <td>...</td>\n      <td>...</td>\n      <td>...</td>\n      <td>...</td>\n      <td>...</td>\n      <td>...</td>\n      <td>...</td>\n      <td>...</td>\n      <td>...</td>\n      <td>...</td>\n      <td>...</td>\n      <td>...</td>\n      <td>...</td>\n      <td>...</td>\n      <td>...</td>\n      <td>...</td>\n      <td>...</td>\n      <td>...</td>\n      <td>...</td>\n      <td>...</td>\n      <td>...</td>\n      <td>...</td>\n      <td>...</td>\n      <td>...</td>\n      <td>...</td>\n      <td>...</td>\n      <td>...</td>\n      <td>...</td>\n      <td>...</td>\n      <td>...</td>\n      <td>...</td>\n      <td>...</td>\n      <td>...</td>\n      <td>...</td>\n      <td>...</td>\n      <td>...</td>\n      <td>...</td>\n      <td>...</td>\n      <td>...</td>\n      <td>...</td>\n      <td>...</td>\n    </tr>\n    <tr>\n      <th>МАРКА_Э76</th>\n      <td>0.178522</td>\n      <td>0.008412</td>\n      <td>0.025548</td>\n      <td>0.042021</td>\n      <td>0.026451</td>\n      <td>-0.018818</td>\n      <td>0.063809</td>\n      <td>-0.048348</td>\n      <td>0.097080</td>\n      <td>-0.003569</td>\n      <td>-0.010305</td>\n      <td>0.027616</td>\n      <td>0.057011</td>\n      <td>0.012546</td>\n      <td>-0.025569</td>\n      <td>-0.025546</td>\n      <td>-0.007699</td>\n      <td>NaN</td>\n      <td>NaN</td>\n      <td>0.055395</td>\n      <td>0.031742</td>\n      <td>-0.001795</td>\n      <td>0.081484</td>\n      <td>0.012554</td>\n      <td>-0.005326</td>\n      <td>-0.009667</td>\n      <td>-0.032203</td>\n      <td>0.100389</td>\n      <td>-0.048133</td>\n      <td>0.030091</td>\n      <td>-0.066288</td>\n      <td>-0.059109</td>\n      <td>-0.151517</td>\n      <td>0.009945</td>\n      <td>-0.023480</td>\n      <td>-0.016579</td>\n      <td>0.005124</td>\n      <td>-0.005720</td>\n      <td>-0.005388</td>\n      <td>0.015078</td>\n      <td>-0.155470</td>\n      <td>-0.081372</td>\n      <td>-0.032720</td>\n      <td>-0.046052</td>\n      <td>-0.026117</td>\n      <td>-0.031743</td>\n      <td>-0.165354</td>\n      <td>0.009982</td>\n      <td>-0.003198</td>\n      <td>-0.000883</td>\n      <td>-0.004963</td>\n      <td>-0.008755</td>\n      <td>0.000240</td>\n      <td>0.014451</td>\n      <td>-0.134997</td>\n      <td>-0.111410</td>\n      <td>-0.143309</td>\n      <td>0.065329</td>\n      <td>-0.020141</td>\n      <td>0.045412</td>\n      <td>0.044863</td>\n      <td>0.068283</td>\n      <td>-0.015603</td>\n      <td>0.028824</td>\n      <td>0.002911</td>\n      <td>0.005001</td>\n      <td>0.012775</td>\n      <td>-0.002135</td>\n      <td>-0.007872</td>\n      <td>-0.006237</td>\n      <td>-0.006329</td>\n      <td>-0.007872</td>\n      <td>-0.002825</td>\n      <td>-0.001509</td>\n      <td>-0.001849</td>\n      <td>-0.001067</td>\n      <td>-0.001067</td>\n      <td>-0.008231</td>\n      <td>-0.005954</td>\n      <td>-0.016343</td>\n      <td>1.000000</td>\n      <td>-0.009957</td>\n      <td>-0.007572</td>\n      <td>-0.137905</td>\n      <td>-0.044288</td>\n    </tr>\n    <tr>\n      <th>МАРКА_Э76Ф</th>\n      <td>-0.000906</td>\n      <td>-0.017216</td>\n      <td>-0.005826</td>\n      <td>-0.013525</td>\n      <td>-0.004663</td>\n      <td>0.016334</td>\n      <td>0.070554</td>\n      <td>-0.046137</td>\n      <td>0.213301</td>\n      <td>-0.030570</td>\n      <td>-0.054085</td>\n      <td>0.051768</td>\n      <td>0.060423</td>\n      <td>-0.000603</td>\n      <td>0.013685</td>\n      <td>-0.055546</td>\n      <td>-0.010169</td>\n      <td>NaN</td>\n      <td>NaN</td>\n      <td>0.038681</td>\n      <td>-0.013437</td>\n      <td>-0.001104</td>\n      <td>0.081607</td>\n      <td>-0.011507</td>\n      <td>-0.007066</td>\n      <td>-0.051013</td>\n      <td>-0.114942</td>\n      <td>0.210071</td>\n      <td>-0.045553</td>\n      <td>-0.008474</td>\n      <td>-0.078068</td>\n      <td>-0.023363</td>\n      <td>-0.179736</td>\n      <td>0.028694</td>\n      <td>0.024514</td>\n      <td>0.023088</td>\n      <td>0.020764</td>\n      <td>0.017579</td>\n      <td>0.004504</td>\n      <td>0.047044</td>\n      <td>-0.147933</td>\n      <td>-0.083320</td>\n      <td>-0.028344</td>\n      <td>-0.040925</td>\n      <td>0.017955</td>\n      <td>-0.016857</td>\n      <td>-0.198427</td>\n      <td>0.028961</td>\n      <td>0.066409</td>\n      <td>0.006300</td>\n      <td>0.023031</td>\n      <td>0.011765</td>\n      <td>0.011822</td>\n      <td>0.042089</td>\n      <td>-0.125478</td>\n      <td>-0.084270</td>\n      <td>-0.020783</td>\n      <td>0.040787</td>\n      <td>0.024626</td>\n      <td>0.025456</td>\n      <td>0.037966</td>\n      <td>0.074584</td>\n      <td>0.022262</td>\n      <td>0.034746</td>\n      <td>0.010771</td>\n      <td>0.028393</td>\n      <td>0.019305</td>\n      <td>-0.002651</td>\n      <td>-0.009776</td>\n      <td>-0.007746</td>\n      <td>-0.007860</td>\n      <td>-0.009776</td>\n      <td>-0.003508</td>\n      <td>-0.001874</td>\n      <td>-0.002296</td>\n      <td>-0.001325</td>\n      <td>-0.001325</td>\n      <td>-0.010222</td>\n      <td>-0.007395</td>\n      <td>-0.020296</td>\n      <td>-0.009957</td>\n      <td>1.000000</td>\n      <td>-0.009404</td>\n      <td>-0.171265</td>\n      <td>-0.055002</td>\n    </tr>\n    <tr>\n      <th>МАРКА_Э76ХАФ</th>\n      <td>-0.000993</td>\n      <td>-0.005555</td>\n      <td>0.038342</td>\n      <td>0.014343</td>\n      <td>0.036717</td>\n      <td>0.013439</td>\n      <td>-0.049605</td>\n      <td>-0.020887</td>\n      <td>-0.033025</td>\n      <td>-0.023692</td>\n      <td>0.046169</td>\n      <td>0.000261</td>\n      <td>0.018559</td>\n      <td>0.009936</td>\n      <td>0.010850</td>\n      <td>-0.010589</td>\n      <td>0.026789</td>\n      <td>NaN</td>\n      <td>NaN</td>\n      <td>-0.094133</td>\n      <td>0.001887</td>\n      <td>0.025756</td>\n      <td>-0.042874</td>\n      <td>0.019616</td>\n      <td>-0.005326</td>\n      <td>0.016515</td>\n      <td>-0.016111</td>\n      <td>-0.033889</td>\n      <td>-0.023175</td>\n      <td>0.017875</td>\n      <td>0.025857</td>\n      <td>0.012310</td>\n      <td>0.040505</td>\n      <td>-0.018203</td>\n      <td>0.025937</td>\n      <td>-0.017117</td>\n      <td>0.017160</td>\n      <td>0.217047</td>\n      <td>0.054015</td>\n      <td>-0.027995</td>\n      <td>0.038612</td>\n      <td>0.035582</td>\n      <td>0.010476</td>\n      <td>0.001551</td>\n      <td>0.005587</td>\n      <td>-0.017783</td>\n      <td>0.038241</td>\n      <td>-0.018601</td>\n      <td>0.020362</td>\n      <td>-0.025354</td>\n      <td>0.071115</td>\n      <td>0.317603</td>\n      <td>0.047703</td>\n      <td>-0.013760</td>\n      <td>0.032331</td>\n      <td>0.032123</td>\n      <td>0.056271</td>\n      <td>0.000708</td>\n      <td>0.033992</td>\n      <td>0.005741</td>\n      <td>-0.008524</td>\n      <td>-0.012108</td>\n      <td>0.035629</td>\n      <td>0.004051</td>\n      <td>0.022407</td>\n      <td>0.007673</td>\n      <td>0.032393</td>\n      <td>-0.002016</td>\n      <td>-0.007435</td>\n      <td>-0.005891</td>\n      <td>-0.005977</td>\n      <td>-0.007435</td>\n      <td>-0.002668</td>\n      <td>-0.001426</td>\n      <td>-0.001746</td>\n      <td>-0.001008</td>\n      <td>-0.001008</td>\n      <td>-0.007774</td>\n      <td>-0.005624</td>\n      <td>-0.015436</td>\n      <td>-0.007572</td>\n      <td>-0.009404</td>\n      <td>1.000000</td>\n      <td>-0.130252</td>\n      <td>-0.041830</td>\n    </tr>\n    <tr>\n      <th>МАРКА_Э76ХФ</th>\n      <td>-0.031221</td>\n      <td>-0.069580</td>\n      <td>-0.067210</td>\n      <td>-0.083386</td>\n      <td>-0.061077</td>\n      <td>-0.048108</td>\n      <td>-0.439238</td>\n      <td>0.412711</td>\n      <td>-0.143969</td>\n      <td>0.235111</td>\n      <td>-0.834083</td>\n      <td>-0.003210</td>\n      <td>-0.041811</td>\n      <td>-0.105364</td>\n      <td>-0.013558</td>\n      <td>0.045654</td>\n      <td>-0.006188</td>\n      <td>NaN</td>\n      <td>NaN</td>\n      <td>0.356964</td>\n      <td>-0.036355</td>\n      <td>-0.062644</td>\n      <td>-0.459439</td>\n      <td>-0.034301</td>\n      <td>-0.015113</td>\n      <td>-0.822305</td>\n      <td>0.314374</td>\n      <td>-0.150608</td>\n      <td>0.412774</td>\n      <td>-0.079915</td>\n      <td>0.000713</td>\n      <td>-0.033283</td>\n      <td>0.432661</td>\n      <td>-0.081623</td>\n      <td>-0.117403</td>\n      <td>-0.016918</td>\n      <td>-0.097021</td>\n      <td>-0.091498</td>\n      <td>-0.103121</td>\n      <td>-0.093635</td>\n      <td>0.132130</td>\n      <td>0.114946</td>\n      <td>0.046400</td>\n      <td>-0.110734</td>\n      <td>-0.203341</td>\n      <td>-0.027675</td>\n      <td>0.442975</td>\n      <td>-0.084418</td>\n      <td>-0.148685</td>\n      <td>0.046724</td>\n      <td>-0.393327</td>\n      <td>-0.106768</td>\n      <td>-0.137498</td>\n      <td>-0.114733</td>\n      <td>0.128272</td>\n      <td>0.062995</td>\n      <td>-0.553253</td>\n      <td>-0.057211</td>\n      <td>-0.106828</td>\n      <td>-0.092434</td>\n      <td>-0.108038</td>\n      <td>-0.163298</td>\n      <td>-0.113821</td>\n      <td>-0.042236</td>\n      <td>-0.076224</td>\n      <td>-0.086071</td>\n      <td>-0.127027</td>\n      <td>-0.036720</td>\n      <td>-0.135401</td>\n      <td>-0.107286</td>\n      <td>-0.108860</td>\n      <td>-0.135401</td>\n      <td>-0.048587</td>\n      <td>-0.025961</td>\n      <td>-0.031798</td>\n      <td>-0.018356</td>\n      <td>-0.018356</td>\n      <td>-0.141581</td>\n      <td>-0.102421</td>\n      <td>-0.281113</td>\n      <td>-0.137905</td>\n      <td>-0.171265</td>\n      <td>-0.130252</td>\n      <td>1.000000</td>\n      <td>-0.761805</td>\n    </tr>\n    <tr>\n      <th>МАРКА_Э90ХАФ</th>\n      <td>-0.006930</td>\n      <td>0.099198</td>\n      <td>0.034844</td>\n      <td>0.040151</td>\n      <td>0.026707</td>\n      <td>0.050955</td>\n      <td>0.477964</td>\n      <td>-0.441561</td>\n      <td>-0.032587</td>\n      <td>-0.239099</td>\n      <td>0.988423</td>\n      <td>-0.067053</td>\n      <td>-0.118653</td>\n      <td>0.138038</td>\n      <td>0.006947</td>\n      <td>-0.001267</td>\n      <td>-0.007890</td>\n      <td>NaN</td>\n      <td>NaN</td>\n      <td>-0.465245</td>\n      <td>-0.033152</td>\n      <td>0.039907</td>\n      <td>0.469804</td>\n      <td>0.030622</td>\n      <td>-0.020045</td>\n      <td>0.984262</td>\n      <td>-0.258188</td>\n      <td>-0.030948</td>\n      <td>-0.440762</td>\n      <td>0.038053</td>\n      <td>0.093945</td>\n      <td>0.101051</td>\n      <td>-0.205082</td>\n      <td>0.092074</td>\n      <td>0.103545</td>\n      <td>0.040108</td>\n      <td>0.076885</td>\n      <td>0.052076</td>\n      <td>0.081470</td>\n      <td>0.063875</td>\n      <td>0.150003</td>\n      <td>0.016596</td>\n      <td>-0.004705</td>\n      <td>0.064671</td>\n      <td>0.258155</td>\n      <td>0.043547</td>\n      <td>-0.178211</td>\n      <td>0.094870</td>\n      <td>0.101052</td>\n      <td>-0.081898</td>\n      <td>0.429598</td>\n      <td>0.039071</td>\n      <td>0.113892</td>\n      <td>0.104116</td>\n      <td>0.108972</td>\n      <td>0.107407</td>\n      <td>0.828162</td>\n      <td>0.033244</td>\n      <td>0.102792</td>\n      <td>0.001911</td>\n      <td>0.038661</td>\n      <td>-0.017534</td>\n      <td>0.112661</td>\n      <td>0.043599</td>\n      <td>0.043586</td>\n      <td>0.046647</td>\n      <td>0.013364</td>\n      <td>-0.011793</td>\n      <td>-0.043484</td>\n      <td>-0.034455</td>\n      <td>-0.034960</td>\n      <td>-0.043484</td>\n      <td>-0.015604</td>\n      <td>-0.008337</td>\n      <td>-0.010212</td>\n      <td>-0.005895</td>\n      <td>-0.005895</td>\n      <td>-0.045469</td>\n      <td>-0.032892</td>\n      <td>-0.090279</td>\n      <td>-0.044288</td>\n      <td>-0.055002</td>\n      <td>-0.041830</td>\n      <td>-0.761805</td>\n      <td>1.000000</td>\n    </tr>\n  </tbody>\n</table>\n<p>85 rows × 85 columns</p>\n</div>"
     },
     "execution_count": 278,
     "metadata": {},
     "output_type": "execute_result"
    }
   ],
   "source": [
    "corr_data"
   ],
   "metadata": {
    "collapsed": false,
    "pycharm": {
     "name": "#%%\n"
    }
   }
  },
  {
   "cell_type": "code",
   "execution_count": 279,
   "outputs": [
    {
     "data": {
      "text/plain": "[['t обработка', 't продувка', 0.9932799393794185],\n ['t под током', 'эл. энергия', 0.9593605817812976],\n ['чист расход C', 'сыпуч  кокс. мелочь КМ1', 0.9188081746193666],\n ['чист расход Cr', 'ферспл  фх850А', 0.9982044712612745],\n ['чист расход Mn', 'ферспл SiMn18', 0.9984458945886303],\n ['чист расход Si', 'ферспл  Mn5Si65Al0.5', 0.9356896455326765],\n ['чист расход V', 'ферспл  FeV-80', 0.9957128344373597],\n ['чист расход V', 'химсталь последний V', 0.9938690754611055],\n ['чист расход V', 'МАРКА_Э90ХАФ', 0.9884229263880203],\n ['ферспл  FeV-80', 'химсталь последний V', 0.98815976771277],\n ['ферспл  FeV-80', 'МАРКА_Э90ХАФ', 0.9842623170180844],\n ['химсталь первый Cr_1', 'химсталь последний Cr', 0.977136964272215],\n ['химсталь первый Cu_1', 'химсталь последний Cu', 0.9984710661849621],\n ['химсталь первый Mn_1', 'химсталь последний C', 0.9264995333133735],\n ['химсталь первый Mn_1', 'химсталь последний Mn', 0.9753557432980768],\n ['химсталь первый Mn_1', 'химшлак первый CaO_1', 0.9300041154187875],\n ['химсталь первый Mn_1', 'химшлак первый R_1', 0.9031533124178728],\n ['химсталь первый Mo_1', 'химсталь последний Mo', 0.9326412523141411],\n ['химсталь первый Ni_1', 'химсталь последний Ni', 0.9867309713588408],\n ['химсталь первый P_1', 'химсталь последний P', 0.9839201481814509],\n ['химсталь первый S_1', 'химсталь последний S', 0.9045665332260512],\n ['химсталь первый Si_1', 'химсталь последний Si', 0.9723200710328648],\n ['химсталь последний C', 'химсталь последний Mn', 0.9455605486404375],\n ['химсталь последний C', 'химсталь последний Si', 0.9049252605726487],\n ['химсталь последний C', 'химшлак первый CaO_1', 0.9352543600197951],\n ['химсталь последний Mn', 'химшлак первый CaO_1', 0.9301168714794041],\n ['химсталь последний Si', 'химсталь последний Ti', 0.9010773135346705],\n ['химшлак первый Al2O3_1', 'химшлак первый SiO2_1', 0.9059618877488722],\n ['химшлак первый CaO_1', 'химшлак первый R_1', 0.9374890043286734]]"
     },
     "execution_count": 279,
     "metadata": {},
     "output_type": "execute_result"
    }
   ],
   "source": [
    "useless_list = []\n",
    "for ind in corr_data.index:\n",
    "    for col in corr_data.columns:\n",
    "        if ind != col and abs(corr_data.loc[ind, col] >= 0.9 ):\n",
    "            if [col, ind, corr_data.loc[ind, col]] not in useless_list:\n",
    "                useless_list.append([ind, col, corr_data.loc[ind, col]])\n",
    "\n",
    "useless_list"
   ],
   "metadata": {
    "collapsed": false,
    "pycharm": {
     "name": "#%%\n"
    }
   }
  },
  {
   "cell_type": "code",
   "execution_count": 280,
   "outputs": [],
   "source": [
    "useless_list = np.array(useless_list)"
   ],
   "metadata": {
    "collapsed": false,
    "pycharm": {
     "name": "#%%\n"
    }
   }
  },
  {
   "cell_type": "code",
   "execution_count": 281,
   "outputs": [],
   "source": [
    "dropped_data.to_csv(POST_PROCESSING_DATA, sep='\\t', index=False)"
   ],
   "metadata": {
    "collapsed": false,
    "pycharm": {
     "name": "#%%\n"
    }
   }
  },
  {
   "cell_type": "code",
   "execution_count": 282,
   "outputs": [
    {
     "data": {
      "text/plain": "       химшлак первый Al2O3_1  химшлак первый SiO2_1\nindex                                               \n0                         0.0                    0.0\n1                         0.0                    0.0\n2                         0.0                    0.0\n3                         0.0                    0.0\n4                         0.0                    0.0\n...                       ...                    ...\n7036                      5.6                   22.2\n7037                      5.1                   24.5\n7038                      7.8                   20.0\n7039                      5.2                   24.5\n7040                      6.0                   24.2\n\n[7041 rows x 2 columns]",
      "text/html": "<div>\n<style scoped>\n    .dataframe tbody tr th:only-of-type {\n        vertical-align: middle;\n    }\n\n    .dataframe tbody tr th {\n        vertical-align: top;\n    }\n\n    .dataframe thead th {\n        text-align: right;\n    }\n</style>\n<table border=\"1\" class=\"dataframe\">\n  <thead>\n    <tr style=\"text-align: right;\">\n      <th></th>\n      <th>химшлак первый Al2O3_1</th>\n      <th>химшлак первый SiO2_1</th>\n    </tr>\n    <tr>\n      <th>index</th>\n      <th></th>\n      <th></th>\n    </tr>\n  </thead>\n  <tbody>\n    <tr>\n      <th>0</th>\n      <td>0.0</td>\n      <td>0.0</td>\n    </tr>\n    <tr>\n      <th>1</th>\n      <td>0.0</td>\n      <td>0.0</td>\n    </tr>\n    <tr>\n      <th>2</th>\n      <td>0.0</td>\n      <td>0.0</td>\n    </tr>\n    <tr>\n      <th>3</th>\n      <td>0.0</td>\n      <td>0.0</td>\n    </tr>\n    <tr>\n      <th>4</th>\n      <td>0.0</td>\n      <td>0.0</td>\n    </tr>\n    <tr>\n      <th>...</th>\n      <td>...</td>\n      <td>...</td>\n    </tr>\n    <tr>\n      <th>7036</th>\n      <td>5.6</td>\n      <td>22.2</td>\n    </tr>\n    <tr>\n      <th>7037</th>\n      <td>5.1</td>\n      <td>24.5</td>\n    </tr>\n    <tr>\n      <th>7038</th>\n      <td>7.8</td>\n      <td>20.0</td>\n    </tr>\n    <tr>\n      <th>7039</th>\n      <td>5.2</td>\n      <td>24.5</td>\n    </tr>\n    <tr>\n      <th>7040</th>\n      <td>6.0</td>\n      <td>24.2</td>\n    </tr>\n  </tbody>\n</table>\n<p>7041 rows × 2 columns</p>\n</div>"
     },
     "execution_count": 282,
     "metadata": {},
     "output_type": "execute_result"
    }
   ],
   "source": [
    "dropped_data[useless_list[-2, 0:2]]"
   ],
   "metadata": {
    "collapsed": false,
    "pycharm": {
     "name": "#%%\n"
    }
   }
  },
  {
   "cell_type": "code",
   "execution_count": 283,
   "outputs": [
    {
     "name": "stdout",
     "output_type": "stream",
     "text": [
      "t обработка    0\n",
      "t продувка     0\n",
      "dtype: int64\n",
      "t под током    0\n",
      "эл. энергия    0\n",
      "dtype: int64\n",
      "чист расход C              0\n",
      "сыпуч  кокс. мелочь КМ1    0\n",
      "dtype: int64\n",
      "чист расход Cr    0\n",
      "ферспл  фх850А    0\n",
      "dtype: int64\n",
      "чист расход Mn    0\n",
      "ферспл SiMn18     0\n",
      "dtype: int64\n",
      "чист расход Si          0\n",
      "ферспл  Mn5Si65Al0.5    0\n",
      "dtype: int64\n",
      "чист расход V     0\n",
      "ферспл  FeV-80    0\n",
      "dtype: int64\n",
      "чист расход V             0\n",
      "химсталь последний V    597\n",
      "dtype: int64\n",
      "чист расход V       0\n",
      "МАРКА_Э90ХАФ     5657\n",
      "dtype: int64\n",
      "ферспл  FeV-80            0\n",
      "химсталь последний V    597\n",
      "dtype: int64\n",
      "ферспл  FeV-80       0\n",
      "МАРКА_Э90ХАФ      5657\n",
      "dtype: int64\n",
      "химсталь первый Cr_1     597\n",
      "химсталь последний Cr    597\n",
      "dtype: int64\n",
      "химсталь первый Cu_1     597\n",
      "химсталь последний Cu    597\n",
      "dtype: int64\n",
      "химсталь первый Mn_1    597\n",
      "химсталь последний C    597\n",
      "dtype: int64\n",
      "химсталь первый Mn_1     597\n",
      "химсталь последний Mn    597\n",
      "dtype: int64\n",
      "химсталь первый Mn_1    597\n",
      "химшлак первый CaO_1    597\n",
      "dtype: int64\n",
      "химсталь первый Mn_1    597\n",
      "химшлак первый R_1      597\n",
      "dtype: int64\n",
      "химсталь первый Mo_1     598\n",
      "химсталь последний Mo    597\n",
      "dtype: int64\n",
      "химсталь первый Ni_1     597\n",
      "химсталь последний Ni    597\n",
      "dtype: int64\n",
      "химсталь первый P_1     597\n",
      "химсталь последний P    597\n",
      "dtype: int64\n",
      "химсталь первый S_1     597\n",
      "химсталь последний S    597\n",
      "dtype: int64\n",
      "химсталь первый Si_1     597\n",
      "химсталь последний Si    597\n",
      "dtype: int64\n",
      "химсталь последний C     597\n",
      "химсталь последний Mn    597\n",
      "dtype: int64\n",
      "химсталь последний C     597\n",
      "химсталь последний Si    597\n",
      "dtype: int64\n",
      "химсталь последний C    597\n",
      "химшлак первый CaO_1    597\n",
      "dtype: int64\n",
      "химсталь последний Mn    597\n",
      "химшлак первый CaO_1     597\n",
      "dtype: int64\n",
      "химсталь последний Si    597\n",
      "химсталь последний Ti    597\n",
      "dtype: int64\n",
      "химшлак первый Al2O3_1    2299\n",
      "химшлак первый SiO2_1     2299\n",
      "dtype: int64\n",
      "химшлак первый CaO_1    597\n",
      "химшлак первый R_1      597\n",
      "dtype: int64\n"
     ]
    }
   ],
   "source": [
    "for pair in range(len(useless_list)):\n",
    "    print((dropped_data[useless_list[pair, 0:2]] == 0).sum(axis=0))\n"
   ],
   "metadata": {
    "collapsed": false,
    "pycharm": {
     "name": "#%%\n"
    }
   }
  },
  {
   "cell_type": "code",
   "execution_count": 284,
   "outputs": [
    {
     "data": {
      "text/plain": "       ферспл  FeV-80  МАРКА_Э90ХАФ\nindex                              \n823          0.051577             0\n4769         0.049841             0\n1299         0.101852             1\n4212         0.050709             0\n6534         0.050347             0\n2581         0.049045             0\n1863         0.048864             0\n3399         0.050926             0\n3329         0.105794             1\n2886         0.049841             0\n2872         0.051215             0\n5845         0.050094             0\n1009              NaN             0\n4162         0.049552             0\n5005         0.049732             0\n1032         0.052626             0\n6906         0.048286             0\n3000         0.049624             0\n6626         0.050637             0\n2767         0.102177             1\n5813         0.104384             1\n6975         0.051034             0\n2062         0.049117             0\n1300         0.103733             1\n305          0.054905             0",
      "text/html": "<div>\n<style scoped>\n    .dataframe tbody tr th:only-of-type {\n        vertical-align: middle;\n    }\n\n    .dataframe tbody tr th {\n        vertical-align: top;\n    }\n\n    .dataframe thead th {\n        text-align: right;\n    }\n</style>\n<table border=\"1\" class=\"dataframe\">\n  <thead>\n    <tr style=\"text-align: right;\">\n      <th></th>\n      <th>ферспл  FeV-80</th>\n      <th>МАРКА_Э90ХАФ</th>\n    </tr>\n    <tr>\n      <th>index</th>\n      <th></th>\n      <th></th>\n    </tr>\n  </thead>\n  <tbody>\n    <tr>\n      <th>823</th>\n      <td>0.051577</td>\n      <td>0</td>\n    </tr>\n    <tr>\n      <th>4769</th>\n      <td>0.049841</td>\n      <td>0</td>\n    </tr>\n    <tr>\n      <th>1299</th>\n      <td>0.101852</td>\n      <td>1</td>\n    </tr>\n    <tr>\n      <th>4212</th>\n      <td>0.050709</td>\n      <td>0</td>\n    </tr>\n    <tr>\n      <th>6534</th>\n      <td>0.050347</td>\n      <td>0</td>\n    </tr>\n    <tr>\n      <th>2581</th>\n      <td>0.049045</td>\n      <td>0</td>\n    </tr>\n    <tr>\n      <th>1863</th>\n      <td>0.048864</td>\n      <td>0</td>\n    </tr>\n    <tr>\n      <th>3399</th>\n      <td>0.050926</td>\n      <td>0</td>\n    </tr>\n    <tr>\n      <th>3329</th>\n      <td>0.105794</td>\n      <td>1</td>\n    </tr>\n    <tr>\n      <th>2886</th>\n      <td>0.049841</td>\n      <td>0</td>\n    </tr>\n    <tr>\n      <th>2872</th>\n      <td>0.051215</td>\n      <td>0</td>\n    </tr>\n    <tr>\n      <th>5845</th>\n      <td>0.050094</td>\n      <td>0</td>\n    </tr>\n    <tr>\n      <th>1009</th>\n      <td>NaN</td>\n      <td>0</td>\n    </tr>\n    <tr>\n      <th>4162</th>\n      <td>0.049552</td>\n      <td>0</td>\n    </tr>\n    <tr>\n      <th>5005</th>\n      <td>0.049732</td>\n      <td>0</td>\n    </tr>\n    <tr>\n      <th>1032</th>\n      <td>0.052626</td>\n      <td>0</td>\n    </tr>\n    <tr>\n      <th>6906</th>\n      <td>0.048286</td>\n      <td>0</td>\n    </tr>\n    <tr>\n      <th>3000</th>\n      <td>0.049624</td>\n      <td>0</td>\n    </tr>\n    <tr>\n      <th>6626</th>\n      <td>0.050637</td>\n      <td>0</td>\n    </tr>\n    <tr>\n      <th>2767</th>\n      <td>0.102177</td>\n      <td>1</td>\n    </tr>\n    <tr>\n      <th>5813</th>\n      <td>0.104384</td>\n      <td>1</td>\n    </tr>\n    <tr>\n      <th>6975</th>\n      <td>0.051034</td>\n      <td>0</td>\n    </tr>\n    <tr>\n      <th>2062</th>\n      <td>0.049117</td>\n      <td>0</td>\n    </tr>\n    <tr>\n      <th>1300</th>\n      <td>0.103733</td>\n      <td>1</td>\n    </tr>\n    <tr>\n      <th>305</th>\n      <td>0.054905</td>\n      <td>0</td>\n    </tr>\n  </tbody>\n</table>\n</div>"
     },
     "execution_count": 284,
     "metadata": {},
     "output_type": "execute_result"
    }
   ],
   "source": [
    "dropped_data[['ферспл  FeV-80','МАРКА_Э90ХАФ'  ]].sample(25)"
   ],
   "metadata": {
    "collapsed": false,
    "pycharm": {
     "name": "#%%\n"
    }
   }
  },
  {
   "cell_type": "code",
   "execution_count": 285,
   "outputs": [
    {
     "data": {
      "text/plain": "DT                0\nt вып-обр       597\nt обработка     601\nt под током     601\nt продувка      597\n               ... \nМАРКА_Э76         0\nМАРКА_Э76Ф        0\nМАРКА_Э76ХАФ      0\nМАРКА_Э76ХФ       0\nМАРКА_Э90ХАФ      0\nLength: 89, dtype: int64"
     },
     "execution_count": 285,
     "metadata": {},
     "output_type": "execute_result"
    }
   ],
   "source": [
    "dropped_data.isnull().sum()"
   ],
   "metadata": {
    "collapsed": false,
    "pycharm": {
     "name": "#%%\n"
    }
   }
  },
  {
   "cell_type": "code",
   "execution_count": 286,
   "outputs": [],
   "source": [
    "#mark_data.to_csv(POST_PROCESSING_DATA, sep='\\t', index=False)"
   ],
   "metadata": {
    "collapsed": false,
    "pycharm": {
     "name": "#%%\n"
    }
   }
  }
 ],
 "metadata": {
  "kernelspec": {
   "display_name": "Python 3",
   "language": "python",
   "name": "python3"
  },
  "language_info": {
   "codemirror_mode": {
    "name": "ipython",
    "version": 2
   },
   "file_extension": ".py",
   "mimetype": "text/x-python",
   "name": "python",
   "nbconvert_exporter": "python",
   "pygments_lexer": "ipython2",
   "version": "2.7.6"
  }
 },
 "nbformat": 4,
 "nbformat_minor": 0
}