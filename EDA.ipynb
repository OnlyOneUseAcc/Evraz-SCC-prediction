{
 "cells": [
  {
   "cell_type": "code",
   "execution_count": 12,
   "metadata": {
    "collapsed": true
   },
   "outputs": [],
   "source": [
    "import pandas as pd\n",
    "import numpy as np\n",
    "import subfunc as sf"
   ]
  },
  {
   "cell_type": "code",
   "execution_count": 13,
   "outputs": [],
   "source": [
    "RAW_DATA = 'data/evras.csv'\n",
    "POST_PROCESSING_DATA = 'data/post_evras.csv'\n",
    "SOURCE_DATA = 'source/'\n",
    "pd.options.display.max_columns = 90\n",
    "target_columns = ['химшлак последний Al2O3',\n",
    "                  'химшлак последний CaO',\n",
    "                  'химшлак последний R',\n",
    "                  'химшлак последний SiO2']"
   ],
   "metadata": {
    "collapsed": false,
    "pycharm": {
     "name": "#%%\n"
    }
   }
  },
  {
   "cell_type": "code",
   "execution_count": 42,
   "outputs": [
    {
     "name": "stdout",
     "output_type": "stream",
     "text": [
      "<class 'pandas.core.frame.DataFrame'>\n",
      "Int64Index: 7041 entries, 0 to 7040\n",
      "Data columns (total 84 columns):\n",
      " #   Column                          Non-Null Count  Dtype \n",
      "---  ------                          --------------  ----- \n",
      " 0   nplv                            7041 non-null   object\n",
      " 1   DT                              7041 non-null   object\n",
      " 2   МАРКА                           7041 non-null   object\n",
      " 3   ПРОФИЛЬ                         7041 non-null   object\n",
      " 4   t вып-обр                       6444 non-null   object\n",
      " 5   t обработка                     6440 non-null   object\n",
      " 6   t под током                     6440 non-null   object\n",
      " 7   t продувка                      6444 non-null   object\n",
      " 8   ПСН гр.                         5249 non-null   object\n",
      " 9   чист расход C                   6435 non-null   object\n",
      " 10  чист расход Cr                  5883 non-null   object\n",
      " 11  чист расход Mn                  6431 non-null   object\n",
      " 12  чист расход Si                  6431 non-null   object\n",
      " 13  чист расход V                   6178 non-null   object\n",
      " 14  температура первая              6436 non-null   object\n",
      " 15  температура последняя           6436 non-null   object\n",
      " 16  Ar (интенс.)                    6426 non-null   object\n",
      " 17  N2 (интенс.)                    1389 non-null   object\n",
      " 18  эл. энергия (интенс.)           6440 non-null   object\n",
      " 19  произв жидкая сталь             6444 non-null   object\n",
      " 20  произв количество обработок     6444 non-null   object\n",
      " 21  произв  количество плавок       6444 non-null   object\n",
      " 22  произв количество плавок (цел)  6444 non-null   object\n",
      " 23  расход газ Ar                   6426 non-null   object\n",
      " 24  расход газ  N2                  1389 non-null   object\n",
      " 25  расход C пров.                  724 non-null    object\n",
      " 26  сыпуч известь РП                4770 non-null   object\n",
      " 27  сыпуч кварцит                   13 non-null     object\n",
      " 28  сыпуч кокс пыль УСТК            6422 non-null   object\n",
      " 29  сыпуч  кокс. мелочь (сух.)      7 non-null      object\n",
      " 30  сыпуч  кокс. мелочь КМ1         6307 non-null   object\n",
      " 31  сыпуч  шпат плав.               5910 non-null   object\n",
      " 32  ферспл CaC2                     6244 non-null   object\n",
      " 33  ферспл FeMo                     33 non-null     object\n",
      " 34  ферспл FeSi-75                  5 non-null      object\n",
      " 35  ферспл FeV азот.                383 non-null    object\n",
      " 36  ферспл  FeV-80                  6179 non-null   object\n",
      " 37  ферспл  Mn5Si65Al0.5            6400 non-null   object\n",
      " 38  ферспл  Ni H1 пласт.            82 non-null     object\n",
      " 39  ферспл SiMn18                   6398 non-null   object\n",
      " 40  ферспл  ферванит                1017 non-null   object\n",
      " 41  ферспл  фх850А                  5883 non-null   object\n",
      " 42  эл. энергия                     6440 non-null   object\n",
      " 43  химсталь первый Al_1            6444 non-null   object\n",
      " 44  химсталь первый C_1             6444 non-null   object\n",
      " 45  химсталь первый Cr_1            6444 non-null   object\n",
      " 46  химсталь первый Cu_1            6444 non-null   object\n",
      " 47  химсталь первый Mn_1            6444 non-null   object\n",
      " 48  химсталь первый Mo_1            6443 non-null   object\n",
      " 49  химсталь первый N_1             6443 non-null   object\n",
      " 50  химсталь первый Ni_1            6444 non-null   object\n",
      " 51  химсталь первый P_1             6444 non-null   object\n",
      " 52  химсталь первый S_1             6444 non-null   object\n",
      " 53  химсталь первый Si_1            6444 non-null   object\n",
      " 54  химсталь первый Ti_1            6444 non-null   object\n",
      " 55  химсталь первый V_1             6444 non-null   object\n",
      " 56  химсталь последний Al           6444 non-null   object\n",
      " 57  химсталь последний C            6444 non-null   object\n",
      " 58  химсталь последний Ca           6218 non-null   object\n",
      " 59  химсталь последний Cr           6444 non-null   object\n",
      " 60  химсталь последний Cu           6444 non-null   object\n",
      " 61  химсталь последний Mn           6444 non-null   object\n",
      " 62  химсталь последний Mo           6444 non-null   object\n",
      " 63  химсталь последний N            6442 non-null   object\n",
      " 64  химсталь последний Ni           6444 non-null   object\n",
      " 65  химсталь последний P            6444 non-null   object\n",
      " 66  химсталь последний S            6444 non-null   object\n",
      " 67  химсталь последний Si           6444 non-null   object\n",
      " 68  химсталь последний Ti           6444 non-null   object\n",
      " 69  химсталь последний V            6444 non-null   object\n",
      " 70  химшлак первый Al2O3_1          4742 non-null   object\n",
      " 71  химшлак первый CaO_1            6444 non-null   object\n",
      " 72  химшлак первый FeO_1            6444 non-null   object\n",
      " 73  химшлак первый MgO_1            6443 non-null   object\n",
      " 74  химшлак первый MnO_1            6444 non-null   object\n",
      " 75  химшлак первый R_1              6444 non-null   object\n",
      " 76  химшлак первый SiO2_1           4742 non-null   object\n",
      " 77  химшлак последний Al2O3         4742 non-null   object\n",
      " 78  химшлак последний CaO           6444 non-null   object\n",
      " 79  химшлак последний FeO           6444 non-null   object\n",
      " 80  химшлак последний MgO           6443 non-null   object\n",
      " 81  химшлак последний MnO           6444 non-null   object\n",
      " 82  химшлак последний R             6444 non-null   object\n",
      " 83  химшлак последний SiO2          4742 non-null   object\n",
      "dtypes: object(84)\n",
      "memory usage: 4.6+ MB\n"
     ]
    },
    {
     "data": {
      "text/plain": "ферспл FeSi-75                7036\nсыпуч  кокс. мелочь (сух.)    7034\nсыпуч кварцит                 7028\nферспл FeMo                   7008\nферспл  Ni H1 пласт.          6959\n                              ... \nхимшлак первый CaO_1           597\nПРОФИЛЬ                          0\nМАРКА                            0\nDT                               0\nnplv                             0\nLength: 84, dtype: int64"
     },
     "execution_count": 42,
     "metadata": {},
     "output_type": "execute_result"
    }
   ],
   "source": [
    "data = pd.read_csv(RAW_DATA, sep=';', index_col='index')\n",
    "data.info()"
   ],
   "metadata": {
    "collapsed": false,
    "pycharm": {
     "name": "#%%\n"
    }
   }
  },
  {
   "cell_type": "code",
   "execution_count": 46,
   "outputs": [
    {
     "data": {
      "text/plain": "ферспл FeSi-75                0.999290\nсыпуч  кокс. мелочь (сух.)    0.999006\nсыпуч кварцит                 0.998154\nферспл FeMo                   0.995313\nферспл  Ni H1 пласт.          0.988354\nферспл FeV азот.              0.945604\nрасход C пров.                0.897174\nферспл  ферванит              0.855560\nрасход газ  N2                0.802727\nN2 (интенс.)                  0.802727\nхимшлак первый SiO2_1         0.326516\nхимшлак последний Al2O3       0.326516\nхимшлак первый Al2O3_1        0.326516\nхимшлак последний SiO2        0.326516\nсыпуч известь РП              0.322539\ndtype: float64"
     },
     "execution_count": 46,
     "metadata": {},
     "output_type": "execute_result"
    }
   ],
   "source": [
    "data.isnull().sum().sort_values(ascending= False).apply(lambda x : x / data.shape[0])[:15]"
   ],
   "metadata": {
    "collapsed": false,
    "pycharm": {
     "name": "#%%\n"
    }
   }
  },
  {
   "cell_type": "code",
   "execution_count": 15,
   "outputs": [
    {
     "data": {
      "text/plain": "               nplv                   DT  МАРКА ПРОФИЛЬ t вып-обр t обработка  \\\ncount          7041                 7041   7041    7041      6444        6440   \nunique         7041                 7041     18      18        82         816   \ntop     г683863<97=  2071-01-08 09:17:00  Э76ХФ     Р65       6,0  42,5333333   \nfreq              1                    1   4953    6427       227          53   \n\n       t под током  t продувка ПСН гр. чист расход C чист расход Cr  \\\ncount         6440        6444    5249          6435           5883   \nunique        1155         831    4296          6243           3115   \ntop     19,6833333  43,0333333     2,0      0,406765       0,104904   \nfreq            32          56     526             3             17   \n\n       чист расход Mn чист расход Si чист расход V температура первая  \\\ncount            6431           6431          6178               6436   \nunique           6320           6265          4645                154   \ntop          0,132318       0,125824     0,0388151             1571,0   \nfreq                3              2             9                134   \n\n       температура последняя Ar (интенс.) N2 (интенс.) эл. энергия (интенс.)  \\\ncount                   6436         6426         1389                  6440   \nunique                   109         6423         1389                  6362   \ntop                   1579,0    9,9717791   13,0398714               13200,0   \nfreq                     282            2            1                     4   \n\n       произв жидкая сталь произв количество обработок  \\\ncount                 6444                        6444   \nunique                 226                           3   \ntop                  115,4                         1,0   \nfreq                   124                        6391   \n\n       произв  количество плавок произв количество плавок (цел) расход газ Ar  \\\ncount                       6444                           6444          6426   \nunique                         1                              1          5556   \ntop                          1,0                            1,0        13,192   \nfreq                        6444                           6444             5   \n\n       расход газ  N2 расход C пров. сыпуч известь РП сыпуч кварцит  \\\ncount            1389            724             4770            13   \nunique           1341            593              469             1   \ntop             9,016       0,013442            0,063          0,02   \nfreq                3              4               87            13   \n\n       сыпуч кокс пыль УСТК сыпуч  кокс. мелочь (сух.)  \\\ncount                  6422                          7   \nunique                  307                          7   \ntop                    0,05                      0,498   \nfreq                   5873                          1   \n\n       сыпуч  кокс. мелочь КМ1 сыпуч  шпат плав. ферспл CaC2 ферспл FeMo  \\\ncount                     6307              5910        6244          33   \nunique                     691               197           7          28   \ntop                      0,384             0,041        0,02    0,021014   \nfreq                        34               250        6137           3   \n\n       ферспл FeSi-75 ферспл FeV азот. ферспл  FeV-80 ферспл  Mn5Si65Al0.5  \\\ncount               5              383           6179                 6400   \nunique              2               83            692                  399   \ntop              0,05         0,024306       0,050094                0,128   \nfreq                4               14             81                   61   \n\n       ферспл  Ni H1 пласт. ферспл SiMn18 ферспл  ферванит ферспл  фх850А  \\\ncount                    82          6398             1017           5883   \nunique                   80           528              199            398   \ntop                0,046115         0,219         0,025897          0,214   \nfreq                      2            45               23             60   \n\n       эл. энергия химсталь первый Al_1 химсталь первый C_1  \\\ncount         6440                 6444                6444   \nunique        3132                    6                 417   \ntop         4199,0                0,002               0,435   \nfreq            11                 4656                  62   \n\n       химсталь первый Cr_1 химсталь первый Cu_1 химсталь первый Mn_1  \\\ncount                  6444                 6444                 6444   \nunique                  371                  101                  404   \ntop                   0,315                  0,1                0,672   \nfreq                     91                  236                   73   \n\n       химсталь первый Mo_1 химсталь первый N_1 химсталь первый Ni_1  \\\ncount                  6443                6443                 6444   \nunique                   24                  18                  115   \ntop                   0,006                0,01                0,071   \nfreq                   1783                1751                  308   \n\n       химсталь первый P_1 химсталь первый S_1 химсталь первый Si_1  \\\ncount                 6444                6444                 6444   \nunique                  18                  34                  384   \ntop                  0,008               0,019                0,449   \nfreq                  1410                 904                  105   \n\n       химсталь первый Ti_1 химсталь первый V_1 химсталь последний Al  \\\ncount                  6444                6444                  6444   \nunique                    7                  28                    20   \ntop                   0,002               0,002                 0,003   \nfreq                   3727                2929                  4526   \n\n       химсталь последний C химсталь последний Ca химсталь последний Cr  \\\ncount                  6444                  6218                  6444   \nunique                  226                    32                   206   \ntop                   0,762                0,0002                 0,418   \nfreq                    166                  1816                   660   \n\n       химсталь последний Cu химсталь последний Mn химсталь последний Mo  \\\ncount                   6444                  6444                  6444   \nunique                   100                   261                    24   \ntop                    0,103                 0,789                 0,006   \nfreq                     240                   353                  1590   \n\n       химсталь последний N химсталь последний Ni химсталь последний P  \\\ncount                  6442                  6444                 6444   \nunique                   17                   112                   19   \ntop                   0,012                 0,071                0,009   \nfreq                   1305                   324                 1363   \n\n       химсталь последний S химсталь последний Si химсталь последний Ti  \\\ncount                  6444                  6444                  6444   \nunique                   27                   256                     5   \ntop                   0,015                 0,566                 0,003   \nfreq                   1076                   229                  4764   \n\n       химсталь последний V химшлак первый Al2O3_1 химшлак первый CaO_1  \\\ncount                  6444                   4742                 6444   \nunique                   54                     73                  298   \ntop                   0,037                    3,7                 53,4   \nfreq                   1793                    263                   58   \n\n       химшлак первый FeO_1 химшлак первый MgO_1 химшлак первый MnO_1  \\\ncount                  6444                 6443                 6444   \nunique                   54                  236                  152   \ntop                     0,4                 11,3                 0,11   \nfreq                   1056                   96                  470   \n\n       химшлак первый R_1 химшлак первый SiO2_1 химшлак последний Al2O3  \\\ncount                6444                  4742                    4742   \nunique                 32                   149                      70   \ntop                   2,2                  21,7                     4,4   \nfreq                  915                   100                     243   \n\n       химшлак последний CaO химшлак последний FeO химшлак последний MgO  \\\ncount                   6444                  6444                  6443   \nunique                   229                    16                   192   \ntop                     57,6                   0,5                   8,7   \nfreq                     102                  1235                    88   \n\n       химшлак последний MnO химшлак последний R химшлак последний SiO2  \ncount                   6444                6444                   4742  \nunique                    61                  16                    116  \ntop                     0,08                 2,2                   26,0  \nfreq                     723                1483                    142  ",
      "text/html": "<div>\n<style scoped>\n    .dataframe tbody tr th:only-of-type {\n        vertical-align: middle;\n    }\n\n    .dataframe tbody tr th {\n        vertical-align: top;\n    }\n\n    .dataframe thead th {\n        text-align: right;\n    }\n</style>\n<table border=\"1\" class=\"dataframe\">\n  <thead>\n    <tr style=\"text-align: right;\">\n      <th></th>\n      <th>nplv</th>\n      <th>DT</th>\n      <th>МАРКА</th>\n      <th>ПРОФИЛЬ</th>\n      <th>t вып-обр</th>\n      <th>t обработка</th>\n      <th>t под током</th>\n      <th>t продувка</th>\n      <th>ПСН гр.</th>\n      <th>чист расход C</th>\n      <th>чист расход Cr</th>\n      <th>чист расход Mn</th>\n      <th>чист расход Si</th>\n      <th>чист расход V</th>\n      <th>температура первая</th>\n      <th>температура последняя</th>\n      <th>Ar (интенс.)</th>\n      <th>N2 (интенс.)</th>\n      <th>эл. энергия (интенс.)</th>\n      <th>произв жидкая сталь</th>\n      <th>произв количество обработок</th>\n      <th>произв  количество плавок</th>\n      <th>произв количество плавок (цел)</th>\n      <th>расход газ Ar</th>\n      <th>расход газ  N2</th>\n      <th>расход C пров.</th>\n      <th>сыпуч известь РП</th>\n      <th>сыпуч кварцит</th>\n      <th>сыпуч кокс пыль УСТК</th>\n      <th>сыпуч  кокс. мелочь (сух.)</th>\n      <th>сыпуч  кокс. мелочь КМ1</th>\n      <th>сыпуч  шпат плав.</th>\n      <th>ферспл CaC2</th>\n      <th>ферспл FeMo</th>\n      <th>ферспл FeSi-75</th>\n      <th>ферспл FeV азот.</th>\n      <th>ферспл  FeV-80</th>\n      <th>ферспл  Mn5Si65Al0.5</th>\n      <th>ферспл  Ni H1 пласт.</th>\n      <th>ферспл SiMn18</th>\n      <th>ферспл  ферванит</th>\n      <th>ферспл  фх850А</th>\n      <th>эл. энергия</th>\n      <th>химсталь первый Al_1</th>\n      <th>химсталь первый C_1</th>\n      <th>химсталь первый Cr_1</th>\n      <th>химсталь первый Cu_1</th>\n      <th>химсталь первый Mn_1</th>\n      <th>химсталь первый Mo_1</th>\n      <th>химсталь первый N_1</th>\n      <th>химсталь первый Ni_1</th>\n      <th>химсталь первый P_1</th>\n      <th>химсталь первый S_1</th>\n      <th>химсталь первый Si_1</th>\n      <th>химсталь первый Ti_1</th>\n      <th>химсталь первый V_1</th>\n      <th>химсталь последний Al</th>\n      <th>химсталь последний C</th>\n      <th>химсталь последний Ca</th>\n      <th>химсталь последний Cr</th>\n      <th>химсталь последний Cu</th>\n      <th>химсталь последний Mn</th>\n      <th>химсталь последний Mo</th>\n      <th>химсталь последний N</th>\n      <th>химсталь последний Ni</th>\n      <th>химсталь последний P</th>\n      <th>химсталь последний S</th>\n      <th>химсталь последний Si</th>\n      <th>химсталь последний Ti</th>\n      <th>химсталь последний V</th>\n      <th>химшлак первый Al2O3_1</th>\n      <th>химшлак первый CaO_1</th>\n      <th>химшлак первый FeO_1</th>\n      <th>химшлак первый MgO_1</th>\n      <th>химшлак первый MnO_1</th>\n      <th>химшлак первый R_1</th>\n      <th>химшлак первый SiO2_1</th>\n      <th>химшлак последний Al2O3</th>\n      <th>химшлак последний CaO</th>\n      <th>химшлак последний FeO</th>\n      <th>химшлак последний MgO</th>\n      <th>химшлак последний MnO</th>\n      <th>химшлак последний R</th>\n      <th>химшлак последний SiO2</th>\n    </tr>\n  </thead>\n  <tbody>\n    <tr>\n      <th>count</th>\n      <td>7041</td>\n      <td>7041</td>\n      <td>7041</td>\n      <td>7041</td>\n      <td>6444</td>\n      <td>6440</td>\n      <td>6440</td>\n      <td>6444</td>\n      <td>5249</td>\n      <td>6435</td>\n      <td>5883</td>\n      <td>6431</td>\n      <td>6431</td>\n      <td>6178</td>\n      <td>6436</td>\n      <td>6436</td>\n      <td>6426</td>\n      <td>1389</td>\n      <td>6440</td>\n      <td>6444</td>\n      <td>6444</td>\n      <td>6444</td>\n      <td>6444</td>\n      <td>6426</td>\n      <td>1389</td>\n      <td>724</td>\n      <td>4770</td>\n      <td>13</td>\n      <td>6422</td>\n      <td>7</td>\n      <td>6307</td>\n      <td>5910</td>\n      <td>6244</td>\n      <td>33</td>\n      <td>5</td>\n      <td>383</td>\n      <td>6179</td>\n      <td>6400</td>\n      <td>82</td>\n      <td>6398</td>\n      <td>1017</td>\n      <td>5883</td>\n      <td>6440</td>\n      <td>6444</td>\n      <td>6444</td>\n      <td>6444</td>\n      <td>6444</td>\n      <td>6444</td>\n      <td>6443</td>\n      <td>6443</td>\n      <td>6444</td>\n      <td>6444</td>\n      <td>6444</td>\n      <td>6444</td>\n      <td>6444</td>\n      <td>6444</td>\n      <td>6444</td>\n      <td>6444</td>\n      <td>6218</td>\n      <td>6444</td>\n      <td>6444</td>\n      <td>6444</td>\n      <td>6444</td>\n      <td>6442</td>\n      <td>6444</td>\n      <td>6444</td>\n      <td>6444</td>\n      <td>6444</td>\n      <td>6444</td>\n      <td>6444</td>\n      <td>4742</td>\n      <td>6444</td>\n      <td>6444</td>\n      <td>6443</td>\n      <td>6444</td>\n      <td>6444</td>\n      <td>4742</td>\n      <td>4742</td>\n      <td>6444</td>\n      <td>6444</td>\n      <td>6443</td>\n      <td>6444</td>\n      <td>6444</td>\n      <td>4742</td>\n    </tr>\n    <tr>\n      <th>unique</th>\n      <td>7041</td>\n      <td>7041</td>\n      <td>18</td>\n      <td>18</td>\n      <td>82</td>\n      <td>816</td>\n      <td>1155</td>\n      <td>831</td>\n      <td>4296</td>\n      <td>6243</td>\n      <td>3115</td>\n      <td>6320</td>\n      <td>6265</td>\n      <td>4645</td>\n      <td>154</td>\n      <td>109</td>\n      <td>6423</td>\n      <td>1389</td>\n      <td>6362</td>\n      <td>226</td>\n      <td>3</td>\n      <td>1</td>\n      <td>1</td>\n      <td>5556</td>\n      <td>1341</td>\n      <td>593</td>\n      <td>469</td>\n      <td>1</td>\n      <td>307</td>\n      <td>7</td>\n      <td>691</td>\n      <td>197</td>\n      <td>7</td>\n      <td>28</td>\n      <td>2</td>\n      <td>83</td>\n      <td>692</td>\n      <td>399</td>\n      <td>80</td>\n      <td>528</td>\n      <td>199</td>\n      <td>398</td>\n      <td>3132</td>\n      <td>6</td>\n      <td>417</td>\n      <td>371</td>\n      <td>101</td>\n      <td>404</td>\n      <td>24</td>\n      <td>18</td>\n      <td>115</td>\n      <td>18</td>\n      <td>34</td>\n      <td>384</td>\n      <td>7</td>\n      <td>28</td>\n      <td>20</td>\n      <td>226</td>\n      <td>32</td>\n      <td>206</td>\n      <td>100</td>\n      <td>261</td>\n      <td>24</td>\n      <td>17</td>\n      <td>112</td>\n      <td>19</td>\n      <td>27</td>\n      <td>256</td>\n      <td>5</td>\n      <td>54</td>\n      <td>73</td>\n      <td>298</td>\n      <td>54</td>\n      <td>236</td>\n      <td>152</td>\n      <td>32</td>\n      <td>149</td>\n      <td>70</td>\n      <td>229</td>\n      <td>16</td>\n      <td>192</td>\n      <td>61</td>\n      <td>16</td>\n      <td>116</td>\n    </tr>\n    <tr>\n      <th>top</th>\n      <td>г683863&lt;97=</td>\n      <td>2071-01-08 09:17:00</td>\n      <td>Э76ХФ</td>\n      <td>Р65</td>\n      <td>6,0</td>\n      <td>42,5333333</td>\n      <td>19,6833333</td>\n      <td>43,0333333</td>\n      <td>2,0</td>\n      <td>0,406765</td>\n      <td>0,104904</td>\n      <td>0,132318</td>\n      <td>0,125824</td>\n      <td>0,0388151</td>\n      <td>1571,0</td>\n      <td>1579,0</td>\n      <td>9,9717791</td>\n      <td>13,0398714</td>\n      <td>13200,0</td>\n      <td>115,4</td>\n      <td>1,0</td>\n      <td>1,0</td>\n      <td>1,0</td>\n      <td>13,192</td>\n      <td>9,016</td>\n      <td>0,013442</td>\n      <td>0,063</td>\n      <td>0,02</td>\n      <td>0,05</td>\n      <td>0,498</td>\n      <td>0,384</td>\n      <td>0,041</td>\n      <td>0,02</td>\n      <td>0,021014</td>\n      <td>0,05</td>\n      <td>0,024306</td>\n      <td>0,050094</td>\n      <td>0,128</td>\n      <td>0,046115</td>\n      <td>0,219</td>\n      <td>0,025897</td>\n      <td>0,214</td>\n      <td>4199,0</td>\n      <td>0,002</td>\n      <td>0,435</td>\n      <td>0,315</td>\n      <td>0,1</td>\n      <td>0,672</td>\n      <td>0,006</td>\n      <td>0,01</td>\n      <td>0,071</td>\n      <td>0,008</td>\n      <td>0,019</td>\n      <td>0,449</td>\n      <td>0,002</td>\n      <td>0,002</td>\n      <td>0,003</td>\n      <td>0,762</td>\n      <td>0,0002</td>\n      <td>0,418</td>\n      <td>0,103</td>\n      <td>0,789</td>\n      <td>0,006</td>\n      <td>0,012</td>\n      <td>0,071</td>\n      <td>0,009</td>\n      <td>0,015</td>\n      <td>0,566</td>\n      <td>0,003</td>\n      <td>0,037</td>\n      <td>3,7</td>\n      <td>53,4</td>\n      <td>0,4</td>\n      <td>11,3</td>\n      <td>0,11</td>\n      <td>2,2</td>\n      <td>21,7</td>\n      <td>4,4</td>\n      <td>57,6</td>\n      <td>0,5</td>\n      <td>8,7</td>\n      <td>0,08</td>\n      <td>2,2</td>\n      <td>26,0</td>\n    </tr>\n    <tr>\n      <th>freq</th>\n      <td>1</td>\n      <td>1</td>\n      <td>4953</td>\n      <td>6427</td>\n      <td>227</td>\n      <td>53</td>\n      <td>32</td>\n      <td>56</td>\n      <td>526</td>\n      <td>3</td>\n      <td>17</td>\n      <td>3</td>\n      <td>2</td>\n      <td>9</td>\n      <td>134</td>\n      <td>282</td>\n      <td>2</td>\n      <td>1</td>\n      <td>4</td>\n      <td>124</td>\n      <td>6391</td>\n      <td>6444</td>\n      <td>6444</td>\n      <td>5</td>\n      <td>3</td>\n      <td>4</td>\n      <td>87</td>\n      <td>13</td>\n      <td>5873</td>\n      <td>1</td>\n      <td>34</td>\n      <td>250</td>\n      <td>6137</td>\n      <td>3</td>\n      <td>4</td>\n      <td>14</td>\n      <td>81</td>\n      <td>61</td>\n      <td>2</td>\n      <td>45</td>\n      <td>23</td>\n      <td>60</td>\n      <td>11</td>\n      <td>4656</td>\n      <td>62</td>\n      <td>91</td>\n      <td>236</td>\n      <td>73</td>\n      <td>1783</td>\n      <td>1751</td>\n      <td>308</td>\n      <td>1410</td>\n      <td>904</td>\n      <td>105</td>\n      <td>3727</td>\n      <td>2929</td>\n      <td>4526</td>\n      <td>166</td>\n      <td>1816</td>\n      <td>660</td>\n      <td>240</td>\n      <td>353</td>\n      <td>1590</td>\n      <td>1305</td>\n      <td>324</td>\n      <td>1363</td>\n      <td>1076</td>\n      <td>229</td>\n      <td>4764</td>\n      <td>1793</td>\n      <td>263</td>\n      <td>58</td>\n      <td>1056</td>\n      <td>96</td>\n      <td>470</td>\n      <td>915</td>\n      <td>100</td>\n      <td>243</td>\n      <td>102</td>\n      <td>1235</td>\n      <td>88</td>\n      <td>723</td>\n      <td>1483</td>\n      <td>142</td>\n    </tr>\n  </tbody>\n</table>\n</div>"
     },
     "execution_count": 15,
     "metadata": {},
     "output_type": "execute_result"
    }
   ],
   "source": [
    "data.describe()"
   ],
   "metadata": {
    "collapsed": false,
    "pycharm": {
     "name": "#%%\n"
    }
   }
  },
  {
   "cell_type": "code",
   "execution_count": 16,
   "outputs": [],
   "source": [
    "data['DT'] = sf.date_to_interval(data['DT'])"
   ],
   "metadata": {
    "collapsed": false,
    "pycharm": {
     "name": "#%%\n"
    }
   }
  },
  {
   "cell_type": "code",
   "execution_count": 47,
   "outputs": [
    {
     "name": "stdout",
     "output_type": "stream",
     "text": [
      "Удаленные колонки: N2 (интенс.), расход газ  N2, расход C пров., сыпуч кварцит, сыпуч  кокс. мелочь (сух.), ферспл FeMo, ферспл FeSi-75, ферспл FeV азот., ферспл  Ni H1 пласт., ферспл  ферванит\n"
     ]
    }
   ],
   "source": [
    "dropped_data = sf.drop_columns(data,0.65)"
   ],
   "metadata": {
    "collapsed": false,
    "pycharm": {
     "name": "#%%\n"
    }
   }
  },
  {
   "cell_type": "code",
   "execution_count": 51,
   "outputs": [
    {
     "data": {
      "text/plain": "химшлак последний SiO2     0.326516\nхимшлак последний Al2O3    0.326516\nхимшлак первый Al2O3_1     0.326516\nхимшлак первый SiO2_1      0.326516\nсыпуч известь РП           0.322539\n                             ...   \nхимсталь последний Cr      0.084789\nПРОФИЛЬ                    0.000000\nМАРКА                      0.000000\nDT                         0.000000\nnplv                       0.000000\nLength: 74, dtype: float64"
     },
     "execution_count": 51,
     "metadata": {},
     "output_type": "execute_result"
    }
   ],
   "source": [
    "dropped_data.isnull().sum().sort_values(ascending= False).apply(lambda x : x / data.shape[0])"
   ],
   "metadata": {
    "collapsed": false,
    "pycharm": {
     "name": "#%%\n"
    }
   }
  },
  {
   "cell_type": "code",
   "execution_count": 19,
   "outputs": [
    {
     "data": {
      "text/plain": "'Э76ХФ'"
     },
     "execution_count": 19,
     "metadata": {},
     "output_type": "execute_result"
    }
   ],
   "source": [
    "u, count = np.unique(data['МАРКА'], return_counts=True)\n",
    "count_sort_ind = np.argsort(-count)\n",
    "top_mark = u[count_sort_ind][0]\n",
    "top_mark"
   ],
   "metadata": {
    "collapsed": false,
    "pycharm": {
     "name": "#%%\n"
    }
   }
  },
  {
   "cell_type": "code",
   "execution_count": 19,
   "outputs": [],
   "source": [],
   "metadata": {
    "collapsed": false,
    "pycharm": {
     "name": "#%%\n"
    }
   }
  },
  {
   "cell_type": "code",
   "execution_count": 20,
   "outputs": [],
   "source": [
    "mark_data = data[data['МАРКА'] == top_mark]"
   ],
   "metadata": {
    "collapsed": false,
    "pycharm": {
     "name": "#%%\n"
    }
   }
  },
  {
   "cell_type": "code",
   "execution_count": 21,
   "outputs": [
    {
     "name": "stdout",
     "output_type": "stream",
     "text": [
      "<class 'pandas.core.frame.DataFrame'>\n",
      "Int64Index: 4953 entries, 0 to 7026\n",
      "Data columns (total 84 columns):\n",
      " #   Column                          Non-Null Count  Dtype \n",
      "---  ------                          --------------  ----- \n",
      " 0   nplv                            4953 non-null   object\n",
      " 1   DT                              4953 non-null   object\n",
      " 2   МАРКА                           4953 non-null   object\n",
      " 3   ПРОФИЛЬ                         4953 non-null   object\n",
      " 4   t вып-обр                       4432 non-null   object\n",
      " 5   t обработка                     4429 non-null   object\n",
      " 6   t под током                     4429 non-null   object\n",
      " 7   t продувка                      4432 non-null   object\n",
      " 8   ПСН гр.                         3590 non-null   object\n",
      " 9   чист расход C                   4426 non-null   object\n",
      " 10  чист расход Cr                  4417 non-null   object\n",
      " 11  чист расход Mn                  4423 non-null   object\n",
      " 12  чист расход Si                  4423 non-null   object\n",
      " 13  чист расход V                   4414 non-null   object\n",
      " 14  температура первая              4428 non-null   object\n",
      " 15  температура последняя           4428 non-null   object\n",
      " 16  Ar (интенс.)                    4432 non-null   object\n",
      " 17  N2 (интенс.)                    0 non-null      object\n",
      " 18  эл. энергия (интенс.)           4429 non-null   object\n",
      " 19  произв жидкая сталь             4432 non-null   object\n",
      " 20  произв количество обработок     4432 non-null   object\n",
      " 21  произв  количество плавок       4432 non-null   object\n",
      " 22  произв количество плавок (цел)  4432 non-null   object\n",
      " 23  расход газ Ar                   4432 non-null   object\n",
      " 24  расход газ  N2                  0 non-null      object\n",
      " 25  расход C пров.                  513 non-null    object\n",
      " 26  сыпуч известь РП                3284 non-null   object\n",
      " 27  сыпуч кварцит                   5 non-null      object\n",
      " 28  сыпуч кокс пыль УСТК            4419 non-null   object\n",
      " 29  сыпуч  кокс. мелочь (сух.)      7 non-null      object\n",
      " 30  сыпуч  кокс. мелочь КМ1         4345 non-null   object\n",
      " 31  сыпуч  шпат плав.               4116 non-null   object\n",
      " 32  ферспл CaC2                     4306 non-null   object\n",
      " 33  ферспл FeMo                     0 non-null      object\n",
      " 34  ферспл FeSi-75                  0 non-null      object\n",
      " 35  ферспл FeV азот.                0 non-null      object\n",
      " 36  ферспл  FeV-80                  4415 non-null   object\n",
      " 37  ферспл  Mn5Si65Al0.5            4417 non-null   object\n",
      " 38  ферспл  Ni H1 пласт.            0 non-null      object\n",
      " 39  ферспл SiMn18                   4402 non-null   object\n",
      " 40  ферспл  ферванит                0 non-null      object\n",
      " 41  ферспл  фх850А                  4417 non-null   object\n",
      " 42  эл. энергия                     4429 non-null   object\n",
      " 43  химсталь первый Al_1            4432 non-null   object\n",
      " 44  химсталь первый C_1             4432 non-null   object\n",
      " 45  химсталь первый Cr_1            4432 non-null   object\n",
      " 46  химсталь первый Cu_1            4432 non-null   object\n",
      " 47  химсталь первый Mn_1            4432 non-null   object\n",
      " 48  химсталь первый Mo_1            4432 non-null   object\n",
      " 49  химсталь первый N_1             4431 non-null   object\n",
      " 50  химсталь первый Ni_1            4432 non-null   object\n",
      " 51  химсталь первый P_1             4432 non-null   object\n",
      " 52  химсталь первый S_1             4432 non-null   object\n",
      " 53  химсталь первый Si_1            4432 non-null   object\n",
      " 54  химсталь первый Ti_1            4432 non-null   object\n",
      " 55  химсталь первый V_1             4432 non-null   object\n",
      " 56  химсталь последний Al           4432 non-null   object\n",
      " 57  химсталь последний C            4432 non-null   object\n",
      " 58  химсталь последний Ca           4305 non-null   object\n",
      " 59  химсталь последний Cr           4432 non-null   object\n",
      " 60  химсталь последний Cu           4432 non-null   object\n",
      " 61  химсталь последний Mn           4432 non-null   object\n",
      " 62  химсталь последний Mo           4432 non-null   object\n",
      " 63  химсталь последний N            4430 non-null   object\n",
      " 64  химсталь последний Ni           4432 non-null   object\n",
      " 65  химсталь последний P            4432 non-null   object\n",
      " 66  химсталь последний S            4432 non-null   object\n",
      " 67  химсталь последний Si           4432 non-null   object\n",
      " 68  химсталь последний Ti           4432 non-null   object\n",
      " 69  химсталь последний V            4432 non-null   object\n",
      " 70  химшлак первый Al2O3_1          3264 non-null   object\n",
      " 71  химшлак первый CaO_1            4432 non-null   object\n",
      " 72  химшлак первый FeO_1            4432 non-null   object\n",
      " 73  химшлак первый MgO_1            4431 non-null   object\n",
      " 74  химшлак первый MnO_1            4432 non-null   object\n",
      " 75  химшлак первый R_1              4432 non-null   object\n",
      " 76  химшлак первый SiO2_1           3264 non-null   object\n",
      " 77  химшлак последний Al2O3         3264 non-null   object\n",
      " 78  химшлак последний CaO           4432 non-null   object\n",
      " 79  химшлак последний FeO           4432 non-null   object\n",
      " 80  химшлак последний MgO           4431 non-null   object\n",
      " 81  химшлак последний MnO           4432 non-null   object\n",
      " 82  химшлак последний R             4432 non-null   object\n",
      " 83  химшлак последний SiO2          3264 non-null   object\n",
      "dtypes: object(84)\n",
      "memory usage: 3.2+ MB\n"
     ]
    }
   ],
   "source": [
    "mark_data.info()"
   ],
   "metadata": {
    "collapsed": false,
    "pycharm": {
     "name": "#%%\n"
    }
   }
  },
  {
   "cell_type": "code",
   "execution_count": 22,
   "outputs": [
    {
     "ename": "NameError",
     "evalue": "name 'nan_columns' is not defined",
     "output_type": "error",
     "traceback": [
      "\u001B[1;31m---------------------------------------------------------------------------\u001B[0m",
      "\u001B[1;31mNameError\u001B[0m                                 Traceback (most recent call last)",
      "\u001B[1;32m<ipython-input-22-4584e77230f4>\u001B[0m in \u001B[0;36m<module>\u001B[1;34m\u001B[0m\n\u001B[1;32m----> 1\u001B[1;33m \u001B[0mmark_data\u001B[0m \u001B[1;33m=\u001B[0m \u001B[0mmark_data\u001B[0m\u001B[1;33m.\u001B[0m\u001B[0mdrop\u001B[0m\u001B[1;33m(\u001B[0m\u001B[0mcolumns\u001B[0m\u001B[1;33m=\u001B[0m\u001B[0mnan_columns\u001B[0m\u001B[1;33m)\u001B[0m\u001B[1;33m\u001B[0m\u001B[1;33m\u001B[0m\u001B[0m\n\u001B[0m\u001B[0;32m      2\u001B[0m \u001B[0mmark_data\u001B[0m\u001B[1;33m.\u001B[0m\u001B[0mhead\u001B[0m\u001B[1;33m(\u001B[0m\u001B[1;33m)\u001B[0m\u001B[1;33m\u001B[0m\u001B[1;33m\u001B[0m\u001B[0m\n\u001B[0;32m      3\u001B[0m \u001B[1;33m\u001B[0m\u001B[0m\n",
      "\u001B[1;31mNameError\u001B[0m: name 'nan_columns' is not defined"
     ]
    }
   ],
   "source": [
    "mark_data.head()"
   ],
   "metadata": {
    "collapsed": false,
    "pycharm": {
     "name": "#%%\n"
    }
   }
  },
  {
   "cell_type": "code",
   "execution_count": null,
   "outputs": [],
   "source": [
    "mark_data.fillna(0, inplace=True)\n",
    "mark_data.info().s"
   ],
   "metadata": {
    "collapsed": false,
    "pycharm": {
     "name": "#%%\n"
    }
   }
  },
  {
   "cell_type": "code",
   "execution_count": null,
   "outputs": [],
   "source": [
    "mark_data = mark_data.apply(lambda x: x.apply(str).str.replace(',', '.') )\n",
    "mark_data = mark_data.apply(lambda x: pd.to_numeric(x))"
   ],
   "metadata": {
    "collapsed": false,
    "pycharm": {
     "name": "#%%\n"
    }
   }
  },
  {
   "cell_type": "code",
   "execution_count": null,
   "outputs": [],
   "source": [
    "mark_data.head()"
   ],
   "metadata": {
    "collapsed": false,
    "pycharm": {
     "name": "#%%\n"
    }
   }
  },
  {
   "cell_type": "code",
   "execution_count": null,
   "outputs": [],
   "source": [
    "mark_data.to_csv(POST_PROCESSING_DATA, sep='\\t', index=False)"
   ],
   "metadata": {
    "collapsed": false,
    "pycharm": {
     "name": "#%%\n"
    }
   }
  },
  {
   "cell_type": "code",
   "execution_count": null,
   "outputs": [],
   "source": [
    "mark_data.to_csv(POST_PROCESSING_DATA, sep='\\t', index=False)"
   ],
   "metadata": {
    "collapsed": false,
    "pycharm": {
     "name": "#%%\n"
    }
   }
  },
  {
   "cell_type": "code",
   "execution_count": null,
   "outputs": [],
   "source": [
    "mark_data = data[data['МАРКА'] == top_mark]\n"
   ],
   "metadata": {
    "collapsed": false,
    "pycharm": {
     "name": "#%%\n"
    }
   }
  },
  {
   "cell_type": "code",
   "execution_count": null,
   "outputs": [],
   "source": [
    "mark_data = mark_data.drop(columns=nan_columns)\n",
    "mark_data.head()"
   ],
   "metadata": {
    "collapsed": false,
    "pycharm": {
     "name": "#%%\n"
    }
   }
  },
  {
   "cell_type": "code",
   "execution_count": null,
   "outputs": [],
   "source": [
    "mark_data.fillna(0, inplace=True)\n",
    "mark_data.info()"
   ],
   "metadata": {
    "collapsed": false,
    "pycharm": {
     "name": "#%%\n"
    }
   }
  },
  {
   "cell_type": "code",
   "execution_count": null,
   "outputs": [],
   "source": [
    "mark_data = mark_data.apply(lambda x: x.apply(str).str.replace(',', '.') )\n",
    "mark_data = mark_data.apply(lambda x: pd.to_numeric(x))"
   ],
   "metadata": {
    "collapsed": false,
    "pycharm": {
     "name": "#%%\n"
    }
   }
  },
  {
   "cell_type": "code",
   "execution_count": null,
   "outputs": [],
   "source": [
    "mark_data.head()"
   ],
   "metadata": {
    "collapsed": false,
    "pycharm": {
     "name": "#%%\n"
    }
   }
  },
  {
   "cell_type": "code",
   "execution_count": null,
   "outputs": [],
   "source": [
    "mark_data.to_csv(POST_PROCESSING_DATA, sep='\\t', index=False)"
   ],
   "metadata": {
    "collapsed": false,
    "pycharm": {
     "name": "#%%\n"
    }
   }
  },
  {
   "cell_type": "code",
   "execution_count": null,
   "outputs": [],
   "source": [
    "import seaborn as sns\n",
    "import matplotlib.pyplot as plt\n",
    "\n",
    "\n",
    "plt.figure(figsize=(7, 7))\n",
    "sns.distplot(mark_data['химшлак последний Al2O3'], color='g', bins=100, hist_kws={'alpha': 0.4}, vertical=True)\n",
    "#plt.show()\n",
    "plt.savefig(f'{SOURCE_DATA}target_range_1.png')"
   ],
   "metadata": {
    "collapsed": false,
    "pycharm": {
     "name": "#%%\n"
    }
   }
  },
  {
   "cell_type": "code",
   "execution_count": null,
   "outputs": [],
   "source": [
    "plt.figure(figsize=(7, 7))\n",
    "sns.distplot(mark_data['химшлак последний CaO'], color='r', bins=100, hist_kws={'alpha': 0.4}, vertical=True)\n",
    "#plt.show()\n",
    "plt.savefig(f'{SOURCE_DATA}target_range_2.png')"
   ],
   "metadata": {
    "collapsed": false,
    "pycharm": {
     "name": "#%%\n"
    }
   }
  },
  {
   "cell_type": "code",
   "execution_count": null,
   "outputs": [],
   "source": [
    "plt.figure(figsize=(7, 7))\n",
    "sns.distplot(mark_data['химшлак последний R'], color='g', bins=100, hist_kws={'alpha': 0.4}, vertical=True)\n",
    "plt.show()\n",
    "plt.savefig(f'{SOURCE_DATA}target_range_3.png')"
   ],
   "metadata": {
    "collapsed": false,
    "pycharm": {
     "name": "#%%\n"
    }
   }
  },
  {
   "cell_type": "code",
   "execution_count": null,
   "outputs": [],
   "source": [
    "plt.figure(figsize=(7, 7))\n",
    "sns.distplot(mark_data['химшлак последний SiO2'], color='r', bins=100, hist_kws={'alpha': 0.4}, vertical=True)\n",
    "plt.show()\n",
    "plt.savefig(f'{SOURCE_DATA}target_range_4.png')"
   ],
   "metadata": {
    "collapsed": false,
    "pycharm": {
     "name": "#%%\n"
    }
   }
  },
  {
   "cell_type": "code",
   "execution_count": null,
   "outputs": [],
   "source": [
    "corr_data = mark_data.drop(columns=target_columns).corr()\n",
    "\n",
    "plt.figure(figsize=(52, 50))\n",
    "\n",
    "sns.heatmap(corr_data[(corr_data >= 0.5) | (corr_data <= -0.4)],\n",
    "            cmap='viridis', vmax=1.0, vmin=-1.0, linewidths=0.1,\n",
    "            annot=True, annot_kws={\"size\": 8}, square=True)\n",
    "plt.savefig(f'{SOURCE_DATA}correletion_map.png')"
   ],
   "metadata": {
    "collapsed": false,
    "pycharm": {
     "name": "#%%\n"
    }
   }
  },
  {
   "cell_type": "code",
   "execution_count": null,
   "outputs": [],
   "source": [],
   "metadata": {
    "collapsed": false,
    "pycharm": {
     "name": "#%%\n"
    }
   }
  },
  {
   "cell_type": "code",
   "execution_count": null,
   "outputs": [],
   "source": [
    "mark_data.to_csv(POST_PROCESSING_DATA, sep='\\t', index=False)"
   ],
   "metadata": {
    "collapsed": false,
    "pycharm": {
     "name": "#%%\n"
    }
   }
  },
  {
   "cell_type": "code",
   "execution_count": null,
   "outputs": [],
   "source": [
    "mark_data.fillna(0, inplace=True)\n",
    "mark_data.info()"
   ],
   "metadata": {
    "collapsed": false,
    "pycharm": {
     "name": "#%%\n"
    }
   }
  },
  {
   "cell_type": "code",
   "execution_count": null,
   "outputs": [],
   "source": [
    "mark_data = mark_data.apply(lambda x: x.apply(str).str.replace(',', '.') )\n",
    "mark_data = mark_data.apply(lambda x: pd.to_numeric(x))"
   ],
   "metadata": {
    "collapsed": false,
    "pycharm": {
     "name": "#%%\n"
    }
   }
  },
  {
   "cell_type": "code",
   "execution_count": null,
   "outputs": [],
   "source": [
    "mark_data.head()"
   ],
   "metadata": {
    "collapsed": false,
    "pycharm": {
     "name": "#%%\n"
    }
   }
  },
  {
   "cell_type": "code",
   "execution_count": null,
   "outputs": [],
   "source": [
    "mark_data.to_csv(POST_PROCESSING_DATA, sep='\\t', index=False)"
   ],
   "metadata": {
    "collapsed": false,
    "pycharm": {
     "name": "#%%\n"
    }
   }
  }
 ],
 "metadata": {
  "kernelspec": {
   "display_name": "Python 3",
   "language": "python",
   "name": "python3"
  },
  "language_info": {
   "codemirror_mode": {
    "name": "ipython",
    "version": 2
   },
   "file_extension": ".py",
   "mimetype": "text/x-python",
   "name": "python",
   "nbconvert_exporter": "python",
   "pygments_lexer": "ipython2",
   "version": "2.7.6"
  }
 },
 "nbformat": 4,
 "nbformat_minor": 0
}